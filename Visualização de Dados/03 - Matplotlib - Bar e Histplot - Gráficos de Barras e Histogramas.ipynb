{
 "cells": [
  {
   "cell_type": "markdown",
   "metadata": {
    "id": "dIR5YaOF6mGE"
   },
   "source": [
    "# Matplotlib - Bar e Histplot - Gráficos de Barras e Histogramas"
   ]
  },
  {
   "cell_type": "markdown",
   "metadata": {
    "id": "U4_dgxGySv3q"
   },
   "source": [
    "### Carga de Arrays com dados das Covid para uso nos gráficos"
   ]
  },
  {
   "cell_type": "code",
   "execution_count": 93,
   "metadata": {
    "colab": {
     "base_uri": "https://localhost:8080/"
    },
    "executionInfo": {
     "elapsed": 963,
     "status": "ok",
     "timestamp": 1606522838930,
     "user": {
      "displayName": "Orlando O. S.",
      "photoUrl": "https://lh3.googleusercontent.com/a-/AOh14Gj-E1yuy1M_3ruwN4TWYPK4BwysauSW7GQmHheS=s64",
      "userId": "15066502291703974467"
     },
     "user_tz": 180
    },
    "id": "9OQhztUCSv3q",
    "outputId": "f085b489-7b66-4c05-80a9-5a32defaaeea"
   },
   "outputs": [],
   "source": [
    "import os\n",
    "import numpy as np\n",
    "import matplotlib.pyplot as plt"
   ]
  },
  {
   "cell_type": "code",
   "execution_count": 94,
   "metadata": {
    "colab": {
     "base_uri": "https://localhost:8080/"
    },
    "executionInfo": {
     "elapsed": 963,
     "status": "ok",
     "timestamp": 1606522838930,
     "user": {
      "displayName": "Orlando O. S.",
      "photoUrl": "https://lh3.googleusercontent.com/a-/AOh14Gj-E1yuy1M_3ruwN4TWYPK4BwysauSW7GQmHheS=s64",
      "userId": "15066502291703974467"
     },
     "user_tz": 180
    },
    "id": "9OQhztUCSv3q",
    "outputId": "f085b489-7b66-4c05-80a9-5a32defaaeea"
   },
   "outputs": [
    {
     "data": {
      "text/plain": [
       "['01 - Matplotlib - Visualização de Dados - Anatomia do Gráfico.ipynb',\n",
       " '02 - Matplotlib - Scatter Plot - Gráficos de Dispersão.ipynb',\n",
       " '03 - Matplotlib - Bar e Histplot - Gráficos de Barras e Histogramas.ipynb',\n",
       " '04 - Matplotlib - Pie Plot - Gráficos de Pizza.ipynb',\n",
       " '05 - Matplotlib - Imgshow - Gráficos de Mapa de Calor.ipynb',\n",
       " '06 - Visualização de dados com Seaborn.ipynb',\n",
       " 'matrizmesestado.csv',\n",
       " 'matrizmesregiao.csv',\n",
       " 'totaisestadoscomregiao_arr.csv',\n",
       " 'totaisestados_arr.csv',\n",
       " 'totaisregioes_arr.csv',\n",
       " 'total_brasil.csv']"
      ]
     },
     "execution_count": 94,
     "metadata": {},
     "output_type": "execute_result"
    }
   ],
   "source": [
    "diratual = os.getcwd()\n",
    "diretorio = os.path.join(diratual) \n",
    "os.listdir(diretorio)"
   ]
  },
  {
   "cell_type": "code",
   "execution_count": 95,
   "metadata": {
    "colab": {
     "base_uri": "https://localhost:8080/"
    },
    "executionInfo": {
     "elapsed": 1868,
     "status": "ok",
     "timestamp": 1606522839890,
     "user": {
      "displayName": "Orlando O. S.",
      "photoUrl": "https://lh3.googleusercontent.com/a-/AOh14Gj-E1yuy1M_3ruwN4TWYPK4BwysauSW7GQmHheS=s64",
      "userId": "15066502291703974467"
     },
     "user_tz": 180
    },
    "id": "xBrLFOzuSv3s",
    "outputId": "a8feb1af-9072-4870-cefb-9f26622ebdc0"
   },
   "outputs": [
    {
     "name": "stdout",
     "output_type": "stream",
     "text": [
      "[['2020-02' '2' '0']\n",
      " ['2020-03' '5715' '201']\n",
      " ['2020-04' '79663' '5700']\n",
      " ['2020-05' '428820' '23413']\n",
      " ['2020-06' '887841' '30280']]\n"
     ]
    }
   ],
   "source": [
    "arquivo = 'total_brasil.csv'\n",
    "caminho = os.path.join(diretorio,arquivo)\n",
    "total_brasil = np.loadtxt(caminho, delimiter=';', skiprows=0 , dtype='U', encoding = 'utf-8')\n",
    "print(total_brasil[:5])"
   ]
  },
  {
   "cell_type": "code",
   "execution_count": 96,
   "metadata": {
    "colab": {
     "base_uri": "https://localhost:8080/"
    },
    "executionInfo": {
     "elapsed": 1850,
     "status": "ok",
     "timestamp": 1606522839893,
     "user": {
      "displayName": "Orlando O. S.",
      "photoUrl": "https://lh3.googleusercontent.com/a-/AOh14Gj-E1yuy1M_3ruwN4TWYPK4BwysauSW7GQmHheS=s64",
      "userId": "15066502291703974467"
     },
     "user_tz": 180
    },
    "id": "wPE5A6TSSv3s",
    "outputId": "9ee50fa6-1cd8-4a5e-808a-030eae1988fc"
   },
   "outputs": [
    {
     "name": "stdout",
     "output_type": "stream",
     "text": [
      "[['Centro-Oeste' '4574674' '67252']\n",
      " ['Nordeste' '7571957' '136957']\n",
      " ['Norte' '2984041' '52114']\n",
      " ['Sudeste' '15594474' '344537']\n",
      " ['Sul' '8266663' '113218']]\n"
     ]
    }
   ],
   "source": [
    "arquivo = 'totaisregioes_arr.csv'\n",
    "caminho = os.path.join(diretorio,arquivo)\n",
    "totaisregioes_arr = np.loadtxt(caminho, delimiter=';', skiprows=0 , dtype='U', encoding = 'utf-8')\n",
    "print(totaisregioes_arr[:5])"
   ]
  },
  {
   "cell_type": "code",
   "execution_count": 97,
   "metadata": {
    "colab": {
     "base_uri": "https://localhost:8080/"
    },
    "executionInfo": {
     "elapsed": 1828,
     "status": "ok",
     "timestamp": 1606522839897,
     "user": {
      "displayName": "Orlando O. S.",
      "photoUrl": "https://lh3.googleusercontent.com/a-/AOh14Gj-E1yuy1M_3ruwN4TWYPK4BwysauSW7GQmHheS=s64",
      "userId": "15066502291703974467"
     },
     "user_tz": 180
    },
    "id": "fcmmEGKDSv3s",
    "outputId": "87e9a610-3239-4614-b3de-8b7adf4b7990"
   },
   "outputs": [
    {
     "name": "stdout",
     "output_type": "stream",
     "text": [
      "[['DF' '955540' '12025']\n",
      " ['GO' '2060518' '28669']\n",
      " ['MS' '637169' '11305']\n",
      " ['MT' '921447' '15253']\n",
      " ['AL' '348701' '7355']]\n"
     ]
    }
   ],
   "source": [
    "arquivo = 'totaisestados_arr.csv'\n",
    "caminho = os.path.join(diretorio,arquivo)\n",
    "totaisestados_arr = np.loadtxt(caminho, delimiter=';', skiprows=0 , dtype='U', encoding = 'utf-8')\n",
    "print(totaisestados_arr[:5])"
   ]
  },
  {
   "cell_type": "code",
   "execution_count": 98,
   "metadata": {
    "colab": {
     "base_uri": "https://localhost:8080/"
    },
    "executionInfo": {
     "elapsed": 1807,
     "status": "ok",
     "timestamp": 1606522839900,
     "user": {
      "displayName": "Orlando O. S.",
      "photoUrl": "https://lh3.googleusercontent.com/a-/AOh14Gj-E1yuy1M_3ruwN4TWYPK4BwysauSW7GQmHheS=s64",
      "userId": "15066502291703974467"
     },
     "user_tz": 180
    },
    "id": "_YopS-tHSv3s",
    "outputId": "feb9d69e-b7c1-4dca-9155-b2eee4a2c701"
   },
   "outputs": [
    {
     "name": "stdout",
     "output_type": "stream",
     "text": [
      "[['Mês' 'Centro-Oeste' 'Nordeste' 'Norte' 'Sudeste' 'Sul']\n",
      " ['2020-02' '0' '0' '0' '2' '0']\n",
      " ['2020-03' '470' '875' '294' '3404' '672']\n",
      " ['2020-04' '2219' '23643' '10478' '39037' '4286']\n",
      " ['2020-05' '14711' '154234' '96980' '144797' '18098']]\n"
     ]
    }
   ],
   "source": [
    "arquivo = 'matrizmesregiao.csv'\n",
    "caminho = os.path.join(diretorio,arquivo)\n",
    "matrizmesregiao = np.loadtxt(caminho, delimiter=';', skiprows=0 , dtype='U', encoding = 'utf-8')\n",
    "print(matrizmesregiao[:5])"
   ]
  },
  {
   "cell_type": "code",
   "execution_count": 99,
   "metadata": {
    "colab": {
     "base_uri": "https://localhost:8080/"
    },
    "executionInfo": {
     "elapsed": 1774,
     "status": "ok",
     "timestamp": 1606522839903,
     "user": {
      "displayName": "Orlando O. S.",
      "photoUrl": "https://lh3.googleusercontent.com/a-/AOh14Gj-E1yuy1M_3ruwN4TWYPK4BwysauSW7GQmHheS=s64",
      "userId": "15066502291703974467"
     },
     "user_tz": 180
    },
    "id": "--Qn00QnSv3s",
    "outputId": "19943464-7b90-41e5-e576-bb770f620a27"
   },
   "outputs": [
    {
     "name": "stdout",
     "output_type": "stream",
     "text": [
      "[['Mês' 'DF' 'GO' 'MS' 'MT' 'AL' 'BA' 'CE' 'MA' 'PB' 'PE' 'PI' 'RN' 'SE'\n",
      "  'AC' 'AM' 'AP' 'PA' 'RO' 'RR' 'TO' 'ES' 'MG' 'RJ' 'SP' 'PR' 'RS' 'SC']\n",
      " ['2020-02' '0' '0' '0' '0' '0' '0' '0' '0' '0' '0' '0' '0' '0' '0' '0'\n",
      "  '0' '0' '0' '0' '0' '0' '0' '0' '2' '0' '0' '0']\n",
      " ['2020-03' '332' '65' '48' '25' '18' '213' '390' '31' '17' '87' '18'\n",
      "  '82' '19' '42' '175' '10' '32' '8' '16' '11' '84' '275' '708' '2337'\n",
      "  '179' '274' '219']\n",
      " ['2020-04' '1024' '716' '207' '272' '1026' '2638' '7216' '3159' '797'\n",
      "  '6789' '495' '1095' '428' '362' '5079' '1070' '2844' '494' '503' '126'\n",
      "  '2381' '1552' '8745' '26359' '1228' '1192' '1866']\n",
      " ['2020-05' '8424' '2921' '1234' '2132' '9244' '15541' '40883' '31449'\n",
      "  '12348' '27574' '4418' '6225' '6552' '5815' '36124' '8522' '35085'\n",
      "  '4440' '2955' '4039' '11225' '8637' '43935' '81000' '3280' '7866'\n",
      "  '6952']]\n"
     ]
    }
   ],
   "source": [
    "arquivo = 'matrizmesestado.csv'\n",
    "caminho = os.path.join(diretorio,arquivo)\n",
    "matrizmesestado = np.loadtxt(caminho, delimiter=';', skiprows=0 , dtype='U', encoding = 'utf-8')\n",
    "print(matrizmesestado[:5])"
   ]
  },
  {
   "cell_type": "code",
   "execution_count": 100,
   "metadata": {
    "colab": {
     "base_uri": "https://localhost:8080/"
    },
    "executionInfo": {
     "elapsed": 1734,
     "status": "ok",
     "timestamp": 1606522839905,
     "user": {
      "displayName": "Orlando O. S.",
      "photoUrl": "https://lh3.googleusercontent.com/a-/AOh14Gj-E1yuy1M_3ruwN4TWYPK4BwysauSW7GQmHheS=s64",
      "userId": "15066502291703974467"
     },
     "user_tz": 180
    },
    "id": "_EaLVOJX7ElB",
    "outputId": "0b2fb76b-bf09-461f-a06c-1e8998647f97"
   },
   "outputs": [
    {
     "name": "stdout",
     "output_type": "stream",
     "text": [
      "[['Centro-Oeste' 'DF' '955540' '12025']\n",
      " ['Centro-Oeste' 'GO' '2060518' '28669']\n",
      " ['Centro-Oeste' 'MS' '637169' '11305']\n",
      " ['Centro-Oeste' 'MT' '921447' '15253']\n",
      " ['Nordeste' 'AL' '348701' '7355']]\n"
     ]
    }
   ],
   "source": [
    "arquivo = 'totaisestadoscomregiao_arr.csv'\n",
    "caminho = os.path.join(diretorio,arquivo)\n",
    "totaisestadoscomregiao_arr = np.loadtxt(caminho, delimiter=';', skiprows=0 , dtype='U', encoding = 'utf-8')\n",
    "print(totaisestadoscomregiao_arr[:5])"
   ]
  },
  {
   "cell_type": "markdown",
   "metadata": {
    "id": "LxNlvCigSv3z"
   },
   "source": [
    "# Criando Gráficos de Barras\n",
    "\n",
    "-  No Pyplot a função a bar() é utilizada para desenhar gráficos de barras.\n",
    "\n"
   ]
  },
  {
   "cell_type": "code",
   "execution_count": 101,
   "metadata": {
    "colab": {
     "base_uri": "https://localhost:8080/"
    },
    "executionInfo": {
     "elapsed": 1005,
     "status": "ok",
     "timestamp": 1606519452050,
     "user": {
      "displayName": "Orlando O. S.",
      "photoUrl": "https://lh3.googleusercontent.com/a-/AOh14Gj-E1yuy1M_3ruwN4TWYPK4BwysauSW7GQmHheS=s64",
      "userId": "15066502291703974467"
     },
     "user_tz": 180
    },
    "id": "U2r2hhFtBWXa",
    "outputId": "b39d73ee-7ced-4ff7-ce27-d40dd8719cf6"
   },
   "outputs": [
    {
     "data": {
      "text/plain": [
       "array([['Centro-Oeste', '4574674', '67252'],\n",
       "       ['Nordeste', '7571957', '136957'],\n",
       "       ['Norte', '2984041', '52114'],\n",
       "       ['Sudeste', '15594474', '344537'],\n",
       "       ['Sul', '8266663', '113218']], dtype='<U12')"
      ]
     },
     "execution_count": 101,
     "metadata": {},
     "output_type": "execute_result"
    }
   ],
   "source": [
    "totaisregioes_arr"
   ]
  },
  {
   "cell_type": "code",
   "execution_count": 102,
   "metadata": {
    "colab": {
     "base_uri": "https://localhost:8080/",
     "height": 511
    },
    "executionInfo": {
     "elapsed": 1156,
     "status": "ok",
     "timestamp": 1606519414979,
     "user": {
      "displayName": "Orlando O. S.",
      "photoUrl": "https://lh3.googleusercontent.com/a-/AOh14Gj-E1yuy1M_3ruwN4TWYPK4BwysauSW7GQmHheS=s64",
      "userId": "15066502291703974467"
     },
     "user_tz": 180
    },
    "id": "pttCheZGSv3z",
    "outputId": "66afcc0f-f2f4-4abc-b52d-111db0173db1"
   },
   "outputs": [
    {
     "data": {
      "image/png": "[encoded data removed]",
      "text/plain": [
       "<Figure size 640x480 with 1 Axes>"
      ]
     },
     "metadata": {},
     "output_type": "display_data"
    }
   ],
   "source": [
    "xregiao = totaisregioes_arr[:,0]\n",
    "ycasos = totaisregioes_arr[:,1].astype('i')\n",
    "\n",
    "plt.bar(xregiao,ycasos)\n",
    "plt.show()"
   ]
  },
  {
   "cell_type": "markdown",
   "metadata": {
    "id": "lTX9A9GQSv3z"
   },
   "source": [
    "## Criando Gráficos de Barras horizontais\n",
    "Para gerar gráficos com barras horizontais, use a função barh()"
   ]
  },
  {
   "cell_type": "code",
   "execution_count": 103,
   "metadata": {
    "colab": {
     "base_uri": "https://localhost:8080/",
     "height": 513
    },
    "executionInfo": {
     "elapsed": 1383,
     "status": "ok",
     "timestamp": 1606519556341,
     "user": {
      "displayName": "Orlando O. S.",
      "photoUrl": "https://lh3.googleusercontent.com/a-/AOh14Gj-E1yuy1M_3ruwN4TWYPK4BwysauSW7GQmHheS=s64",
      "userId": "15066502291703974467"
     },
     "user_tz": 180
    },
    "id": "aYDwGteDSv3z",
    "outputId": "0572b991-e55b-47d5-e6cd-0a5267c60917"
   },
   "outputs": [
    {
     "data": {
      "image/png": "[encoded data removed]",
      "text/plain": [
       "<Figure size 640x480 with 1 Axes>"
      ]
     },
     "metadata": {},
     "output_type": "display_data"
    }
   ],
   "source": [
    "xregiao = totaisregioes_arr[:,0]\n",
    "ycasos = totaisregioes_arr[:,1].astype('i')\n",
    "\n",
    "plt.barh(xregiao,ycasos)\n",
    "\n",
    "plt.show()"
   ]
  },
  {
   "cell_type": "markdown",
   "metadata": {
    "id": "TQk_RhwsSv3z"
   },
   "source": [
    "## Colorindo as Barras\n",
    "Utilize o parâmetro color para definir a cor das barras.\n",
    "\n"
   ]
  },
  {
   "cell_type": "code",
   "execution_count": 104,
   "metadata": {
    "colab": {
     "base_uri": "https://localhost:8080/",
     "height": 511
    },
    "executionInfo": {
     "elapsed": 1049,
     "status": "ok",
     "timestamp": 1606519646975,
     "user": {
      "displayName": "Orlando O. S.",
      "photoUrl": "https://lh3.googleusercontent.com/a-/AOh14Gj-E1yuy1M_3ruwN4TWYPK4BwysauSW7GQmHheS=s64",
      "userId": "15066502291703974467"
     },
     "user_tz": 180
    },
    "id": "ztLEIvs7Sv3z",
    "outputId": "3ee7efff-0be3-49e2-dbf4-d94623e6031e"
   },
   "outputs": [
    {
     "data": {
      "image/png": "[encoded data removed]",
      "text/plain": [
       "<Figure size 640x480 with 1 Axes>"
      ]
     },
     "metadata": {},
     "output_type": "display_data"
    }
   ],
   "source": [
    "xregiao = totaisregioes_arr[:,0]\n",
    "ycasos = totaisregioes_arr[:,1].astype('i')\n",
    "\n",
    "plt.bar(xregiao,ycasos, color = \"red\")\n",
    "plt.show()\n"
   ]
  },
  {
   "cell_type": "markdown",
   "metadata": {
    "id": "JsS63jiaSv3z"
   },
   "source": [
    "Resultado:\n",
    "\n",
    "\n",
    "Nomes de Cores\n",
    "Você pode usar qualquer um dos 140 nomes de cores suportados .\n",
    "\n",
    "Exemplo\n",
    "Desenhe 4 barras \"rosa choque\":"
   ]
  },
  {
   "cell_type": "markdown",
   "metadata": {
    "id": "pR85668mSv3z"
   },
   "source": [
    "### Definindo a largura da Barra\n",
    "\n",
    "Use o parâmetro  width para definir a largura das barras"
   ]
  },
  {
   "cell_type": "code",
   "execution_count": 105,
   "metadata": {
    "colab": {
     "base_uri": "https://localhost:8080/",
     "height": 511
    },
    "executionInfo": {
     "elapsed": 1038,
     "status": "ok",
     "timestamp": 1606519698849,
     "user": {
      "displayName": "Orlando O. S.",
      "photoUrl": "https://lh3.googleusercontent.com/a-/AOh14Gj-E1yuy1M_3ruwN4TWYPK4BwysauSW7GQmHheS=s64",
      "userId": "15066502291703974467"
     },
     "user_tz": 180
    },
    "id": "QldXIfZfSv3z",
    "outputId": "3bf20ea9-5e43-4b75-cc56-baaf3e043e33"
   },
   "outputs": [
    {
     "data": {
      "image/png": "[encoded data removed]",
      "text/plain": [
       "<Figure size 640x480 with 1 Axes>"
      ]
     },
     "metadata": {},
     "output_type": "display_data"
    }
   ],
   "source": [
    "xregiao = totaisregioes_arr[:,0]\n",
    "ycasos = totaisregioes_arr[:,1].astype('i')\n",
    "\n",
    "plt.bar(xregiao,ycasos, width = 0.8)\n",
    "plt.show()\n"
   ]
  },
  {
   "cell_type": "markdown",
   "metadata": {
    "id": "bt4gLIBZSv3z"
   },
   "source": [
    "### Para Gráficos de barras horizontais use o parâmetro height no lugar de  width.\n"
   ]
  },
  {
   "cell_type": "code",
   "execution_count": 106,
   "metadata": {
    "colab": {
     "base_uri": "https://localhost:8080/",
     "height": 513
    },
    "executionInfo": {
     "elapsed": 1077,
     "status": "ok",
     "timestamp": 1606519730480,
     "user": {
      "displayName": "Orlando O. S.",
      "photoUrl": "https://lh3.googleusercontent.com/a-/AOh14Gj-E1yuy1M_3ruwN4TWYPK4BwysauSW7GQmHheS=s64",
      "userId": "15066502291703974467"
     },
     "user_tz": 180
    },
    "id": "hJb1lERoSv3z",
    "outputId": "c91ea159-bc59-45b7-b522-ca6f9fb146dc"
   },
   "outputs": [
    {
     "data": {
      "image/png": "[encoded data removed]",
      "text/plain": [
       "<Figure size 640x480 with 1 Axes>"
      ]
     },
     "metadata": {},
     "output_type": "display_data"
    }
   ],
   "source": [
    "xregiao = totaisregioes_arr[:,0]\n",
    "ycasos = totaisregioes_arr[:,1].astype('i')\n",
    "\n",
    "plt.barh(xregiao,ycasos, height = 0.8)\n",
    "plt.show()\n"
   ]
  },
  {
   "cell_type": "markdown",
   "metadata": {
    "id": "hWtemd1bSv3z"
   },
   "source": [
    "## Desenhanfo Histogramas\n",
    "\n",
    "\n",
    "Um histograma é um gráfico que mostra as distribuições de frequência .\n",
    "\n",
    "É um gráfico que mostra o número de observações em cada intervalo determinado.\n",
    "\n",
    "No Matplotlib, usamos a função hist() para criar histogramas a partir de um array de números."
   ]
  },
  {
   "cell_type": "code",
   "execution_count": 107,
   "metadata": {
    "id": "AUMdzX4WDGGa"
   },
   "outputs": [
    {
     "data": {
      "text/plain": [
       "[9,\n",
       " 20,\n",
       " 6,\n",
       " 9,\n",
       " 3,\n",
       " 18,\n",
       " 15,\n",
       " 5,\n",
       " 7,\n",
       " 12,\n",
       " 4,\n",
       " 6,\n",
       " 3,\n",
       " 1,\n",
       " 6,\n",
       " 1,\n",
       " 9,\n",
       " 5,\n",
       " 1,\n",
       " 3,\n",
       " 13,\n",
       " 43,\n",
       " 29,\n",
       " 69,\n",
       " 30,\n",
       " 31,\n",
       " 20]"
      ]
     },
     "execution_count": 107,
     "metadata": {},
     "output_type": "execute_result"
    }
   ],
   "source": [
    "casoscemmill = [x // 100000 for x in totaisestados_arr[:,1].astype(np.int64)]\n",
    "casoscemmill"
   ]
  },
  {
   "cell_type": "code",
   "execution_count": 108,
   "metadata": {
    "colab": {
     "base_uri": "https://localhost:8080/"
    },
    "executionInfo": {
     "elapsed": 1360,
     "status": "ok",
     "timestamp": 1606520169655,
     "user": {
      "displayName": "Orlando O. S.",
      "photoUrl": "https://lh3.googleusercontent.com/a-/AOh14Gj-E1yuy1M_3ruwN4TWYPK4BwysauSW7GQmHheS=s64",
      "userId": "15066502291703974467"
     },
     "user_tz": 180
    },
    "id": "YNJ8wNAYEFZU",
    "outputId": "084df5b6-9010-4d27-d912-7d7a905c0b53"
   },
   "outputs": [
    {
     "data": {
      "text/plain": [
       "array([['DF', '955540', '12025'],\n",
       "       ['GO', '2060518', '28669'],\n",
       "       ['MS', '637169', '11305'],\n",
       "       ['MT', '921447', '15253'],\n",
       "       ['AL', '348701', '7355'],\n",
       "       ['BA', '1844481', '32034'],\n",
       "       ['CE', '1508135', '28215'],\n",
       "       ['MA', '501121', '11103'],\n",
       "       ['PB', '725917', '10669'],\n",
       "       ['PE', '1235360', '23240'],\n",
       "       ['PI', '438676', '8445'],\n",
       "       ['RN', '601493', '9321'],\n",
       "       ['SE', '368073', '6575'],\n",
       "       ['AC', '169625', '2083'],\n",
       "       ['AM', '643745', '14531'],\n",
       "       ['AP', '191877', '2175'],\n",
       "       ['PA', '901045', '19291'],\n",
       "       ['RO', '505111', '7527'],\n",
       "       ['RR', '190318', '2202'],\n",
       "       ['TO', '382320', '4305'],\n",
       "       ['ES', '1384800', '15214'],\n",
       "       ['MG', '4335714', '66850'],\n",
       "       ['RJ', '2966219', '78238'],\n",
       "       ['SP', '6907741', '184235'],\n",
       "       ['PR', '3031840', '47029'],\n",
       "       ['RS', '3144956', '43044'],\n",
       "       ['SC', '2089867', '23145']], dtype='<U7')"
      ]
     },
     "execution_count": 108,
     "metadata": {},
     "output_type": "execute_result"
    }
   ],
   "source": [
    "totaisestados_arr"
   ]
  },
  {
   "cell_type": "code",
   "execution_count": 109,
   "metadata": {
    "colab": {
     "base_uri": "https://localhost:8080/"
    },
    "executionInfo": {
     "elapsed": 1119,
     "status": "ok",
     "timestamp": 1606520187554,
     "user": {
      "displayName": "Orlando O. S.",
      "photoUrl": "https://lh3.googleusercontent.com/a-/AOh14Gj-E1yuy1M_3ruwN4TWYPK4BwysauSW7GQmHheS=s64",
      "userId": "15066502291703974467"
     },
     "user_tz": 180
    },
    "id": "vKllcy0KD3U2",
    "outputId": "a6fc6489-8753-46b6-d2d1-b8713b16c5e2"
   },
   "outputs": [
    {
     "data": {
      "text/plain": [
       "1444141.0740740742"
      ]
     },
     "execution_count": 109,
     "metadata": {},
     "output_type": "execute_result"
    }
   ],
   "source": [
    "np.average(totaisestados_arr[:,1].astype(np.int64))"
   ]
  },
  {
   "cell_type": "code",
   "execution_count": 110,
   "metadata": {
    "colab": {
     "base_uri": "https://localhost:8080/"
    },
    "executionInfo": {
     "elapsed": 976,
     "status": "ok",
     "timestamp": 1606520312921,
     "user": {
      "displayName": "Orlando O. S.",
      "photoUrl": "https://lh3.googleusercontent.com/a-/AOh14Gj-E1yuy1M_3ruwN4TWYPK4BwysauSW7GQmHheS=s64",
      "userId": "15066502291703974467"
     },
     "user_tz": 180
    },
    "id": "CdydBsh5ERRo",
    "outputId": "1060b47c-a397-4b0e-ea1a-3d027f918b25"
   },
   "outputs": [
    {
     "data": {
      "text/plain": [
       "1234002.6153846155"
      ]
     },
     "execution_count": 110,
     "metadata": {},
     "output_type": "execute_result"
    }
   ],
   "source": [
    "np.average(totaisestados_arr[ totaisestados_arr[:,0] != 'SP' ,1].astype(np.int64))"
   ]
  },
  {
   "cell_type": "code",
   "execution_count": 114,
   "metadata": {
    "colab": {
     "base_uri": "https://localhost:8080/"
    },
    "executionInfo": {
     "elapsed": 987,
     "status": "ok",
     "timestamp": 1606520580775,
     "user": {
      "displayName": "Orlando O. S.",
      "photoUrl": "https://lh3.googleusercontent.com/a-/AOh14Gj-E1yuy1M_3ruwN4TWYPK4BwysauSW7GQmHheS=s64",
      "userId": "15066502291703974467"
     },
     "user_tz": 180
    },
    "id": "WXjyeQX4FIX8",
    "outputId": "0528481a-923f-4855-c378-7b872a33fd4d"
   },
   "outputs": [
    {
     "data": {
      "text/plain": [
       "array([['DF', '955540', '12025'],\n",
       "       ['GO', '2060518', '28669'],\n",
       "       ['MS', '637169', '11305'],\n",
       "       ['MT', '921447', '15253'],\n",
       "       ['AL', '348701', '7355'],\n",
       "       ['BA', '1844481', '32034'],\n",
       "       ['CE', '1508135', '28215'],\n",
       "       ['MA', '501121', '11103'],\n",
       "       ['PB', '725917', '10669'],\n",
       "       ['PE', '1235360', '23240'],\n",
       "       ['PI', '438676', '8445'],\n",
       "       ['RN', '601493', '9321'],\n",
       "       ['SE', '368073', '6575'],\n",
       "       ['AC', '169625', '2083'],\n",
       "       ['AM', '643745', '14531'],\n",
       "       ['AP', '191877', '2175'],\n",
       "       ['PA', '901045', '19291'],\n",
       "       ['RO', '505111', '7527'],\n",
       "       ['RR', '190318', '2202'],\n",
       "       ['TO', '382320', '4305'],\n",
       "       ['ES', '1384800', '15214'],\n",
       "       ['MG', '4335714', '66850'],\n",
       "       ['RJ', '2966219', '78238'],\n",
       "       ['SP', '1000000000', '184235'],\n",
       "       ['PR', '3031840', '47029'],\n",
       "       ['RS', '3144956', '43044'],\n",
       "       ['SC', '2089867', '23145']], dtype='<U20')"
      ]
     },
     "execution_count": 114,
     "metadata": {},
     "output_type": "execute_result"
    }
   ],
   "source": [
    "totaisestados_arr = totaisestados_arr.astype('U20')\n",
    "totaisestados_arr[-4,1] = 1_000_000_000\n",
    "totaisestados_arr"
   ]
  },
  {
   "cell_type": "code",
   "execution_count": 115,
   "metadata": {
    "colab": {
     "base_uri": "https://localhost:8080/"
    },
    "executionInfo": {
     "elapsed": 1047,
     "status": "ok",
     "timestamp": 1606520596887,
     "user": {
      "displayName": "Orlando O. S.",
      "photoUrl": "https://lh3.googleusercontent.com/a-/AOh14Gj-E1yuy1M_3ruwN4TWYPK4BwysauSW7GQmHheS=s64",
      "userId": "15066502291703974467"
     },
     "user_tz": 180
    },
    "id": "aRQLYMUQE1Wp",
    "outputId": "798d7f1d-1549-4be6-900e-98c9d16eba44"
   },
   "outputs": [
    {
     "data": {
      "text/plain": [
       "901045.0"
      ]
     },
     "execution_count": 115,
     "metadata": {},
     "output_type": "execute_result"
    }
   ],
   "source": [
    "np.median(totaisestados_arr[:,1].astype(np.int64))"
   ]
  },
  {
   "cell_type": "code",
   "execution_count": 116,
   "metadata": {
    "colab": {
     "base_uri": "https://localhost:8080/"
    },
    "executionInfo": {
     "elapsed": 1007,
     "status": "ok",
     "timestamp": 1606520397763,
     "user": {
      "displayName": "Orlando O. S.",
      "photoUrl": "https://lh3.googleusercontent.com/a-/AOh14Gj-E1yuy1M_3ruwN4TWYPK4BwysauSW7GQmHheS=s64",
      "userId": "15066502291703974467"
     },
     "user_tz": 180
    },
    "id": "5aIh8G2OE1ll",
    "outputId": "2e6ef903-a2fd-4595-948d-3f2dfdab36b0"
   },
   "outputs": [
    {
     "data": {
      "text/plain": [
       "813481.0"
      ]
     },
     "execution_count": 116,
     "metadata": {},
     "output_type": "execute_result"
    }
   ],
   "source": [
    "np.median(totaisestados_arr[ totaisestados_arr[:,0] != 'SP' ,1].astype(np.int64))"
   ]
  },
  {
   "cell_type": "code",
   "execution_count": 113,
   "metadata": {
    "colab": {
     "base_uri": "https://localhost:8080/",
     "height": 500
    },
    "executionInfo": {
     "elapsed": 1106,
     "status": "ok",
     "timestamp": 1606519866511,
     "user": {
      "displayName": "Orlando O. S.",
      "photoUrl": "https://lh3.googleusercontent.com/a-/AOh14Gj-E1yuy1M_3ruwN4TWYPK4BwysauSW7GQmHheS=s64",
      "userId": "15066502291703974467"
     },
     "user_tz": 180
    },
    "id": "qlnsqRhrSv30",
    "outputId": "86cc5e2f-1b3a-42d8-b4c2-d4bb4054ce79"
   },
   "outputs": [
    {
     "data": {
      "image/png": "[encoded data removed]",
      "text/plain": [
       "<Figure size 640x480 with 1 Axes>"
      ]
     },
     "metadata": {},
     "output_type": "display_data"
    }
   ],
   "source": [
    "x= casoscemmill = [x // 100000 for x in totaisestados_arr[:,1].astype(np.int64)]\n",
    "\n",
    "plt.hist(x)\n",
    "plt.show() "
   ]
  }
 ],
 "metadata": {
  "colab": {
   "collapsed_sections": [],
   "name": "Aula de Visualização de Dados com Matplotlib.ipynb",
   "provenance": []
  },
  "kernelspec": {
   "display_name": "Python 3",
   "language": "python",
   "name": "python3"
  },
  "language_info": {
   "codemirror_mode": {
    "name": "ipython",
    "version": 3
   },
   "file_extension": ".py",
   "mimetype": "text/x-python",
   "name": "python",
   "nbconvert_exporter": "python",
   "pygments_lexer": "ipython3",
   "version": "3.12.3"
  }
 },
 "nbformat": 4,
 "nbformat_minor": 1
}
