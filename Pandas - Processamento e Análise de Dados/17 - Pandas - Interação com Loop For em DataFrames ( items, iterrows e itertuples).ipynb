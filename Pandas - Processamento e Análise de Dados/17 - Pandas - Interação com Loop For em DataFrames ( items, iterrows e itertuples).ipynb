{
 "cells": [
  {
   "cell_type": "markdown",
   "metadata": {},
   "source": [
    "# Pandas - Interação com Loop For em DataFrames ( items, iterrows e itertuples)"
   ]
  },
  {
   "cell_type": "markdown",
   "metadata": {
    "id": "8WdNEF38yEbm"
   },
   "source": [
    "# Interando com DataFrame"
   ]
  },
  {
   "cell_type": "markdown",
   "metadata": {
    "id": "tk7lC7DYyEbm"
   },
   "source": [
    "### Interando pelas colunas"
   ]
  },
  {
   "cell_type": "code",
   "execution_count": 29,
   "metadata": {
    "id": "GxHxZzFJyEbm"
   },
   "outputs": [
    {
     "data": {
      "text/html": [
       "<div>\n",
       "<style scoped>\n",
       "    .dataframe tbody tr th:only-of-type {\n",
       "        vertical-align: middle;\n",
       "    }\n",
       "\n",
       "    .dataframe tbody tr th {\n",
       "        vertical-align: top;\n",
       "    }\n",
       "\n",
       "    .dataframe thead th {\n",
       "        text-align: right;\n",
       "    }\n",
       "</style>\n",
       "<table border=\"1\" class=\"dataframe\">\n",
       "  <thead>\n",
       "    <tr style=\"text-align: right;\">\n",
       "      <th></th>\n",
       "      <th>CASOS</th>\n",
       "      <th>OBITOS</th>\n",
       "    </tr>\n",
       "    <tr>\n",
       "      <th>REGIAO</th>\n",
       "      <th></th>\n",
       "      <th></th>\n",
       "    </tr>\n",
       "  </thead>\n",
       "  <tbody>\n",
       "    <tr>\n",
       "      <th>Centro-Oeste</th>\n",
       "      <td>4574674</td>\n",
       "      <td>67252</td>\n",
       "    </tr>\n",
       "    <tr>\n",
       "      <th>Nordeste</th>\n",
       "      <td>7571957</td>\n",
       "      <td>136957</td>\n",
       "    </tr>\n",
       "    <tr>\n",
       "      <th>Norte</th>\n",
       "      <td>2984041</td>\n",
       "      <td>52114</td>\n",
       "    </tr>\n",
       "    <tr>\n",
       "      <th>Sudeste</th>\n",
       "      <td>15594474</td>\n",
       "      <td>344537</td>\n",
       "    </tr>\n",
       "    <tr>\n",
       "      <th>Sul</th>\n",
       "      <td>8266663</td>\n",
       "      <td>113218</td>\n",
       "    </tr>\n",
       "  </tbody>\n",
       "</table>\n",
       "</div>"
      ],
      "text/plain": [
       "                 CASOS  OBITOS\n",
       "REGIAO                        \n",
       "Centro-Oeste   4574674   67252\n",
       "Nordeste       7571957  136957\n",
       "Norte          2984041   52114\n",
       "Sudeste       15594474  344537\n",
       "Sul            8266663  113218"
      ]
     },
     "execution_count": 29,
     "metadata": {},
     "output_type": "execute_result"
    }
   ],
   "source": [
    "import numpy as np\n",
    "import pandas as pd\n",
    "df = pd.read_csv('totaisregioes_arr.csv', sep=';',names =['REGIAO', 'CASOS','OBITOS'], index_col='REGIAO')\n",
    "df.head()"
   ]
  },
  {
   "cell_type": "code",
   "execution_count": 30,
   "metadata": {},
   "outputs": [
    {
     "name": "stdout",
     "output_type": "stream",
     "text": [
      "CASOS\n",
      "OBITOS\n"
     ]
    }
   ],
   "source": [
    "for col in df:\n",
    "    print(col)"
   ]
  },
  {
   "cell_type": "code",
   "execution_count": 31,
   "metadata": {
    "id": "xhJ5Q4dx0QDW"
   },
   "outputs": [
    {
     "name": "stdout",
     "output_type": "stream",
     "text": [
      "CASOS\n",
      "38991809\n",
      "7798361.8\n",
      "OBITOS\n",
      "714078\n",
      "142815.6\n"
     ]
    }
   ],
   "source": [
    "for col in df:\n",
    "    print(col)\n",
    "    print(df[col].sum())\n",
    "    print(df[col].mean())"
   ]
  },
  {
   "cell_type": "markdown",
   "metadata": {
    "id": "Ii0bJByfyEbm"
   },
   "source": [
    "### Os objetos Pandas também possuem o método items() do tipo dict para iterar os pares (chave, valor)."
   ]
  },
  {
   "cell_type": "code",
   "execution_count": 32,
   "metadata": {},
   "outputs": [
    {
     "name": "stdout",
     "output_type": "stream",
     "text": [
      "coluna: CASOS , valores REGIAO\n",
      "Centro-Oeste     4574674\n",
      "Nordeste         7571957\n",
      "Norte            2984041\n",
      "Sudeste         15594474\n",
      "Sul              8266663\n",
      "Name: CASOS, dtype: int64\n",
      "coluna: OBITOS , valores REGIAO\n",
      "Centro-Oeste     67252\n",
      "Nordeste        136957\n",
      "Norte            52114\n",
      "Sudeste         344537\n",
      "Sul             113218\n",
      "Name: OBITOS, dtype: int64\n"
     ]
    }
   ],
   "source": [
    "for col, values in df.items():\n",
    "    print(f\"coluna: {col} , valores { values}\")"
   ]
  },
  {
   "cell_type": "code",
   "execution_count": 33,
   "metadata": {},
   "outputs": [
    {
     "name": "stdout",
     "output_type": "stream",
     "text": [
      "coluna: CASOS , total 38991809\n",
      "coluna: OBITOS , total 714078\n"
     ]
    }
   ],
   "source": [
    "for col, values in df.items():\n",
    "    print(f\"coluna: {col} , total { values.sum()}\")"
   ]
  },
  {
   "cell_type": "markdown",
   "metadata": {
    "id": "9c-sKMRe0QDW"
   },
   "source": [
    "### Interando  usando métodos iterrows(): \n",
    "Itere sobre as linhas de um DataFrame como pares (índice, série). Isso converte as linhas em objetos Series, o que pode alterar os dtypes e tem algumas implicações de desempenho."
   ]
  },
  {
   "cell_type": "code",
   "execution_count": 22,
   "metadata": {
    "id": "TBuLiArtyEbm"
   },
   "outputs": [
    {
     "name": "stdout",
     "output_type": "stream",
     "text": [
      "Centro-Oeste 4574674 67252\n",
      "Nordeste 7571957 136957\n",
      "Norte 2984041 52114\n",
      "Sudeste 15594474 344537\n",
      "Sul 8266663 113218\n"
     ]
    }
   ],
   "source": [
    "for id, linha in df.iterrows():\n",
    "    print(id, linha['CASOS'], linha['OBITOS'])"
   ]
  },
  {
   "cell_type": "markdown",
   "metadata": {
    "id": "F0fvuPflyEbm"
   },
   "source": [
    "### Interando o método itertuples(): \n",
    "Itere sobre as linhas de um DataFrame como pares nomeados dos valores. Isso é muito mais rápido iterrows()e, na maioria dos casos, é preferível usar para iterar os valores de um DataFrame."
   ]
  },
  {
   "cell_type": "code",
   "execution_count": 23,
   "metadata": {
    "id": "3IsRH8YkyEbm"
   },
   "outputs": [
    {
     "name": "stdout",
     "output_type": "stream",
     "text": [
      "Centro-Oeste 4574674 67252\n",
      "Nordeste 7571957 136957\n",
      "Norte 2984041 52114\n",
      "Sudeste 15594474 344537\n",
      "Sul 8266663 113218\n"
     ]
    }
   ],
   "source": [
    "for row in df.itertuples():\n",
    "    print(row[0], row[1], row[2])"
   ]
  },
  {
   "cell_type": "markdown",
   "metadata": {
    "id": "9ba1FUwRyEbm"
   },
   "source": [
    "### Atenção\n",
    "\n",
    "A iteração por meio de objetos pandas é geralmente lenta . Em muitos casos, a iteração manual nas linhas não é necessária e \n",
    "Você nunca deve modificar algo sobre o qual está iterando. \n",
    "Por exemplo, no seguinte caso, definir o valor pode em alguns casos não ter efeito:"
   ]
  },
  {
   "cell_type": "code",
   "execution_count": 24,
   "metadata": {
    "id": "XW1LrihUyjGM"
   },
   "outputs": [
    {
     "data": {
      "text/html": [
       "<div>\n",
       "<style scoped>\n",
       "    .dataframe tbody tr th:only-of-type {\n",
       "        vertical-align: middle;\n",
       "    }\n",
       "\n",
       "    .dataframe tbody tr th {\n",
       "        vertical-align: top;\n",
       "    }\n",
       "\n",
       "    .dataframe thead th {\n",
       "        text-align: right;\n",
       "    }\n",
       "</style>\n",
       "<table border=\"1\" class=\"dataframe\">\n",
       "  <thead>\n",
       "    <tr style=\"text-align: right;\">\n",
       "      <th></th>\n",
       "      <th>CASOS</th>\n",
       "      <th>OBITOS</th>\n",
       "    </tr>\n",
       "    <tr>\n",
       "      <th>REGIAO</th>\n",
       "      <th></th>\n",
       "      <th></th>\n",
       "    </tr>\n",
       "  </thead>\n",
       "  <tbody>\n",
       "    <tr>\n",
       "      <th>Centro-Oeste</th>\n",
       "      <td>4574674</td>\n",
       "      <td>67252</td>\n",
       "    </tr>\n",
       "    <tr>\n",
       "      <th>Nordeste</th>\n",
       "      <td>7571957</td>\n",
       "      <td>136957</td>\n",
       "    </tr>\n",
       "    <tr>\n",
       "      <th>Norte</th>\n",
       "      <td>2984041</td>\n",
       "      <td>52114</td>\n",
       "    </tr>\n",
       "    <tr>\n",
       "      <th>Sudeste</th>\n",
       "      <td>15594474</td>\n",
       "      <td>344537</td>\n",
       "    </tr>\n",
       "    <tr>\n",
       "      <th>Sul</th>\n",
       "      <td>8266663</td>\n",
       "      <td>113218</td>\n",
       "    </tr>\n",
       "  </tbody>\n",
       "</table>\n",
       "</div>"
      ],
      "text/plain": [
       "                 CASOS  OBITOS\n",
       "REGIAO                        \n",
       "Centro-Oeste   4574674   67252\n",
       "Nordeste       7571957  136957\n",
       "Norte          2984041   52114\n",
       "Sudeste       15594474  344537\n",
       "Sul            8266663  113218"
      ]
     },
     "execution_count": 24,
     "metadata": {},
     "output_type": "execute_result"
    }
   ],
   "source": [
    "df"
   ]
  },
  {
   "cell_type": "code",
   "execution_count": 25,
   "metadata": {},
   "outputs": [],
   "source": [
    "df = df[['CASOS', 'OBITOS']].astype(float)"
   ]
  },
  {
   "cell_type": "code",
   "execution_count": 26,
   "metadata": {
    "id": "itkWS6KC0QDW"
   },
   "outputs": [],
   "source": [
    "for index, row in df.iterrows():\n",
    "    row['CASOS'] = row['CASOS']  / 100_000"
   ]
  },
  {
   "cell_type": "code",
   "execution_count": 27,
   "metadata": {
    "id": "5tpDI6l80QDW"
   },
   "outputs": [
    {
     "data": {
      "text/html": [
       "<div>\n",
       "<style scoped>\n",
       "    .dataframe tbody tr th:only-of-type {\n",
       "        vertical-align: middle;\n",
       "    }\n",
       "\n",
       "    .dataframe tbody tr th {\n",
       "        vertical-align: top;\n",
       "    }\n",
       "\n",
       "    .dataframe thead th {\n",
       "        text-align: right;\n",
       "    }\n",
       "</style>\n",
       "<table border=\"1\" class=\"dataframe\">\n",
       "  <thead>\n",
       "    <tr style=\"text-align: right;\">\n",
       "      <th></th>\n",
       "      <th>CASOS</th>\n",
       "      <th>OBITOS</th>\n",
       "    </tr>\n",
       "    <tr>\n",
       "      <th>REGIAO</th>\n",
       "      <th></th>\n",
       "      <th></th>\n",
       "    </tr>\n",
       "  </thead>\n",
       "  <tbody>\n",
       "    <tr>\n",
       "      <th>Centro-Oeste</th>\n",
       "      <td>45.74674</td>\n",
       "      <td>67252.0</td>\n",
       "    </tr>\n",
       "    <tr>\n",
       "      <th>Nordeste</th>\n",
       "      <td>75.71957</td>\n",
       "      <td>136957.0</td>\n",
       "    </tr>\n",
       "    <tr>\n",
       "      <th>Norte</th>\n",
       "      <td>29.84041</td>\n",
       "      <td>52114.0</td>\n",
       "    </tr>\n",
       "    <tr>\n",
       "      <th>Sudeste</th>\n",
       "      <td>155.94474</td>\n",
       "      <td>344537.0</td>\n",
       "    </tr>\n",
       "    <tr>\n",
       "      <th>Sul</th>\n",
       "      <td>82.66663</td>\n",
       "      <td>113218.0</td>\n",
       "    </tr>\n",
       "  </tbody>\n",
       "</table>\n",
       "</div>"
      ],
      "text/plain": [
       "                  CASOS    OBITOS\n",
       "REGIAO                           \n",
       "Centro-Oeste   45.74674   67252.0\n",
       "Nordeste       75.71957  136957.0\n",
       "Norte          29.84041   52114.0\n",
       "Sudeste       155.94474  344537.0\n",
       "Sul            82.66663  113218.0"
      ]
     },
     "execution_count": 27,
     "metadata": {},
     "output_type": "execute_result"
    }
   ],
   "source": [
    "df"
   ]
  }
 ],
 "metadata": {
  "colab": {
   "collapsed_sections": [],
   "name": "Aula Sobre Manipulação de Dados com Pandas - Parte 2 - Reindexação, Aplicação, Transformação e Renomeação.ipynb",
   "provenance": [
    {
     "file_id": "1rvyu2VOA5B8EMV5-zzQJaPP56cCOjLAD",
     "timestamp": 1607355074421
    }
   ]
  },
  "kernelspec": {
   "display_name": "base",
   "language": "python",
   "name": "python3"
  },
  "language_info": {
   "codemirror_mode": {
    "name": "ipython",
    "version": 3
   },
   "file_extension": ".py",
   "mimetype": "text/x-python",
   "name": "python",
   "nbconvert_exporter": "python",
   "pygments_lexer": "ipython3",
   "version": "3.12.3"
  }
 },
 "nbformat": 4,
 "nbformat_minor": 1
}
