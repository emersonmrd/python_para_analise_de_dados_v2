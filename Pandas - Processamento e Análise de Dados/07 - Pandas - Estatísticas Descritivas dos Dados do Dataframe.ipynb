{
 "cells": [
  {
   "cell_type": "markdown",
   "metadata": {
    "id": "3eTDNWVHN6Fi"
   },
   "source": [
    "# Pandas - Estatísticas Descritivas dos Dados do Dataframe\n",
    "## Pandas\n",
    "\n",
    "O pandas é uma ferramenta de análise e manipulação de dados de código aberto rápida, poderosa, flexível e fácil de usar,\n",
    "construída sobre a linguagem de programação Python \n",
    "\n",
    "https://pandas.pydata.org/\n"
   ]
  },
  {
   "cell_type": "markdown",
   "metadata": {
    "id": "8Dg5YwJxS5HK"
   },
   "source": [
    "## Estruturas de dados do Pandas\n"
   ]
  },
  {
   "cell_type": "code",
   "execution_count": 1,
   "metadata": {
    "id": "NdylDEvvS5HK"
   },
   "outputs": [],
   "source": [
    "import numpy as np\n",
    "import pandas as pd"
   ]
  },
  {
   "cell_type": "markdown",
   "metadata": {
    "id": "Ck5UWWXVbVm2"
   },
   "source": [
    "## Estatísticas descritivas \n",
    "Existe um grande número de métodos para calcular estatísticas descritivas como sum(), mean()e quantile(),  cumsum()e cumprod()"
   ]
  },
  {
   "cell_type": "code",
   "execution_count": 2,
   "metadata": {
    "colab": {
     "base_uri": "https://localhost:8080/",
     "height": 233
    },
    "executionInfo": {
     "elapsed": 888,
     "status": "ok",
     "timestamp": 1606956965406,
     "user": {
      "displayName": "Orlando O. S.",
      "photoUrl": "https://lh3.googleusercontent.com/a-/AOh14Gj-E1yuy1M_3ruwN4TWYPK4BwysauSW7GQmHheS=s64",
      "userId": "15066502291703974467"
     },
     "user_tz": 180
    },
    "id": "9cmy-EcMbVm2",
    "outputId": "66b2f156-2bd2-4e63-a03f-4be6f1f5a7f9"
   },
   "outputs": [
    {
     "data": {
      "text/html": [
       "<div>\n",
       "<style scoped>\n",
       "    .dataframe tbody tr th:only-of-type {\n",
       "        vertical-align: middle;\n",
       "    }\n",
       "\n",
       "    .dataframe tbody tr th {\n",
       "        vertical-align: top;\n",
       "    }\n",
       "\n",
       "    .dataframe thead th {\n",
       "        text-align: right;\n",
       "    }\n",
       "</style>\n",
       "<table border=\"1\" class=\"dataframe\">\n",
       "  <thead>\n",
       "    <tr style=\"text-align: right;\">\n",
       "      <th></th>\n",
       "      <th>CASOS</th>\n",
       "      <th>OBITOS</th>\n",
       "    </tr>\n",
       "    <tr>\n",
       "      <th>UF</th>\n",
       "      <th></th>\n",
       "      <th></th>\n",
       "    </tr>\n",
       "  </thead>\n",
       "  <tbody>\n",
       "    <tr>\n",
       "      <th>Centro-Oeste</th>\n",
       "      <td>4574674</td>\n",
       "      <td>67252</td>\n",
       "    </tr>\n",
       "    <tr>\n",
       "      <th>Nordeste</th>\n",
       "      <td>7571957</td>\n",
       "      <td>136957</td>\n",
       "    </tr>\n",
       "    <tr>\n",
       "      <th>Norte</th>\n",
       "      <td>2984041</td>\n",
       "      <td>52114</td>\n",
       "    </tr>\n",
       "    <tr>\n",
       "      <th>Sudeste</th>\n",
       "      <td>15594474</td>\n",
       "      <td>344537</td>\n",
       "    </tr>\n",
       "    <tr>\n",
       "      <th>Sul</th>\n",
       "      <td>8266663</td>\n",
       "      <td>113218</td>\n",
       "    </tr>\n",
       "  </tbody>\n",
       "</table>\n",
       "</div>"
      ],
      "text/plain": [
       "                 CASOS  OBITOS\n",
       "UF                            \n",
       "Centro-Oeste   4574674   67252\n",
       "Nordeste       7571957  136957\n",
       "Norte          2984041   52114\n",
       "Sudeste       15594474  344537\n",
       "Sul            8266663  113218"
      ]
     },
     "execution_count": 2,
     "metadata": {},
     "output_type": "execute_result"
    }
   ],
   "source": [
    "df = pd.read_csv('totaisregioes_arr.csv', sep=';',names =['UF','CASOS','OBITOS'], index_col='UF')\n",
    "df"
   ]
  },
  {
   "cell_type": "code",
   "execution_count": 3,
   "metadata": {
    "colab": {
     "base_uri": "https://localhost:8080/"
    },
    "executionInfo": {
     "elapsed": 814,
     "status": "ok",
     "timestamp": 1606956969397,
     "user": {
      "displayName": "Orlando O. S.",
      "photoUrl": "https://lh3.googleusercontent.com/a-/AOh14Gj-E1yuy1M_3ruwN4TWYPK4BwysauSW7GQmHheS=s64",
      "userId": "15066502291703974467"
     },
     "user_tz": 180
    },
    "id": "ytpMMZR8bVm2",
    "outputId": "812aece8-e5a3-4db1-bfd3-ff085f7d6b6f"
   },
   "outputs": [
    {
     "data": {
      "text/plain": [
       "CASOS     7798361.8\n",
       "OBITOS     142815.6\n",
       "dtype: float64"
      ]
     },
     "execution_count": 3,
     "metadata": {},
     "output_type": "execute_result"
    }
   ],
   "source": [
    "df.mean(0)"
   ]
  },
  {
   "cell_type": "code",
   "execution_count": 4,
   "metadata": {
    "colab": {
     "base_uri": "https://localhost:8080/",
     "height": 110
    },
    "executionInfo": {
     "elapsed": 875,
     "status": "ok",
     "timestamp": 1606956977365,
     "user": {
      "displayName": "Orlando O. S.",
      "photoUrl": "https://lh3.googleusercontent.com/a-/AOh14Gj-E1yuy1M_3ruwN4TWYPK4BwysauSW7GQmHheS=s64",
      "userId": "15066502291703974467"
     },
     "user_tz": 180
    },
    "id": "qVKhPBkNbVm2",
    "outputId": "bb97761b-972d-45d4-a029-2c89f0025cc9"
   },
   "outputs": [
    {
     "data": {
      "text/html": [
       "<div>\n",
       "<style scoped>\n",
       "    .dataframe tbody tr th:only-of-type {\n",
       "        vertical-align: middle;\n",
       "    }\n",
       "\n",
       "    .dataframe tbody tr th {\n",
       "        vertical-align: top;\n",
       "    }\n",
       "\n",
       "    .dataframe thead th {\n",
       "        text-align: right;\n",
       "    }\n",
       "</style>\n",
       "<table border=\"1\" class=\"dataframe\">\n",
       "  <thead>\n",
       "    <tr style=\"text-align: right;\">\n",
       "      <th>UF</th>\n",
       "      <th>Centro-Oeste</th>\n",
       "      <th>Nordeste</th>\n",
       "      <th>Norte</th>\n",
       "      <th>Sudeste</th>\n",
       "      <th>Sul</th>\n",
       "    </tr>\n",
       "  </thead>\n",
       "  <tbody>\n",
       "    <tr>\n",
       "      <th>CASOS</th>\n",
       "      <td>4574674</td>\n",
       "      <td>7571957</td>\n",
       "      <td>2984041</td>\n",
       "      <td>15594474</td>\n",
       "      <td>8266663</td>\n",
       "    </tr>\n",
       "    <tr>\n",
       "      <th>OBITOS</th>\n",
       "      <td>67252</td>\n",
       "      <td>136957</td>\n",
       "      <td>52114</td>\n",
       "      <td>344537</td>\n",
       "      <td>113218</td>\n",
       "    </tr>\n",
       "  </tbody>\n",
       "</table>\n",
       "</div>"
      ],
      "text/plain": [
       "UF      Centro-Oeste  Nordeste    Norte   Sudeste      Sul\n",
       "CASOS        4574674   7571957  2984041  15594474  8266663\n",
       "OBITOS         67252    136957    52114    344537   113218"
      ]
     },
     "execution_count": 4,
     "metadata": {},
     "output_type": "execute_result"
    }
   ],
   "source": [
    "df2 = df.T\n",
    "df2"
   ]
  },
  {
   "cell_type": "code",
   "execution_count": 5,
   "metadata": {
    "colab": {
     "base_uri": "https://localhost:8080/"
    },
    "executionInfo": {
     "elapsed": 848,
     "status": "ok",
     "timestamp": 1606956991605,
     "user": {
      "displayName": "Orlando O. S.",
      "photoUrl": "https://lh3.googleusercontent.com/a-/AOh14Gj-E1yuy1M_3ruwN4TWYPK4BwysauSW7GQmHheS=s64",
      "userId": "15066502291703974467"
     },
     "user_tz": 180
    },
    "id": "9FTk6vcnbVm2",
    "outputId": "ef571705-dd47-4df0-afa5-b3233e865188"
   },
   "outputs": [
    {
     "data": {
      "text/plain": [
       "CASOS     7798361.8\n",
       "OBITOS     142815.6\n",
       "dtype: float64"
      ]
     },
     "execution_count": 5,
     "metadata": {},
     "output_type": "execute_result"
    }
   ],
   "source": [
    "df2.mean(1)"
   ]
  },
  {
   "cell_type": "markdown",
   "metadata": {
    "id": "U3X8_vqIbVm3"
   },
   "source": [
    "Todos esses métodos têm uma skipna opção sinalizando se deve excluir dados ausentes ( True por padrão):"
   ]
  },
  {
   "cell_type": "code",
   "execution_count": 6,
   "metadata": {
    "colab": {
     "base_uri": "https://localhost:8080/"
    },
    "executionInfo": {
     "elapsed": 777,
     "status": "ok",
     "timestamp": 1606957045636,
     "user": {
      "displayName": "Orlando O. S.",
      "photoUrl": "https://lh3.googleusercontent.com/a-/AOh14Gj-E1yuy1M_3ruwN4TWYPK4BwysauSW7GQmHheS=s64",
      "userId": "15066502291703974467"
     },
     "user_tz": 180
    },
    "id": "ysEx1qrtbVm3",
    "outputId": "8e2c1c50-3c73-4f76-8f5d-c2f67a1b8ea6"
   },
   "outputs": [
    {
     "data": {
      "text/plain": [
       "CASOS     38991809\n",
       "OBITOS      714078\n",
       "dtype: int64"
      ]
     },
     "execution_count": 6,
     "metadata": {},
     "output_type": "execute_result"
    }
   ],
   "source": [
    "df.sum(0, skipna=False)"
   ]
  },
  {
   "cell_type": "code",
   "execution_count": 7,
   "metadata": {
    "colab": {
     "base_uri": "https://localhost:8080/"
    },
    "executionInfo": {
     "elapsed": 757,
     "status": "ok",
     "timestamp": 1606957050544,
     "user": {
      "displayName": "Orlando O. S.",
      "photoUrl": "https://lh3.googleusercontent.com/a-/AOh14Gj-E1yuy1M_3ruwN4TWYPK4BwysauSW7GQmHheS=s64",
      "userId": "15066502291703974467"
     },
     "user_tz": 180
    },
    "id": "7dHpkGD4bVm3",
    "outputId": "cdadf07c-a788-46d6-d410-abee253810e2"
   },
   "outputs": [
    {
     "data": {
      "text/plain": [
       "CASOS     38991809\n",
       "OBITOS      714078\n",
       "dtype: int64"
      ]
     },
     "execution_count": 7,
     "metadata": {},
     "output_type": "execute_result"
    }
   ],
   "source": [
    "df.sum(axis=0, skipna=True)"
   ]
  },
  {
   "cell_type": "markdown",
   "metadata": {
    "id": "R-zk-lZ8bVm3"
   },
   "source": [
    "## Combinado com o comportamento aritmético / de transmissão"
   ]
  },
  {
   "cell_type": "code",
   "execution_count": 8,
   "metadata": {
    "colab": {
     "base_uri": "https://localhost:8080/",
     "height": 233
    },
    "executionInfo": {
     "elapsed": 843,
     "status": "ok",
     "timestamp": 1606957083409,
     "user": {
      "displayName": "Orlando O. S.",
      "photoUrl": "https://lh3.googleusercontent.com/a-/AOh14Gj-E1yuy1M_3ruwN4TWYPK4BwysauSW7GQmHheS=s64",
      "userId": "15066502291703974467"
     },
     "user_tz": 180
    },
    "id": "pgGfDRlGbVm3",
    "outputId": "05f2a2a1-5d17-4952-d39c-5af094db1a6e"
   },
   "outputs": [
    {
     "data": {
      "text/html": [
       "<div>\n",
       "<style scoped>\n",
       "    .dataframe tbody tr th:only-of-type {\n",
       "        vertical-align: middle;\n",
       "    }\n",
       "\n",
       "    .dataframe tbody tr th {\n",
       "        vertical-align: top;\n",
       "    }\n",
       "\n",
       "    .dataframe thead th {\n",
       "        text-align: right;\n",
       "    }\n",
       "</style>\n",
       "<table border=\"1\" class=\"dataframe\">\n",
       "  <thead>\n",
       "    <tr style=\"text-align: right;\">\n",
       "      <th></th>\n",
       "      <th>CASOS</th>\n",
       "      <th>OBITOS</th>\n",
       "    </tr>\n",
       "    <tr>\n",
       "      <th>UF</th>\n",
       "      <th></th>\n",
       "      <th></th>\n",
       "    </tr>\n",
       "  </thead>\n",
       "  <tbody>\n",
       "    <tr>\n",
       "      <th>Centro-Oeste</th>\n",
       "      <td>-3223687.8</td>\n",
       "      <td>-75563.6</td>\n",
       "    </tr>\n",
       "    <tr>\n",
       "      <th>Nordeste</th>\n",
       "      <td>-226404.8</td>\n",
       "      <td>-5858.6</td>\n",
       "    </tr>\n",
       "    <tr>\n",
       "      <th>Norte</th>\n",
       "      <td>-4814320.8</td>\n",
       "      <td>-90701.6</td>\n",
       "    </tr>\n",
       "    <tr>\n",
       "      <th>Sudeste</th>\n",
       "      <td>7796112.2</td>\n",
       "      <td>201721.4</td>\n",
       "    </tr>\n",
       "    <tr>\n",
       "      <th>Sul</th>\n",
       "      <td>468301.2</td>\n",
       "      <td>-29597.6</td>\n",
       "    </tr>\n",
       "  </tbody>\n",
       "</table>\n",
       "</div>"
      ],
      "text/plain": [
       "                  CASOS    OBITOS\n",
       "UF                               \n",
       "Centro-Oeste -3223687.8  -75563.6\n",
       "Nordeste      -226404.8   -5858.6\n",
       "Norte        -4814320.8  -90701.6\n",
       "Sudeste       7796112.2  201721.4\n",
       "Sul            468301.2  -29597.6"
      ]
     },
     "execution_count": 8,
     "metadata": {},
     "output_type": "execute_result"
    }
   ],
   "source": [
    "desvio = (df - df.mean()) \n",
    "desvio"
   ]
  },
  {
   "cell_type": "code",
   "execution_count": 9,
   "metadata": {
    "colab": {
     "base_uri": "https://localhost:8080/",
     "height": 233
    },
    "executionInfo": {
     "elapsed": 886,
     "status": "ok",
     "timestamp": 1606957189373,
     "user": {
      "displayName": "Orlando O. S.",
      "photoUrl": "https://lh3.googleusercontent.com/a-/AOh14Gj-E1yuy1M_3ruwN4TWYPK4BwysauSW7GQmHheS=s64",
      "userId": "15066502291703974467"
     },
     "user_tz": 180
    },
    "id": "0aTYQXCEbVm3",
    "outputId": "c0c49965-ebcc-44c4-f09d-3563a1912243"
   },
   "outputs": [
    {
     "data": {
      "text/html": [
       "<div>\n",
       "<style scoped>\n",
       "    .dataframe tbody tr th:only-of-type {\n",
       "        vertical-align: middle;\n",
       "    }\n",
       "\n",
       "    .dataframe tbody tr th {\n",
       "        vertical-align: top;\n",
       "    }\n",
       "\n",
       "    .dataframe thead th {\n",
       "        text-align: right;\n",
       "    }\n",
       "</style>\n",
       "<table border=\"1\" class=\"dataframe\">\n",
       "  <thead>\n",
       "    <tr style=\"text-align: right;\">\n",
       "      <th></th>\n",
       "      <th>CASOS</th>\n",
       "      <th>OBITOS</th>\n",
       "    </tr>\n",
       "    <tr>\n",
       "      <th>UF</th>\n",
       "      <th></th>\n",
       "      <th></th>\n",
       "    </tr>\n",
       "  </thead>\n",
       "  <tbody>\n",
       "    <tr>\n",
       "      <th>Centro-Oeste</th>\n",
       "      <td>4574674</td>\n",
       "      <td>67252</td>\n",
       "    </tr>\n",
       "    <tr>\n",
       "      <th>Nordeste</th>\n",
       "      <td>12146631</td>\n",
       "      <td>204209</td>\n",
       "    </tr>\n",
       "    <tr>\n",
       "      <th>Norte</th>\n",
       "      <td>15130672</td>\n",
       "      <td>256323</td>\n",
       "    </tr>\n",
       "    <tr>\n",
       "      <th>Sudeste</th>\n",
       "      <td>30725146</td>\n",
       "      <td>600860</td>\n",
       "    </tr>\n",
       "    <tr>\n",
       "      <th>Sul</th>\n",
       "      <td>38991809</td>\n",
       "      <td>714078</td>\n",
       "    </tr>\n",
       "  </tbody>\n",
       "</table>\n",
       "</div>"
      ],
      "text/plain": [
       "                 CASOS  OBITOS\n",
       "UF                            \n",
       "Centro-Oeste   4574674   67252\n",
       "Nordeste      12146631  204209\n",
       "Norte         15130672  256323\n",
       "Sudeste       30725146  600860\n",
       "Sul           38991809  714078"
      ]
     },
     "execution_count": 9,
     "metadata": {},
     "output_type": "execute_result"
    }
   ],
   "source": [
    "df.cumsum()"
   ]
  },
  {
   "cell_type": "markdown",
   "metadata": {
    "id": "AaaQs4yVbVm3"
   },
   "source": [
    "### Função Comuns"
   ]
  },
  {
   "cell_type": "markdown",
   "metadata": {
    "id": "WGsE1m8pbVm3"
   },
   "source": [
    "- count: Número de observações não NA\n",
    "- sum : Soma de valores\n",
    "- mean : Média dos valores\n",
    "- mad: Desvio médio absoluto\n",
    "- median: Mediana aritmética de valores\n",
    "- min: Mínimo\n",
    "- max: Máximo\n",
    "- mode: Moda\n",
    "- abs: Valor absoluto\n",
    "- prod :Produto de valores\n",
    "- std: Desvio padrão da amostra corrigido por Bessel\n",
    "- var: Variância imparcial\n",
    "- sem: Erro padrão da média\n",
    "- skew: Amostra de assimetria (3º momento)\n",
    "- kurt: Curtose de amostra (4º momento)\n",
    "- quantile: Quantil de amostra (valor em %)\n",
    "- cumsum: Soma cumulativa\n",
    "- cumprod: Produto cumulativo\n",
    "- cummax: Máximo cumulativo\n",
    "- cummin: Mínimo cumulativo"
   ]
  },
  {
   "cell_type": "markdown",
   "metadata": {
    "id": "pOvoiEPjbVm3"
   },
   "source": [
    "### Series.nunique() \n",
    "retornará o número de valores não NA exclusivos em uma série:"
   ]
  },
  {
   "cell_type": "code",
   "execution_count": 10,
   "metadata": {
    "colab": {
     "base_uri": "https://localhost:8080/"
    },
    "executionInfo": {
     "elapsed": 912,
     "status": "ok",
     "timestamp": 1606957274855,
     "user": {
      "displayName": "Orlando O. S.",
      "photoUrl": "https://lh3.googleusercontent.com/a-/AOh14Gj-E1yuy1M_3ruwN4TWYPK4BwysauSW7GQmHheS=s64",
      "userId": "15066502291703974467"
     },
     "user_tz": 180
    },
    "id": "FS_jAZdKbVm3",
    "outputId": "a1730810-8110-42de-cfd2-f5933d56add7"
   },
   "outputs": [
    {
     "name": "stdout",
     "output_type": "stream",
     "text": [
      "0    104\n",
      "1    107\n",
      "2    117\n",
      "3    101\n",
      "4    133\n",
      "5    140\n",
      "6    113\n",
      "7    111\n",
      "8    114\n",
      "9    109\n",
      "dtype: int32\n",
      "10\n"
     ]
    }
   ],
   "source": [
    "series = pd.Series(np.random.randint(100,150,10))\n",
    "print(series)\n",
    "series.unique()\n",
    "print(series.nunique())"
   ]
  },
  {
   "cell_type": "code",
   "execution_count": 23,
   "metadata": {},
   "outputs": [
    {
     "data": {
      "text/plain": [
       "array([        nan, -0.57628932, -1.14166724, -0.93259194, -2.32033072,\n",
       "        1.25100902])"
      ]
     },
     "execution_count": 23,
     "metadata": {},
     "output_type": "execute_result"
    }
   ],
   "source": [
    "series.unique()"
   ]
  },
  {
   "cell_type": "code",
   "execution_count": 24,
   "metadata": {},
   "outputs": [
    {
     "data": {
      "text/plain": [
       "5"
      ]
     },
     "execution_count": 24,
     "metadata": {},
     "output_type": "execute_result"
    }
   ],
   "source": [
    "series.nunique()"
   ]
  },
  {
   "cell_type": "markdown",
   "metadata": {
    "id": "QABLh-lMbVm3"
   },
   "source": [
    "## Resumindo os dados com :describe() \n",
    "Describe() função conveniente que calcula uma variedade de estatísticas resumidas sobre uma série ou colunas de um DataFrame (excluindo NAs):"
   ]
  },
  {
   "cell_type": "code",
   "execution_count": 11,
   "metadata": {
    "colab": {
     "base_uri": "https://localhost:8080/"
    },
    "executionInfo": {
     "elapsed": 700,
     "status": "ok",
     "timestamp": 1606957325656,
     "user": {
      "displayName": "Orlando O. S.",
      "photoUrl": "https://lh3.googleusercontent.com/a-/AOh14Gj-E1yuy1M_3ruwN4TWYPK4BwysauSW7GQmHheS=s64",
      "userId": "15066502291703974467"
     },
     "user_tz": 180
    },
    "id": "9_SEZzFqbVm3",
    "outputId": "978aef30-71f5-4d49-9484-3f3a4ecfee87"
   },
   "outputs": [
    {
     "data": {
      "text/plain": [
       "0    0.813521\n",
       "2   -0.703467\n",
       "4   -0.242621\n",
       "6   -0.744973\n",
       "8   -1.203857\n",
       "dtype: float64"
      ]
     },
     "execution_count": 11,
     "metadata": {},
     "output_type": "execute_result"
    }
   ],
   "source": [
    "series = pd.Series(np.random.randn(10))\n",
    "series[::2]"
   ]
  },
  {
   "cell_type": "code",
   "execution_count": 12,
   "metadata": {
    "colab": {
     "base_uri": "https://localhost:8080/"
    },
    "executionInfo": {
     "elapsed": 876,
     "status": "ok",
     "timestamp": 1606957327670,
     "user": {
      "displayName": "Orlando O. S.",
      "photoUrl": "https://lh3.googleusercontent.com/a-/AOh14Gj-E1yuy1M_3ruwN4TWYPK4BwysauSW7GQmHheS=s64",
      "userId": "15066502291703974467"
     },
     "user_tz": 180
    },
    "id": "yGiyyavvbVm3",
    "outputId": "791f5afb-f111-46fb-9407-4844d383b6fa"
   },
   "outputs": [
    {
     "data": {
      "text/plain": [
       "0         NaN\n",
       "1   -0.576289\n",
       "2         NaN\n",
       "3   -1.141667\n",
       "4         NaN\n",
       "5   -0.932592\n",
       "6         NaN\n",
       "7   -2.320331\n",
       "8         NaN\n",
       "9    1.251009\n",
       "dtype: float64"
      ]
     },
     "execution_count": 12,
     "metadata": {},
     "output_type": "execute_result"
    }
   ],
   "source": [
    "series[::2] = np.nan\n",
    "series"
   ]
  },
  {
   "cell_type": "code",
   "execution_count": 13,
   "metadata": {
    "colab": {
     "base_uri": "https://localhost:8080/"
    },
    "executionInfo": {
     "elapsed": 772,
     "status": "ok",
     "timestamp": 1606957335813,
     "user": {
      "displayName": "Orlando O. S.",
      "photoUrl": "https://lh3.googleusercontent.com/a-/AOh14Gj-E1yuy1M_3ruwN4TWYPK4BwysauSW7GQmHheS=s64",
      "userId": "15066502291703974467"
     },
     "user_tz": 180
    },
    "id": "uMtZA70ObVm3",
    "outputId": "3afe224f-131d-43ec-c7bd-86261eb9a8da"
   },
   "outputs": [
    {
     "data": {
      "text/plain": [
       "count    5.000000\n",
       "mean    -0.743974\n",
       "std      1.292934\n",
       "min     -2.320331\n",
       "25%     -1.141667\n",
       "50%     -0.932592\n",
       "75%     -0.576289\n",
       "max      1.251009\n",
       "dtype: float64"
      ]
     },
     "execution_count": 13,
     "metadata": {},
     "output_type": "execute_result"
    }
   ],
   "source": [
    "series.describe()"
   ]
  },
  {
   "cell_type": "code",
   "execution_count": 14,
   "metadata": {
    "colab": {
     "base_uri": "https://localhost:8080/",
     "height": 357
    },
    "executionInfo": {
     "elapsed": 1026,
     "status": "ok",
     "timestamp": 1606957415499,
     "user": {
      "displayName": "Orlando O. S.",
      "photoUrl": "https://lh3.googleusercontent.com/a-/AOh14Gj-E1yuy1M_3ruwN4TWYPK4BwysauSW7GQmHheS=s64",
      "userId": "15066502291703974467"
     },
     "user_tz": 180
    },
    "id": "Em_K1bnsbVm3",
    "outputId": "7eb0b11a-e62b-42ed-8c7a-dabbeb9129bc"
   },
   "outputs": [
    {
     "data": {
      "text/html": [
       "<div>\n",
       "<style scoped>\n",
       "    .dataframe tbody tr th:only-of-type {\n",
       "        vertical-align: middle;\n",
       "    }\n",
       "\n",
       "    .dataframe tbody tr th {\n",
       "        vertical-align: top;\n",
       "    }\n",
       "\n",
       "    .dataframe thead th {\n",
       "        text-align: right;\n",
       "    }\n",
       "</style>\n",
       "<table border=\"1\" class=\"dataframe\">\n",
       "  <thead>\n",
       "    <tr style=\"text-align: right;\">\n",
       "      <th></th>\n",
       "      <th>a</th>\n",
       "      <th>b</th>\n",
       "      <th>c</th>\n",
       "      <th>d</th>\n",
       "      <th>e</th>\n",
       "    </tr>\n",
       "  </thead>\n",
       "  <tbody>\n",
       "    <tr>\n",
       "      <th>0</th>\n",
       "      <td>-1.028405</td>\n",
       "      <td>-0.299333</td>\n",
       "      <td>-0.381923</td>\n",
       "      <td>-1.438624</td>\n",
       "      <td>-0.932663</td>\n",
       "    </tr>\n",
       "    <tr>\n",
       "      <th>1</th>\n",
       "      <td>-0.836721</td>\n",
       "      <td>-0.912868</td>\n",
       "      <td>0.898384</td>\n",
       "      <td>1.089426</td>\n",
       "      <td>-0.985057</td>\n",
       "    </tr>\n",
       "    <tr>\n",
       "      <th>2</th>\n",
       "      <td>1.184254</td>\n",
       "      <td>0.472001</td>\n",
       "      <td>-0.818173</td>\n",
       "      <td>-0.051488</td>\n",
       "      <td>1.015471</td>\n",
       "    </tr>\n",
       "    <tr>\n",
       "      <th>3</th>\n",
       "      <td>0.325053</td>\n",
       "      <td>0.784550</td>\n",
       "      <td>-0.314420</td>\n",
       "      <td>-0.278034</td>\n",
       "      <td>-2.198890</td>\n",
       "    </tr>\n",
       "    <tr>\n",
       "      <th>4</th>\n",
       "      <td>0.779308</td>\n",
       "      <td>-0.794910</td>\n",
       "      <td>0.333211</td>\n",
       "      <td>-0.749146</td>\n",
       "      <td>0.525673</td>\n",
       "    </tr>\n",
       "    <tr>\n",
       "      <th>5</th>\n",
       "      <td>0.540322</td>\n",
       "      <td>0.280935</td>\n",
       "      <td>-0.080748</td>\n",
       "      <td>-1.115331</td>\n",
       "      <td>0.102605</td>\n",
       "    </tr>\n",
       "    <tr>\n",
       "      <th>6</th>\n",
       "      <td>0.950967</td>\n",
       "      <td>-0.081523</td>\n",
       "      <td>0.536764</td>\n",
       "      <td>0.025083</td>\n",
       "      <td>0.484109</td>\n",
       "    </tr>\n",
       "    <tr>\n",
       "      <th>7</th>\n",
       "      <td>-1.236430</td>\n",
       "      <td>-1.754823</td>\n",
       "      <td>1.347284</td>\n",
       "      <td>0.879635</td>\n",
       "      <td>0.422740</td>\n",
       "    </tr>\n",
       "    <tr>\n",
       "      <th>8</th>\n",
       "      <td>0.650925</td>\n",
       "      <td>-0.332519</td>\n",
       "      <td>0.779010</td>\n",
       "      <td>-1.159259</td>\n",
       "      <td>-0.639594</td>\n",
       "    </tr>\n",
       "    <tr>\n",
       "      <th>9</th>\n",
       "      <td>-0.602123</td>\n",
       "      <td>-0.179547</td>\n",
       "      <td>-1.596002</td>\n",
       "      <td>1.487558</td>\n",
       "      <td>0.980397</td>\n",
       "    </tr>\n",
       "  </tbody>\n",
       "</table>\n",
       "</div>"
      ],
      "text/plain": [
       "          a         b         c         d         e\n",
       "0 -1.028405 -0.299333 -0.381923 -1.438624 -0.932663\n",
       "1 -0.836721 -0.912868  0.898384  1.089426 -0.985057\n",
       "2  1.184254  0.472001 -0.818173 -0.051488  1.015471\n",
       "3  0.325053  0.784550 -0.314420 -0.278034 -2.198890\n",
       "4  0.779308 -0.794910  0.333211 -0.749146  0.525673\n",
       "5  0.540322  0.280935 -0.080748 -1.115331  0.102605\n",
       "6  0.950967 -0.081523  0.536764  0.025083  0.484109\n",
       "7 -1.236430 -1.754823  1.347284  0.879635  0.422740\n",
       "8  0.650925 -0.332519  0.779010 -1.159259 -0.639594\n",
       "9 -0.602123 -0.179547 -1.596002  1.487558  0.980397"
      ]
     },
     "execution_count": 14,
     "metadata": {},
     "output_type": "execute_result"
    }
   ],
   "source": [
    "df = pd.DataFrame(np.random.randn(10, 5), columns=['a', 'b', 'c', 'd', 'e'])\n",
    "df"
   ]
  },
  {
   "cell_type": "code",
   "execution_count": 15,
   "metadata": {
    "colab": {
     "base_uri": "https://localhost:8080/",
     "height": 357
    },
    "executionInfo": {
     "elapsed": 770,
     "status": "ok",
     "timestamp": 1606957425541,
     "user": {
      "displayName": "Orlando O. S.",
      "photoUrl": "https://lh3.googleusercontent.com/a-/AOh14Gj-E1yuy1M_3ruwN4TWYPK4BwysauSW7GQmHheS=s64",
      "userId": "15066502291703974467"
     },
     "user_tz": 180
    },
    "id": "RK4MLJFYbVm3",
    "outputId": "62324c50-0613-4a6f-9839-828cbaad955e"
   },
   "outputs": [
    {
     "data": {
      "text/html": [
       "<div>\n",
       "<style scoped>\n",
       "    .dataframe tbody tr th:only-of-type {\n",
       "        vertical-align: middle;\n",
       "    }\n",
       "\n",
       "    .dataframe tbody tr th {\n",
       "        vertical-align: top;\n",
       "    }\n",
       "\n",
       "    .dataframe thead th {\n",
       "        text-align: right;\n",
       "    }\n",
       "</style>\n",
       "<table border=\"1\" class=\"dataframe\">\n",
       "  <thead>\n",
       "    <tr style=\"text-align: right;\">\n",
       "      <th></th>\n",
       "      <th>a</th>\n",
       "      <th>b</th>\n",
       "      <th>c</th>\n",
       "      <th>d</th>\n",
       "      <th>e</th>\n",
       "    </tr>\n",
       "  </thead>\n",
       "  <tbody>\n",
       "    <tr>\n",
       "      <th>0</th>\n",
       "      <td>NaN</td>\n",
       "      <td>NaN</td>\n",
       "      <td>NaN</td>\n",
       "      <td>NaN</td>\n",
       "      <td>NaN</td>\n",
       "    </tr>\n",
       "    <tr>\n",
       "      <th>1</th>\n",
       "      <td>-0.836721</td>\n",
       "      <td>-0.912868</td>\n",
       "      <td>0.898384</td>\n",
       "      <td>1.089426</td>\n",
       "      <td>-0.985057</td>\n",
       "    </tr>\n",
       "    <tr>\n",
       "      <th>2</th>\n",
       "      <td>NaN</td>\n",
       "      <td>NaN</td>\n",
       "      <td>NaN</td>\n",
       "      <td>NaN</td>\n",
       "      <td>NaN</td>\n",
       "    </tr>\n",
       "    <tr>\n",
       "      <th>3</th>\n",
       "      <td>0.325053</td>\n",
       "      <td>0.784550</td>\n",
       "      <td>-0.314420</td>\n",
       "      <td>-0.278034</td>\n",
       "      <td>-2.198890</td>\n",
       "    </tr>\n",
       "    <tr>\n",
       "      <th>4</th>\n",
       "      <td>NaN</td>\n",
       "      <td>NaN</td>\n",
       "      <td>NaN</td>\n",
       "      <td>NaN</td>\n",
       "      <td>NaN</td>\n",
       "    </tr>\n",
       "    <tr>\n",
       "      <th>5</th>\n",
       "      <td>0.540322</td>\n",
       "      <td>0.280935</td>\n",
       "      <td>-0.080748</td>\n",
       "      <td>-1.115331</td>\n",
       "      <td>0.102605</td>\n",
       "    </tr>\n",
       "    <tr>\n",
       "      <th>6</th>\n",
       "      <td>NaN</td>\n",
       "      <td>NaN</td>\n",
       "      <td>NaN</td>\n",
       "      <td>NaN</td>\n",
       "      <td>NaN</td>\n",
       "    </tr>\n",
       "    <tr>\n",
       "      <th>7</th>\n",
       "      <td>-1.236430</td>\n",
       "      <td>-1.754823</td>\n",
       "      <td>1.347284</td>\n",
       "      <td>0.879635</td>\n",
       "      <td>0.422740</td>\n",
       "    </tr>\n",
       "    <tr>\n",
       "      <th>8</th>\n",
       "      <td>NaN</td>\n",
       "      <td>NaN</td>\n",
       "      <td>NaN</td>\n",
       "      <td>NaN</td>\n",
       "      <td>NaN</td>\n",
       "    </tr>\n",
       "    <tr>\n",
       "      <th>9</th>\n",
       "      <td>-0.602123</td>\n",
       "      <td>-0.179547</td>\n",
       "      <td>-1.596002</td>\n",
       "      <td>1.487558</td>\n",
       "      <td>0.980397</td>\n",
       "    </tr>\n",
       "  </tbody>\n",
       "</table>\n",
       "</div>"
      ],
      "text/plain": [
       "          a         b         c         d         e\n",
       "0       NaN       NaN       NaN       NaN       NaN\n",
       "1 -0.836721 -0.912868  0.898384  1.089426 -0.985057\n",
       "2       NaN       NaN       NaN       NaN       NaN\n",
       "3  0.325053  0.784550 -0.314420 -0.278034 -2.198890\n",
       "4       NaN       NaN       NaN       NaN       NaN\n",
       "5  0.540322  0.280935 -0.080748 -1.115331  0.102605\n",
       "6       NaN       NaN       NaN       NaN       NaN\n",
       "7 -1.236430 -1.754823  1.347284  0.879635  0.422740\n",
       "8       NaN       NaN       NaN       NaN       NaN\n",
       "9 -0.602123 -0.179547 -1.596002  1.487558  0.980397"
      ]
     },
     "execution_count": 15,
     "metadata": {},
     "output_type": "execute_result"
    }
   ],
   "source": [
    "df.iloc[::2] = np.nan\n",
    "df"
   ]
  },
  {
   "cell_type": "code",
   "execution_count": 16,
   "metadata": {
    "colab": {
     "base_uri": "https://localhost:8080/",
     "height": 295
    },
    "executionInfo": {
     "elapsed": 898,
     "status": "ok",
     "timestamp": 1606957434962,
     "user": {
      "displayName": "Orlando O. S.",
      "photoUrl": "https://lh3.googleusercontent.com/a-/AOh14Gj-E1yuy1M_3ruwN4TWYPK4BwysauSW7GQmHheS=s64",
      "userId": "15066502291703974467"
     },
     "user_tz": 180
    },
    "id": "c--LGC5ObVm3",
    "outputId": "2dcfe002-cb32-45ca-ad86-d5b7fbfdd573"
   },
   "outputs": [
    {
     "data": {
      "text/html": [
       "<div>\n",
       "<style scoped>\n",
       "    .dataframe tbody tr th:only-of-type {\n",
       "        vertical-align: middle;\n",
       "    }\n",
       "\n",
       "    .dataframe tbody tr th {\n",
       "        vertical-align: top;\n",
       "    }\n",
       "\n",
       "    .dataframe thead th {\n",
       "        text-align: right;\n",
       "    }\n",
       "</style>\n",
       "<table border=\"1\" class=\"dataframe\">\n",
       "  <thead>\n",
       "    <tr style=\"text-align: right;\">\n",
       "      <th></th>\n",
       "      <th>a</th>\n",
       "      <th>b</th>\n",
       "      <th>c</th>\n",
       "      <th>d</th>\n",
       "      <th>e</th>\n",
       "    </tr>\n",
       "  </thead>\n",
       "  <tbody>\n",
       "    <tr>\n",
       "      <th>count</th>\n",
       "      <td>5.000000</td>\n",
       "      <td>5.000000</td>\n",
       "      <td>5.000000</td>\n",
       "      <td>5.000000</td>\n",
       "      <td>5.000000</td>\n",
       "    </tr>\n",
       "    <tr>\n",
       "      <th>mean</th>\n",
       "      <td>-0.361980</td>\n",
       "      <td>-0.356351</td>\n",
       "      <td>0.050900</td>\n",
       "      <td>0.412651</td>\n",
       "      <td>-0.335641</td>\n",
       "    </tr>\n",
       "    <tr>\n",
       "      <th>std</th>\n",
       "      <td>0.763851</td>\n",
       "      <td>1.000560</td>\n",
       "      <td>1.146943</td>\n",
       "      <td>1.077415</td>\n",
       "      <td>1.264179</td>\n",
       "    </tr>\n",
       "    <tr>\n",
       "      <th>min</th>\n",
       "      <td>-1.236430</td>\n",
       "      <td>-1.754823</td>\n",
       "      <td>-1.596002</td>\n",
       "      <td>-1.115331</td>\n",
       "      <td>-2.198890</td>\n",
       "    </tr>\n",
       "    <tr>\n",
       "      <th>25%</th>\n",
       "      <td>-0.836721</td>\n",
       "      <td>-0.912868</td>\n",
       "      <td>-0.314420</td>\n",
       "      <td>-0.278034</td>\n",
       "      <td>-0.985057</td>\n",
       "    </tr>\n",
       "    <tr>\n",
       "      <th>50%</th>\n",
       "      <td>-0.602123</td>\n",
       "      <td>-0.179547</td>\n",
       "      <td>-0.080748</td>\n",
       "      <td>0.879635</td>\n",
       "      <td>0.102605</td>\n",
       "    </tr>\n",
       "    <tr>\n",
       "      <th>75%</th>\n",
       "      <td>0.325053</td>\n",
       "      <td>0.280935</td>\n",
       "      <td>0.898384</td>\n",
       "      <td>1.089426</td>\n",
       "      <td>0.422740</td>\n",
       "    </tr>\n",
       "    <tr>\n",
       "      <th>max</th>\n",
       "      <td>0.540322</td>\n",
       "      <td>0.784550</td>\n",
       "      <td>1.347284</td>\n",
       "      <td>1.487558</td>\n",
       "      <td>0.980397</td>\n",
       "    </tr>\n",
       "  </tbody>\n",
       "</table>\n",
       "</div>"
      ],
      "text/plain": [
       "              a         b         c         d         e\n",
       "count  5.000000  5.000000  5.000000  5.000000  5.000000\n",
       "mean  -0.361980 -0.356351  0.050900  0.412651 -0.335641\n",
       "std    0.763851  1.000560  1.146943  1.077415  1.264179\n",
       "min   -1.236430 -1.754823 -1.596002 -1.115331 -2.198890\n",
       "25%   -0.836721 -0.912868 -0.314420 -0.278034 -0.985057\n",
       "50%   -0.602123 -0.179547 -0.080748  0.879635  0.102605\n",
       "75%    0.325053  0.280935  0.898384  1.089426  0.422740\n",
       "max    0.540322  0.784550  1.347284  1.487558  0.980397"
      ]
     },
     "execution_count": 16,
     "metadata": {},
     "output_type": "execute_result"
    }
   ],
   "source": [
    "df.describe()"
   ]
  },
  {
   "cell_type": "markdown",
   "metadata": {
    "id": "YqCuy18WbVm4"
   },
   "source": [
    "#### Você pode selecionar percentis específicos para incluir na saída:"
   ]
  },
  {
   "cell_type": "code",
   "execution_count": 17,
   "metadata": {
    "colab": {
     "base_uri": "https://localhost:8080/"
    },
    "executionInfo": {
     "elapsed": 1009,
     "status": "ok",
     "timestamp": 1606957475350,
     "user": {
      "displayName": "Orlando O. S.",
      "photoUrl": "https://lh3.googleusercontent.com/a-/AOh14Gj-E1yuy1M_3ruwN4TWYPK4BwysauSW7GQmHheS=s64",
      "userId": "15066502291703974467"
     },
     "user_tz": 180
    },
    "id": "jRsTCdqFbVm4",
    "outputId": "9fb27279-b36d-47f7-e23e-c2a17904ba48"
   },
   "outputs": [
    {
     "data": {
      "text/plain": [
       "count    5.000000\n",
       "mean    -0.743974\n",
       "std      1.292934\n",
       "min     -2.320331\n",
       "5%      -2.084598\n",
       "25%     -1.141667\n",
       "50%     -0.932592\n",
       "75%     -0.576289\n",
       "95%      0.885549\n",
       "max      1.251009\n",
       "dtype: float64"
      ]
     },
     "execution_count": 17,
     "metadata": {},
     "output_type": "execute_result"
    }
   ],
   "source": [
    "series.describe(percentiles=[.05, .25, .75, .95])"
   ]
  },
  {
   "cell_type": "markdown",
   "metadata": {
    "id": "W7aZ7TucbVm4"
   },
   "source": [
    "Para um objeto Series não numérico, describe()fornecerá um resumo simples do número de valores exclusivos e valores de ocorrência mais frequente:"
   ]
  },
  {
   "cell_type": "code",
   "execution_count": 18,
   "metadata": {
    "colab": {
     "base_uri": "https://localhost:8080/"
    },
    "executionInfo": {
     "elapsed": 874,
     "status": "ok",
     "timestamp": 1606957512955,
     "user": {
      "displayName": "Orlando O. S.",
      "photoUrl": "https://lh3.googleusercontent.com/a-/AOh14Gj-E1yuy1M_3ruwN4TWYPK4BwysauSW7GQmHheS=s64",
      "userId": "15066502291703974467"
     },
     "user_tz": 180
    },
    "id": "-wVj06I8bVm4",
    "outputId": "f3b9be99-9c66-4484-fe53-6a7e91d0f205"
   },
   "outputs": [
    {
     "data": {
      "text/plain": [
       "count     9\n",
       "unique    4\n",
       "top       a\n",
       "freq      5\n",
       "dtype: object"
      ]
     },
     "execution_count": 18,
     "metadata": {},
     "output_type": "execute_result"
    }
   ],
   "source": [
    "s = pd.Series(['a', 'a', 'b', 'b', 'a', 'a', np.nan, 'c', 'd', 'a'])\n",
    "s.describe()"
   ]
  },
  {
   "cell_type": "markdown",
   "metadata": {
    "id": "_BeXOdchbVm4"
   },
   "source": [
    "Em DataFrame de tipo misto,o describe() restringirá o resumo para incluir apenas colunas numéricas ou, se nenhuma for, apenas colunas categóricas:"
   ]
  },
  {
   "cell_type": "code",
   "execution_count": 19,
   "metadata": {
    "colab": {
     "base_uri": "https://localhost:8080/",
     "height": 295
    },
    "executionInfo": {
     "elapsed": 863,
     "status": "ok",
     "timestamp": 1606957647028,
     "user": {
      "displayName": "Orlando O. S.",
      "photoUrl": "https://lh3.googleusercontent.com/a-/AOh14Gj-E1yuy1M_3ruwN4TWYPK4BwysauSW7GQmHheS=s64",
      "userId": "15066502291703974467"
     },
     "user_tz": 180
    },
    "id": "KyJaHAYobVm4",
    "outputId": "990cb416-5cbf-4238-ac34-6881888caaca"
   },
   "outputs": [
    {
     "data": {
      "text/html": [
       "<div>\n",
       "<style scoped>\n",
       "    .dataframe tbody tr th:only-of-type {\n",
       "        vertical-align: middle;\n",
       "    }\n",
       "\n",
       "    .dataframe tbody tr th {\n",
       "        vertical-align: top;\n",
       "    }\n",
       "\n",
       "    .dataframe thead th {\n",
       "        text-align: right;\n",
       "    }\n",
       "</style>\n",
       "<table border=\"1\" class=\"dataframe\">\n",
       "  <thead>\n",
       "    <tr style=\"text-align: right;\">\n",
       "      <th></th>\n",
       "      <th>b</th>\n",
       "    </tr>\n",
       "  </thead>\n",
       "  <tbody>\n",
       "    <tr>\n",
       "      <th>count</th>\n",
       "      <td>4.000000</td>\n",
       "    </tr>\n",
       "    <tr>\n",
       "      <th>mean</th>\n",
       "      <td>1.500000</td>\n",
       "    </tr>\n",
       "    <tr>\n",
       "      <th>std</th>\n",
       "      <td>1.290994</td>\n",
       "    </tr>\n",
       "    <tr>\n",
       "      <th>min</th>\n",
       "      <td>0.000000</td>\n",
       "    </tr>\n",
       "    <tr>\n",
       "      <th>25%</th>\n",
       "      <td>0.750000</td>\n",
       "    </tr>\n",
       "    <tr>\n",
       "      <th>50%</th>\n",
       "      <td>1.500000</td>\n",
       "    </tr>\n",
       "    <tr>\n",
       "      <th>75%</th>\n",
       "      <td>2.250000</td>\n",
       "    </tr>\n",
       "    <tr>\n",
       "      <th>max</th>\n",
       "      <td>3.000000</td>\n",
       "    </tr>\n",
       "  </tbody>\n",
       "</table>\n",
       "</div>"
      ],
      "text/plain": [
       "              b\n",
       "count  4.000000\n",
       "mean   1.500000\n",
       "std    1.290994\n",
       "min    0.000000\n",
       "25%    0.750000\n",
       "50%    1.500000\n",
       "75%    2.250000\n",
       "max    3.000000"
      ]
     },
     "execution_count": 19,
     "metadata": {},
     "output_type": "execute_result"
    }
   ],
   "source": [
    "df = pd.DataFrame({'a': ['joão', 'jose', 'joaquim', 'maria'], 'b': range(4)})\n",
    "df.describe()"
   ]
  },
  {
   "cell_type": "markdown",
   "metadata": {
    "id": "TUDbxS3ZbVm4"
   },
   "source": [
    "### Este comportamento pode ser controlado fornecendo uma lista de tipos como include/ exclude argumentos. O valor especial alltambém pode ser usado:"
   ]
  },
  {
   "cell_type": "code",
   "execution_count": 20,
   "metadata": {
    "colab": {
     "base_uri": "https://localhost:8080/",
     "height": 172
    },
    "executionInfo": {
     "elapsed": 754,
     "status": "ok",
     "timestamp": 1606957654741,
     "user": {
      "displayName": "Orlando O. S.",
      "photoUrl": "https://lh3.googleusercontent.com/a-/AOh14Gj-E1yuy1M_3ruwN4TWYPK4BwysauSW7GQmHheS=s64",
      "userId": "15066502291703974467"
     },
     "user_tz": 180
    },
    "id": "UrwwgS9dbVm4",
    "outputId": "e04acea7-95a7-4bbe-b005-045c1acfe7ac"
   },
   "outputs": [
    {
     "data": {
      "text/html": [
       "<div>\n",
       "<style scoped>\n",
       "    .dataframe tbody tr th:only-of-type {\n",
       "        vertical-align: middle;\n",
       "    }\n",
       "\n",
       "    .dataframe tbody tr th {\n",
       "        vertical-align: top;\n",
       "    }\n",
       "\n",
       "    .dataframe thead th {\n",
       "        text-align: right;\n",
       "    }\n",
       "</style>\n",
       "<table border=\"1\" class=\"dataframe\">\n",
       "  <thead>\n",
       "    <tr style=\"text-align: right;\">\n",
       "      <th></th>\n",
       "      <th>a</th>\n",
       "    </tr>\n",
       "  </thead>\n",
       "  <tbody>\n",
       "    <tr>\n",
       "      <th>count</th>\n",
       "      <td>4</td>\n",
       "    </tr>\n",
       "    <tr>\n",
       "      <th>unique</th>\n",
       "      <td>4</td>\n",
       "    </tr>\n",
       "    <tr>\n",
       "      <th>top</th>\n",
       "      <td>joão</td>\n",
       "    </tr>\n",
       "    <tr>\n",
       "      <th>freq</th>\n",
       "      <td>1</td>\n",
       "    </tr>\n",
       "  </tbody>\n",
       "</table>\n",
       "</div>"
      ],
      "text/plain": [
       "           a\n",
       "count      4\n",
       "unique     4\n",
       "top     joão\n",
       "freq       1"
      ]
     },
     "execution_count": 20,
     "metadata": {},
     "output_type": "execute_result"
    }
   ],
   "source": [
    "df.describe(include=['object'])"
   ]
  },
  {
   "cell_type": "code",
   "execution_count": 21,
   "metadata": {
    "colab": {
     "base_uri": "https://localhost:8080/",
     "height": 295
    },
    "executionInfo": {
     "elapsed": 889,
     "status": "ok",
     "timestamp": 1606957669450,
     "user": {
      "displayName": "Orlando O. S.",
      "photoUrl": "https://lh3.googleusercontent.com/a-/AOh14Gj-E1yuy1M_3ruwN4TWYPK4BwysauSW7GQmHheS=s64",
      "userId": "15066502291703974467"
     },
     "user_tz": 180
    },
    "id": "ER213Kp3bVm4",
    "outputId": "81006ab5-7a33-4dc5-96f6-3c20a7b0fe07"
   },
   "outputs": [
    {
     "data": {
      "text/html": [
       "<div>\n",
       "<style scoped>\n",
       "    .dataframe tbody tr th:only-of-type {\n",
       "        vertical-align: middle;\n",
       "    }\n",
       "\n",
       "    .dataframe tbody tr th {\n",
       "        vertical-align: top;\n",
       "    }\n",
       "\n",
       "    .dataframe thead th {\n",
       "        text-align: right;\n",
       "    }\n",
       "</style>\n",
       "<table border=\"1\" class=\"dataframe\">\n",
       "  <thead>\n",
       "    <tr style=\"text-align: right;\">\n",
       "      <th></th>\n",
       "      <th>b</th>\n",
       "    </tr>\n",
       "  </thead>\n",
       "  <tbody>\n",
       "    <tr>\n",
       "      <th>count</th>\n",
       "      <td>4.000000</td>\n",
       "    </tr>\n",
       "    <tr>\n",
       "      <th>mean</th>\n",
       "      <td>1.500000</td>\n",
       "    </tr>\n",
       "    <tr>\n",
       "      <th>std</th>\n",
       "      <td>1.290994</td>\n",
       "    </tr>\n",
       "    <tr>\n",
       "      <th>min</th>\n",
       "      <td>0.000000</td>\n",
       "    </tr>\n",
       "    <tr>\n",
       "      <th>25%</th>\n",
       "      <td>0.750000</td>\n",
       "    </tr>\n",
       "    <tr>\n",
       "      <th>50%</th>\n",
       "      <td>1.500000</td>\n",
       "    </tr>\n",
       "    <tr>\n",
       "      <th>75%</th>\n",
       "      <td>2.250000</td>\n",
       "    </tr>\n",
       "    <tr>\n",
       "      <th>max</th>\n",
       "      <td>3.000000</td>\n",
       "    </tr>\n",
       "  </tbody>\n",
       "</table>\n",
       "</div>"
      ],
      "text/plain": [
       "              b\n",
       "count  4.000000\n",
       "mean   1.500000\n",
       "std    1.290994\n",
       "min    0.000000\n",
       "25%    0.750000\n",
       "50%    1.500000\n",
       "75%    2.250000\n",
       "max    3.000000"
      ]
     },
     "execution_count": 21,
     "metadata": {},
     "output_type": "execute_result"
    }
   ],
   "source": [
    "df.describe(include=['number'])"
   ]
  },
  {
   "cell_type": "code",
   "execution_count": 22,
   "metadata": {
    "colab": {
     "base_uri": "https://localhost:8080/",
     "height": 387
    },
    "executionInfo": {
     "elapsed": 840,
     "status": "ok",
     "timestamp": 1606957684811,
     "user": {
      "displayName": "Orlando O. S.",
      "photoUrl": "https://lh3.googleusercontent.com/a-/AOh14Gj-E1yuy1M_3ruwN4TWYPK4BwysauSW7GQmHheS=s64",
      "userId": "15066502291703974467"
     },
     "user_tz": 180
    },
    "id": "njF_YgQLbVm4",
    "outputId": "8cec0913-1a34-47bc-f48c-a82ec87a7eb9"
   },
   "outputs": [
    {
     "data": {
      "text/html": [
       "<div>\n",
       "<style scoped>\n",
       "    .dataframe tbody tr th:only-of-type {\n",
       "        vertical-align: middle;\n",
       "    }\n",
       "\n",
       "    .dataframe tbody tr th {\n",
       "        vertical-align: top;\n",
       "    }\n",
       "\n",
       "    .dataframe thead th {\n",
       "        text-align: right;\n",
       "    }\n",
       "</style>\n",
       "<table border=\"1\" class=\"dataframe\">\n",
       "  <thead>\n",
       "    <tr style=\"text-align: right;\">\n",
       "      <th></th>\n",
       "      <th>a</th>\n",
       "      <th>b</th>\n",
       "    </tr>\n",
       "  </thead>\n",
       "  <tbody>\n",
       "    <tr>\n",
       "      <th>count</th>\n",
       "      <td>4</td>\n",
       "      <td>4.000000</td>\n",
       "    </tr>\n",
       "    <tr>\n",
       "      <th>unique</th>\n",
       "      <td>4</td>\n",
       "      <td>NaN</td>\n",
       "    </tr>\n",
       "    <tr>\n",
       "      <th>top</th>\n",
       "      <td>joão</td>\n",
       "      <td>NaN</td>\n",
       "    </tr>\n",
       "    <tr>\n",
       "      <th>freq</th>\n",
       "      <td>1</td>\n",
       "      <td>NaN</td>\n",
       "    </tr>\n",
       "    <tr>\n",
       "      <th>mean</th>\n",
       "      <td>NaN</td>\n",
       "      <td>1.500000</td>\n",
       "    </tr>\n",
       "    <tr>\n",
       "      <th>std</th>\n",
       "      <td>NaN</td>\n",
       "      <td>1.290994</td>\n",
       "    </tr>\n",
       "    <tr>\n",
       "      <th>min</th>\n",
       "      <td>NaN</td>\n",
       "      <td>0.000000</td>\n",
       "    </tr>\n",
       "    <tr>\n",
       "      <th>25%</th>\n",
       "      <td>NaN</td>\n",
       "      <td>0.750000</td>\n",
       "    </tr>\n",
       "    <tr>\n",
       "      <th>50%</th>\n",
       "      <td>NaN</td>\n",
       "      <td>1.500000</td>\n",
       "    </tr>\n",
       "    <tr>\n",
       "      <th>75%</th>\n",
       "      <td>NaN</td>\n",
       "      <td>2.250000</td>\n",
       "    </tr>\n",
       "    <tr>\n",
       "      <th>max</th>\n",
       "      <td>NaN</td>\n",
       "      <td>3.000000</td>\n",
       "    </tr>\n",
       "  </tbody>\n",
       "</table>\n",
       "</div>"
      ],
      "text/plain": [
       "           a         b\n",
       "count      4  4.000000\n",
       "unique     4       NaN\n",
       "top     joão       NaN\n",
       "freq       1       NaN\n",
       "mean     NaN  1.500000\n",
       "std      NaN  1.290994\n",
       "min      NaN  0.000000\n",
       "25%      NaN  0.750000\n",
       "50%      NaN  1.500000\n",
       "75%      NaN  2.250000\n",
       "max      NaN  3.000000"
      ]
     },
     "execution_count": 22,
     "metadata": {},
     "output_type": "execute_result"
    }
   ],
   "source": [
    "df.describe(include='all')"
   ]
  }
 ],
 "metadata": {
  "colab": {
   "collapsed_sections": [],
   "name": "Aula Sobre Manipulação de Dados com Pandas - Parte 1.ipynb",
   "provenance": []
  },
  "kernelspec": {
   "display_name": "base",
   "language": "python",
   "name": "python3"
  },
  "language_info": {
   "codemirror_mode": {
    "name": "ipython",
    "version": 3
   },
   "file_extension": ".py",
   "mimetype": "text/x-python",
   "name": "python",
   "nbconvert_exporter": "python",
   "pygments_lexer": "ipython3",
   "version": "3.12.3"
  }
 },
 "nbformat": 4,
 "nbformat_minor": 1
}
