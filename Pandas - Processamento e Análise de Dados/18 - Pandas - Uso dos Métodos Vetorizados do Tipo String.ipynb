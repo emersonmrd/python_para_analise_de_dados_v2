{
 "cells": [
  {
   "cell_type": "markdown",
   "metadata": {},
   "source": [
    "# Pandas - Uso dos Métodos Vetorizados do Tipo String"
   ]
  },
  {
   "cell_type": "markdown",
   "metadata": {
    "id": "zv3C8wLW0QDW"
   },
   "source": [
    "# Métodos vetorizados de string \n",
    "A série é equipada com um conjunto de métodos de processamento de strings que facilitam a operação em cada elemento da matriz.\n",
    "\n",
    "Eles são acessados ​​por meio do stratributo da série e geralmente têm nomes que correspondem aos métodos de string embutidos equivalentes (escalares)."
   ]
  },
  {
   "cell_type": "code",
   "execution_count": 1,
   "metadata": {
    "id": "5udMshU50QDW"
   },
   "outputs": [
    {
     "data": {
      "text/html": [
       "<div>\n",
       "<style scoped>\n",
       "    .dataframe tbody tr th:only-of-type {\n",
       "        vertical-align: middle;\n",
       "    }\n",
       "\n",
       "    .dataframe tbody tr th {\n",
       "        vertical-align: top;\n",
       "    }\n",
       "\n",
       "    .dataframe thead th {\n",
       "        text-align: right;\n",
       "    }\n",
       "</style>\n",
       "<table border=\"1\" class=\"dataframe\">\n",
       "  <thead>\n",
       "    <tr style=\"text-align: right;\">\n",
       "      <th></th>\n",
       "      <th>REGIAO</th>\n",
       "      <th>CASOS</th>\n",
       "      <th>OBITOS</th>\n",
       "    </tr>\n",
       "  </thead>\n",
       "  <tbody>\n",
       "    <tr>\n",
       "      <th>0</th>\n",
       "      <td>Centro-Oeste</td>\n",
       "      <td>4574674</td>\n",
       "      <td>67252</td>\n",
       "    </tr>\n",
       "    <tr>\n",
       "      <th>1</th>\n",
       "      <td>Nordeste</td>\n",
       "      <td>7571957</td>\n",
       "      <td>136957</td>\n",
       "    </tr>\n",
       "    <tr>\n",
       "      <th>2</th>\n",
       "      <td>Norte</td>\n",
       "      <td>2984041</td>\n",
       "      <td>52114</td>\n",
       "    </tr>\n",
       "    <tr>\n",
       "      <th>3</th>\n",
       "      <td>Sudeste</td>\n",
       "      <td>15594474</td>\n",
       "      <td>344537</td>\n",
       "    </tr>\n",
       "    <tr>\n",
       "      <th>4</th>\n",
       "      <td>Sul</td>\n",
       "      <td>8266663</td>\n",
       "      <td>113218</td>\n",
       "    </tr>\n",
       "  </tbody>\n",
       "</table>\n",
       "</div>"
      ],
      "text/plain": [
       "         REGIAO     CASOS  OBITOS\n",
       "0  Centro-Oeste   4574674   67252\n",
       "1      Nordeste   7571957  136957\n",
       "2         Norte   2984041   52114\n",
       "3       Sudeste  15594474  344537\n",
       "4           Sul   8266663  113218"
      ]
     },
     "execution_count": 1,
     "metadata": {},
     "output_type": "execute_result"
    }
   ],
   "source": [
    "import numpy as np\n",
    "import pandas as pd\n",
    "df = pd.read_csv('totaisregioes_arr.csv', sep=';',names =['REGIAO', 'CASOS','OBITOS'], index_col=False)\n",
    "df.head()"
   ]
  },
  {
   "cell_type": "code",
   "execution_count": 2,
   "metadata": {
    "id": "D9LbAGY4OLY4"
   },
   "outputs": [
    {
     "data": {
      "text/plain": [
       "0    centro-oeste\n",
       "1        nordeste\n",
       "2           norte\n",
       "3         sudeste\n",
       "4             sul\n",
       "Name: REGIAO, dtype: object"
      ]
     },
     "execution_count": 2,
     "metadata": {},
     "output_type": "execute_result"
    }
   ],
   "source": [
    "df['REGIAO'].str.lower()"
   ]
  },
  {
   "cell_type": "code",
   "execution_count": 3,
   "metadata": {
    "id": "8Z_BRGGwO76e"
   },
   "outputs": [
    {
     "data": {
      "text/plain": [
       "0    CENTRO-OESTE\n",
       "1        NORDESTE\n",
       "2           NORTE\n",
       "3         SUDESTE\n",
       "4             SUL\n",
       "Name: REGIAO, dtype: object"
      ]
     },
     "execution_count": 3,
     "metadata": {},
     "output_type": "execute_result"
    }
   ],
   "source": [
    "df['REGIAO'].str.upper()"
   ]
  },
  {
   "cell_type": "code",
   "execution_count": 4,
   "metadata": {
    "id": "AFHWrT0eO_CE"
   },
   "outputs": [
    {
     "data": {
      "text/plain": [
       "0    Centro-Oeste\n",
       "1        Nordeste\n",
       "2           Norte\n",
       "3         Sudeste\n",
       "4             Sul\n",
       "Name: REGIAO, dtype: object"
      ]
     },
     "execution_count": 4,
     "metadata": {},
     "output_type": "execute_result"
    }
   ],
   "source": [
    "df['REGIAO'].str.title()"
   ]
  }
 ],
 "metadata": {
  "colab": {
   "collapsed_sections": [],
   "name": "Aula Sobre Manipulação de Dados com Pandas - Parte 2 - Reindexação, Aplicação, Transformação e Renomeação.ipynb",
   "provenance": [
    {
     "file_id": "1rvyu2VOA5B8EMV5-zzQJaPP56cCOjLAD",
     "timestamp": 1607355074421
    }
   ]
  },
  "kernelspec": {
   "display_name": "base",
   "language": "python",
   "name": "python3"
  },
  "language_info": {
   "codemirror_mode": {
    "name": "ipython",
    "version": 3
   },
   "file_extension": ".py",
   "mimetype": "text/x-python",
   "name": "python",
   "nbconvert_exporter": "python",
   "pygments_lexer": "ipython3",
   "version": "3.12.3"
  }
 },
 "nbformat": 4,
 "nbformat_minor": 1
}
