{
 "cells": [
  {
   "cell_type": "markdown",
   "metadata": {},
   "source": [
    "# Pandas - Classificação e Ordenação de Dataframes e Séries"
   ]
  },
  {
   "cell_type": "markdown",
   "metadata": {
    "id": "hHHAQn-q0QDW"
   },
   "source": [
    "# Classificando - Ordenação de Dados\n",
    "O Pandas suporta três tipos de classificação: classificação por rótulos de índice, classificação por valores de coluna e classificação por uma combinação de ambos.\n",
    "\n",
    "## Ordenando DataFrame Por índice \n",
    "Os métodos Series.sort_index()e DataFrame.sort_index()são usados ​​para classificar um objeto pandas por seus níveis de índice."
   ]
  },
  {
   "cell_type": "code",
   "execution_count": 26,
   "metadata": {
    "colab": {
     "base_uri": "https://localhost:8080/",
     "height": 203
    },
    "executionInfo": {
     "elapsed": 895,
     "status": "ok",
     "timestamp": 1607555949827,
     "user": {
      "displayName": "Orlando O. S.",
      "photoUrl": "https://lh3.googleusercontent.com/a-/AOh14Gj-E1yuy1M_3ruwN4TWYPK4BwysauSW7GQmHheS=s64",
      "userId": "15066502291703974467"
     },
     "user_tz": 180
    },
    "id": "PoEy0nwo0QDW",
    "outputId": "5d0a93b1-3c60-4582-97d9-9eeca127ecb3"
   },
   "outputs": [
    {
     "data": {
      "text/html": [
       "<div>\n",
       "<style scoped>\n",
       "    .dataframe tbody tr th:only-of-type {\n",
       "        vertical-align: middle;\n",
       "    }\n",
       "\n",
       "    .dataframe tbody tr th {\n",
       "        vertical-align: top;\n",
       "    }\n",
       "\n",
       "    .dataframe thead th {\n",
       "        text-align: right;\n",
       "    }\n",
       "</style>\n",
       "<table border=\"1\" class=\"dataframe\">\n",
       "  <thead>\n",
       "    <tr style=\"text-align: right;\">\n",
       "      <th></th>\n",
       "      <th>REGIAO</th>\n",
       "      <th>UF</th>\n",
       "      <th>CASOS</th>\n",
       "      <th>OBITOS</th>\n",
       "    </tr>\n",
       "  </thead>\n",
       "  <tbody>\n",
       "    <tr>\n",
       "      <th>0</th>\n",
       "      <td>Centro-Oeste</td>\n",
       "      <td>DF</td>\n",
       "      <td>955540</td>\n",
       "      <td>12025</td>\n",
       "    </tr>\n",
       "    <tr>\n",
       "      <th>1</th>\n",
       "      <td>Centro-Oeste</td>\n",
       "      <td>GO</td>\n",
       "      <td>2060518</td>\n",
       "      <td>28669</td>\n",
       "    </tr>\n",
       "    <tr>\n",
       "      <th>2</th>\n",
       "      <td>Centro-Oeste</td>\n",
       "      <td>MS</td>\n",
       "      <td>637169</td>\n",
       "      <td>11305</td>\n",
       "    </tr>\n",
       "    <tr>\n",
       "      <th>3</th>\n",
       "      <td>Centro-Oeste</td>\n",
       "      <td>MT</td>\n",
       "      <td>921447</td>\n",
       "      <td>15253</td>\n",
       "    </tr>\n",
       "    <tr>\n",
       "      <th>4</th>\n",
       "      <td>Nordeste</td>\n",
       "      <td>AL</td>\n",
       "      <td>348701</td>\n",
       "      <td>7355</td>\n",
       "    </tr>\n",
       "  </tbody>\n",
       "</table>\n",
       "</div>"
      ],
      "text/plain": [
       "         REGIAO  UF    CASOS  OBITOS\n",
       "0  Centro-Oeste  DF   955540   12025\n",
       "1  Centro-Oeste  GO  2060518   28669\n",
       "2  Centro-Oeste  MS   637169   11305\n",
       "3  Centro-Oeste  MT   921447   15253\n",
       "4      Nordeste  AL   348701    7355"
      ]
     },
     "execution_count": 26,
     "metadata": {},
     "output_type": "execute_result"
    }
   ],
   "source": [
    "import pandas as pd\n",
    "import numpy as np\n",
    "df = pd.read_csv('totaisestadoscomregiao_arr.csv', sep=';',names =['REGIAO', 'UF', 'CASOS','OBITOS'], index_col=False)\n",
    "df.head()"
   ]
  },
  {
   "cell_type": "code",
   "execution_count": 27,
   "metadata": {
    "colab": {
     "base_uri": "https://localhost:8080/"
    },
    "executionInfo": {
     "elapsed": 722,
     "status": "ok",
     "timestamp": 1607555984520,
     "user": {
      "displayName": "Orlando O. S.",
      "photoUrl": "https://lh3.googleusercontent.com/a-/AOh14Gj-E1yuy1M_3ruwN4TWYPK4BwysauSW7GQmHheS=s64",
      "userId": "15066502291703974467"
     },
     "user_tz": 180
    },
    "id": "mA2zr_5YP_uL",
    "outputId": "d5d01bd7-b66a-4640-b6e7-5a348cd06280"
   },
   "outputs": [
    {
     "name": "stdout",
     "output_type": "stream",
     "text": [
      "[ 0  1  2  3  4  5  6  7  8  9 10 11 12 13 14 15 16 17 18 19 20 21 22 23\n",
      " 24 25 26]\n",
      "[13  9 17 10 22  2 14 21 26 25 24 16  7 12 15  6 20  5  0  8  3  4 19 18\n",
      "  1 11 23]\n"
     ]
    }
   ],
   "source": [
    "index = np.array(df.index)\n",
    "print(index)\n",
    "np.random.shuffle(index)\n",
    "print(index)"
   ]
  },
  {
   "cell_type": "code",
   "execution_count": 28,
   "metadata": {
    "colab": {
     "base_uri": "https://localhost:8080/",
     "height": 203
    },
    "executionInfo": {
     "elapsed": 724,
     "status": "ok",
     "timestamp": 1607555994462,
     "user": {
      "displayName": "Orlando O. S.",
      "photoUrl": "https://lh3.googleusercontent.com/a-/AOh14Gj-E1yuy1M_3ruwN4TWYPK4BwysauSW7GQmHheS=s64",
      "userId": "15066502291703974467"
     },
     "user_tz": 180
    },
    "id": "p4aOg3kvg-5H",
    "outputId": "9925e996-0a72-46ef-ad91-e9eccb1ca752"
   },
   "outputs": [
    {
     "data": {
      "text/html": [
       "<div>\n",
       "<style scoped>\n",
       "    .dataframe tbody tr th:only-of-type {\n",
       "        vertical-align: middle;\n",
       "    }\n",
       "\n",
       "    .dataframe tbody tr th {\n",
       "        vertical-align: top;\n",
       "    }\n",
       "\n",
       "    .dataframe thead th {\n",
       "        text-align: right;\n",
       "    }\n",
       "</style>\n",
       "<table border=\"1\" class=\"dataframe\">\n",
       "  <thead>\n",
       "    <tr style=\"text-align: right;\">\n",
       "      <th></th>\n",
       "      <th>REGIAO</th>\n",
       "      <th>UF</th>\n",
       "      <th>CASOS</th>\n",
       "      <th>OBITOS</th>\n",
       "    </tr>\n",
       "  </thead>\n",
       "  <tbody>\n",
       "    <tr>\n",
       "      <th>13</th>\n",
       "      <td>Norte</td>\n",
       "      <td>AC</td>\n",
       "      <td>169625</td>\n",
       "      <td>2083</td>\n",
       "    </tr>\n",
       "    <tr>\n",
       "      <th>9</th>\n",
       "      <td>Nordeste</td>\n",
       "      <td>PE</td>\n",
       "      <td>1235360</td>\n",
       "      <td>23240</td>\n",
       "    </tr>\n",
       "    <tr>\n",
       "      <th>17</th>\n",
       "      <td>Norte</td>\n",
       "      <td>RO</td>\n",
       "      <td>505111</td>\n",
       "      <td>7527</td>\n",
       "    </tr>\n",
       "    <tr>\n",
       "      <th>10</th>\n",
       "      <td>Nordeste</td>\n",
       "      <td>PI</td>\n",
       "      <td>438676</td>\n",
       "      <td>8445</td>\n",
       "    </tr>\n",
       "    <tr>\n",
       "      <th>22</th>\n",
       "      <td>Sudeste</td>\n",
       "      <td>RJ</td>\n",
       "      <td>2966219</td>\n",
       "      <td>78238</td>\n",
       "    </tr>\n",
       "  </tbody>\n",
       "</table>\n",
       "</div>"
      ],
      "text/plain": [
       "      REGIAO  UF    CASOS  OBITOS\n",
       "13     Norte  AC   169625    2083\n",
       "9   Nordeste  PE  1235360   23240\n",
       "17     Norte  RO   505111    7527\n",
       "10  Nordeste  PI   438676    8445\n",
       "22   Sudeste  RJ  2966219   78238"
      ]
     },
     "execution_count": 28,
     "metadata": {},
     "output_type": "execute_result"
    }
   ],
   "source": [
    "df = df.reindex(index)\n",
    "df.head()"
   ]
  },
  {
   "cell_type": "code",
   "execution_count": 29,
   "metadata": {
    "colab": {
     "base_uri": "https://localhost:8080/",
     "height": 203
    },
    "executionInfo": {
     "elapsed": 695,
     "status": "ok",
     "timestamp": 1607556037570,
     "user": {
      "displayName": "Orlando O. S.",
      "photoUrl": "https://lh3.googleusercontent.com/a-/AOh14Gj-E1yuy1M_3ruwN4TWYPK4BwysauSW7GQmHheS=s64",
      "userId": "15066502291703974467"
     },
     "user_tz": 180
    },
    "id": "5z7W_Vse0QDX",
    "outputId": "9fbcee42-fefc-49bc-a13c-821c583833a0"
   },
   "outputs": [
    {
     "data": {
      "text/html": [
       "<div>\n",
       "<style scoped>\n",
       "    .dataframe tbody tr th:only-of-type {\n",
       "        vertical-align: middle;\n",
       "    }\n",
       "\n",
       "    .dataframe tbody tr th {\n",
       "        vertical-align: top;\n",
       "    }\n",
       "\n",
       "    .dataframe thead th {\n",
       "        text-align: right;\n",
       "    }\n",
       "</style>\n",
       "<table border=\"1\" class=\"dataframe\">\n",
       "  <thead>\n",
       "    <tr style=\"text-align: right;\">\n",
       "      <th></th>\n",
       "      <th>REGIAO</th>\n",
       "      <th>UF</th>\n",
       "      <th>CASOS</th>\n",
       "      <th>OBITOS</th>\n",
       "    </tr>\n",
       "  </thead>\n",
       "  <tbody>\n",
       "    <tr>\n",
       "      <th>0</th>\n",
       "      <td>Centro-Oeste</td>\n",
       "      <td>DF</td>\n",
       "      <td>955540</td>\n",
       "      <td>12025</td>\n",
       "    </tr>\n",
       "    <tr>\n",
       "      <th>1</th>\n",
       "      <td>Centro-Oeste</td>\n",
       "      <td>GO</td>\n",
       "      <td>2060518</td>\n",
       "      <td>28669</td>\n",
       "    </tr>\n",
       "    <tr>\n",
       "      <th>2</th>\n",
       "      <td>Centro-Oeste</td>\n",
       "      <td>MS</td>\n",
       "      <td>637169</td>\n",
       "      <td>11305</td>\n",
       "    </tr>\n",
       "    <tr>\n",
       "      <th>3</th>\n",
       "      <td>Centro-Oeste</td>\n",
       "      <td>MT</td>\n",
       "      <td>921447</td>\n",
       "      <td>15253</td>\n",
       "    </tr>\n",
       "    <tr>\n",
       "      <th>4</th>\n",
       "      <td>Nordeste</td>\n",
       "      <td>AL</td>\n",
       "      <td>348701</td>\n",
       "      <td>7355</td>\n",
       "    </tr>\n",
       "  </tbody>\n",
       "</table>\n",
       "</div>"
      ],
      "text/plain": [
       "         REGIAO  UF    CASOS  OBITOS\n",
       "0  Centro-Oeste  DF   955540   12025\n",
       "1  Centro-Oeste  GO  2060518   28669\n",
       "2  Centro-Oeste  MS   637169   11305\n",
       "3  Centro-Oeste  MT   921447   15253\n",
       "4      Nordeste  AL   348701    7355"
      ]
     },
     "execution_count": 29,
     "metadata": {},
     "output_type": "execute_result"
    }
   ],
   "source": [
    "df.sort_index().head()"
   ]
  },
  {
   "cell_type": "code",
   "execution_count": 30,
   "metadata": {
    "colab": {
     "base_uri": "https://localhost:8080/",
     "height": 203
    },
    "executionInfo": {
     "elapsed": 692,
     "status": "ok",
     "timestamp": 1607556063290,
     "user": {
      "displayName": "Orlando O. S.",
      "photoUrl": "https://lh3.googleusercontent.com/a-/AOh14Gj-E1yuy1M_3ruwN4TWYPK4BwysauSW7GQmHheS=s64",
      "userId": "15066502291703974467"
     },
     "user_tz": 180
    },
    "id": "5u5cNgoX0QDX",
    "outputId": "ea0d10ee-0518-4938-8500-ebb68f8b5dea"
   },
   "outputs": [
    {
     "data": {
      "text/html": [
       "<div>\n",
       "<style scoped>\n",
       "    .dataframe tbody tr th:only-of-type {\n",
       "        vertical-align: middle;\n",
       "    }\n",
       "\n",
       "    .dataframe tbody tr th {\n",
       "        vertical-align: top;\n",
       "    }\n",
       "\n",
       "    .dataframe thead th {\n",
       "        text-align: right;\n",
       "    }\n",
       "</style>\n",
       "<table border=\"1\" class=\"dataframe\">\n",
       "  <thead>\n",
       "    <tr style=\"text-align: right;\">\n",
       "      <th></th>\n",
       "      <th>REGIAO</th>\n",
       "      <th>UF</th>\n",
       "      <th>CASOS</th>\n",
       "      <th>OBITOS</th>\n",
       "    </tr>\n",
       "  </thead>\n",
       "  <tbody>\n",
       "    <tr>\n",
       "      <th>26</th>\n",
       "      <td>Sul</td>\n",
       "      <td>SC</td>\n",
       "      <td>2089867</td>\n",
       "      <td>23145</td>\n",
       "    </tr>\n",
       "    <tr>\n",
       "      <th>25</th>\n",
       "      <td>Sul</td>\n",
       "      <td>RS</td>\n",
       "      <td>3144956</td>\n",
       "      <td>43044</td>\n",
       "    </tr>\n",
       "    <tr>\n",
       "      <th>24</th>\n",
       "      <td>Sul</td>\n",
       "      <td>PR</td>\n",
       "      <td>3031840</td>\n",
       "      <td>47029</td>\n",
       "    </tr>\n",
       "    <tr>\n",
       "      <th>23</th>\n",
       "      <td>Sudeste</td>\n",
       "      <td>SP</td>\n",
       "      <td>6907741</td>\n",
       "      <td>184235</td>\n",
       "    </tr>\n",
       "    <tr>\n",
       "      <th>22</th>\n",
       "      <td>Sudeste</td>\n",
       "      <td>RJ</td>\n",
       "      <td>2966219</td>\n",
       "      <td>78238</td>\n",
       "    </tr>\n",
       "  </tbody>\n",
       "</table>\n",
       "</div>"
      ],
      "text/plain": [
       "     REGIAO  UF    CASOS  OBITOS\n",
       "26      Sul  SC  2089867   23145\n",
       "25      Sul  RS  3144956   43044\n",
       "24      Sul  PR  3031840   47029\n",
       "23  Sudeste  SP  6907741  184235\n",
       "22  Sudeste  RJ  2966219   78238"
      ]
     },
     "execution_count": 30,
     "metadata": {},
     "output_type": "execute_result"
    }
   ],
   "source": [
    "df.sort_index(ascending=False).head()"
   ]
  },
  {
   "cell_type": "code",
   "execution_count": 31,
   "metadata": {
    "colab": {
     "base_uri": "https://localhost:8080/",
     "height": 203
    },
    "executionInfo": {
     "elapsed": 747,
     "status": "ok",
     "timestamp": 1607556070250,
     "user": {
      "displayName": "Orlando O. S.",
      "photoUrl": "https://lh3.googleusercontent.com/a-/AOh14Gj-E1yuy1M_3ruwN4TWYPK4BwysauSW7GQmHheS=s64",
      "userId": "15066502291703974467"
     },
     "user_tz": 180
    },
    "id": "OTzi2Rgw0QDX",
    "outputId": "bab410da-8b40-4bc6-9f2e-020fa951bd2b"
   },
   "outputs": [
    {
     "data": {
      "text/html": [
       "<div>\n",
       "<style scoped>\n",
       "    .dataframe tbody tr th:only-of-type {\n",
       "        vertical-align: middle;\n",
       "    }\n",
       "\n",
       "    .dataframe tbody tr th {\n",
       "        vertical-align: top;\n",
       "    }\n",
       "\n",
       "    .dataframe thead th {\n",
       "        text-align: right;\n",
       "    }\n",
       "</style>\n",
       "<table border=\"1\" class=\"dataframe\">\n",
       "  <thead>\n",
       "    <tr style=\"text-align: right;\">\n",
       "      <th></th>\n",
       "      <th>CASOS</th>\n",
       "      <th>OBITOS</th>\n",
       "      <th>REGIAO</th>\n",
       "      <th>UF</th>\n",
       "    </tr>\n",
       "  </thead>\n",
       "  <tbody>\n",
       "    <tr>\n",
       "      <th>13</th>\n",
       "      <td>169625</td>\n",
       "      <td>2083</td>\n",
       "      <td>Norte</td>\n",
       "      <td>AC</td>\n",
       "    </tr>\n",
       "    <tr>\n",
       "      <th>9</th>\n",
       "      <td>1235360</td>\n",
       "      <td>23240</td>\n",
       "      <td>Nordeste</td>\n",
       "      <td>PE</td>\n",
       "    </tr>\n",
       "    <tr>\n",
       "      <th>17</th>\n",
       "      <td>505111</td>\n",
       "      <td>7527</td>\n",
       "      <td>Norte</td>\n",
       "      <td>RO</td>\n",
       "    </tr>\n",
       "    <tr>\n",
       "      <th>10</th>\n",
       "      <td>438676</td>\n",
       "      <td>8445</td>\n",
       "      <td>Nordeste</td>\n",
       "      <td>PI</td>\n",
       "    </tr>\n",
       "    <tr>\n",
       "      <th>22</th>\n",
       "      <td>2966219</td>\n",
       "      <td>78238</td>\n",
       "      <td>Sudeste</td>\n",
       "      <td>RJ</td>\n",
       "    </tr>\n",
       "  </tbody>\n",
       "</table>\n",
       "</div>"
      ],
      "text/plain": [
       "      CASOS  OBITOS    REGIAO  UF\n",
       "13   169625    2083     Norte  AC\n",
       "9   1235360   23240  Nordeste  PE\n",
       "17   505111    7527     Norte  RO\n",
       "10   438676    8445  Nordeste  PI\n",
       "22  2966219   78238   Sudeste  RJ"
      ]
     },
     "execution_count": 31,
     "metadata": {},
     "output_type": "execute_result"
    }
   ],
   "source": [
    "df.sort_index(axis=1).head()"
   ]
  },
  {
   "cell_type": "markdown",
   "metadata": {
    "id": "mFkgsLfu0QDX"
   },
   "source": [
    "## Ordenando Series Por índice"
   ]
  },
  {
   "cell_type": "code",
   "execution_count": 32,
   "metadata": {
    "colab": {
     "base_uri": "https://localhost:8080/"
    },
    "executionInfo": {
     "elapsed": 643,
     "status": "ok",
     "timestamp": 1607556118778,
     "user": {
      "displayName": "Orlando O. S.",
      "photoUrl": "https://lh3.googleusercontent.com/a-/AOh14Gj-E1yuy1M_3ruwN4TWYPK4BwysauSW7GQmHheS=s64",
      "userId": "15066502291703974467"
     },
     "user_tz": 180
    },
    "id": "lutYPZBw0QDX",
    "outputId": "6c76dfe1-ac36-4120-ac0e-060865823948"
   },
   "outputs": [
    {
     "data": {
      "text/plain": [
       "0    DF\n",
       "1    GO\n",
       "2    MS\n",
       "3    MT\n",
       "4    AL\n",
       "Name: UF, dtype: object"
      ]
     },
     "execution_count": 32,
     "metadata": {},
     "output_type": "execute_result"
    }
   ],
   "source": [
    "df['UF'].sort_index().head()"
   ]
  },
  {
   "cell_type": "markdown",
   "metadata": {
    "id": "p4nbJZy_0QDX"
   },
   "source": [
    "A classificação por índice também oferece suporte a um parâmetro key  que usa uma função que pode ser chamada para ser aplicada ao índice que está sendo classificado. "
   ]
  },
  {
   "cell_type": "code",
   "execution_count": 33,
   "metadata": {
    "colab": {
     "base_uri": "https://localhost:8080/",
     "height": 203
    },
    "executionInfo": {
     "elapsed": 789,
     "status": "ok",
     "timestamp": 1607556206929,
     "user": {
      "displayName": "Orlando O. S.",
      "photoUrl": "https://lh3.googleusercontent.com/a-/AOh14Gj-E1yuy1M_3ruwN4TWYPK4BwysauSW7GQmHheS=s64",
      "userId": "15066502291703974467"
     },
     "user_tz": 180
    },
    "id": "6W3wea_w0NoZ",
    "outputId": "81972116-0f19-44b7-ea89-84e14f57bfcd"
   },
   "outputs": [
    {
     "data": {
      "text/html": [
       "<div>\n",
       "<style scoped>\n",
       "    .dataframe tbody tr th:only-of-type {\n",
       "        vertical-align: middle;\n",
       "    }\n",
       "\n",
       "    .dataframe tbody tr th {\n",
       "        vertical-align: top;\n",
       "    }\n",
       "\n",
       "    .dataframe thead th {\n",
       "        text-align: right;\n",
       "    }\n",
       "</style>\n",
       "<table border=\"1\" class=\"dataframe\">\n",
       "  <thead>\n",
       "    <tr style=\"text-align: right;\">\n",
       "      <th></th>\n",
       "      <th>REGIAO</th>\n",
       "      <th>UF</th>\n",
       "      <th>CASOS</th>\n",
       "      <th>OBITOS</th>\n",
       "    </tr>\n",
       "  </thead>\n",
       "  <tbody>\n",
       "    <tr>\n",
       "      <th>13</th>\n",
       "      <td>Norte</td>\n",
       "      <td>AC</td>\n",
       "      <td>169625</td>\n",
       "      <td>2083</td>\n",
       "    </tr>\n",
       "    <tr>\n",
       "      <th>9</th>\n",
       "      <td>Nordeste</td>\n",
       "      <td>PE</td>\n",
       "      <td>1235360</td>\n",
       "      <td>23240</td>\n",
       "    </tr>\n",
       "    <tr>\n",
       "      <th>17</th>\n",
       "      <td>Norte</td>\n",
       "      <td>RO</td>\n",
       "      <td>505111</td>\n",
       "      <td>7527</td>\n",
       "    </tr>\n",
       "    <tr>\n",
       "      <th>10</th>\n",
       "      <td>Nordeste</td>\n",
       "      <td>PI</td>\n",
       "      <td>438676</td>\n",
       "      <td>8445</td>\n",
       "    </tr>\n",
       "    <tr>\n",
       "      <th>22</th>\n",
       "      <td>Sudeste</td>\n",
       "      <td>RJ</td>\n",
       "      <td>2966219</td>\n",
       "      <td>78238</td>\n",
       "    </tr>\n",
       "  </tbody>\n",
       "</table>\n",
       "</div>"
      ],
      "text/plain": [
       "      REGIAO  UF    CASOS  OBITOS\n",
       "13     Norte  AC   169625    2083\n",
       "9   Nordeste  PE  1235360   23240\n",
       "17     Norte  RO   505111    7527\n",
       "10  Nordeste  PI   438676    8445\n",
       "22   Sudeste  RJ  2966219   78238"
      ]
     },
     "execution_count": 33,
     "metadata": {},
     "output_type": "execute_result"
    }
   ],
   "source": [
    "df.head()"
   ]
  },
  {
   "cell_type": "code",
   "execution_count": 34,
   "metadata": {
    "colab": {
     "base_uri": "https://localhost:8080/",
     "height": 911
    },
    "executionInfo": {
     "elapsed": 832,
     "status": "ok",
     "timestamp": 1607556223427,
     "user": {
      "displayName": "Orlando O. S.",
      "photoUrl": "https://lh3.googleusercontent.com/a-/AOh14Gj-E1yuy1M_3ruwN4TWYPK4BwysauSW7GQmHheS=s64",
      "userId": "15066502291703974467"
     },
     "user_tz": 180
    },
    "id": "p053E_C40TlM",
    "outputId": "243cec85-eb15-468a-8611-ad27fe696d17"
   },
   "outputs": [
    {
     "data": {
      "text/html": [
       "<div>\n",
       "<style scoped>\n",
       "    .dataframe tbody tr th:only-of-type {\n",
       "        vertical-align: middle;\n",
       "    }\n",
       "\n",
       "    .dataframe tbody tr th {\n",
       "        vertical-align: top;\n",
       "    }\n",
       "\n",
       "    .dataframe thead th {\n",
       "        text-align: right;\n",
       "    }\n",
       "</style>\n",
       "<table border=\"1\" class=\"dataframe\">\n",
       "  <thead>\n",
       "    <tr style=\"text-align: right;\">\n",
       "      <th></th>\n",
       "      <th>REGIAO</th>\n",
       "      <th>CASOS</th>\n",
       "      <th>OBITOS</th>\n",
       "    </tr>\n",
       "    <tr>\n",
       "      <th>UF</th>\n",
       "      <th></th>\n",
       "      <th></th>\n",
       "      <th></th>\n",
       "    </tr>\n",
       "  </thead>\n",
       "  <tbody>\n",
       "    <tr>\n",
       "      <th>AC</th>\n",
       "      <td>Norte</td>\n",
       "      <td>169625</td>\n",
       "      <td>2083</td>\n",
       "    </tr>\n",
       "    <tr>\n",
       "      <th>PE</th>\n",
       "      <td>Nordeste</td>\n",
       "      <td>1235360</td>\n",
       "      <td>23240</td>\n",
       "    </tr>\n",
       "    <tr>\n",
       "      <th>RO</th>\n",
       "      <td>Norte</td>\n",
       "      <td>505111</td>\n",
       "      <td>7527</td>\n",
       "    </tr>\n",
       "    <tr>\n",
       "      <th>PI</th>\n",
       "      <td>Nordeste</td>\n",
       "      <td>438676</td>\n",
       "      <td>8445</td>\n",
       "    </tr>\n",
       "    <tr>\n",
       "      <th>RJ</th>\n",
       "      <td>Sudeste</td>\n",
       "      <td>2966219</td>\n",
       "      <td>78238</td>\n",
       "    </tr>\n",
       "    <tr>\n",
       "      <th>MS</th>\n",
       "      <td>Centro-Oeste</td>\n",
       "      <td>637169</td>\n",
       "      <td>11305</td>\n",
       "    </tr>\n",
       "    <tr>\n",
       "      <th>AM</th>\n",
       "      <td>Norte</td>\n",
       "      <td>643745</td>\n",
       "      <td>14531</td>\n",
       "    </tr>\n",
       "    <tr>\n",
       "      <th>MG</th>\n",
       "      <td>Sudeste</td>\n",
       "      <td>4335714</td>\n",
       "      <td>66850</td>\n",
       "    </tr>\n",
       "    <tr>\n",
       "      <th>SC</th>\n",
       "      <td>Sul</td>\n",
       "      <td>2089867</td>\n",
       "      <td>23145</td>\n",
       "    </tr>\n",
       "    <tr>\n",
       "      <th>RS</th>\n",
       "      <td>Sul</td>\n",
       "      <td>3144956</td>\n",
       "      <td>43044</td>\n",
       "    </tr>\n",
       "    <tr>\n",
       "      <th>PR</th>\n",
       "      <td>Sul</td>\n",
       "      <td>3031840</td>\n",
       "      <td>47029</td>\n",
       "    </tr>\n",
       "    <tr>\n",
       "      <th>PA</th>\n",
       "      <td>Norte</td>\n",
       "      <td>901045</td>\n",
       "      <td>19291</td>\n",
       "    </tr>\n",
       "    <tr>\n",
       "      <th>MA</th>\n",
       "      <td>Nordeste</td>\n",
       "      <td>501121</td>\n",
       "      <td>11103</td>\n",
       "    </tr>\n",
       "    <tr>\n",
       "      <th>SE</th>\n",
       "      <td>Nordeste</td>\n",
       "      <td>368073</td>\n",
       "      <td>6575</td>\n",
       "    </tr>\n",
       "    <tr>\n",
       "      <th>AP</th>\n",
       "      <td>Norte</td>\n",
       "      <td>191877</td>\n",
       "      <td>2175</td>\n",
       "    </tr>\n",
       "    <tr>\n",
       "      <th>CE</th>\n",
       "      <td>Nordeste</td>\n",
       "      <td>1508135</td>\n",
       "      <td>28215</td>\n",
       "    </tr>\n",
       "    <tr>\n",
       "      <th>ES</th>\n",
       "      <td>Sudeste</td>\n",
       "      <td>1384800</td>\n",
       "      <td>15214</td>\n",
       "    </tr>\n",
       "    <tr>\n",
       "      <th>BA</th>\n",
       "      <td>Nordeste</td>\n",
       "      <td>1844481</td>\n",
       "      <td>32034</td>\n",
       "    </tr>\n",
       "    <tr>\n",
       "      <th>DF</th>\n",
       "      <td>Centro-Oeste</td>\n",
       "      <td>955540</td>\n",
       "      <td>12025</td>\n",
       "    </tr>\n",
       "    <tr>\n",
       "      <th>PB</th>\n",
       "      <td>Nordeste</td>\n",
       "      <td>725917</td>\n",
       "      <td>10669</td>\n",
       "    </tr>\n",
       "    <tr>\n",
       "      <th>MT</th>\n",
       "      <td>Centro-Oeste</td>\n",
       "      <td>921447</td>\n",
       "      <td>15253</td>\n",
       "    </tr>\n",
       "    <tr>\n",
       "      <th>AL</th>\n",
       "      <td>Nordeste</td>\n",
       "      <td>348701</td>\n",
       "      <td>7355</td>\n",
       "    </tr>\n",
       "    <tr>\n",
       "      <th>TO</th>\n",
       "      <td>Norte</td>\n",
       "      <td>382320</td>\n",
       "      <td>4305</td>\n",
       "    </tr>\n",
       "    <tr>\n",
       "      <th>RR</th>\n",
       "      <td>Norte</td>\n",
       "      <td>190318</td>\n",
       "      <td>2202</td>\n",
       "    </tr>\n",
       "    <tr>\n",
       "      <th>GO</th>\n",
       "      <td>Centro-Oeste</td>\n",
       "      <td>2060518</td>\n",
       "      <td>28669</td>\n",
       "    </tr>\n",
       "    <tr>\n",
       "      <th>RN</th>\n",
       "      <td>Nordeste</td>\n",
       "      <td>601493</td>\n",
       "      <td>9321</td>\n",
       "    </tr>\n",
       "    <tr>\n",
       "      <th>SP</th>\n",
       "      <td>Sudeste</td>\n",
       "      <td>6907741</td>\n",
       "      <td>184235</td>\n",
       "    </tr>\n",
       "  </tbody>\n",
       "</table>\n",
       "</div>"
      ],
      "text/plain": [
       "          REGIAO    CASOS  OBITOS\n",
       "UF                               \n",
       "AC         Norte   169625    2083\n",
       "PE      Nordeste  1235360   23240\n",
       "RO         Norte   505111    7527\n",
       "PI      Nordeste   438676    8445\n",
       "RJ       Sudeste  2966219   78238\n",
       "MS  Centro-Oeste   637169   11305\n",
       "AM         Norte   643745   14531\n",
       "MG       Sudeste  4335714   66850\n",
       "SC           Sul  2089867   23145\n",
       "RS           Sul  3144956   43044\n",
       "PR           Sul  3031840   47029\n",
       "PA         Norte   901045   19291\n",
       "MA      Nordeste   501121   11103\n",
       "SE      Nordeste   368073    6575\n",
       "AP         Norte   191877    2175\n",
       "CE      Nordeste  1508135   28215\n",
       "ES       Sudeste  1384800   15214\n",
       "BA      Nordeste  1844481   32034\n",
       "DF  Centro-Oeste   955540   12025\n",
       "PB      Nordeste   725917   10669\n",
       "MT  Centro-Oeste   921447   15253\n",
       "AL      Nordeste   348701    7355\n",
       "TO         Norte   382320    4305\n",
       "RR         Norte   190318    2202\n",
       "GO  Centro-Oeste  2060518   28669\n",
       "RN      Nordeste   601493    9321\n",
       "SP       Sudeste  6907741  184235"
      ]
     },
     "execution_count": 34,
     "metadata": {},
     "output_type": "execute_result"
    }
   ],
   "source": [
    "df.set_index('UF')"
   ]
  },
  {
   "cell_type": "code",
   "execution_count": 35,
   "metadata": {
    "colab": {
     "base_uri": "https://localhost:8080/",
     "height": 387
    },
    "executionInfo": {
     "elapsed": 782,
     "status": "ok",
     "timestamp": 1607556644793,
     "user": {
      "displayName": "Orlando O. S.",
      "photoUrl": "https://lh3.googleusercontent.com/a-/AOh14Gj-E1yuy1M_3ruwN4TWYPK4BwysauSW7GQmHheS=s64",
      "userId": "15066502291703974467"
     },
     "user_tz": 180
    },
    "id": "-2xkoPDE0QDX",
    "outputId": "2383ff01-5ca7-4476-a717-bc50587c205d"
   },
   "outputs": [
    {
     "data": {
      "text/html": [
       "<div>\n",
       "<style scoped>\n",
       "    .dataframe tbody tr th:only-of-type {\n",
       "        vertical-align: middle;\n",
       "    }\n",
       "\n",
       "    .dataframe tbody tr th {\n",
       "        vertical-align: top;\n",
       "    }\n",
       "\n",
       "    .dataframe thead th {\n",
       "        text-align: right;\n",
       "    }\n",
       "</style>\n",
       "<table border=\"1\" class=\"dataframe\">\n",
       "  <thead>\n",
       "    <tr style=\"text-align: right;\">\n",
       "      <th></th>\n",
       "      <th>REGIAO</th>\n",
       "      <th>CASOS</th>\n",
       "      <th>OBITOS</th>\n",
       "    </tr>\n",
       "    <tr>\n",
       "      <th>UF</th>\n",
       "      <th></th>\n",
       "      <th></th>\n",
       "      <th></th>\n",
       "    </tr>\n",
       "  </thead>\n",
       "  <tbody>\n",
       "    <tr>\n",
       "      <th>BA</th>\n",
       "      <td>Nordeste</td>\n",
       "      <td>1844481</td>\n",
       "      <td>32034</td>\n",
       "    </tr>\n",
       "    <tr>\n",
       "      <th>MA</th>\n",
       "      <td>Nordeste</td>\n",
       "      <td>501121</td>\n",
       "      <td>11103</td>\n",
       "    </tr>\n",
       "    <tr>\n",
       "      <th>PA</th>\n",
       "      <td>Norte</td>\n",
       "      <td>901045</td>\n",
       "      <td>19291</td>\n",
       "    </tr>\n",
       "    <tr>\n",
       "      <th>PB</th>\n",
       "      <td>Nordeste</td>\n",
       "      <td>725917</td>\n",
       "      <td>10669</td>\n",
       "    </tr>\n",
       "    <tr>\n",
       "      <th>AC</th>\n",
       "      <td>Norte</td>\n",
       "      <td>169625</td>\n",
       "      <td>2083</td>\n",
       "    </tr>\n",
       "    <tr>\n",
       "      <th>SC</th>\n",
       "      <td>Sul</td>\n",
       "      <td>2089867</td>\n",
       "      <td>23145</td>\n",
       "    </tr>\n",
       "    <tr>\n",
       "      <th>CE</th>\n",
       "      <td>Nordeste</td>\n",
       "      <td>1508135</td>\n",
       "      <td>28215</td>\n",
       "    </tr>\n",
       "    <tr>\n",
       "      <th>SE</th>\n",
       "      <td>Nordeste</td>\n",
       "      <td>368073</td>\n",
       "      <td>6575</td>\n",
       "    </tr>\n",
       "    <tr>\n",
       "      <th>PE</th>\n",
       "      <td>Nordeste</td>\n",
       "      <td>1235360</td>\n",
       "      <td>23240</td>\n",
       "    </tr>\n",
       "    <tr>\n",
       "      <th>DF</th>\n",
       "      <td>Centro-Oeste</td>\n",
       "      <td>955540</td>\n",
       "      <td>12025</td>\n",
       "    </tr>\n",
       "  </tbody>\n",
       "</table>\n",
       "</div>"
      ],
      "text/plain": [
       "          REGIAO    CASOS  OBITOS\n",
       "UF                               \n",
       "BA      Nordeste  1844481   32034\n",
       "MA      Nordeste   501121   11103\n",
       "PA         Norte   901045   19291\n",
       "PB      Nordeste   725917   10669\n",
       "AC         Norte   169625    2083\n",
       "SC           Sul  2089867   23145\n",
       "CE      Nordeste  1508135   28215\n",
       "SE      Nordeste   368073    6575\n",
       "PE      Nordeste  1235360   23240\n",
       "DF  Centro-Oeste   955540   12025"
      ]
     },
     "execution_count": 35,
     "metadata": {},
     "output_type": "execute_result"
    }
   ],
   "source": [
    "df.set_index('UF').sort_index(key=lambda idx: [x[1] for x in  idx]).head(10)"
   ]
  },
  {
   "cell_type": "markdown",
   "metadata": {
    "id": "nHSJg2XT0QDX"
   },
   "source": [
    "### Ordenando DataFrames Por valores \n",
    "\n",
    "O método Series.sort_values() é usado para classificar uma série por seus valores. \n",
    "\n",
    "O método DataFrame.sort_values() é usado para classificar um DataFrame por seus valores de coluna ou linha. \n",
    "\n",
    "\n",
    "O parâmetro opcional by para DataFrame.sort_values()pode ser usado para especificar uma ou mais colunas a serem usadas para determinar a ordem de classificação."
   ]
  },
  {
   "cell_type": "code",
   "execution_count": 36,
   "metadata": {
    "colab": {
     "base_uri": "https://localhost:8080/",
     "height": 203
    },
    "executionInfo": {
     "elapsed": 746,
     "status": "ok",
     "timestamp": 1607556691596,
     "user": {
      "displayName": "Orlando O. S.",
      "photoUrl": "https://lh3.googleusercontent.com/a-/AOh14Gj-E1yuy1M_3ruwN4TWYPK4BwysauSW7GQmHheS=s64",
      "userId": "15066502291703974467"
     },
     "user_tz": 180
    },
    "id": "qlmG5awI0QDX",
    "outputId": "25dd2d53-4866-4431-c7d1-46800254b5d3"
   },
   "outputs": [
    {
     "data": {
      "text/html": [
       "<div>\n",
       "<style scoped>\n",
       "    .dataframe tbody tr th:only-of-type {\n",
       "        vertical-align: middle;\n",
       "    }\n",
       "\n",
       "    .dataframe tbody tr th {\n",
       "        vertical-align: top;\n",
       "    }\n",
       "\n",
       "    .dataframe thead th {\n",
       "        text-align: right;\n",
       "    }\n",
       "</style>\n",
       "<table border=\"1\" class=\"dataframe\">\n",
       "  <thead>\n",
       "    <tr style=\"text-align: right;\">\n",
       "      <th></th>\n",
       "      <th>REGIAO</th>\n",
       "      <th>UF</th>\n",
       "      <th>CASOS</th>\n",
       "      <th>OBITOS</th>\n",
       "    </tr>\n",
       "  </thead>\n",
       "  <tbody>\n",
       "    <tr>\n",
       "      <th>13</th>\n",
       "      <td>Norte</td>\n",
       "      <td>AC</td>\n",
       "      <td>169625</td>\n",
       "      <td>2083</td>\n",
       "    </tr>\n",
       "    <tr>\n",
       "      <th>4</th>\n",
       "      <td>Nordeste</td>\n",
       "      <td>AL</td>\n",
       "      <td>348701</td>\n",
       "      <td>7355</td>\n",
       "    </tr>\n",
       "    <tr>\n",
       "      <th>14</th>\n",
       "      <td>Norte</td>\n",
       "      <td>AM</td>\n",
       "      <td>643745</td>\n",
       "      <td>14531</td>\n",
       "    </tr>\n",
       "    <tr>\n",
       "      <th>15</th>\n",
       "      <td>Norte</td>\n",
       "      <td>AP</td>\n",
       "      <td>191877</td>\n",
       "      <td>2175</td>\n",
       "    </tr>\n",
       "    <tr>\n",
       "      <th>5</th>\n",
       "      <td>Nordeste</td>\n",
       "      <td>BA</td>\n",
       "      <td>1844481</td>\n",
       "      <td>32034</td>\n",
       "    </tr>\n",
       "  </tbody>\n",
       "</table>\n",
       "</div>"
      ],
      "text/plain": [
       "      REGIAO  UF    CASOS  OBITOS\n",
       "13     Norte  AC   169625    2083\n",
       "4   Nordeste  AL   348701    7355\n",
       "14     Norte  AM   643745   14531\n",
       "15     Norte  AP   191877    2175\n",
       "5   Nordeste  BA  1844481   32034"
      ]
     },
     "execution_count": 36,
     "metadata": {},
     "output_type": "execute_result"
    }
   ],
   "source": [
    "df.sort_values(by='UF').head()"
   ]
  },
  {
   "cell_type": "markdown",
   "metadata": {
    "id": "OQ_hhisl0QDX"
   },
   "source": [
    "O byparâmetro pode levar uma lista de nomes de coluna, por exemplo:"
   ]
  },
  {
   "cell_type": "code",
   "execution_count": 37,
   "metadata": {
    "colab": {
     "base_uri": "https://localhost:8080/",
     "height": 203
    },
    "executionInfo": {
     "elapsed": 696,
     "status": "ok",
     "timestamp": 1607556700036,
     "user": {
      "displayName": "Orlando O. S.",
      "photoUrl": "https://lh3.googleusercontent.com/a-/AOh14Gj-E1yuy1M_3ruwN4TWYPK4BwysauSW7GQmHheS=s64",
      "userId": "15066502291703974467"
     },
     "user_tz": 180
    },
    "id": "xh5JBCsP0QDX",
    "outputId": "1324bace-b99d-4063-d69e-0fe4d5fd7338"
   },
   "outputs": [
    {
     "data": {
      "text/html": [
       "<div>\n",
       "<style scoped>\n",
       "    .dataframe tbody tr th:only-of-type {\n",
       "        vertical-align: middle;\n",
       "    }\n",
       "\n",
       "    .dataframe tbody tr th {\n",
       "        vertical-align: top;\n",
       "    }\n",
       "\n",
       "    .dataframe thead th {\n",
       "        text-align: right;\n",
       "    }\n",
       "</style>\n",
       "<table border=\"1\" class=\"dataframe\">\n",
       "  <thead>\n",
       "    <tr style=\"text-align: right;\">\n",
       "      <th></th>\n",
       "      <th>REGIAO</th>\n",
       "      <th>UF</th>\n",
       "      <th>CASOS</th>\n",
       "      <th>OBITOS</th>\n",
       "    </tr>\n",
       "  </thead>\n",
       "  <tbody>\n",
       "    <tr>\n",
       "      <th>0</th>\n",
       "      <td>Centro-Oeste</td>\n",
       "      <td>DF</td>\n",
       "      <td>955540</td>\n",
       "      <td>12025</td>\n",
       "    </tr>\n",
       "    <tr>\n",
       "      <th>1</th>\n",
       "      <td>Centro-Oeste</td>\n",
       "      <td>GO</td>\n",
       "      <td>2060518</td>\n",
       "      <td>28669</td>\n",
       "    </tr>\n",
       "    <tr>\n",
       "      <th>2</th>\n",
       "      <td>Centro-Oeste</td>\n",
       "      <td>MS</td>\n",
       "      <td>637169</td>\n",
       "      <td>11305</td>\n",
       "    </tr>\n",
       "    <tr>\n",
       "      <th>3</th>\n",
       "      <td>Centro-Oeste</td>\n",
       "      <td>MT</td>\n",
       "      <td>921447</td>\n",
       "      <td>15253</td>\n",
       "    </tr>\n",
       "    <tr>\n",
       "      <th>4</th>\n",
       "      <td>Nordeste</td>\n",
       "      <td>AL</td>\n",
       "      <td>348701</td>\n",
       "      <td>7355</td>\n",
       "    </tr>\n",
       "  </tbody>\n",
       "</table>\n",
       "</div>"
      ],
      "text/plain": [
       "         REGIAO  UF    CASOS  OBITOS\n",
       "0  Centro-Oeste  DF   955540   12025\n",
       "1  Centro-Oeste  GO  2060518   28669\n",
       "2  Centro-Oeste  MS   637169   11305\n",
       "3  Centro-Oeste  MT   921447   15253\n",
       "4      Nordeste  AL   348701    7355"
      ]
     },
     "execution_count": 37,
     "metadata": {},
     "output_type": "execute_result"
    }
   ],
   "source": [
    "df.sort_values(by=['REGIAO','UF']).head()"
   ]
  },
  {
   "cell_type": "markdown",
   "metadata": {
    "id": "Hw5Gm3B40QDX"
   },
   "source": [
    "Esses métodos têm tratamento especial de valores NA por meio do na_position argumento:"
   ]
  },
  {
   "cell_type": "code",
   "execution_count": 38,
   "metadata": {
    "colab": {
     "base_uri": "https://localhost:8080/",
     "height": 203
    },
    "executionInfo": {
     "elapsed": 733,
     "status": "ok",
     "timestamp": 1607556725595,
     "user": {
      "displayName": "Orlando O. S.",
      "photoUrl": "https://lh3.googleusercontent.com/a-/AOh14Gj-E1yuy1M_3ruwN4TWYPK4BwysauSW7GQmHheS=s64",
      "userId": "15066502291703974467"
     },
     "user_tz": 180
    },
    "id": "5KJbAZr2kDW2",
    "outputId": "897b1f37-81bd-4101-d9a4-ac5f36c8f0e5"
   },
   "outputs": [
    {
     "data": {
      "text/html": [
       "<div>\n",
       "<style scoped>\n",
       "    .dataframe tbody tr th:only-of-type {\n",
       "        vertical-align: middle;\n",
       "    }\n",
       "\n",
       "    .dataframe tbody tr th {\n",
       "        vertical-align: top;\n",
       "    }\n",
       "\n",
       "    .dataframe thead th {\n",
       "        text-align: right;\n",
       "    }\n",
       "</style>\n",
       "<table border=\"1\" class=\"dataframe\">\n",
       "  <thead>\n",
       "    <tr style=\"text-align: right;\">\n",
       "      <th></th>\n",
       "      <th>REGIAO</th>\n",
       "      <th>UF</th>\n",
       "      <th>CASOS</th>\n",
       "      <th>OBITOS</th>\n",
       "    </tr>\n",
       "  </thead>\n",
       "  <tbody>\n",
       "    <tr>\n",
       "      <th>0</th>\n",
       "      <td>Centro-Oeste</td>\n",
       "      <td>DF</td>\n",
       "      <td>955540</td>\n",
       "      <td>12025</td>\n",
       "    </tr>\n",
       "    <tr>\n",
       "      <th>1</th>\n",
       "      <td>Centro-Oeste</td>\n",
       "      <td>GO</td>\n",
       "      <td>2060518</td>\n",
       "      <td>28669</td>\n",
       "    </tr>\n",
       "    <tr>\n",
       "      <th>2</th>\n",
       "      <td>Centro-Oeste</td>\n",
       "      <td>MS</td>\n",
       "      <td>637169</td>\n",
       "      <td>11305</td>\n",
       "    </tr>\n",
       "    <tr>\n",
       "      <th>3</th>\n",
       "      <td>Centro-Oeste</td>\n",
       "      <td>MT</td>\n",
       "      <td>921447</td>\n",
       "      <td>15253</td>\n",
       "    </tr>\n",
       "    <tr>\n",
       "      <th>4</th>\n",
       "      <td>Nordeste</td>\n",
       "      <td>AL</td>\n",
       "      <td>348701</td>\n",
       "      <td>7355</td>\n",
       "    </tr>\n",
       "  </tbody>\n",
       "</table>\n",
       "</div>"
      ],
      "text/plain": [
       "         REGIAO  UF    CASOS  OBITOS\n",
       "0  Centro-Oeste  DF   955540   12025\n",
       "1  Centro-Oeste  GO  2060518   28669\n",
       "2  Centro-Oeste  MS   637169   11305\n",
       "3  Centro-Oeste  MT   921447   15253\n",
       "4      Nordeste  AL   348701    7355"
      ]
     },
     "execution_count": 38,
     "metadata": {},
     "output_type": "execute_result"
    }
   ],
   "source": [
    "df = pd.read_csv('totaisestadoscomregiao_arr.csv', sep=';',names =['REGIAO', 'UF', 'CASOS','OBITOS'], index_col=False)\n",
    "df.head()"
   ]
  },
  {
   "cell_type": "code",
   "execution_count": 39,
   "metadata": {
    "id": "yUxh-Jvu0QDX"
   },
   "outputs": [],
   "source": [
    "df.loc[ 20 , ['OBITOS']] = np.nan\n",
    "df.loc[ 26 , ['OBITOS']] = np.nan"
   ]
  },
  {
   "cell_type": "code",
   "execution_count": 40,
   "metadata": {
    "colab": {
     "base_uri": "https://localhost:8080/",
     "height": 203
    },
    "executionInfo": {
     "elapsed": 738,
     "status": "ok",
     "timestamp": 1607556761562,
     "user": {
      "displayName": "Orlando O. S.",
      "photoUrl": "https://lh3.googleusercontent.com/a-/AOh14Gj-E1yuy1M_3ruwN4TWYPK4BwysauSW7GQmHheS=s64",
      "userId": "15066502291703974467"
     },
     "user_tz": 180
    },
    "id": "PTH1mwev0QDX",
    "outputId": "462b7608-1d99-4899-fc11-e465c5fccb58"
   },
   "outputs": [
    {
     "data": {
      "text/html": [
       "<div>\n",
       "<style scoped>\n",
       "    .dataframe tbody tr th:only-of-type {\n",
       "        vertical-align: middle;\n",
       "    }\n",
       "\n",
       "    .dataframe tbody tr th {\n",
       "        vertical-align: top;\n",
       "    }\n",
       "\n",
       "    .dataframe thead th {\n",
       "        text-align: right;\n",
       "    }\n",
       "</style>\n",
       "<table border=\"1\" class=\"dataframe\">\n",
       "  <thead>\n",
       "    <tr style=\"text-align: right;\">\n",
       "      <th></th>\n",
       "      <th>REGIAO</th>\n",
       "      <th>UF</th>\n",
       "      <th>CASOS</th>\n",
       "      <th>OBITOS</th>\n",
       "    </tr>\n",
       "  </thead>\n",
       "  <tbody>\n",
       "    <tr>\n",
       "      <th>20</th>\n",
       "      <td>Sudeste</td>\n",
       "      <td>ES</td>\n",
       "      <td>1384800</td>\n",
       "      <td>NaN</td>\n",
       "    </tr>\n",
       "    <tr>\n",
       "      <th>26</th>\n",
       "      <td>Sul</td>\n",
       "      <td>SC</td>\n",
       "      <td>2089867</td>\n",
       "      <td>NaN</td>\n",
       "    </tr>\n",
       "    <tr>\n",
       "      <th>13</th>\n",
       "      <td>Norte</td>\n",
       "      <td>AC</td>\n",
       "      <td>169625</td>\n",
       "      <td>2083.0</td>\n",
       "    </tr>\n",
       "    <tr>\n",
       "      <th>15</th>\n",
       "      <td>Norte</td>\n",
       "      <td>AP</td>\n",
       "      <td>191877</td>\n",
       "      <td>2175.0</td>\n",
       "    </tr>\n",
       "    <tr>\n",
       "      <th>18</th>\n",
       "      <td>Norte</td>\n",
       "      <td>RR</td>\n",
       "      <td>190318</td>\n",
       "      <td>2202.0</td>\n",
       "    </tr>\n",
       "  </tbody>\n",
       "</table>\n",
       "</div>"
      ],
      "text/plain": [
       "     REGIAO  UF    CASOS  OBITOS\n",
       "20  Sudeste  ES  1384800     NaN\n",
       "26      Sul  SC  2089867     NaN\n",
       "13    Norte  AC   169625  2083.0\n",
       "15    Norte  AP   191877  2175.0\n",
       "18    Norte  RR   190318  2202.0"
      ]
     },
     "execution_count": 40,
     "metadata": {},
     "output_type": "execute_result"
    }
   ],
   "source": [
    "df.sort_values(by='OBITOS', na_position='first').head()"
   ]
  },
  {
   "cell_type": "markdown",
   "metadata": {
    "id": "P6ZCjnoD0QDX"
   },
   "source": [
    "A classificação também oferece suporte a um parâmetro key   que usa uma função chamável para aplicar aos valores que estão sendo classificados."
   ]
  },
  {
   "cell_type": "code",
   "execution_count": 41,
   "metadata": {
    "colab": {
     "base_uri": "https://localhost:8080/"
    },
    "executionInfo": {
     "elapsed": 680,
     "status": "ok",
     "timestamp": 1607556783701,
     "user": {
      "displayName": "Orlando O. S.",
      "photoUrl": "https://lh3.googleusercontent.com/a-/AOh14Gj-E1yuy1M_3ruwN4TWYPK4BwysauSW7GQmHheS=s64",
      "userId": "15066502291703974467"
     },
     "user_tz": 180
    },
    "id": "QHvwkQdW0QDX",
    "outputId": "39ac1262-1b89-4b53-e889-9cc7ef739bdc"
   },
   "outputs": [
    {
     "data": {
      "text/plain": [
       "23    6907741\n",
       "21    4335714\n",
       "25    3144956\n",
       "24    3031840\n",
       "22    2966219\n",
       "26    2089867\n",
       "1     2060518\n",
       "5     1844481\n",
       "6     1508135\n",
       "20    1384800\n",
       "9     1235360\n",
       "16     901045\n",
       "0      955540\n",
       "3      921447\n",
       "8      725917\n",
       "14     643745\n",
       "11     601493\n",
       "2      637169\n",
       "17     505111\n",
       "7      501121\n",
       "10     438676\n",
       "12     368073\n",
       "19     382320\n",
       "4      348701\n",
       "15     191877\n",
       "18     190318\n",
       "13     169625\n",
       "Name: CASOS, dtype: int64"
      ]
     },
     "execution_count": 41,
     "metadata": {},
     "output_type": "execute_result"
    }
   ],
   "source": [
    "df['CASOS'].sort_values(key=lambda x: x//100_000, ascending=False)"
   ]
  },
  {
   "cell_type": "markdown",
   "metadata": {
    "id": "b4JX2qhN0QDX"
   },
   "source": [
    "A chave receberá os Series valores de e deve retornar um Series ou array da mesma forma com os valores transformados. Para objetos DataFrame , a chave é aplicada por coluna, então a chave ainda deve esperar uma série e retornar uma série, por exemplo"
   ]
  },
  {
   "cell_type": "code",
   "execution_count": 42,
   "metadata": {
    "colab": {
     "base_uri": "https://localhost:8080/",
     "height": 880
    },
    "executionInfo": {
     "elapsed": 685,
     "status": "ok",
     "timestamp": 1607556836610,
     "user": {
      "displayName": "Orlando O. S.",
      "photoUrl": "https://lh3.googleusercontent.com/a-/AOh14Gj-E1yuy1M_3ruwN4TWYPK4BwysauSW7GQmHheS=s64",
      "userId": "15066502291703974467"
     },
     "user_tz": 180
    },
    "id": "MNBXUOMg0QDX",
    "outputId": "ad9f67d5-59d0-482f-a86a-3ce2aaef2a5d"
   },
   "outputs": [
    {
     "data": {
      "text/html": [
       "<div>\n",
       "<style scoped>\n",
       "    .dataframe tbody tr th:only-of-type {\n",
       "        vertical-align: middle;\n",
       "    }\n",
       "\n",
       "    .dataframe tbody tr th {\n",
       "        vertical-align: top;\n",
       "    }\n",
       "\n",
       "    .dataframe thead th {\n",
       "        text-align: right;\n",
       "    }\n",
       "</style>\n",
       "<table border=\"1\" class=\"dataframe\">\n",
       "  <thead>\n",
       "    <tr style=\"text-align: right;\">\n",
       "      <th></th>\n",
       "      <th>REGIAO</th>\n",
       "      <th>UF</th>\n",
       "      <th>CASOS</th>\n",
       "      <th>OBITOS</th>\n",
       "    </tr>\n",
       "  </thead>\n",
       "  <tbody>\n",
       "    <tr>\n",
       "      <th>23</th>\n",
       "      <td>Sudeste</td>\n",
       "      <td>SP</td>\n",
       "      <td>6907741</td>\n",
       "      <td>184235.0</td>\n",
       "    </tr>\n",
       "    <tr>\n",
       "      <th>21</th>\n",
       "      <td>Sudeste</td>\n",
       "      <td>MG</td>\n",
       "      <td>4335714</td>\n",
       "      <td>66850.0</td>\n",
       "    </tr>\n",
       "    <tr>\n",
       "      <th>25</th>\n",
       "      <td>Sul</td>\n",
       "      <td>RS</td>\n",
       "      <td>3144956</td>\n",
       "      <td>43044.0</td>\n",
       "    </tr>\n",
       "    <tr>\n",
       "      <th>24</th>\n",
       "      <td>Sul</td>\n",
       "      <td>PR</td>\n",
       "      <td>3031840</td>\n",
       "      <td>47029.0</td>\n",
       "    </tr>\n",
       "    <tr>\n",
       "      <th>22</th>\n",
       "      <td>Sudeste</td>\n",
       "      <td>RJ</td>\n",
       "      <td>2966219</td>\n",
       "      <td>78238.0</td>\n",
       "    </tr>\n",
       "    <tr>\n",
       "      <th>26</th>\n",
       "      <td>Sul</td>\n",
       "      <td>SC</td>\n",
       "      <td>2089867</td>\n",
       "      <td>NaN</td>\n",
       "    </tr>\n",
       "    <tr>\n",
       "      <th>1</th>\n",
       "      <td>Centro-Oeste</td>\n",
       "      <td>GO</td>\n",
       "      <td>2060518</td>\n",
       "      <td>28669.0</td>\n",
       "    </tr>\n",
       "    <tr>\n",
       "      <th>5</th>\n",
       "      <td>Nordeste</td>\n",
       "      <td>BA</td>\n",
       "      <td>1844481</td>\n",
       "      <td>32034.0</td>\n",
       "    </tr>\n",
       "    <tr>\n",
       "      <th>6</th>\n",
       "      <td>Nordeste</td>\n",
       "      <td>CE</td>\n",
       "      <td>1508135</td>\n",
       "      <td>28215.0</td>\n",
       "    </tr>\n",
       "    <tr>\n",
       "      <th>20</th>\n",
       "      <td>Sudeste</td>\n",
       "      <td>ES</td>\n",
       "      <td>1384800</td>\n",
       "      <td>NaN</td>\n",
       "    </tr>\n",
       "    <tr>\n",
       "      <th>9</th>\n",
       "      <td>Nordeste</td>\n",
       "      <td>PE</td>\n",
       "      <td>1235360</td>\n",
       "      <td>23240.0</td>\n",
       "    </tr>\n",
       "    <tr>\n",
       "      <th>16</th>\n",
       "      <td>Norte</td>\n",
       "      <td>PA</td>\n",
       "      <td>901045</td>\n",
       "      <td>19291.0</td>\n",
       "    </tr>\n",
       "    <tr>\n",
       "      <th>0</th>\n",
       "      <td>Centro-Oeste</td>\n",
       "      <td>DF</td>\n",
       "      <td>955540</td>\n",
       "      <td>12025.0</td>\n",
       "    </tr>\n",
       "    <tr>\n",
       "      <th>3</th>\n",
       "      <td>Centro-Oeste</td>\n",
       "      <td>MT</td>\n",
       "      <td>921447</td>\n",
       "      <td>15253.0</td>\n",
       "    </tr>\n",
       "    <tr>\n",
       "      <th>8</th>\n",
       "      <td>Nordeste</td>\n",
       "      <td>PB</td>\n",
       "      <td>725917</td>\n",
       "      <td>10669.0</td>\n",
       "    </tr>\n",
       "    <tr>\n",
       "      <th>14</th>\n",
       "      <td>Norte</td>\n",
       "      <td>AM</td>\n",
       "      <td>643745</td>\n",
       "      <td>14531.0</td>\n",
       "    </tr>\n",
       "    <tr>\n",
       "      <th>11</th>\n",
       "      <td>Nordeste</td>\n",
       "      <td>RN</td>\n",
       "      <td>601493</td>\n",
       "      <td>9321.0</td>\n",
       "    </tr>\n",
       "    <tr>\n",
       "      <th>2</th>\n",
       "      <td>Centro-Oeste</td>\n",
       "      <td>MS</td>\n",
       "      <td>637169</td>\n",
       "      <td>11305.0</td>\n",
       "    </tr>\n",
       "    <tr>\n",
       "      <th>17</th>\n",
       "      <td>Norte</td>\n",
       "      <td>RO</td>\n",
       "      <td>505111</td>\n",
       "      <td>7527.0</td>\n",
       "    </tr>\n",
       "    <tr>\n",
       "      <th>7</th>\n",
       "      <td>Nordeste</td>\n",
       "      <td>MA</td>\n",
       "      <td>501121</td>\n",
       "      <td>11103.0</td>\n",
       "    </tr>\n",
       "    <tr>\n",
       "      <th>10</th>\n",
       "      <td>Nordeste</td>\n",
       "      <td>PI</td>\n",
       "      <td>438676</td>\n",
       "      <td>8445.0</td>\n",
       "    </tr>\n",
       "    <tr>\n",
       "      <th>12</th>\n",
       "      <td>Nordeste</td>\n",
       "      <td>SE</td>\n",
       "      <td>368073</td>\n",
       "      <td>6575.0</td>\n",
       "    </tr>\n",
       "    <tr>\n",
       "      <th>19</th>\n",
       "      <td>Norte</td>\n",
       "      <td>TO</td>\n",
       "      <td>382320</td>\n",
       "      <td>4305.0</td>\n",
       "    </tr>\n",
       "    <tr>\n",
       "      <th>4</th>\n",
       "      <td>Nordeste</td>\n",
       "      <td>AL</td>\n",
       "      <td>348701</td>\n",
       "      <td>7355.0</td>\n",
       "    </tr>\n",
       "    <tr>\n",
       "      <th>15</th>\n",
       "      <td>Norte</td>\n",
       "      <td>AP</td>\n",
       "      <td>191877</td>\n",
       "      <td>2175.0</td>\n",
       "    </tr>\n",
       "    <tr>\n",
       "      <th>18</th>\n",
       "      <td>Norte</td>\n",
       "      <td>RR</td>\n",
       "      <td>190318</td>\n",
       "      <td>2202.0</td>\n",
       "    </tr>\n",
       "    <tr>\n",
       "      <th>13</th>\n",
       "      <td>Norte</td>\n",
       "      <td>AC</td>\n",
       "      <td>169625</td>\n",
       "      <td>2083.0</td>\n",
       "    </tr>\n",
       "  </tbody>\n",
       "</table>\n",
       "</div>"
      ],
      "text/plain": [
       "          REGIAO  UF    CASOS    OBITOS\n",
       "23       Sudeste  SP  6907741  184235.0\n",
       "21       Sudeste  MG  4335714   66850.0\n",
       "25           Sul  RS  3144956   43044.0\n",
       "24           Sul  PR  3031840   47029.0\n",
       "22       Sudeste  RJ  2966219   78238.0\n",
       "26           Sul  SC  2089867       NaN\n",
       "1   Centro-Oeste  GO  2060518   28669.0\n",
       "5       Nordeste  BA  1844481   32034.0\n",
       "6       Nordeste  CE  1508135   28215.0\n",
       "20       Sudeste  ES  1384800       NaN\n",
       "9       Nordeste  PE  1235360   23240.0\n",
       "16         Norte  PA   901045   19291.0\n",
       "0   Centro-Oeste  DF   955540   12025.0\n",
       "3   Centro-Oeste  MT   921447   15253.0\n",
       "8       Nordeste  PB   725917   10669.0\n",
       "14         Norte  AM   643745   14531.0\n",
       "11      Nordeste  RN   601493    9321.0\n",
       "2   Centro-Oeste  MS   637169   11305.0\n",
       "17         Norte  RO   505111    7527.0\n",
       "7       Nordeste  MA   501121   11103.0\n",
       "10      Nordeste  PI   438676    8445.0\n",
       "12      Nordeste  SE   368073    6575.0\n",
       "19         Norte  TO   382320    4305.0\n",
       "4       Nordeste  AL   348701    7355.0\n",
       "15         Norte  AP   191877    2175.0\n",
       "18         Norte  RR   190318    2202.0\n",
       "13         Norte  AC   169625    2083.0"
      ]
     },
     "execution_count": 42,
     "metadata": {},
     "output_type": "execute_result"
    }
   ],
   "source": [
    "df.sort_values(by='CASOS',  key=lambda x: x//100_000, ascending=False)"
   ]
  },
  {
   "cell_type": "markdown",
   "metadata": {
    "id": "YQSSQWaH0QDX"
   },
   "source": [
    "## menor / maior valor \n",
    "Series tem os métodos nsmallest() e nlargest() que retornam o menor ou o maior nvalores."
   ]
  },
  {
   "cell_type": "code",
   "execution_count": 43,
   "metadata": {
    "colab": {
     "base_uri": "https://localhost:8080/"
    },
    "executionInfo": {
     "elapsed": 666,
     "status": "ok",
     "timestamp": 1607556909117,
     "user": {
      "displayName": "Orlando O. S.",
      "photoUrl": "https://lh3.googleusercontent.com/a-/AOh14Gj-E1yuy1M_3ruwN4TWYPK4BwysauSW7GQmHheS=s64",
      "userId": "15066502291703974467"
     },
     "user_tz": 180
    },
    "id": "zt5vcDGK0QDY",
    "outputId": "84ef4523-f906-41d6-db22-f8c6aeace658"
   },
   "outputs": [
    {
     "data": {
      "text/plain": [
       "13    169625\n",
       "18    190318\n",
       "15    191877\n",
       "4     348701\n",
       "12    368073\n",
       "Name: CASOS, dtype: int64"
      ]
     },
     "execution_count": 43,
     "metadata": {},
     "output_type": "execute_result"
    }
   ],
   "source": [
    "df['CASOS'].nsmallest(5)"
   ]
  },
  {
   "cell_type": "code",
   "execution_count": 44,
   "metadata": {
    "colab": {
     "base_uri": "https://localhost:8080/"
    },
    "executionInfo": {
     "elapsed": 771,
     "status": "ok",
     "timestamp": 1607556912695,
     "user": {
      "displayName": "Orlando O. S.",
      "photoUrl": "https://lh3.googleusercontent.com/a-/AOh14Gj-E1yuy1M_3ruwN4TWYPK4BwysauSW7GQmHheS=s64",
      "userId": "15066502291703974467"
     },
     "user_tz": 180
    },
    "id": "QyP1ayFF0QDY",
    "outputId": "8d662579-4d04-49dc-e6b1-922355f292da"
   },
   "outputs": [
    {
     "data": {
      "text/plain": [
       "23    6907741\n",
       "21    4335714\n",
       "25    3144956\n",
       "24    3031840\n",
       "22    2966219\n",
       "Name: CASOS, dtype: int64"
      ]
     },
     "execution_count": 44,
     "metadata": {},
     "output_type": "execute_result"
    }
   ],
   "source": [
    "df['CASOS'].nlargest(5)"
   ]
  },
  {
   "cell_type": "markdown",
   "metadata": {
    "id": "OOXfrAj80QDY"
   },
   "source": [
    "Data Frametambém tem os métodos nlargeste nsmallest."
   ]
  },
  {
   "cell_type": "code",
   "execution_count": 45,
   "metadata": {
    "colab": {
     "base_uri": "https://localhost:8080/",
     "height": 141
    },
    "executionInfo": {
     "elapsed": 739,
     "status": "ok",
     "timestamp": 1607556932715,
     "user": {
      "displayName": "Orlando O. S.",
      "photoUrl": "https://lh3.googleusercontent.com/a-/AOh14Gj-E1yuy1M_3ruwN4TWYPK4BwysauSW7GQmHheS=s64",
      "userId": "15066502291703974467"
     },
     "user_tz": 180
    },
    "id": "ysiMiw7O0QDY",
    "outputId": "8c1792fb-a7c2-4bc7-97ff-36335747634c"
   },
   "outputs": [
    {
     "data": {
      "text/html": [
       "<div>\n",
       "<style scoped>\n",
       "    .dataframe tbody tr th:only-of-type {\n",
       "        vertical-align: middle;\n",
       "    }\n",
       "\n",
       "    .dataframe tbody tr th {\n",
       "        vertical-align: top;\n",
       "    }\n",
       "\n",
       "    .dataframe thead th {\n",
       "        text-align: right;\n",
       "    }\n",
       "</style>\n",
       "<table border=\"1\" class=\"dataframe\">\n",
       "  <thead>\n",
       "    <tr style=\"text-align: right;\">\n",
       "      <th></th>\n",
       "      <th>REGIAO</th>\n",
       "      <th>UF</th>\n",
       "      <th>CASOS</th>\n",
       "      <th>OBITOS</th>\n",
       "    </tr>\n",
       "  </thead>\n",
       "  <tbody>\n",
       "    <tr>\n",
       "      <th>23</th>\n",
       "      <td>Sudeste</td>\n",
       "      <td>SP</td>\n",
       "      <td>6907741</td>\n",
       "      <td>184235.0</td>\n",
       "    </tr>\n",
       "    <tr>\n",
       "      <th>21</th>\n",
       "      <td>Sudeste</td>\n",
       "      <td>MG</td>\n",
       "      <td>4335714</td>\n",
       "      <td>66850.0</td>\n",
       "    </tr>\n",
       "    <tr>\n",
       "      <th>25</th>\n",
       "      <td>Sul</td>\n",
       "      <td>RS</td>\n",
       "      <td>3144956</td>\n",
       "      <td>43044.0</td>\n",
       "    </tr>\n",
       "  </tbody>\n",
       "</table>\n",
       "</div>"
      ],
      "text/plain": [
       "     REGIAO  UF    CASOS    OBITOS\n",
       "23  Sudeste  SP  6907741  184235.0\n",
       "21  Sudeste  MG  4335714   66850.0\n",
       "25      Sul  RS  3144956   43044.0"
      ]
     },
     "execution_count": 45,
     "metadata": {},
     "output_type": "execute_result"
    }
   ],
   "source": [
    "df.nlargest(3, 'CASOS')"
   ]
  },
  {
   "cell_type": "code",
   "execution_count": 46,
   "metadata": {
    "colab": {
     "base_uri": "https://localhost:8080/",
     "height": 203
    },
    "executionInfo": {
     "elapsed": 636,
     "status": "ok",
     "timestamp": 1607556949769,
     "user": {
      "displayName": "Orlando O. S.",
      "photoUrl": "https://lh3.googleusercontent.com/a-/AOh14Gj-E1yuy1M_3ruwN4TWYPK4BwysauSW7GQmHheS=s64",
      "userId": "15066502291703974467"
     },
     "user_tz": 180
    },
    "id": "FmmCVKi10QDY",
    "outputId": "6d60159e-780e-4fad-b46f-d9ba30a982cf"
   },
   "outputs": [
    {
     "data": {
      "text/html": [
       "<div>\n",
       "<style scoped>\n",
       "    .dataframe tbody tr th:only-of-type {\n",
       "        vertical-align: middle;\n",
       "    }\n",
       "\n",
       "    .dataframe tbody tr th {\n",
       "        vertical-align: top;\n",
       "    }\n",
       "\n",
       "    .dataframe thead th {\n",
       "        text-align: right;\n",
       "    }\n",
       "</style>\n",
       "<table border=\"1\" class=\"dataframe\">\n",
       "  <thead>\n",
       "    <tr style=\"text-align: right;\">\n",
       "      <th></th>\n",
       "      <th>REGIAO</th>\n",
       "      <th>UF</th>\n",
       "      <th>CASOS</th>\n",
       "      <th>OBITOS</th>\n",
       "    </tr>\n",
       "  </thead>\n",
       "  <tbody>\n",
       "    <tr>\n",
       "      <th>23</th>\n",
       "      <td>Sudeste</td>\n",
       "      <td>SP</td>\n",
       "      <td>6907741</td>\n",
       "      <td>184235.0</td>\n",
       "    </tr>\n",
       "    <tr>\n",
       "      <th>21</th>\n",
       "      <td>Sudeste</td>\n",
       "      <td>MG</td>\n",
       "      <td>4335714</td>\n",
       "      <td>66850.0</td>\n",
       "    </tr>\n",
       "    <tr>\n",
       "      <th>25</th>\n",
       "      <td>Sul</td>\n",
       "      <td>RS</td>\n",
       "      <td>3144956</td>\n",
       "      <td>43044.0</td>\n",
       "    </tr>\n",
       "    <tr>\n",
       "      <th>24</th>\n",
       "      <td>Sul</td>\n",
       "      <td>PR</td>\n",
       "      <td>3031840</td>\n",
       "      <td>47029.0</td>\n",
       "    </tr>\n",
       "    <tr>\n",
       "      <th>22</th>\n",
       "      <td>Sudeste</td>\n",
       "      <td>RJ</td>\n",
       "      <td>2966219</td>\n",
       "      <td>78238.0</td>\n",
       "    </tr>\n",
       "  </tbody>\n",
       "</table>\n",
       "</div>"
      ],
      "text/plain": [
       "     REGIAO  UF    CASOS    OBITOS\n",
       "23  Sudeste  SP  6907741  184235.0\n",
       "21  Sudeste  MG  4335714   66850.0\n",
       "25      Sul  RS  3144956   43044.0\n",
       "24      Sul  PR  3031840   47029.0\n",
       "22  Sudeste  RJ  2966219   78238.0"
      ]
     },
     "execution_count": 46,
     "metadata": {},
     "output_type": "execute_result"
    }
   ],
   "source": [
    "df.nlargest(5, ['CASOS', 'OBITOS'])"
   ]
  },
  {
   "cell_type": "code",
   "execution_count": 47,
   "metadata": {
    "colab": {
     "base_uri": "https://localhost:8080/",
     "height": 141
    },
    "executionInfo": {
     "elapsed": 700,
     "status": "ok",
     "timestamp": 1607556972573,
     "user": {
      "displayName": "Orlando O. S.",
      "photoUrl": "https://lh3.googleusercontent.com/a-/AOh14Gj-E1yuy1M_3ruwN4TWYPK4BwysauSW7GQmHheS=s64",
      "userId": "15066502291703974467"
     },
     "user_tz": 180
    },
    "id": "Yu0Ewhwx0QDY",
    "outputId": "5f5c7af3-774b-4616-9770-7ec6dbefa8bb"
   },
   "outputs": [
    {
     "data": {
      "text/html": [
       "<div>\n",
       "<style scoped>\n",
       "    .dataframe tbody tr th:only-of-type {\n",
       "        vertical-align: middle;\n",
       "    }\n",
       "\n",
       "    .dataframe tbody tr th {\n",
       "        vertical-align: top;\n",
       "    }\n",
       "\n",
       "    .dataframe thead th {\n",
       "        text-align: right;\n",
       "    }\n",
       "</style>\n",
       "<table border=\"1\" class=\"dataframe\">\n",
       "  <thead>\n",
       "    <tr style=\"text-align: right;\">\n",
       "      <th></th>\n",
       "      <th>REGIAO</th>\n",
       "      <th>UF</th>\n",
       "      <th>CASOS</th>\n",
       "      <th>OBITOS</th>\n",
       "    </tr>\n",
       "  </thead>\n",
       "  <tbody>\n",
       "    <tr>\n",
       "      <th>13</th>\n",
       "      <td>Norte</td>\n",
       "      <td>AC</td>\n",
       "      <td>169625</td>\n",
       "      <td>2083.0</td>\n",
       "    </tr>\n",
       "    <tr>\n",
       "      <th>18</th>\n",
       "      <td>Norte</td>\n",
       "      <td>RR</td>\n",
       "      <td>190318</td>\n",
       "      <td>2202.0</td>\n",
       "    </tr>\n",
       "    <tr>\n",
       "      <th>15</th>\n",
       "      <td>Norte</td>\n",
       "      <td>AP</td>\n",
       "      <td>191877</td>\n",
       "      <td>2175.0</td>\n",
       "    </tr>\n",
       "  </tbody>\n",
       "</table>\n",
       "</div>"
      ],
      "text/plain": [
       "   REGIAO  UF   CASOS  OBITOS\n",
       "13  Norte  AC  169625  2083.0\n",
       "18  Norte  RR  190318  2202.0\n",
       "15  Norte  AP  191877  2175.0"
      ]
     },
     "execution_count": 47,
     "metadata": {},
     "output_type": "execute_result"
    }
   ],
   "source": [
    "df.nsmallest(3, 'CASOS')"
   ]
  },
  {
   "cell_type": "code",
   "execution_count": 48,
   "metadata": {
    "colab": {
     "base_uri": "https://localhost:8080/",
     "height": 203
    },
    "executionInfo": {
     "elapsed": 706,
     "status": "ok",
     "timestamp": 1607556976792,
     "user": {
      "displayName": "Orlando O. S.",
      "photoUrl": "https://lh3.googleusercontent.com/a-/AOh14Gj-E1yuy1M_3ruwN4TWYPK4BwysauSW7GQmHheS=s64",
      "userId": "15066502291703974467"
     },
     "user_tz": 180
    },
    "id": "BTAsgAX20QDY",
    "outputId": "9ada28fb-38cb-4e47-805a-2cc9a8269e6f"
   },
   "outputs": [
    {
     "data": {
      "text/html": [
       "<div>\n",
       "<style scoped>\n",
       "    .dataframe tbody tr th:only-of-type {\n",
       "        vertical-align: middle;\n",
       "    }\n",
       "\n",
       "    .dataframe tbody tr th {\n",
       "        vertical-align: top;\n",
       "    }\n",
       "\n",
       "    .dataframe thead th {\n",
       "        text-align: right;\n",
       "    }\n",
       "</style>\n",
       "<table border=\"1\" class=\"dataframe\">\n",
       "  <thead>\n",
       "    <tr style=\"text-align: right;\">\n",
       "      <th></th>\n",
       "      <th>REGIAO</th>\n",
       "      <th>UF</th>\n",
       "      <th>CASOS</th>\n",
       "      <th>OBITOS</th>\n",
       "    </tr>\n",
       "  </thead>\n",
       "  <tbody>\n",
       "    <tr>\n",
       "      <th>13</th>\n",
       "      <td>Norte</td>\n",
       "      <td>AC</td>\n",
       "      <td>169625</td>\n",
       "      <td>2083.0</td>\n",
       "    </tr>\n",
       "    <tr>\n",
       "      <th>18</th>\n",
       "      <td>Norte</td>\n",
       "      <td>RR</td>\n",
       "      <td>190318</td>\n",
       "      <td>2202.0</td>\n",
       "    </tr>\n",
       "    <tr>\n",
       "      <th>15</th>\n",
       "      <td>Norte</td>\n",
       "      <td>AP</td>\n",
       "      <td>191877</td>\n",
       "      <td>2175.0</td>\n",
       "    </tr>\n",
       "    <tr>\n",
       "      <th>4</th>\n",
       "      <td>Nordeste</td>\n",
       "      <td>AL</td>\n",
       "      <td>348701</td>\n",
       "      <td>7355.0</td>\n",
       "    </tr>\n",
       "    <tr>\n",
       "      <th>12</th>\n",
       "      <td>Nordeste</td>\n",
       "      <td>SE</td>\n",
       "      <td>368073</td>\n",
       "      <td>6575.0</td>\n",
       "    </tr>\n",
       "  </tbody>\n",
       "</table>\n",
       "</div>"
      ],
      "text/plain": [
       "      REGIAO  UF   CASOS  OBITOS\n",
       "13     Norte  AC  169625  2083.0\n",
       "18     Norte  RR  190318  2202.0\n",
       "15     Norte  AP  191877  2175.0\n",
       "4   Nordeste  AL  348701  7355.0\n",
       "12  Nordeste  SE  368073  6575.0"
      ]
     },
     "execution_count": 48,
     "metadata": {},
     "output_type": "execute_result"
    }
   ],
   "source": [
    "df.nsmallest(5, ['CASOS', 'OBITOS'])"
   ]
  }
 ],
 "metadata": {
  "colab": {
   "collapsed_sections": [],
   "name": "Aula Sobre Manipulação de Dados com Pandas - Parte 2 - Reindexação, Aplicação, Transformação e Renomeação.ipynb",
   "provenance": [
    {
     "file_id": "1rvyu2VOA5B8EMV5-zzQJaPP56cCOjLAD",
     "timestamp": 1607355074421
    }
   ]
  },
  "kernelspec": {
   "display_name": "base",
   "language": "python",
   "name": "python3"
  },
  "language_info": {
   "codemirror_mode": {
    "name": "ipython",
    "version": 3
   },
   "file_extension": ".py",
   "mimetype": "text/x-python",
   "name": "python",
   "nbconvert_exporter": "python",
   "pygments_lexer": "ipython3",
   "version": "3.12.3"
  }
 },
 "nbformat": 4,
 "nbformat_minor": 1
}
