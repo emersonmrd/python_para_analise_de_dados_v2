{
 "cells": [
  {
   "cell_type": "markdown",
   "metadata": {
    "id": "Xc-orqZEbVm4"
   },
   "source": [
    "# Pandas - Localizando a Posição do Maior e do Menor Valor Na Coluna do DataFrame\n",
    "## Índice de valores mín. / Máx. \n",
    "- As funções idxmin()e idxmax() em Series e DataFrame calculam os rótulos de índice correspondentes aos valores mínimo e máximo \n",
    "- idxmine idxmax são chamados argmine argmaxem NumPy.\n",
    "- Quando houver várias linhas (ou colunas) correspondendo ao valor mínimo ou máximo idxmin()e idxmax() retornar o primeiro índice correspondente"
   ]
  },
  {
   "cell_type": "code",
   "execution_count": 1,
   "metadata": {
    "id": "VCpKNcOLyEbf"
   },
   "outputs": [
    {
     "data": {
      "text/html": [
       "<div>\n",
       "<style scoped>\n",
       "    .dataframe tbody tr th:only-of-type {\n",
       "        vertical-align: middle;\n",
       "    }\n",
       "\n",
       "    .dataframe tbody tr th {\n",
       "        vertical-align: top;\n",
       "    }\n",
       "\n",
       "    .dataframe thead th {\n",
       "        text-align: right;\n",
       "    }\n",
       "</style>\n",
       "<table border=\"1\" class=\"dataframe\">\n",
       "  <thead>\n",
       "    <tr style=\"text-align: right;\">\n",
       "      <th></th>\n",
       "      <th>REGIAO</th>\n",
       "      <th>UF</th>\n",
       "      <th>CASOS</th>\n",
       "      <th>OBITOS</th>\n",
       "    </tr>\n",
       "  </thead>\n",
       "  <tbody>\n",
       "    <tr>\n",
       "      <th>0</th>\n",
       "      <td>Centro-Oeste</td>\n",
       "      <td>DF</td>\n",
       "      <td>955540</td>\n",
       "      <td>12025</td>\n",
       "    </tr>\n",
       "    <tr>\n",
       "      <th>1</th>\n",
       "      <td>Centro-Oeste</td>\n",
       "      <td>GO</td>\n",
       "      <td>2060518</td>\n",
       "      <td>28669</td>\n",
       "    </tr>\n",
       "    <tr>\n",
       "      <th>2</th>\n",
       "      <td>Centro-Oeste</td>\n",
       "      <td>MS</td>\n",
       "      <td>637169</td>\n",
       "      <td>11305</td>\n",
       "    </tr>\n",
       "    <tr>\n",
       "      <th>3</th>\n",
       "      <td>Centro-Oeste</td>\n",
       "      <td>MT</td>\n",
       "      <td>921447</td>\n",
       "      <td>15253</td>\n",
       "    </tr>\n",
       "    <tr>\n",
       "      <th>4</th>\n",
       "      <td>Nordeste</td>\n",
       "      <td>AL</td>\n",
       "      <td>348701</td>\n",
       "      <td>7355</td>\n",
       "    </tr>\n",
       "  </tbody>\n",
       "</table>\n",
       "</div>"
      ],
      "text/plain": [
       "         REGIAO  UF    CASOS  OBITOS\n",
       "0  Centro-Oeste  DF   955540   12025\n",
       "1  Centro-Oeste  GO  2060518   28669\n",
       "2  Centro-Oeste  MS   637169   11305\n",
       "3  Centro-Oeste  MT   921447   15253\n",
       "4      Nordeste  AL   348701    7355"
      ]
     },
     "execution_count": 1,
     "metadata": {},
     "output_type": "execute_result"
    }
   ],
   "source": [
    "import numpy as np\n",
    "import pandas as pd\n",
    "df = pd.read_csv('totaisestadoscomregiao_arr.csv', sep=';',names =['REGIAO','UF','CASOS','OBITOS'])\n",
    "df.head()"
   ]
  },
  {
   "cell_type": "code",
   "execution_count": 2,
   "metadata": {
    "id": "eE-oQ94x0QDO"
   },
   "outputs": [
    {
     "data": {
      "text/plain": [
       "(13, 23)"
      ]
     },
     "execution_count": 2,
     "metadata": {},
     "output_type": "execute_result"
    }
   ],
   "source": [
    "df.CASOS.idxmin(), df.CASOS.idxmax()"
   ]
  },
  {
   "cell_type": "code",
   "execution_count": 3,
   "metadata": {
    "id": "PergY2810QDQ"
   },
   "outputs": [
    {
     "data": {
      "text/plain": [
       "CASOS     13\n",
       "OBITOS    13\n",
       "dtype: int64"
      ]
     },
     "execution_count": 3,
     "metadata": {},
     "output_type": "execute_result"
    }
   ],
   "source": [
    "df[['CASOS', 'OBITOS']].idxmin(axis=0)"
   ]
  },
  {
   "cell_type": "code",
   "execution_count": 4,
   "metadata": {
    "id": "Hykd7dnmh-VK"
   },
   "outputs": [
    {
     "data": {
      "text/html": [
       "<div>\n",
       "<style scoped>\n",
       "    .dataframe tbody tr th:only-of-type {\n",
       "        vertical-align: middle;\n",
       "    }\n",
       "\n",
       "    .dataframe tbody tr th {\n",
       "        vertical-align: top;\n",
       "    }\n",
       "\n",
       "    .dataframe thead th {\n",
       "        text-align: right;\n",
       "    }\n",
       "</style>\n",
       "<table border=\"1\" class=\"dataframe\">\n",
       "  <thead>\n",
       "    <tr style=\"text-align: right;\">\n",
       "      <th></th>\n",
       "      <th>0</th>\n",
       "      <th>1</th>\n",
       "      <th>2</th>\n",
       "      <th>3</th>\n",
       "      <th>4</th>\n",
       "      <th>5</th>\n",
       "      <th>6</th>\n",
       "      <th>7</th>\n",
       "      <th>8</th>\n",
       "      <th>9</th>\n",
       "      <th>...</th>\n",
       "      <th>17</th>\n",
       "      <th>18</th>\n",
       "      <th>19</th>\n",
       "      <th>20</th>\n",
       "      <th>21</th>\n",
       "      <th>22</th>\n",
       "      <th>23</th>\n",
       "      <th>24</th>\n",
       "      <th>25</th>\n",
       "      <th>26</th>\n",
       "    </tr>\n",
       "  </thead>\n",
       "  <tbody>\n",
       "    <tr>\n",
       "      <th>CASOS</th>\n",
       "      <td>955540</td>\n",
       "      <td>2060518</td>\n",
       "      <td>637169</td>\n",
       "      <td>921447</td>\n",
       "      <td>348701</td>\n",
       "      <td>1844481</td>\n",
       "      <td>1508135</td>\n",
       "      <td>501121</td>\n",
       "      <td>725917</td>\n",
       "      <td>1235360</td>\n",
       "      <td>...</td>\n",
       "      <td>505111</td>\n",
       "      <td>190318</td>\n",
       "      <td>382320</td>\n",
       "      <td>1384800</td>\n",
       "      <td>4335714</td>\n",
       "      <td>2966219</td>\n",
       "      <td>6907741</td>\n",
       "      <td>3031840</td>\n",
       "      <td>3144956</td>\n",
       "      <td>2089867</td>\n",
       "    </tr>\n",
       "    <tr>\n",
       "      <th>OBITOS</th>\n",
       "      <td>12025</td>\n",
       "      <td>28669</td>\n",
       "      <td>11305</td>\n",
       "      <td>15253</td>\n",
       "      <td>7355</td>\n",
       "      <td>32034</td>\n",
       "      <td>28215</td>\n",
       "      <td>11103</td>\n",
       "      <td>10669</td>\n",
       "      <td>23240</td>\n",
       "      <td>...</td>\n",
       "      <td>7527</td>\n",
       "      <td>2202</td>\n",
       "      <td>4305</td>\n",
       "      <td>15214</td>\n",
       "      <td>66850</td>\n",
       "      <td>78238</td>\n",
       "      <td>184235</td>\n",
       "      <td>47029</td>\n",
       "      <td>43044</td>\n",
       "      <td>23145</td>\n",
       "    </tr>\n",
       "  </tbody>\n",
       "</table>\n",
       "<p>2 rows × 27 columns</p>\n",
       "</div>"
      ],
      "text/plain": [
       "            0        1       2       3       4        5        6       7   \\\n",
       "CASOS   955540  2060518  637169  921447  348701  1844481  1508135  501121   \n",
       "OBITOS   12025    28669   11305   15253    7355    32034    28215   11103   \n",
       "\n",
       "            8        9   ...      17      18      19       20       21  \\\n",
       "CASOS   725917  1235360  ...  505111  190318  382320  1384800  4335714   \n",
       "OBITOS   10669    23240  ...    7527    2202    4305    15214    66850   \n",
       "\n",
       "             22       23       24       25       26  \n",
       "CASOS   2966219  6907741  3031840  3144956  2089867  \n",
       "OBITOS    78238   184235    47029    43044    23145  \n",
       "\n",
       "[2 rows x 27 columns]"
      ]
     },
     "execution_count": 4,
     "metadata": {},
     "output_type": "execute_result"
    }
   ],
   "source": [
    "df[['CASOS', 'OBITOS']].T"
   ]
  },
  {
   "cell_type": "code",
   "execution_count": 5,
   "metadata": {
    "id": "MSMPROqfaHyL"
   },
   "outputs": [
    {
     "data": {
      "text/plain": [
       "CASOS     13\n",
       "OBITOS    13\n",
       "dtype: int64"
      ]
     },
     "execution_count": 5,
     "metadata": {},
     "output_type": "execute_result"
    }
   ],
   "source": [
    "df[['CASOS', 'OBITOS']].T.idxmin(axis=1)"
   ]
  }
 ],
 "metadata": {
  "colab": {
   "collapsed_sections": [],
   "name": "Aula Sobre Manipulação de Dados com Pandas - Parte 2 - Reindexação, Aplicação, Transformação e Renomeação.ipynb",
   "provenance": [
    {
     "file_id": "1rvyu2VOA5B8EMV5-zzQJaPP56cCOjLAD",
     "timestamp": 1607355074421
    }
   ]
  },
  "kernelspec": {
   "display_name": "base",
   "language": "python",
   "name": "python3"
  },
  "language_info": {
   "codemirror_mode": {
    "name": "ipython",
    "version": 3
   },
   "file_extension": ".py",
   "mimetype": "text/x-python",
   "name": "python",
   "nbconvert_exporter": "python",
   "pygments_lexer": "ipython3",
   "version": "3.12.3"
  }
 },
 "nbformat": 4,
 "nbformat_minor": 1
}
