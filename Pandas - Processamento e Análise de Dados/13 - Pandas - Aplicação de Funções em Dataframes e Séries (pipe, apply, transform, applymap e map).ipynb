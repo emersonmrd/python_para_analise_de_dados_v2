{
 "cells": [
  {
   "cell_type": "markdown",
   "metadata": {},
   "source": [
    "#  Pandas - Aplicação de Funções em Dataframes e Séries (pipe, apply, transform, applymap e map)"
   ]
  },
  {
   "cell_type": "markdown",
   "metadata": {
    "id": "RixvZOSs0QDR"
   },
   "source": [
    "# Função de Aplicação\n",
    "Para aplicar as suas próprias funções ou as de outra biblioteca aos objetos pandas, exitem três formas:\n",
    "- Aplicação de função tablewise :pipe()\n",
    "- Aplicação de função em linha ou coluna :apply()\n",
    "- API de agregação : agg() e transform()\n",
    "- Aplicando funções Elementwise :applymap()"
   ]
  },
  {
   "cell_type": "markdown",
   "metadata": {
    "id": "crbPvOsA0QDR"
   },
   "source": [
    "### Aplicação da função tablewise \n",
    "DataFrames e Seriespode ser passado para funções. \n",
    "No entanto, se a função precisar ser chamada de forma encadeada, considere o uso do método pipe().\n"
   ]
  },
  {
   "cell_type": "code",
   "execution_count": 1,
   "metadata": {
    "id": "IH-J4KRZyEbj"
   },
   "outputs": [
    {
     "data": {
      "text/html": [
       "<div>\n",
       "<style scoped>\n",
       "    .dataframe tbody tr th:only-of-type {\n",
       "        vertical-align: middle;\n",
       "    }\n",
       "\n",
       "    .dataframe tbody tr th {\n",
       "        vertical-align: top;\n",
       "    }\n",
       "\n",
       "    .dataframe thead th {\n",
       "        text-align: right;\n",
       "    }\n",
       "</style>\n",
       "<table border=\"1\" class=\"dataframe\">\n",
       "  <thead>\n",
       "    <tr style=\"text-align: right;\">\n",
       "      <th></th>\n",
       "      <th>REGIAO</th>\n",
       "      <th>UF</th>\n",
       "      <th>CASOS</th>\n",
       "      <th>OBITOS</th>\n",
       "    </tr>\n",
       "  </thead>\n",
       "  <tbody>\n",
       "    <tr>\n",
       "      <th>0</th>\n",
       "      <td>Centro-Oeste</td>\n",
       "      <td>DF</td>\n",
       "      <td>955540</td>\n",
       "      <td>12025</td>\n",
       "    </tr>\n",
       "    <tr>\n",
       "      <th>1</th>\n",
       "      <td>Centro-Oeste</td>\n",
       "      <td>GO</td>\n",
       "      <td>2060518</td>\n",
       "      <td>28669</td>\n",
       "    </tr>\n",
       "    <tr>\n",
       "      <th>2</th>\n",
       "      <td>Centro-Oeste</td>\n",
       "      <td>MS</td>\n",
       "      <td>637169</td>\n",
       "      <td>11305</td>\n",
       "    </tr>\n",
       "    <tr>\n",
       "      <th>3</th>\n",
       "      <td>Centro-Oeste</td>\n",
       "      <td>MT</td>\n",
       "      <td>921447</td>\n",
       "      <td>15253</td>\n",
       "    </tr>\n",
       "    <tr>\n",
       "      <th>4</th>\n",
       "      <td>Nordeste</td>\n",
       "      <td>AL</td>\n",
       "      <td>348701</td>\n",
       "      <td>7355</td>\n",
       "    </tr>\n",
       "  </tbody>\n",
       "</table>\n",
       "</div>"
      ],
      "text/plain": [
       "         REGIAO  UF    CASOS  OBITOS\n",
       "0  Centro-Oeste  DF   955540   12025\n",
       "1  Centro-Oeste  GO  2060518   28669\n",
       "2  Centro-Oeste  MS   637169   11305\n",
       "3  Centro-Oeste  MT   921447   15253\n",
       "4      Nordeste  AL   348701    7355"
      ]
     },
     "execution_count": 1,
     "metadata": {},
     "output_type": "execute_result"
    }
   ],
   "source": [
    "import pandas as pd\n",
    "import numpy as np\n",
    "df = pd.read_csv('totaisestadoscomregiao_arr.csv', sep=';',names =['REGIAO','UF','CASOS','OBITOS'])\n",
    "df.head()"
   ]
  },
  {
   "cell_type": "code",
   "execution_count": 2,
   "metadata": {
    "id": "j6CrGLx2nelh"
   },
   "outputs": [
    {
     "data": {
      "text/html": [
       "<div>\n",
       "<style scoped>\n",
       "    .dataframe tbody tr th:only-of-type {\n",
       "        vertical-align: middle;\n",
       "    }\n",
       "\n",
       "    .dataframe tbody tr th {\n",
       "        vertical-align: top;\n",
       "    }\n",
       "\n",
       "    .dataframe thead th {\n",
       "        text-align: right;\n",
       "    }\n",
       "</style>\n",
       "<table border=\"1\" class=\"dataframe\">\n",
       "  <thead>\n",
       "    <tr style=\"text-align: right;\">\n",
       "      <th></th>\n",
       "      <th>REGIAO</th>\n",
       "      <th>UF</th>\n",
       "      <th>CASOS</th>\n",
       "      <th>OBITOS</th>\n",
       "      <th>OBITOSMILHARES</th>\n",
       "      <th>CASOSMILHARES</th>\n",
       "      <th>LETALIDADE</th>\n",
       "    </tr>\n",
       "  </thead>\n",
       "  <tbody>\n",
       "    <tr>\n",
       "      <th>0</th>\n",
       "      <td>Centro-Oeste</td>\n",
       "      <td>DF</td>\n",
       "      <td>955540</td>\n",
       "      <td>12025</td>\n",
       "      <td>12.025</td>\n",
       "      <td>955.540</td>\n",
       "      <td>1.258451</td>\n",
       "    </tr>\n",
       "    <tr>\n",
       "      <th>1</th>\n",
       "      <td>Centro-Oeste</td>\n",
       "      <td>GO</td>\n",
       "      <td>2060518</td>\n",
       "      <td>28669</td>\n",
       "      <td>28.669</td>\n",
       "      <td>2060.518</td>\n",
       "      <td>1.391349</td>\n",
       "    </tr>\n",
       "    <tr>\n",
       "      <th>2</th>\n",
       "      <td>Centro-Oeste</td>\n",
       "      <td>MS</td>\n",
       "      <td>637169</td>\n",
       "      <td>11305</td>\n",
       "      <td>11.305</td>\n",
       "      <td>637.169</td>\n",
       "      <td>1.774255</td>\n",
       "    </tr>\n",
       "    <tr>\n",
       "      <th>3</th>\n",
       "      <td>Centro-Oeste</td>\n",
       "      <td>MT</td>\n",
       "      <td>921447</td>\n",
       "      <td>15253</td>\n",
       "      <td>15.253</td>\n",
       "      <td>921.447</td>\n",
       "      <td>1.655331</td>\n",
       "    </tr>\n",
       "    <tr>\n",
       "      <th>4</th>\n",
       "      <td>Nordeste</td>\n",
       "      <td>AL</td>\n",
       "      <td>348701</td>\n",
       "      <td>7355</td>\n",
       "      <td>7.355</td>\n",
       "      <td>348.701</td>\n",
       "      <td>2.109257</td>\n",
       "    </tr>\n",
       "  </tbody>\n",
       "</table>\n",
       "</div>"
      ],
      "text/plain": [
       "         REGIAO  UF    CASOS  OBITOS  OBITOSMILHARES  CASOSMILHARES  \\\n",
       "0  Centro-Oeste  DF   955540   12025          12.025        955.540   \n",
       "1  Centro-Oeste  GO  2060518   28669          28.669       2060.518   \n",
       "2  Centro-Oeste  MS   637169   11305          11.305        637.169   \n",
       "3  Centro-Oeste  MT   921447   15253          15.253        921.447   \n",
       "4      Nordeste  AL   348701    7355           7.355        348.701   \n",
       "\n",
       "   LETALIDADE  \n",
       "0    1.258451  \n",
       "1    1.391349  \n",
       "2    1.774255  \n",
       "3    1.655331  \n",
       "4    2.109257  "
      ]
     },
     "execution_count": 2,
     "metadata": {},
     "output_type": "execute_result"
    }
   ],
   "source": [
    "df['OBITOSMILHARES'] = df['OBITOS']/1000\n",
    "df['CASOSMILHARES'] = df['CASOS']/1000\n",
    "df['LETALIDADE'] = df['OBITOS']/ df['CASOS'] * 100\n",
    "df.head()\n"
   ]
  },
  {
   "cell_type": "code",
   "execution_count": 3,
   "metadata": {
    "id": "h0erUoQk0QDR"
   },
   "outputs": [],
   "source": [
    "def calculaobitosemmilhares(df):\n",
    "    df['OBITOSMILHARES'] = df['OBITOS']/1000\n",
    "    return df\n",
    "\n",
    "def calculacasosemmilhares(df):\n",
    "    df['CASOSMILHARES'] = df['CASOS']/1000\n",
    "    return df\n",
    "\n",
    "def calculaletalidades(df):\n",
    "    df['LETALIDADE'] = df['OBITOS']/ df['CASOS'] * 100\n",
    "    return df"
   ]
  },
  {
   "cell_type": "code",
   "execution_count": 4,
   "metadata": {
    "id": "KNbshwMwn3Zm"
   },
   "outputs": [
    {
     "data": {
      "text/html": [
       "<div>\n",
       "<style scoped>\n",
       "    .dataframe tbody tr th:only-of-type {\n",
       "        vertical-align: middle;\n",
       "    }\n",
       "\n",
       "    .dataframe tbody tr th {\n",
       "        vertical-align: top;\n",
       "    }\n",
       "\n",
       "    .dataframe thead th {\n",
       "        text-align: right;\n",
       "    }\n",
       "</style>\n",
       "<table border=\"1\" class=\"dataframe\">\n",
       "  <thead>\n",
       "    <tr style=\"text-align: right;\">\n",
       "      <th></th>\n",
       "      <th>REGIAO</th>\n",
       "      <th>UF</th>\n",
       "      <th>CASOS</th>\n",
       "      <th>OBITOS</th>\n",
       "    </tr>\n",
       "  </thead>\n",
       "  <tbody>\n",
       "    <tr>\n",
       "      <th>0</th>\n",
       "      <td>Centro-Oeste</td>\n",
       "      <td>DF</td>\n",
       "      <td>955540</td>\n",
       "      <td>12025</td>\n",
       "    </tr>\n",
       "    <tr>\n",
       "      <th>1</th>\n",
       "      <td>Centro-Oeste</td>\n",
       "      <td>GO</td>\n",
       "      <td>2060518</td>\n",
       "      <td>28669</td>\n",
       "    </tr>\n",
       "    <tr>\n",
       "      <th>2</th>\n",
       "      <td>Centro-Oeste</td>\n",
       "      <td>MS</td>\n",
       "      <td>637169</td>\n",
       "      <td>11305</td>\n",
       "    </tr>\n",
       "    <tr>\n",
       "      <th>3</th>\n",
       "      <td>Centro-Oeste</td>\n",
       "      <td>MT</td>\n",
       "      <td>921447</td>\n",
       "      <td>15253</td>\n",
       "    </tr>\n",
       "    <tr>\n",
       "      <th>4</th>\n",
       "      <td>Nordeste</td>\n",
       "      <td>AL</td>\n",
       "      <td>348701</td>\n",
       "      <td>7355</td>\n",
       "    </tr>\n",
       "  </tbody>\n",
       "</table>\n",
       "</div>"
      ],
      "text/plain": [
       "         REGIAO  UF    CASOS  OBITOS\n",
       "0  Centro-Oeste  DF   955540   12025\n",
       "1  Centro-Oeste  GO  2060518   28669\n",
       "2  Centro-Oeste  MS   637169   11305\n",
       "3  Centro-Oeste  MT   921447   15253\n",
       "4      Nordeste  AL   348701    7355"
      ]
     },
     "execution_count": 4,
     "metadata": {},
     "output_type": "execute_result"
    }
   ],
   "source": [
    "df = df[['REGIAO','UF','CASOS','OBITOS']]\n",
    "df.head()"
   ]
  },
  {
   "cell_type": "code",
   "execution_count": 5,
   "metadata": {
    "id": "iouoiEdq0QDR",
    "scrolled": true
   },
   "outputs": [
    {
     "data": {
      "text/html": [
       "<div>\n",
       "<style scoped>\n",
       "    .dataframe tbody tr th:only-of-type {\n",
       "        vertical-align: middle;\n",
       "    }\n",
       "\n",
       "    .dataframe tbody tr th {\n",
       "        vertical-align: top;\n",
       "    }\n",
       "\n",
       "    .dataframe thead th {\n",
       "        text-align: right;\n",
       "    }\n",
       "</style>\n",
       "<table border=\"1\" class=\"dataframe\">\n",
       "  <thead>\n",
       "    <tr style=\"text-align: right;\">\n",
       "      <th></th>\n",
       "      <th>REGIAO</th>\n",
       "      <th>UF</th>\n",
       "      <th>CASOS</th>\n",
       "      <th>OBITOS</th>\n",
       "      <th>CASOSMILHARES</th>\n",
       "      <th>OBITOSMILHARES</th>\n",
       "      <th>LETALIDADE</th>\n",
       "    </tr>\n",
       "  </thead>\n",
       "  <tbody>\n",
       "    <tr>\n",
       "      <th>0</th>\n",
       "      <td>Centro-Oeste</td>\n",
       "      <td>DF</td>\n",
       "      <td>955540</td>\n",
       "      <td>12025</td>\n",
       "      <td>955.540</td>\n",
       "      <td>12.025</td>\n",
       "      <td>1.258451</td>\n",
       "    </tr>\n",
       "    <tr>\n",
       "      <th>1</th>\n",
       "      <td>Centro-Oeste</td>\n",
       "      <td>GO</td>\n",
       "      <td>2060518</td>\n",
       "      <td>28669</td>\n",
       "      <td>2060.518</td>\n",
       "      <td>28.669</td>\n",
       "      <td>1.391349</td>\n",
       "    </tr>\n",
       "    <tr>\n",
       "      <th>2</th>\n",
       "      <td>Centro-Oeste</td>\n",
       "      <td>MS</td>\n",
       "      <td>637169</td>\n",
       "      <td>11305</td>\n",
       "      <td>637.169</td>\n",
       "      <td>11.305</td>\n",
       "      <td>1.774255</td>\n",
       "    </tr>\n",
       "    <tr>\n",
       "      <th>3</th>\n",
       "      <td>Centro-Oeste</td>\n",
       "      <td>MT</td>\n",
       "      <td>921447</td>\n",
       "      <td>15253</td>\n",
       "      <td>921.447</td>\n",
       "      <td>15.253</td>\n",
       "      <td>1.655331</td>\n",
       "    </tr>\n",
       "    <tr>\n",
       "      <th>4</th>\n",
       "      <td>Nordeste</td>\n",
       "      <td>AL</td>\n",
       "      <td>348701</td>\n",
       "      <td>7355</td>\n",
       "      <td>348.701</td>\n",
       "      <td>7.355</td>\n",
       "      <td>2.109257</td>\n",
       "    </tr>\n",
       "  </tbody>\n",
       "</table>\n",
       "</div>"
      ],
      "text/plain": [
       "         REGIAO  UF    CASOS  OBITOS  CASOSMILHARES  OBITOSMILHARES  \\\n",
       "0  Centro-Oeste  DF   955540   12025        955.540          12.025   \n",
       "1  Centro-Oeste  GO  2060518   28669       2060.518          28.669   \n",
       "2  Centro-Oeste  MS   637169   11305        637.169          11.305   \n",
       "3  Centro-Oeste  MT   921447   15253        921.447          15.253   \n",
       "4      Nordeste  AL   348701    7355        348.701           7.355   \n",
       "\n",
       "   LETALIDADE  \n",
       "0    1.258451  \n",
       "1    1.391349  \n",
       "2    1.774255  \n",
       "3    1.655331  \n",
       "4    2.109257  "
      ]
     },
     "execution_count": 5,
     "metadata": {},
     "output_type": "execute_result"
    }
   ],
   "source": [
    "calculaletalidades(calculaobitosemmilhares(calculacasosemmilhares(df))).head()"
   ]
  },
  {
   "cell_type": "markdown",
   "metadata": {
    "id": "oScj5InV0QDR"
   },
   "source": [
    "### É equivalente a:"
   ]
  },
  {
   "cell_type": "code",
   "execution_count": 6,
   "metadata": {
    "id": "JJtecSI4yEbj"
   },
   "outputs": [
    {
     "data": {
      "text/html": [
       "<div>\n",
       "<style scoped>\n",
       "    .dataframe tbody tr th:only-of-type {\n",
       "        vertical-align: middle;\n",
       "    }\n",
       "\n",
       "    .dataframe tbody tr th {\n",
       "        vertical-align: top;\n",
       "    }\n",
       "\n",
       "    .dataframe thead th {\n",
       "        text-align: right;\n",
       "    }\n",
       "</style>\n",
       "<table border=\"1\" class=\"dataframe\">\n",
       "  <thead>\n",
       "    <tr style=\"text-align: right;\">\n",
       "      <th></th>\n",
       "      <th>REGIAO</th>\n",
       "      <th>UF</th>\n",
       "      <th>CASOS</th>\n",
       "      <th>OBITOS</th>\n",
       "    </tr>\n",
       "  </thead>\n",
       "  <tbody>\n",
       "    <tr>\n",
       "      <th>0</th>\n",
       "      <td>Centro-Oeste</td>\n",
       "      <td>DF</td>\n",
       "      <td>955540</td>\n",
       "      <td>12025</td>\n",
       "    </tr>\n",
       "    <tr>\n",
       "      <th>1</th>\n",
       "      <td>Centro-Oeste</td>\n",
       "      <td>GO</td>\n",
       "      <td>2060518</td>\n",
       "      <td>28669</td>\n",
       "    </tr>\n",
       "    <tr>\n",
       "      <th>2</th>\n",
       "      <td>Centro-Oeste</td>\n",
       "      <td>MS</td>\n",
       "      <td>637169</td>\n",
       "      <td>11305</td>\n",
       "    </tr>\n",
       "    <tr>\n",
       "      <th>3</th>\n",
       "      <td>Centro-Oeste</td>\n",
       "      <td>MT</td>\n",
       "      <td>921447</td>\n",
       "      <td>15253</td>\n",
       "    </tr>\n",
       "    <tr>\n",
       "      <th>4</th>\n",
       "      <td>Nordeste</td>\n",
       "      <td>AL</td>\n",
       "      <td>348701</td>\n",
       "      <td>7355</td>\n",
       "    </tr>\n",
       "  </tbody>\n",
       "</table>\n",
       "</div>"
      ],
      "text/plain": [
       "         REGIAO  UF    CASOS  OBITOS\n",
       "0  Centro-Oeste  DF   955540   12025\n",
       "1  Centro-Oeste  GO  2060518   28669\n",
       "2  Centro-Oeste  MS   637169   11305\n",
       "3  Centro-Oeste  MT   921447   15253\n",
       "4      Nordeste  AL   348701    7355"
      ]
     },
     "execution_count": 6,
     "metadata": {},
     "output_type": "execute_result"
    }
   ],
   "source": [
    "df = pd.read_csv('totaisestadoscomregiao_arr.csv', sep=';',names =['REGIAO','UF','CASOS','OBITOS'])\n",
    "df.head()"
   ]
  },
  {
   "cell_type": "code",
   "execution_count": 7,
   "metadata": {
    "id": "1WB9Hf3l0QDR"
   },
   "outputs": [
    {
     "data": {
      "text/html": [
       "<div>\n",
       "<style scoped>\n",
       "    .dataframe tbody tr th:only-of-type {\n",
       "        vertical-align: middle;\n",
       "    }\n",
       "\n",
       "    .dataframe tbody tr th {\n",
       "        vertical-align: top;\n",
       "    }\n",
       "\n",
       "    .dataframe thead th {\n",
       "        text-align: right;\n",
       "    }\n",
       "</style>\n",
       "<table border=\"1\" class=\"dataframe\">\n",
       "  <thead>\n",
       "    <tr style=\"text-align: right;\">\n",
       "      <th></th>\n",
       "      <th>REGIAO</th>\n",
       "      <th>UF</th>\n",
       "      <th>CASOS</th>\n",
       "      <th>OBITOS</th>\n",
       "      <th>OBITOSMILHARES</th>\n",
       "      <th>CASOSMILHARES</th>\n",
       "      <th>LETALIDADE</th>\n",
       "    </tr>\n",
       "  </thead>\n",
       "  <tbody>\n",
       "    <tr>\n",
       "      <th>0</th>\n",
       "      <td>Centro-Oeste</td>\n",
       "      <td>DF</td>\n",
       "      <td>955540</td>\n",
       "      <td>12025</td>\n",
       "      <td>12.025</td>\n",
       "      <td>955.540</td>\n",
       "      <td>1.258451</td>\n",
       "    </tr>\n",
       "    <tr>\n",
       "      <th>1</th>\n",
       "      <td>Centro-Oeste</td>\n",
       "      <td>GO</td>\n",
       "      <td>2060518</td>\n",
       "      <td>28669</td>\n",
       "      <td>28.669</td>\n",
       "      <td>2060.518</td>\n",
       "      <td>1.391349</td>\n",
       "    </tr>\n",
       "    <tr>\n",
       "      <th>2</th>\n",
       "      <td>Centro-Oeste</td>\n",
       "      <td>MS</td>\n",
       "      <td>637169</td>\n",
       "      <td>11305</td>\n",
       "      <td>11.305</td>\n",
       "      <td>637.169</td>\n",
       "      <td>1.774255</td>\n",
       "    </tr>\n",
       "    <tr>\n",
       "      <th>3</th>\n",
       "      <td>Centro-Oeste</td>\n",
       "      <td>MT</td>\n",
       "      <td>921447</td>\n",
       "      <td>15253</td>\n",
       "      <td>15.253</td>\n",
       "      <td>921.447</td>\n",
       "      <td>1.655331</td>\n",
       "    </tr>\n",
       "    <tr>\n",
       "      <th>4</th>\n",
       "      <td>Nordeste</td>\n",
       "      <td>AL</td>\n",
       "      <td>348701</td>\n",
       "      <td>7355</td>\n",
       "      <td>7.355</td>\n",
       "      <td>348.701</td>\n",
       "      <td>2.109257</td>\n",
       "    </tr>\n",
       "  </tbody>\n",
       "</table>\n",
       "</div>"
      ],
      "text/plain": [
       "         REGIAO  UF    CASOS  OBITOS  OBITOSMILHARES  CASOSMILHARES  \\\n",
       "0  Centro-Oeste  DF   955540   12025          12.025        955.540   \n",
       "1  Centro-Oeste  GO  2060518   28669          28.669       2060.518   \n",
       "2  Centro-Oeste  MS   637169   11305          11.305        637.169   \n",
       "3  Centro-Oeste  MT   921447   15253          15.253        921.447   \n",
       "4      Nordeste  AL   348701    7355           7.355        348.701   \n",
       "\n",
       "   LETALIDADE  \n",
       "0    1.258451  \n",
       "1    1.391349  \n",
       "2    1.774255  \n",
       "3    1.655331  \n",
       "4    2.109257  "
      ]
     },
     "execution_count": 7,
     "metadata": {},
     "output_type": "execute_result"
    }
   ],
   "source": [
    "(df.pipe(calculaobitosemmilhares)\n",
    "    .pipe(calculacasosemmilhares)\n",
    "    .pipe(calculaletalidades)\n",
    ")\n",
    "df.head()"
   ]
  },
  {
   "cell_type": "markdown",
   "metadata": {
    "id": "PwMgeJ5P0QDS"
   },
   "source": [
    "### O Pandas recomenda o uso do pipe pois torna mais fácil usar suas próprias funções ou as funções de outra biblioteca encadeadas com os métodos do pandas.\n"
   ]
  },
  {
   "cell_type": "code",
   "execution_count": 8,
   "metadata": {
    "id": "vVuPF8HP0QDS"
   },
   "outputs": [
    {
     "data": {
      "text/html": [
       "<div>\n",
       "<style scoped>\n",
       "    .dataframe tbody tr th:only-of-type {\n",
       "        vertical-align: middle;\n",
       "    }\n",
       "\n",
       "    .dataframe tbody tr th {\n",
       "        vertical-align: top;\n",
       "    }\n",
       "\n",
       "    .dataframe thead th {\n",
       "        text-align: right;\n",
       "    }\n",
       "</style>\n",
       "<table border=\"1\" class=\"dataframe\">\n",
       "  <thead>\n",
       "    <tr style=\"text-align: right;\">\n",
       "      <th></th>\n",
       "      <th>UF</th>\n",
       "      <th>CASOS</th>\n",
       "      <th>OBITOS</th>\n",
       "      <th>OBITOSMILHARES</th>\n",
       "      <th>CASOSMILHARES</th>\n",
       "      <th>LETALIDADE</th>\n",
       "    </tr>\n",
       "    <tr>\n",
       "      <th>REGIAO</th>\n",
       "      <th></th>\n",
       "      <th></th>\n",
       "      <th></th>\n",
       "      <th></th>\n",
       "      <th></th>\n",
       "      <th></th>\n",
       "    </tr>\n",
       "  </thead>\n",
       "  <tbody>\n",
       "    <tr>\n",
       "      <th>Centro-Oeste</th>\n",
       "      <td>DFGOMSMT</td>\n",
       "      <td>4574674</td>\n",
       "      <td>67252</td>\n",
       "      <td>67.252</td>\n",
       "      <td>4574.674</td>\n",
       "      <td>6.079386</td>\n",
       "    </tr>\n",
       "    <tr>\n",
       "      <th>Nordeste</th>\n",
       "      <td>DFGOMSMTALBACEMAPBPEPIRNSE</td>\n",
       "      <td>12146631</td>\n",
       "      <td>204209</td>\n",
       "      <td>204.209</td>\n",
       "      <td>12146.631</td>\n",
       "      <td>22.623923</td>\n",
       "    </tr>\n",
       "    <tr>\n",
       "      <th>Norte</th>\n",
       "      <td>DFGOMSMTALBACEMAPBPEPIRNSEACAMAPPARORRTO</td>\n",
       "      <td>15130672</td>\n",
       "      <td>256323</td>\n",
       "      <td>256.323</td>\n",
       "      <td>15130.672</td>\n",
       "      <td>33.156882</td>\n",
       "    </tr>\n",
       "    <tr>\n",
       "      <th>Sudeste</th>\n",
       "      <td>DFGOMSMTALBACEMAPBPEPIRNSEACAMAPPARORRTOESMGRJSP</td>\n",
       "      <td>30725146</td>\n",
       "      <td>600860</td>\n",
       "      <td>600.860</td>\n",
       "      <td>30725.146</td>\n",
       "      <td>41.102084</td>\n",
       "    </tr>\n",
       "    <tr>\n",
       "      <th>Sul</th>\n",
       "      <td>DFGOMSMTALBACEMAPBPEPIRNSEACAMAPPARORRTOESMGRJ...</td>\n",
       "      <td>38991809</td>\n",
       "      <td>714078</td>\n",
       "      <td>714.078</td>\n",
       "      <td>38991.809</td>\n",
       "      <td>45.129409</td>\n",
       "    </tr>\n",
       "  </tbody>\n",
       "</table>\n",
       "</div>"
      ],
      "text/plain": [
       "                                                             UF     CASOS  \\\n",
       "REGIAO                                                                      \n",
       "Centro-Oeste                                           DFGOMSMT   4574674   \n",
       "Nordeste                             DFGOMSMTALBACEMAPBPEPIRNSE  12146631   \n",
       "Norte                  DFGOMSMTALBACEMAPBPEPIRNSEACAMAPPARORRTO  15130672   \n",
       "Sudeste        DFGOMSMTALBACEMAPBPEPIRNSEACAMAPPARORRTOESMGRJSP  30725146   \n",
       "Sul           DFGOMSMTALBACEMAPBPEPIRNSEACAMAPPARORRTOESMGRJ...  38991809   \n",
       "\n",
       "              OBITOS  OBITOSMILHARES  CASOSMILHARES  LETALIDADE  \n",
       "REGIAO                                                           \n",
       "Centro-Oeste   67252          67.252       4574.674    6.079386  \n",
       "Nordeste      204209         204.209      12146.631   22.623923  \n",
       "Norte         256323         256.323      15130.672   33.156882  \n",
       "Sudeste       600860         600.860      30725.146   41.102084  \n",
       "Sul           714078         714.078      38991.809   45.129409  "
      ]
     },
     "execution_count": 8,
     "metadata": {},
     "output_type": "execute_result"
    }
   ],
   "source": [
    "(df.groupby('REGIAO')\n",
    "    .pipe(lambda x: x.sum())\n",
    "    .pipe(calculaobitosemmilhares)\n",
    "    .pipe(calculacasosemmilhares)\n",
    "    .pipe(lambda x: x.cumsum())\n",
    "    .head()\n",
    ")"
   ]
  },
  {
   "cell_type": "markdown",
   "metadata": {
    "id": "j09Mnaty0QDS"
   },
   "source": [
    "### Aplicação de função em linha ou coluna \n",
    "\n",
    "As funções arbitrárias podem ser aplicadas ao longo dos eixos de um DataFrame usando o método apply(), que, como os métodos de estatística descritiva, tem um axis argumento opcional"
   ]
  },
  {
   "cell_type": "code",
   "execution_count": 37,
   "metadata": {
    "id": "tupWLevj0QDS"
   },
   "outputs": [
    {
     "data": {
      "text/html": [
       "<div>\n",
       "<style scoped>\n",
       "    .dataframe tbody tr th:only-of-type {\n",
       "        vertical-align: middle;\n",
       "    }\n",
       "\n",
       "    .dataframe tbody tr th {\n",
       "        vertical-align: top;\n",
       "    }\n",
       "\n",
       "    .dataframe thead th {\n",
       "        text-align: right;\n",
       "    }\n",
       "</style>\n",
       "<table border=\"1\" class=\"dataframe\">\n",
       "  <thead>\n",
       "    <tr style=\"text-align: right;\">\n",
       "      <th></th>\n",
       "      <th>REGIAO</th>\n",
       "      <th>UF</th>\n",
       "      <th>CASOS</th>\n",
       "      <th>OBITOS</th>\n",
       "    </tr>\n",
       "  </thead>\n",
       "  <tbody>\n",
       "    <tr>\n",
       "      <th>0</th>\n",
       "      <td>Centro-Oeste</td>\n",
       "      <td>DF</td>\n",
       "      <td>955540</td>\n",
       "      <td>12025</td>\n",
       "    </tr>\n",
       "    <tr>\n",
       "      <th>1</th>\n",
       "      <td>Centro-Oeste</td>\n",
       "      <td>GO</td>\n",
       "      <td>2060518</td>\n",
       "      <td>28669</td>\n",
       "    </tr>\n",
       "    <tr>\n",
       "      <th>2</th>\n",
       "      <td>Centro-Oeste</td>\n",
       "      <td>MS</td>\n",
       "      <td>637169</td>\n",
       "      <td>11305</td>\n",
       "    </tr>\n",
       "    <tr>\n",
       "      <th>3</th>\n",
       "      <td>Centro-Oeste</td>\n",
       "      <td>MT</td>\n",
       "      <td>921447</td>\n",
       "      <td>15253</td>\n",
       "    </tr>\n",
       "    <tr>\n",
       "      <th>4</th>\n",
       "      <td>Nordeste</td>\n",
       "      <td>AL</td>\n",
       "      <td>348701</td>\n",
       "      <td>7355</td>\n",
       "    </tr>\n",
       "  </tbody>\n",
       "</table>\n",
       "</div>"
      ],
      "text/plain": [
       "         REGIAO  UF    CASOS  OBITOS\n",
       "0  Centro-Oeste  DF   955540   12025\n",
       "1  Centro-Oeste  GO  2060518   28669\n",
       "2  Centro-Oeste  MS   637169   11305\n",
       "3  Centro-Oeste  MT   921447   15253\n",
       "4      Nordeste  AL   348701    7355"
      ]
     },
     "execution_count": 37,
     "metadata": {},
     "output_type": "execute_result"
    }
   ],
   "source": [
    "df = pd.read_csv('totaisestadoscomregiao_arr.csv', sep=';'\n",
    "                 ,names =['REGIAO','UF','CASOS','OBITOS'])\n",
    "df.head()"
   ]
  },
  {
   "cell_type": "code",
   "execution_count": 38,
   "metadata": {
    "id": "dBIT3w0p0QDS"
   },
   "outputs": [
    {
     "data": {
      "text/plain": [
       "CASOS     1.444141e+06\n",
       "OBITOS    2.644733e+04\n",
       "dtype: float64"
      ]
     },
     "execution_count": 38,
     "metadata": {},
     "output_type": "execute_result"
    }
   ],
   "source": [
    "df[['CASOS', 'OBITOS']].apply(np.mean)"
   ]
  },
  {
   "cell_type": "code",
   "execution_count": 39,
   "metadata": {
    "id": "Wic8f7ixyEbj"
   },
   "outputs": [
    {
     "data": {
      "text/html": [
       "<div>\n",
       "<style scoped>\n",
       "    .dataframe tbody tr th:only-of-type {\n",
       "        vertical-align: middle;\n",
       "    }\n",
       "\n",
       "    .dataframe tbody tr th {\n",
       "        vertical-align: top;\n",
       "    }\n",
       "\n",
       "    .dataframe thead th {\n",
       "        text-align: right;\n",
       "    }\n",
       "</style>\n",
       "<table border=\"1\" class=\"dataframe\">\n",
       "  <thead>\n",
       "    <tr style=\"text-align: right;\">\n",
       "      <th></th>\n",
       "      <th>0</th>\n",
       "      <th>1</th>\n",
       "      <th>2</th>\n",
       "      <th>3</th>\n",
       "      <th>4</th>\n",
       "      <th>5</th>\n",
       "      <th>6</th>\n",
       "      <th>7</th>\n",
       "      <th>8</th>\n",
       "      <th>9</th>\n",
       "      <th>...</th>\n",
       "      <th>17</th>\n",
       "      <th>18</th>\n",
       "      <th>19</th>\n",
       "      <th>20</th>\n",
       "      <th>21</th>\n",
       "      <th>22</th>\n",
       "      <th>23</th>\n",
       "      <th>24</th>\n",
       "      <th>25</th>\n",
       "      <th>26</th>\n",
       "    </tr>\n",
       "  </thead>\n",
       "  <tbody>\n",
       "    <tr>\n",
       "      <th>CASOS</th>\n",
       "      <td>955540</td>\n",
       "      <td>2060518</td>\n",
       "      <td>637169</td>\n",
       "      <td>921447</td>\n",
       "      <td>348701</td>\n",
       "      <td>1844481</td>\n",
       "      <td>1508135</td>\n",
       "      <td>501121</td>\n",
       "      <td>725917</td>\n",
       "      <td>1235360</td>\n",
       "      <td>...</td>\n",
       "      <td>505111</td>\n",
       "      <td>190318</td>\n",
       "      <td>382320</td>\n",
       "      <td>1384800</td>\n",
       "      <td>4335714</td>\n",
       "      <td>2966219</td>\n",
       "      <td>6907741</td>\n",
       "      <td>3031840</td>\n",
       "      <td>3144956</td>\n",
       "      <td>2089867</td>\n",
       "    </tr>\n",
       "    <tr>\n",
       "      <th>OBITOS</th>\n",
       "      <td>12025</td>\n",
       "      <td>28669</td>\n",
       "      <td>11305</td>\n",
       "      <td>15253</td>\n",
       "      <td>7355</td>\n",
       "      <td>32034</td>\n",
       "      <td>28215</td>\n",
       "      <td>11103</td>\n",
       "      <td>10669</td>\n",
       "      <td>23240</td>\n",
       "      <td>...</td>\n",
       "      <td>7527</td>\n",
       "      <td>2202</td>\n",
       "      <td>4305</td>\n",
       "      <td>15214</td>\n",
       "      <td>66850</td>\n",
       "      <td>78238</td>\n",
       "      <td>184235</td>\n",
       "      <td>47029</td>\n",
       "      <td>43044</td>\n",
       "      <td>23145</td>\n",
       "    </tr>\n",
       "  </tbody>\n",
       "</table>\n",
       "<p>2 rows × 27 columns</p>\n",
       "</div>"
      ],
      "text/plain": [
       "            0        1       2       3       4        5        6       7   \\\n",
       "CASOS   955540  2060518  637169  921447  348701  1844481  1508135  501121   \n",
       "OBITOS   12025    28669   11305   15253    7355    32034    28215   11103   \n",
       "\n",
       "            8        9   ...      17      18      19       20       21  \\\n",
       "CASOS   725917  1235360  ...  505111  190318  382320  1384800  4335714   \n",
       "OBITOS   10669    23240  ...    7527    2202    4305    15214    66850   \n",
       "\n",
       "             22       23       24       25       26  \n",
       "CASOS   2966219  6907741  3031840  3144956  2089867  \n",
       "OBITOS    78238   184235    47029    43044    23145  \n",
       "\n",
       "[2 rows x 27 columns]"
      ]
     },
     "execution_count": 39,
     "metadata": {},
     "output_type": "execute_result"
    }
   ],
   "source": [
    "dfT = df[['CASOS', 'OBITOS']].T\n",
    "dfT"
   ]
  },
  {
   "cell_type": "code",
   "execution_count": 40,
   "metadata": {
    "id": "6bT5WmUp0QDS"
   },
   "outputs": [
    {
     "data": {
      "text/plain": [
       "CASOS     1.444141e+06\n",
       "OBITOS    2.644733e+04\n",
       "dtype: float64"
      ]
     },
     "execution_count": 40,
     "metadata": {},
     "output_type": "execute_result"
    }
   ],
   "source": [
    "dfT.apply(np.mean, axis=1)"
   ]
  },
  {
   "cell_type": "code",
   "execution_count": 41,
   "metadata": {
    "id": "Wv9boVem0QDS"
   },
   "outputs": [
    {
     "data": {
      "text/plain": [
       "CASOS     6738116\n",
       "OBITOS     182152\n",
       "dtype: int64"
      ]
     },
     "execution_count": 41,
     "metadata": {},
     "output_type": "execute_result"
    }
   ],
   "source": [
    "df[['CASOS', 'OBITOS']].apply(lambda x: x.max() - x.min())"
   ]
  },
  {
   "cell_type": "code",
   "execution_count": 42,
   "metadata": {
    "id": "oC_Ul6aT0QDS"
   },
   "outputs": [
    {
     "data": {
      "text/html": [
       "<div>\n",
       "<style scoped>\n",
       "    .dataframe tbody tr th:only-of-type {\n",
       "        vertical-align: middle;\n",
       "    }\n",
       "\n",
       "    .dataframe tbody tr th {\n",
       "        vertical-align: top;\n",
       "    }\n",
       "\n",
       "    .dataframe thead th {\n",
       "        text-align: right;\n",
       "    }\n",
       "</style>\n",
       "<table border=\"1\" class=\"dataframe\">\n",
       "  <thead>\n",
       "    <tr style=\"text-align: right;\">\n",
       "      <th></th>\n",
       "      <th>CASOS</th>\n",
       "      <th>OBITOS</th>\n",
       "    </tr>\n",
       "  </thead>\n",
       "  <tbody>\n",
       "    <tr>\n",
       "      <th>22</th>\n",
       "      <td>23817405</td>\n",
       "      <td>416625</td>\n",
       "    </tr>\n",
       "    <tr>\n",
       "      <th>23</th>\n",
       "      <td>30725146</td>\n",
       "      <td>600860</td>\n",
       "    </tr>\n",
       "    <tr>\n",
       "      <th>24</th>\n",
       "      <td>33756986</td>\n",
       "      <td>647889</td>\n",
       "    </tr>\n",
       "    <tr>\n",
       "      <th>25</th>\n",
       "      <td>36901942</td>\n",
       "      <td>690933</td>\n",
       "    </tr>\n",
       "    <tr>\n",
       "      <th>26</th>\n",
       "      <td>38991809</td>\n",
       "      <td>714078</td>\n",
       "    </tr>\n",
       "  </tbody>\n",
       "</table>\n",
       "</div>"
      ],
      "text/plain": [
       "       CASOS  OBITOS\n",
       "22  23817405  416625\n",
       "23  30725146  600860\n",
       "24  33756986  647889\n",
       "25  36901942  690933\n",
       "26  38991809  714078"
      ]
     },
     "execution_count": 42,
     "metadata": {},
     "output_type": "execute_result"
    }
   ],
   "source": [
    "df[['CASOS', 'OBITOS']].apply(np.cumsum).tail()"
   ]
  },
  {
   "cell_type": "code",
   "execution_count": 43,
   "metadata": {
    "id": "x1-7YqgI0QDS"
   },
   "outputs": [
    {
     "data": {
      "text/html": [
       "<div>\n",
       "<style scoped>\n",
       "    .dataframe tbody tr th:only-of-type {\n",
       "        vertical-align: middle;\n",
       "    }\n",
       "\n",
       "    .dataframe tbody tr th {\n",
       "        vertical-align: top;\n",
       "    }\n",
       "\n",
       "    .dataframe thead th {\n",
       "        text-align: right;\n",
       "    }\n",
       "</style>\n",
       "<table border=\"1\" class=\"dataframe\">\n",
       "  <thead>\n",
       "    <tr style=\"text-align: right;\">\n",
       "      <th></th>\n",
       "      <th>CASOS</th>\n",
       "      <th>OBITOS</th>\n",
       "    </tr>\n",
       "  </thead>\n",
       "  <tbody>\n",
       "    <tr>\n",
       "      <th>22</th>\n",
       "      <td>14.902799</td>\n",
       "      <td>11.267511</td>\n",
       "    </tr>\n",
       "    <tr>\n",
       "      <th>23</th>\n",
       "      <td>15.748153</td>\n",
       "      <td>12.123967</td>\n",
       "    </tr>\n",
       "    <tr>\n",
       "      <th>24</th>\n",
       "      <td>14.924680</td>\n",
       "      <td>10.758520</td>\n",
       "    </tr>\n",
       "    <tr>\n",
       "      <th>25</th>\n",
       "      <td>14.961310</td>\n",
       "      <td>10.669978</td>\n",
       "    </tr>\n",
       "    <tr>\n",
       "      <th>26</th>\n",
       "      <td>14.552611</td>\n",
       "      <td>10.049534</td>\n",
       "    </tr>\n",
       "  </tbody>\n",
       "</table>\n",
       "</div>"
      ],
      "text/plain": [
       "        CASOS     OBITOS\n",
       "22  14.902799  11.267511\n",
       "23  15.748153  12.123967\n",
       "24  14.924680  10.758520\n",
       "25  14.961310  10.669978\n",
       "26  14.552611  10.049534"
      ]
     },
     "execution_count": 43,
     "metadata": {},
     "output_type": "execute_result"
    }
   ],
   "source": [
    "df[['CASOS', 'OBITOS']].apply(np.log).tail()"
   ]
  },
  {
   "cell_type": "markdown",
   "metadata": {
    "id": "dbfE7asB0QDS"
   },
   "source": [
    "O método apply() também pode ser passado um nome de método como texto"
   ]
  },
  {
   "cell_type": "code",
   "execution_count": 44,
   "metadata": {
    "id": "lA5X8qbN0QDS"
   },
   "outputs": [
    {
     "data": {
      "text/plain": [
       "CASOS     1.444141e+06\n",
       "OBITOS    2.644733e+04\n",
       "dtype: float64"
      ]
     },
     "execution_count": 44,
     "metadata": {},
     "output_type": "execute_result"
    }
   ],
   "source": [
    "df[['CASOS', 'OBITOS']].apply('mean')"
   ]
  },
  {
   "cell_type": "code",
   "execution_count": 45,
   "metadata": {
    "id": "i0lGoYI50QDS"
   },
   "outputs": [
    {
     "data": {
      "text/plain": [
       "CASOS     1.444141e+06\n",
       "OBITOS    2.644733e+04\n",
       "dtype: float64"
      ]
     },
     "execution_count": 45,
     "metadata": {},
     "output_type": "execute_result"
    }
   ],
   "source": [
    "df[['CASOS', 'OBITOS']].T.apply('mean', axis=1)"
   ]
  },
  {
   "cell_type": "code",
   "execution_count": 46,
   "metadata": {
    "id": "OufvS0ay0QDS"
   },
   "outputs": [
    {
     "data": {
      "text/plain": [
       "CASOS     23\n",
       "OBITOS    23\n",
       "dtype: int64"
      ]
     },
     "execution_count": 46,
     "metadata": {},
     "output_type": "execute_result"
    }
   ],
   "source": [
    "df[['CASOS', 'OBITOS']].apply(lambda x: x.idxmax())"
   ]
  },
  {
   "cell_type": "markdown",
   "metadata": {
    "id": "Ez1z1ihX0QDS"
   },
   "source": [
    "### Pode passar argumentos adicionais e argumentos de palavra-chave para o método apply() ."
   ]
  },
  {
   "cell_type": "code",
   "execution_count": 47,
   "metadata": {
    "id": "SK2_IRdu0QDS"
   },
   "outputs": [],
   "source": [
    "def valores_em_outra_unidade(x, divisor=1000):\n",
    "    return (x / divisor)\n",
    "    "
   ]
  },
  {
   "cell_type": "code",
   "execution_count": 48,
   "metadata": {
    "id": "whpM2wRJ0QDS"
   },
   "outputs": [
    {
     "data": {
      "text/html": [
       "<div>\n",
       "<style scoped>\n",
       "    .dataframe tbody tr th:only-of-type {\n",
       "        vertical-align: middle;\n",
       "    }\n",
       "\n",
       "    .dataframe tbody tr th {\n",
       "        vertical-align: top;\n",
       "    }\n",
       "\n",
       "    .dataframe thead th {\n",
       "        text-align: right;\n",
       "    }\n",
       "</style>\n",
       "<table border=\"1\" class=\"dataframe\">\n",
       "  <thead>\n",
       "    <tr style=\"text-align: right;\">\n",
       "      <th></th>\n",
       "      <th>CASOS</th>\n",
       "      <th>OBITOS</th>\n",
       "    </tr>\n",
       "  </thead>\n",
       "  <tbody>\n",
       "    <tr>\n",
       "      <th>0</th>\n",
       "      <td>955.540</td>\n",
       "      <td>12.025</td>\n",
       "    </tr>\n",
       "    <tr>\n",
       "      <th>1</th>\n",
       "      <td>2060.518</td>\n",
       "      <td>28.669</td>\n",
       "    </tr>\n",
       "    <tr>\n",
       "      <th>2</th>\n",
       "      <td>637.169</td>\n",
       "      <td>11.305</td>\n",
       "    </tr>\n",
       "    <tr>\n",
       "      <th>3</th>\n",
       "      <td>921.447</td>\n",
       "      <td>15.253</td>\n",
       "    </tr>\n",
       "    <tr>\n",
       "      <th>4</th>\n",
       "      <td>348.701</td>\n",
       "      <td>7.355</td>\n",
       "    </tr>\n",
       "  </tbody>\n",
       "</table>\n",
       "</div>"
      ],
      "text/plain": [
       "      CASOS  OBITOS\n",
       "0   955.540  12.025\n",
       "1  2060.518  28.669\n",
       "2   637.169  11.305\n",
       "3   921.447  15.253\n",
       "4   348.701   7.355"
      ]
     },
     "execution_count": 48,
     "metadata": {},
     "output_type": "execute_result"
    }
   ],
   "source": [
    "df[['CASOS', 'OBITOS']].apply(valores_em_outra_unidade, divisor=1000).head()"
   ]
  },
  {
   "cell_type": "markdown",
   "metadata": {
    "id": "kThkoMBM0QDT"
   },
   "source": [
    "# API Transform \n",
    "- O método transform() retorna um objeto indexado com o mesmo (mesmo tamanho) do original.\n",
    "- Essa api é muito semelhante à API .agg."
   ]
  },
  {
   "cell_type": "code",
   "execution_count": 49,
   "metadata": {
    "id": "faGqteXj0QDT"
   },
   "outputs": [
    {
     "data": {
      "text/html": [
       "<div>\n",
       "<style scoped>\n",
       "    .dataframe tbody tr th:only-of-type {\n",
       "        vertical-align: middle;\n",
       "    }\n",
       "\n",
       "    .dataframe tbody tr th {\n",
       "        vertical-align: top;\n",
       "    }\n",
       "\n",
       "    .dataframe thead th {\n",
       "        text-align: right;\n",
       "    }\n",
       "</style>\n",
       "<table border=\"1\" class=\"dataframe\">\n",
       "  <thead>\n",
       "    <tr style=\"text-align: right;\">\n",
       "      <th></th>\n",
       "      <th>REGIAO</th>\n",
       "      <th>CASOS</th>\n",
       "      <th>OBITOS</th>\n",
       "    </tr>\n",
       "  </thead>\n",
       "  <tbody>\n",
       "    <tr>\n",
       "      <th>0</th>\n",
       "      <td>Centro-Oeste</td>\n",
       "      <td>4574674</td>\n",
       "      <td>67252</td>\n",
       "    </tr>\n",
       "    <tr>\n",
       "      <th>1</th>\n",
       "      <td>Nordeste</td>\n",
       "      <td>7571957</td>\n",
       "      <td>136957</td>\n",
       "    </tr>\n",
       "    <tr>\n",
       "      <th>2</th>\n",
       "      <td>Norte</td>\n",
       "      <td>2984041</td>\n",
       "      <td>52114</td>\n",
       "    </tr>\n",
       "    <tr>\n",
       "      <th>3</th>\n",
       "      <td>Sudeste</td>\n",
       "      <td>15594474</td>\n",
       "      <td>344537</td>\n",
       "    </tr>\n",
       "    <tr>\n",
       "      <th>4</th>\n",
       "      <td>Sul</td>\n",
       "      <td>8266663</td>\n",
       "      <td>113218</td>\n",
       "    </tr>\n",
       "  </tbody>\n",
       "</table>\n",
       "</div>"
      ],
      "text/plain": [
       "         REGIAO     CASOS  OBITOS\n",
       "0  Centro-Oeste   4574674   67252\n",
       "1      Nordeste   7571957  136957\n",
       "2         Norte   2984041   52114\n",
       "3       Sudeste  15594474  344537\n",
       "4           Sul   8266663  113218"
      ]
     },
     "execution_count": 49,
     "metadata": {},
     "output_type": "execute_result"
    }
   ],
   "source": [
    "df = pd.read_csv('totaisregioes_arr.csv', sep=';',names =['REGIAO','CASOS','OBITOS'])\n",
    "df.head()"
   ]
  },
  {
   "cell_type": "code",
   "execution_count": 24,
   "metadata": {
    "id": "skMlr_nHyEbk"
   },
   "outputs": [
    {
     "data": {
      "text/html": [
       "<div>\n",
       "<style scoped>\n",
       "    .dataframe tbody tr th:only-of-type {\n",
       "        vertical-align: middle;\n",
       "    }\n",
       "\n",
       "    .dataframe tbody tr th {\n",
       "        vertical-align: top;\n",
       "    }\n",
       "\n",
       "    .dataframe thead th {\n",
       "        text-align: right;\n",
       "    }\n",
       "</style>\n",
       "<table border=\"1\" class=\"dataframe\">\n",
       "  <thead>\n",
       "    <tr style=\"text-align: right;\">\n",
       "      <th></th>\n",
       "      <th>REGIAO</th>\n",
       "      <th>CASOS</th>\n",
       "      <th>OBITOS</th>\n",
       "    </tr>\n",
       "  </thead>\n",
       "  <tbody>\n",
       "    <tr>\n",
       "      <th>0</th>\n",
       "      <td>Centro-Oeste</td>\n",
       "      <td>4574674</td>\n",
       "      <td>67252</td>\n",
       "    </tr>\n",
       "    <tr>\n",
       "      <th>1</th>\n",
       "      <td>Nordeste</td>\n",
       "      <td>7571957</td>\n",
       "      <td>136957</td>\n",
       "    </tr>\n",
       "    <tr>\n",
       "      <th>2</th>\n",
       "      <td>Norte</td>\n",
       "      <td>2984041</td>\n",
       "      <td>52114</td>\n",
       "    </tr>\n",
       "    <tr>\n",
       "      <th>3</th>\n",
       "      <td>Sudeste</td>\n",
       "      <td>-15594474</td>\n",
       "      <td>-344537</td>\n",
       "    </tr>\n",
       "    <tr>\n",
       "      <th>4</th>\n",
       "      <td>Sul</td>\n",
       "      <td>-8266663</td>\n",
       "      <td>-113218</td>\n",
       "    </tr>\n",
       "  </tbody>\n",
       "</table>\n",
       "</div>"
      ],
      "text/plain": [
       "         REGIAO     CASOS  OBITOS\n",
       "0  Centro-Oeste   4574674   67252\n",
       "1      Nordeste   7571957  136957\n",
       "2         Norte   2984041   52114\n",
       "3       Sudeste -15594474 -344537\n",
       "4           Sul  -8266663 -113218"
      ]
     },
     "execution_count": 24,
     "metadata": {},
     "output_type": "execute_result"
    }
   ],
   "source": [
    "df[3:5] = df[3:5].assign(CASOS = lambda x: x['CASOS'] * -1, OBITOS = lambda x: x['OBITOS'] * -1)\n",
    "df.head()"
   ]
  },
  {
   "cell_type": "markdown",
   "metadata": {
    "id": "dfLcXU790QDT"
   },
   "source": [
    "### Transforme todo o quadro. \n",
    ".transform() permite funções de entrada como: uma função NumPy, um nome de função de string ou uma função definida pelo usuário."
   ]
  },
  {
   "cell_type": "code",
   "execution_count": 25,
   "metadata": {
    "id": "ccPeTpI60QDT"
   },
   "outputs": [
    {
     "data": {
      "text/html": [
       "<div>\n",
       "<style scoped>\n",
       "    .dataframe tbody tr th:only-of-type {\n",
       "        vertical-align: middle;\n",
       "    }\n",
       "\n",
       "    .dataframe tbody tr th {\n",
       "        vertical-align: top;\n",
       "    }\n",
       "\n",
       "    .dataframe thead th {\n",
       "        text-align: right;\n",
       "    }\n",
       "</style>\n",
       "<table border=\"1\" class=\"dataframe\">\n",
       "  <thead>\n",
       "    <tr style=\"text-align: right;\">\n",
       "      <th></th>\n",
       "      <th>CASOS</th>\n",
       "      <th>OBITOS</th>\n",
       "    </tr>\n",
       "  </thead>\n",
       "  <tbody>\n",
       "    <tr>\n",
       "      <th>0</th>\n",
       "      <td>4574674</td>\n",
       "      <td>67252</td>\n",
       "    </tr>\n",
       "    <tr>\n",
       "      <th>1</th>\n",
       "      <td>7571957</td>\n",
       "      <td>136957</td>\n",
       "    </tr>\n",
       "    <tr>\n",
       "      <th>2</th>\n",
       "      <td>2984041</td>\n",
       "      <td>52114</td>\n",
       "    </tr>\n",
       "    <tr>\n",
       "      <th>3</th>\n",
       "      <td>15594474</td>\n",
       "      <td>344537</td>\n",
       "    </tr>\n",
       "    <tr>\n",
       "      <th>4</th>\n",
       "      <td>8266663</td>\n",
       "      <td>113218</td>\n",
       "    </tr>\n",
       "  </tbody>\n",
       "</table>\n",
       "</div>"
      ],
      "text/plain": [
       "      CASOS  OBITOS\n",
       "0   4574674   67252\n",
       "1   7571957  136957\n",
       "2   2984041   52114\n",
       "3  15594474  344537\n",
       "4   8266663  113218"
      ]
     },
     "execution_count": 25,
     "metadata": {},
     "output_type": "execute_result"
    }
   ],
   "source": [
    "df[['CASOS', 'OBITOS']].transform(np.abs)"
   ]
  },
  {
   "cell_type": "code",
   "execution_count": 26,
   "metadata": {
    "id": "HOkKLgbD0QDT"
   },
   "outputs": [
    {
     "data": {
      "text/html": [
       "<div>\n",
       "<style scoped>\n",
       "    .dataframe tbody tr th:only-of-type {\n",
       "        vertical-align: middle;\n",
       "    }\n",
       "\n",
       "    .dataframe tbody tr th {\n",
       "        vertical-align: top;\n",
       "    }\n",
       "\n",
       "    .dataframe thead th {\n",
       "        text-align: right;\n",
       "    }\n",
       "</style>\n",
       "<table border=\"1\" class=\"dataframe\">\n",
       "  <thead>\n",
       "    <tr style=\"text-align: right;\">\n",
       "      <th></th>\n",
       "      <th>CASOS</th>\n",
       "      <th>OBITOS</th>\n",
       "    </tr>\n",
       "  </thead>\n",
       "  <tbody>\n",
       "    <tr>\n",
       "      <th>0</th>\n",
       "      <td>4574674</td>\n",
       "      <td>67252</td>\n",
       "    </tr>\n",
       "    <tr>\n",
       "      <th>1</th>\n",
       "      <td>7571957</td>\n",
       "      <td>136957</td>\n",
       "    </tr>\n",
       "    <tr>\n",
       "      <th>2</th>\n",
       "      <td>2984041</td>\n",
       "      <td>52114</td>\n",
       "    </tr>\n",
       "    <tr>\n",
       "      <th>3</th>\n",
       "      <td>15594474</td>\n",
       "      <td>344537</td>\n",
       "    </tr>\n",
       "    <tr>\n",
       "      <th>4</th>\n",
       "      <td>8266663</td>\n",
       "      <td>113218</td>\n",
       "    </tr>\n",
       "  </tbody>\n",
       "</table>\n",
       "</div>"
      ],
      "text/plain": [
       "      CASOS  OBITOS\n",
       "0   4574674   67252\n",
       "1   7571957  136957\n",
       "2   2984041   52114\n",
       "3  15594474  344537\n",
       "4   8266663  113218"
      ]
     },
     "execution_count": 26,
     "metadata": {},
     "output_type": "execute_result"
    }
   ],
   "source": [
    "df[['CASOS', 'OBITOS']].transform('abs')\n"
   ]
  },
  {
   "cell_type": "code",
   "execution_count": 27,
   "metadata": {
    "id": "fdAPcDcx0QDU"
   },
   "outputs": [
    {
     "data": {
      "text/html": [
       "<div>\n",
       "<style scoped>\n",
       "    .dataframe tbody tr th:only-of-type {\n",
       "        vertical-align: middle;\n",
       "    }\n",
       "\n",
       "    .dataframe tbody tr th {\n",
       "        vertical-align: top;\n",
       "    }\n",
       "\n",
       "    .dataframe thead th {\n",
       "        text-align: right;\n",
       "    }\n",
       "</style>\n",
       "<table border=\"1\" class=\"dataframe\">\n",
       "  <thead>\n",
       "    <tr style=\"text-align: right;\">\n",
       "      <th></th>\n",
       "      <th>CASOS</th>\n",
       "      <th>OBITOS</th>\n",
       "    </tr>\n",
       "  </thead>\n",
       "  <tbody>\n",
       "    <tr>\n",
       "      <th>0</th>\n",
       "      <td>4574674</td>\n",
       "      <td>67252</td>\n",
       "    </tr>\n",
       "    <tr>\n",
       "      <th>1</th>\n",
       "      <td>7571957</td>\n",
       "      <td>136957</td>\n",
       "    </tr>\n",
       "    <tr>\n",
       "      <th>2</th>\n",
       "      <td>2984041</td>\n",
       "      <td>52114</td>\n",
       "    </tr>\n",
       "    <tr>\n",
       "      <th>3</th>\n",
       "      <td>15594474</td>\n",
       "      <td>344537</td>\n",
       "    </tr>\n",
       "    <tr>\n",
       "      <th>4</th>\n",
       "      <td>8266663</td>\n",
       "      <td>113218</td>\n",
       "    </tr>\n",
       "  </tbody>\n",
       "</table>\n",
       "</div>"
      ],
      "text/plain": [
       "      CASOS  OBITOS\n",
       "0   4574674   67252\n",
       "1   7571957  136957\n",
       "2   2984041   52114\n",
       "3  15594474  344537\n",
       "4   8266663  113218"
      ]
     },
     "execution_count": 27,
     "metadata": {},
     "output_type": "execute_result"
    }
   ],
   "source": [
    "df[['CASOS', 'OBITOS']].transform(lambda x: x.abs())"
   ]
  },
  {
   "cell_type": "markdown",
   "metadata": {
    "id": "5MBqAgIC0QDU"
   },
   "source": [
    "### Passar uma única função para .transform()  com um Series  resultará em uma única Series em retorno."
   ]
  },
  {
   "cell_type": "code",
   "execution_count": 28,
   "metadata": {
    "id": "HX-BN56b0QDU"
   },
   "outputs": [
    {
     "data": {
      "text/plain": [
       "0     20927642206276\n",
       "1     57334532809849\n",
       "2      8904500689681\n",
       "3    243187619336676\n",
       "4     68337717155569\n",
       "Name: CASOS, dtype: int64"
      ]
     },
     "execution_count": 28,
     "metadata": {},
     "output_type": "execute_result"
    }
   ],
   "source": [
    "df['CASOS'].transform(np.square)"
   ]
  },
  {
   "cell_type": "markdown",
   "metadata": {
    "id": "7eyP95jf0QDU"
   },
   "source": [
    "### Transforme com várias funções \n",
    "A passagem de várias funções produzirá uma coluna MultiIndexed DataFrame. O primeiro nível será os nomes das colunas do quadro original; o segundo nível serão os nomes das funções de transformação."
   ]
  },
  {
   "cell_type": "code",
   "execution_count": 51,
   "metadata": {},
   "outputs": [
    {
     "data": {
      "text/plain": [
       "REGIAO    object\n",
       "CASOS      int64\n",
       "OBITOS     int64\n",
       "dtype: object"
      ]
     },
     "execution_count": 51,
     "metadata": {},
     "output_type": "execute_result"
    }
   ],
   "source": [
    "df.dtypes"
   ]
  },
  {
   "cell_type": "code",
   "execution_count": 52,
   "metadata": {
    "id": "Sd6CePSR0QDU"
   },
   "outputs": [
    {
     "data": {
      "text/html": [
       "<div>\n",
       "<style scoped>\n",
       "    .dataframe tbody tr th:only-of-type {\n",
       "        vertical-align: middle;\n",
       "    }\n",
       "\n",
       "    .dataframe tbody tr th {\n",
       "        vertical-align: top;\n",
       "    }\n",
       "\n",
       "    .dataframe thead tr th {\n",
       "        text-align: left;\n",
       "    }\n",
       "</style>\n",
       "<table border=\"1\" class=\"dataframe\">\n",
       "  <thead>\n",
       "    <tr>\n",
       "      <th></th>\n",
       "      <th colspan=\"3\" halign=\"left\">CASOS</th>\n",
       "      <th colspan=\"3\" halign=\"left\">OBITOS</th>\n",
       "    </tr>\n",
       "    <tr>\n",
       "      <th></th>\n",
       "      <th>absolute</th>\n",
       "      <th>&lt;lambda&gt;</th>\n",
       "      <th>log</th>\n",
       "      <th>absolute</th>\n",
       "      <th>&lt;lambda&gt;</th>\n",
       "      <th>log</th>\n",
       "    </tr>\n",
       "  </thead>\n",
       "  <tbody>\n",
       "    <tr>\n",
       "      <th>0</th>\n",
       "      <td>4574674</td>\n",
       "      <td>4574.674</td>\n",
       "      <td>15.336046</td>\n",
       "      <td>67252</td>\n",
       "      <td>67.252</td>\n",
       "      <td>11.116202</td>\n",
       "    </tr>\n",
       "    <tr>\n",
       "      <th>1</th>\n",
       "      <td>7571957</td>\n",
       "      <td>7571.957</td>\n",
       "      <td>15.839962</td>\n",
       "      <td>136957</td>\n",
       "      <td>136.957</td>\n",
       "      <td>11.827422</td>\n",
       "    </tr>\n",
       "    <tr>\n",
       "      <th>2</th>\n",
       "      <td>2984041</td>\n",
       "      <td>2984.041</td>\n",
       "      <td>14.908789</td>\n",
       "      <td>52114</td>\n",
       "      <td>52.114</td>\n",
       "      <td>10.861189</td>\n",
       "    </tr>\n",
       "    <tr>\n",
       "      <th>3</th>\n",
       "      <td>15594474</td>\n",
       "      <td>15594.474</td>\n",
       "      <td>16.562427</td>\n",
       "      <td>344537</td>\n",
       "      <td>344.537</td>\n",
       "      <td>12.749957</td>\n",
       "    </tr>\n",
       "    <tr>\n",
       "      <th>4</th>\n",
       "      <td>8266663</td>\n",
       "      <td>8266.663</td>\n",
       "      <td>15.927741</td>\n",
       "      <td>113218</td>\n",
       "      <td>113.218</td>\n",
       "      <td>11.637070</td>\n",
       "    </tr>\n",
       "  </tbody>\n",
       "</table>\n",
       "</div>"
      ],
      "text/plain": [
       "      CASOS                         OBITOS                    \n",
       "   absolute   <lambda>        log absolute <lambda>        log\n",
       "0   4574674   4574.674  15.336046    67252   67.252  11.116202\n",
       "1   7571957   7571.957  15.839962   136957  136.957  11.827422\n",
       "2   2984041   2984.041  14.908789    52114   52.114  10.861189\n",
       "3  15594474  15594.474  16.562427   344537  344.537  12.749957\n",
       "4   8266663   8266.663  15.927741   113218  113.218  11.637070"
      ]
     },
     "execution_count": 52,
     "metadata": {},
     "output_type": "execute_result"
    }
   ],
   "source": [
    "df[['CASOS', 'OBITOS']].transform([np.abs, lambda x: x /1000, np.log])"
   ]
  },
  {
   "cell_type": "markdown",
   "metadata": {
    "id": "4Vfj_AaI0QDU"
   },
   "source": [
    "Passar várias funções para uma série produzirá um DataFrame. Os nomes das colunas resultantes serão as funções de transformação."
   ]
  },
  {
   "cell_type": "code",
   "execution_count": 53,
   "metadata": {
    "id": "3JDqCATV0QDU"
   },
   "outputs": [
    {
     "data": {
      "text/html": [
       "<div>\n",
       "<style scoped>\n",
       "    .dataframe tbody tr th:only-of-type {\n",
       "        vertical-align: middle;\n",
       "    }\n",
       "\n",
       "    .dataframe tbody tr th {\n",
       "        vertical-align: top;\n",
       "    }\n",
       "\n",
       "    .dataframe thead th {\n",
       "        text-align: right;\n",
       "    }\n",
       "</style>\n",
       "<table border=\"1\" class=\"dataframe\">\n",
       "  <thead>\n",
       "    <tr style=\"text-align: right;\">\n",
       "      <th></th>\n",
       "      <th>absolute</th>\n",
       "      <th>&lt;lambda&gt;</th>\n",
       "      <th>log</th>\n",
       "    </tr>\n",
       "  </thead>\n",
       "  <tbody>\n",
       "    <tr>\n",
       "      <th>0</th>\n",
       "      <td>4574674</td>\n",
       "      <td>4574.674</td>\n",
       "      <td>15.336046</td>\n",
       "    </tr>\n",
       "    <tr>\n",
       "      <th>1</th>\n",
       "      <td>7571957</td>\n",
       "      <td>7571.957</td>\n",
       "      <td>15.839962</td>\n",
       "    </tr>\n",
       "    <tr>\n",
       "      <th>2</th>\n",
       "      <td>2984041</td>\n",
       "      <td>2984.041</td>\n",
       "      <td>14.908789</td>\n",
       "    </tr>\n",
       "    <tr>\n",
       "      <th>3</th>\n",
       "      <td>15594474</td>\n",
       "      <td>15594.474</td>\n",
       "      <td>16.562427</td>\n",
       "    </tr>\n",
       "    <tr>\n",
       "      <th>4</th>\n",
       "      <td>8266663</td>\n",
       "      <td>8266.663</td>\n",
       "      <td>15.927741</td>\n",
       "    </tr>\n",
       "  </tbody>\n",
       "</table>\n",
       "</div>"
      ],
      "text/plain": [
       "   absolute   <lambda>        log\n",
       "0   4574674   4574.674  15.336046\n",
       "1   7571957   7571.957  15.839962\n",
       "2   2984041   2984.041  14.908789\n",
       "3  15594474  15594.474  16.562427\n",
       "4   8266663   8266.663  15.927741"
      ]
     },
     "execution_count": 53,
     "metadata": {},
     "output_type": "execute_result"
    }
   ],
   "source": [
    "df['CASOS'].transform([np.abs, lambda x: x /1000, np.log])"
   ]
  },
  {
   "cell_type": "markdown",
   "metadata": {
    "id": "qolYiJj90QDU"
   },
   "source": [
    "### Transformando com um dicionario \n",
    "A passagem de um dicionário de funções permitirá a transformação seletiva por coluna."
   ]
  },
  {
   "cell_type": "code",
   "execution_count": 54,
   "metadata": {
    "id": "0avT2wR30QDU"
   },
   "outputs": [
    {
     "data": {
      "text/html": [
       "<div>\n",
       "<style scoped>\n",
       "    .dataframe tbody tr th:only-of-type {\n",
       "        vertical-align: middle;\n",
       "    }\n",
       "\n",
       "    .dataframe tbody tr th {\n",
       "        vertical-align: top;\n",
       "    }\n",
       "\n",
       "    .dataframe thead th {\n",
       "        text-align: right;\n",
       "    }\n",
       "</style>\n",
       "<table border=\"1\" class=\"dataframe\">\n",
       "  <thead>\n",
       "    <tr style=\"text-align: right;\">\n",
       "      <th></th>\n",
       "      <th>CASOS</th>\n",
       "      <th>OBITOS</th>\n",
       "    </tr>\n",
       "  </thead>\n",
       "  <tbody>\n",
       "    <tr>\n",
       "      <th>0</th>\n",
       "      <td>4574674</td>\n",
       "      <td>67.252</td>\n",
       "    </tr>\n",
       "    <tr>\n",
       "      <th>1</th>\n",
       "      <td>7571957</td>\n",
       "      <td>136.957</td>\n",
       "    </tr>\n",
       "    <tr>\n",
       "      <th>2</th>\n",
       "      <td>2984041</td>\n",
       "      <td>52.114</td>\n",
       "    </tr>\n",
       "    <tr>\n",
       "      <th>3</th>\n",
       "      <td>15594474</td>\n",
       "      <td>344.537</td>\n",
       "    </tr>\n",
       "    <tr>\n",
       "      <th>4</th>\n",
       "      <td>8266663</td>\n",
       "      <td>113.218</td>\n",
       "    </tr>\n",
       "  </tbody>\n",
       "</table>\n",
       "</div>"
      ],
      "text/plain": [
       "      CASOS   OBITOS\n",
       "0   4574674   67.252\n",
       "1   7571957  136.957\n",
       "2   2984041   52.114\n",
       "3  15594474  344.537\n",
       "4   8266663  113.218"
      ]
     },
     "execution_count": 54,
     "metadata": {},
     "output_type": "execute_result"
    }
   ],
   "source": [
    "df.transform({'CASOS': np.abs, 'OBITOS': lambda x: x /1000})"
   ]
  },
  {
   "cell_type": "markdown",
   "metadata": {
    "id": "vccQbgSZ0QDU"
   },
   "source": [
    "Passar um dicionário de listas irá gerar um MultiIndexed DataFrame com essas transformações seletivas."
   ]
  },
  {
   "cell_type": "code",
   "execution_count": 55,
   "metadata": {
    "id": "p--l_GGq0QDU"
   },
   "outputs": [
    {
     "data": {
      "text/html": [
       "<div>\n",
       "<style scoped>\n",
       "    .dataframe tbody tr th:only-of-type {\n",
       "        vertical-align: middle;\n",
       "    }\n",
       "\n",
       "    .dataframe tbody tr th {\n",
       "        vertical-align: top;\n",
       "    }\n",
       "\n",
       "    .dataframe thead tr th {\n",
       "        text-align: left;\n",
       "    }\n",
       "</style>\n",
       "<table border=\"1\" class=\"dataframe\">\n",
       "  <thead>\n",
       "    <tr>\n",
       "      <th></th>\n",
       "      <th>CASOS</th>\n",
       "      <th colspan=\"3\" halign=\"left\">OBITOS</th>\n",
       "    </tr>\n",
       "    <tr>\n",
       "      <th></th>\n",
       "      <th>absolute</th>\n",
       "      <th>&lt;lambda&gt;</th>\n",
       "      <th>log</th>\n",
       "      <th>log10</th>\n",
       "    </tr>\n",
       "  </thead>\n",
       "  <tbody>\n",
       "    <tr>\n",
       "      <th>0</th>\n",
       "      <td>4574674</td>\n",
       "      <td>67.252</td>\n",
       "      <td>11.116202</td>\n",
       "      <td>4.827705</td>\n",
       "    </tr>\n",
       "    <tr>\n",
       "      <th>1</th>\n",
       "      <td>7571957</td>\n",
       "      <td>136.957</td>\n",
       "      <td>11.827422</td>\n",
       "      <td>5.136584</td>\n",
       "    </tr>\n",
       "    <tr>\n",
       "      <th>2</th>\n",
       "      <td>2984041</td>\n",
       "      <td>52.114</td>\n",
       "      <td>10.861189</td>\n",
       "      <td>4.716954</td>\n",
       "    </tr>\n",
       "    <tr>\n",
       "      <th>3</th>\n",
       "      <td>15594474</td>\n",
       "      <td>344.537</td>\n",
       "      <td>12.749957</td>\n",
       "      <td>5.537236</td>\n",
       "    </tr>\n",
       "    <tr>\n",
       "      <th>4</th>\n",
       "      <td>8266663</td>\n",
       "      <td>113.218</td>\n",
       "      <td>11.637070</td>\n",
       "      <td>5.053915</td>\n",
       "    </tr>\n",
       "  </tbody>\n",
       "</table>\n",
       "</div>"
      ],
      "text/plain": [
       "      CASOS   OBITOS                     \n",
       "   absolute <lambda>        log     log10\n",
       "0   4574674   67.252  11.116202  4.827705\n",
       "1   7571957  136.957  11.827422  5.136584\n",
       "2   2984041   52.114  10.861189  4.716954\n",
       "3  15594474  344.537  12.749957  5.537236\n",
       "4   8266663  113.218  11.637070  5.053915"
      ]
     },
     "execution_count": 55,
     "metadata": {},
     "output_type": "execute_result"
    }
   ],
   "source": [
    "df.transform({'CASOS': np.abs, 'OBITOS': [lambda x: x /1000, np.log, np.log10]})"
   ]
  },
  {
   "cell_type": "code",
   "execution_count": 56,
   "metadata": {
    "id": "PYpm3cVBfYUx"
   },
   "outputs": [
    {
     "data": {
      "text/html": [
       "<div>\n",
       "<style scoped>\n",
       "    .dataframe tbody tr th:only-of-type {\n",
       "        vertical-align: middle;\n",
       "    }\n",
       "\n",
       "    .dataframe tbody tr th {\n",
       "        vertical-align: top;\n",
       "    }\n",
       "\n",
       "    .dataframe thead tr th {\n",
       "        text-align: left;\n",
       "    }\n",
       "</style>\n",
       "<table border=\"1\" class=\"dataframe\">\n",
       "  <thead>\n",
       "    <tr>\n",
       "      <th></th>\n",
       "      <th>CASOS</th>\n",
       "      <th colspan=\"3\" halign=\"left\">OBITOS</th>\n",
       "    </tr>\n",
       "    <tr>\n",
       "      <th></th>\n",
       "      <th>absolute</th>\n",
       "      <th>&lt;lambda&gt;</th>\n",
       "      <th>log</th>\n",
       "      <th>log10</th>\n",
       "    </tr>\n",
       "  </thead>\n",
       "  <tbody>\n",
       "    <tr>\n",
       "      <th>0</th>\n",
       "      <td>4574674</td>\n",
       "      <td>67.252</td>\n",
       "      <td>11.116202</td>\n",
       "      <td>4.827705</td>\n",
       "    </tr>\n",
       "    <tr>\n",
       "      <th>1</th>\n",
       "      <td>7571957</td>\n",
       "      <td>136.957</td>\n",
       "      <td>11.827422</td>\n",
       "      <td>5.136584</td>\n",
       "    </tr>\n",
       "    <tr>\n",
       "      <th>2</th>\n",
       "      <td>2984041</td>\n",
       "      <td>52.114</td>\n",
       "      <td>10.861189</td>\n",
       "      <td>4.716954</td>\n",
       "    </tr>\n",
       "    <tr>\n",
       "      <th>3</th>\n",
       "      <td>15594474</td>\n",
       "      <td>344.537</td>\n",
       "      <td>12.749957</td>\n",
       "      <td>5.537236</td>\n",
       "    </tr>\n",
       "    <tr>\n",
       "      <th>4</th>\n",
       "      <td>8266663</td>\n",
       "      <td>113.218</td>\n",
       "      <td>11.637070</td>\n",
       "      <td>5.053915</td>\n",
       "    </tr>\n",
       "  </tbody>\n",
       "</table>\n",
       "</div>"
      ],
      "text/plain": [
       "      CASOS   OBITOS                     \n",
       "   absolute <lambda>        log     log10\n",
       "0   4574674   67.252  11.116202  4.827705\n",
       "1   7571957  136.957  11.827422  5.136584\n",
       "2   2984041   52.114  10.861189  4.716954\n",
       "3  15594474  344.537  12.749957  5.537236\n",
       "4   8266663  113.218  11.637070  5.053915"
      ]
     },
     "execution_count": 56,
     "metadata": {},
     "output_type": "execute_result"
    }
   ],
   "source": [
    "df2 = df.transform({'CASOS': np.abs, 'OBITOS': [lambda x: x /1000, np.log, np.log10]})\n",
    "df2"
   ]
  },
  {
   "cell_type": "code",
   "execution_count": 57,
   "metadata": {
    "id": "EpcfzX8gfbZS"
   },
   "outputs": [
    {
     "data": {
      "text/html": [
       "<div>\n",
       "<style scoped>\n",
       "    .dataframe tbody tr th:only-of-type {\n",
       "        vertical-align: middle;\n",
       "    }\n",
       "\n",
       "    .dataframe tbody tr th {\n",
       "        vertical-align: top;\n",
       "    }\n",
       "\n",
       "    .dataframe thead th {\n",
       "        text-align: right;\n",
       "    }\n",
       "</style>\n",
       "<table border=\"1\" class=\"dataframe\">\n",
       "  <thead>\n",
       "    <tr style=\"text-align: right;\">\n",
       "      <th></th>\n",
       "      <th>CASOS</th>\n",
       "      <th>OBITOS em mil</th>\n",
       "      <th>OBITOS log</th>\n",
       "      <th>OBITOS log10</th>\n",
       "    </tr>\n",
       "  </thead>\n",
       "  <tbody>\n",
       "    <tr>\n",
       "      <th>0</th>\n",
       "      <td>4574674</td>\n",
       "      <td>67.252</td>\n",
       "      <td>11.116202</td>\n",
       "      <td>4.827705</td>\n",
       "    </tr>\n",
       "    <tr>\n",
       "      <th>1</th>\n",
       "      <td>7571957</td>\n",
       "      <td>136.957</td>\n",
       "      <td>11.827422</td>\n",
       "      <td>5.136584</td>\n",
       "    </tr>\n",
       "    <tr>\n",
       "      <th>2</th>\n",
       "      <td>2984041</td>\n",
       "      <td>52.114</td>\n",
       "      <td>10.861189</td>\n",
       "      <td>4.716954</td>\n",
       "    </tr>\n",
       "    <tr>\n",
       "      <th>3</th>\n",
       "      <td>15594474</td>\n",
       "      <td>344.537</td>\n",
       "      <td>12.749957</td>\n",
       "      <td>5.537236</td>\n",
       "    </tr>\n",
       "    <tr>\n",
       "      <th>4</th>\n",
       "      <td>8266663</td>\n",
       "      <td>113.218</td>\n",
       "      <td>11.637070</td>\n",
       "      <td>5.053915</td>\n",
       "    </tr>\n",
       "  </tbody>\n",
       "</table>\n",
       "</div>"
      ],
      "text/plain": [
       "      CASOS  OBITOS em mil  OBITOS log  OBITOS log10\n",
       "0   4574674         67.252   11.116202      4.827705\n",
       "1   7571957        136.957   11.827422      5.136584\n",
       "2   2984041         52.114   10.861189      4.716954\n",
       "3  15594474        344.537   12.749957      5.537236\n",
       "4   8266663        113.218   11.637070      5.053915"
      ]
     },
     "execution_count": 57,
     "metadata": {},
     "output_type": "execute_result"
    }
   ],
   "source": [
    "df2.columns = ['CASOS','OBITOS em mil','OBITOS log','OBITOS log10']\n",
    "df2"
   ]
  },
  {
   "cell_type": "markdown",
   "metadata": {
    "id": "KNnZQ0UE0QDU"
   },
   "source": [
    "## Aplicando funções elementwise \n",
    "Como nem todas as funções podem ser vetorizadas (aceitar matrizes NumPy e retornar outra matriz ou valor), os métodos applymap() em DataFrame aceitam qualquer função Python assumindo um único valor e retornando um único valor."
   ]
  },
  {
   "cell_type": "code",
   "execution_count": 58,
   "metadata": {
    "id": "zQ9gRU-z0QDU"
   },
   "outputs": [
    {
     "data": {
      "text/html": [
       "<div>\n",
       "<style scoped>\n",
       "    .dataframe tbody tr th:only-of-type {\n",
       "        vertical-align: middle;\n",
       "    }\n",
       "\n",
       "    .dataframe tbody tr th {\n",
       "        vertical-align: top;\n",
       "    }\n",
       "\n",
       "    .dataframe thead th {\n",
       "        text-align: right;\n",
       "    }\n",
       "</style>\n",
       "<table border=\"1\" class=\"dataframe\">\n",
       "  <thead>\n",
       "    <tr style=\"text-align: right;\">\n",
       "      <th></th>\n",
       "      <th>REGIAO</th>\n",
       "      <th>CASOS</th>\n",
       "      <th>OBITOS</th>\n",
       "    </tr>\n",
       "  </thead>\n",
       "  <tbody>\n",
       "    <tr>\n",
       "      <th>0</th>\n",
       "      <td>Centro-Oeste</td>\n",
       "      <td>4574674</td>\n",
       "      <td>67252</td>\n",
       "    </tr>\n",
       "    <tr>\n",
       "      <th>1</th>\n",
       "      <td>Nordeste</td>\n",
       "      <td>7571957</td>\n",
       "      <td>136957</td>\n",
       "    </tr>\n",
       "    <tr>\n",
       "      <th>2</th>\n",
       "      <td>Norte</td>\n",
       "      <td>2984041</td>\n",
       "      <td>52114</td>\n",
       "    </tr>\n",
       "    <tr>\n",
       "      <th>3</th>\n",
       "      <td>Sudeste</td>\n",
       "      <td>15594474</td>\n",
       "      <td>344537</td>\n",
       "    </tr>\n",
       "    <tr>\n",
       "      <th>4</th>\n",
       "      <td>Sul</td>\n",
       "      <td>8266663</td>\n",
       "      <td>113218</td>\n",
       "    </tr>\n",
       "  </tbody>\n",
       "</table>\n",
       "</div>"
      ],
      "text/plain": [
       "         REGIAO     CASOS  OBITOS\n",
       "0  Centro-Oeste   4574674   67252\n",
       "1      Nordeste   7571957  136957\n",
       "2         Norte   2984041   52114\n",
       "3       Sudeste  15594474  344537\n",
       "4           Sul   8266663  113218"
      ]
     },
     "execution_count": 58,
     "metadata": {},
     "output_type": "execute_result"
    }
   ],
   "source": [
    "df = pd.read_csv('totaisregioes_arr.csv', sep=';',names =['REGIAO','CASOS','OBITOS'])\n",
    "df.head()"
   ]
  },
  {
   "cell_type": "code",
   "execution_count": 59,
   "metadata": {
    "id": "ojI9NOoF0QDU"
   },
   "outputs": [],
   "source": [
    "def extrai_sigla(x):\n",
    "    return ''.join([w[0] for w in x.split('-') ]) + ('E' if 'deste' in x else '')"
   ]
  },
  {
   "cell_type": "code",
   "execution_count": 60,
   "metadata": {
    "id": "yEDpKbq70QDV"
   },
   "outputs": [
    {
     "data": {
      "text/plain": [
       "0    CO\n",
       "1    NE\n",
       "2     N\n",
       "3    SE\n",
       "4     S\n",
       "Name: REGIAO, dtype: object"
      ]
     },
     "execution_count": 60,
     "metadata": {},
     "output_type": "execute_result"
    }
   ],
   "source": [
    "df['REGIAO'].map(extrai_sigla)"
   ]
  },
  {
   "cell_type": "code",
   "execution_count": 61,
   "metadata": {
    "id": "PUrsmVtqyEbk"
   },
   "outputs": [
    {
     "data": {
      "text/plain": [
       "121.32"
      ]
     },
     "execution_count": 61,
     "metadata": {},
     "output_type": "execute_result"
    }
   ],
   "source": [
    "def unidade_milhares(x):\n",
    "    valor = x\n",
    "    \n",
    "    if type(valor) is int:\n",
    "        valor = round(valor/1000,2)\n",
    "    return valor\n",
    "        \n",
    "unidade_milhares(121323)      "
   ]
  },
  {
   "cell_type": "code",
   "execution_count": 62,
   "metadata": {
    "id": "6yKHZc_UyEbk"
   },
   "outputs": [],
   "source": [
    "def uppertext(x):\n",
    "    return str(x).upper()"
   ]
  },
  {
   "cell_type": "code",
   "execution_count": 63,
   "metadata": {
    "id": "jhKIsCvmyEbk"
   },
   "outputs": [
    {
     "data": {
      "text/html": [
       "<div>\n",
       "<style scoped>\n",
       "    .dataframe tbody tr th:only-of-type {\n",
       "        vertical-align: middle;\n",
       "    }\n",
       "\n",
       "    .dataframe tbody tr th {\n",
       "        vertical-align: top;\n",
       "    }\n",
       "\n",
       "    .dataframe thead th {\n",
       "        text-align: right;\n",
       "    }\n",
       "</style>\n",
       "<table border=\"1\" class=\"dataframe\">\n",
       "  <thead>\n",
       "    <tr style=\"text-align: right;\">\n",
       "      <th></th>\n",
       "      <th>REGIAO</th>\n",
       "      <th>CASOS</th>\n",
       "      <th>OBITOS</th>\n",
       "    </tr>\n",
       "  </thead>\n",
       "  <tbody>\n",
       "    <tr>\n",
       "      <th>0</th>\n",
       "      <td>Centro-Oeste</td>\n",
       "      <td>4574674</td>\n",
       "      <td>67252</td>\n",
       "    </tr>\n",
       "    <tr>\n",
       "      <th>1</th>\n",
       "      <td>Nordeste</td>\n",
       "      <td>7571957</td>\n",
       "      <td>136957</td>\n",
       "    </tr>\n",
       "    <tr>\n",
       "      <th>2</th>\n",
       "      <td>Norte</td>\n",
       "      <td>2984041</td>\n",
       "      <td>52114</td>\n",
       "    </tr>\n",
       "    <tr>\n",
       "      <th>3</th>\n",
       "      <td>Sudeste</td>\n",
       "      <td>15594474</td>\n",
       "      <td>344537</td>\n",
       "    </tr>\n",
       "    <tr>\n",
       "      <th>4</th>\n",
       "      <td>Sul</td>\n",
       "      <td>8266663</td>\n",
       "      <td>113218</td>\n",
       "    </tr>\n",
       "  </tbody>\n",
       "</table>\n",
       "</div>"
      ],
      "text/plain": [
       "         REGIAO     CASOS  OBITOS\n",
       "0  Centro-Oeste   4574674   67252\n",
       "1      Nordeste   7571957  136957\n",
       "2         Norte   2984041   52114\n",
       "3       Sudeste  15594474  344537\n",
       "4           Sul   8266663  113218"
      ]
     },
     "execution_count": 63,
     "metadata": {},
     "output_type": "execute_result"
    }
   ],
   "source": [
    "df"
   ]
  },
  {
   "cell_type": "code",
   "execution_count": 66,
   "metadata": {
    "id": "4a4YmY7n0QDV"
   },
   "outputs": [
    {
     "data": {
      "text/html": [
       "<div>\n",
       "<style scoped>\n",
       "    .dataframe tbody tr th:only-of-type {\n",
       "        vertical-align: middle;\n",
       "    }\n",
       "\n",
       "    .dataframe tbody tr th {\n",
       "        vertical-align: top;\n",
       "    }\n",
       "\n",
       "    .dataframe thead th {\n",
       "        text-align: right;\n",
       "    }\n",
       "</style>\n",
       "<table border=\"1\" class=\"dataframe\">\n",
       "  <thead>\n",
       "    <tr style=\"text-align: right;\">\n",
       "      <th></th>\n",
       "      <th>REGIAO</th>\n",
       "      <th>CASOS</th>\n",
       "      <th>OBITOS</th>\n",
       "    </tr>\n",
       "  </thead>\n",
       "  <tbody>\n",
       "    <tr>\n",
       "      <th>0</th>\n",
       "      <td>CENTRO-OESTE</td>\n",
       "      <td>4574674</td>\n",
       "      <td>67252</td>\n",
       "    </tr>\n",
       "    <tr>\n",
       "      <th>1</th>\n",
       "      <td>NORDESTE</td>\n",
       "      <td>7571957</td>\n",
       "      <td>136957</td>\n",
       "    </tr>\n",
       "    <tr>\n",
       "      <th>2</th>\n",
       "      <td>NORTE</td>\n",
       "      <td>2984041</td>\n",
       "      <td>52114</td>\n",
       "    </tr>\n",
       "    <tr>\n",
       "      <th>3</th>\n",
       "      <td>SUDESTE</td>\n",
       "      <td>15594474</td>\n",
       "      <td>344537</td>\n",
       "    </tr>\n",
       "    <tr>\n",
       "      <th>4</th>\n",
       "      <td>SUL</td>\n",
       "      <td>8266663</td>\n",
       "      <td>113218</td>\n",
       "    </tr>\n",
       "  </tbody>\n",
       "</table>\n",
       "</div>"
      ],
      "text/plain": [
       "         REGIAO     CASOS  OBITOS\n",
       "0  CENTRO-OESTE   4574674   67252\n",
       "1      NORDESTE   7571957  136957\n",
       "2         NORTE   2984041   52114\n",
       "3       SUDESTE  15594474  344537\n",
       "4           SUL   8266663  113218"
      ]
     },
     "execution_count": 66,
     "metadata": {},
     "output_type": "execute_result"
    }
   ],
   "source": [
    "df.map(uppertext)"
   ]
  },
  {
   "cell_type": "code",
   "execution_count": 67,
   "metadata": {
    "id": "elwln_KzyEbk"
   },
   "outputs": [
    {
     "data": {
      "text/html": [
       "<div>\n",
       "<style scoped>\n",
       "    .dataframe tbody tr th:only-of-type {\n",
       "        vertical-align: middle;\n",
       "    }\n",
       "\n",
       "    .dataframe tbody tr th {\n",
       "        vertical-align: top;\n",
       "    }\n",
       "\n",
       "    .dataframe thead th {\n",
       "        text-align: right;\n",
       "    }\n",
       "</style>\n",
       "<table border=\"1\" class=\"dataframe\">\n",
       "  <thead>\n",
       "    <tr style=\"text-align: right;\">\n",
       "      <th></th>\n",
       "      <th>REGIAO</th>\n",
       "      <th>CASOS</th>\n",
       "      <th>OBITOS</th>\n",
       "    </tr>\n",
       "  </thead>\n",
       "  <tbody>\n",
       "    <tr>\n",
       "      <th>0</th>\n",
       "      <td>Centro-Oeste</td>\n",
       "      <td>4574.67</td>\n",
       "      <td>67.25</td>\n",
       "    </tr>\n",
       "    <tr>\n",
       "      <th>1</th>\n",
       "      <td>Nordeste</td>\n",
       "      <td>7571.96</td>\n",
       "      <td>136.96</td>\n",
       "    </tr>\n",
       "    <tr>\n",
       "      <th>2</th>\n",
       "      <td>Norte</td>\n",
       "      <td>2984.04</td>\n",
       "      <td>52.11</td>\n",
       "    </tr>\n",
       "    <tr>\n",
       "      <th>3</th>\n",
       "      <td>Sudeste</td>\n",
       "      <td>15594.47</td>\n",
       "      <td>344.54</td>\n",
       "    </tr>\n",
       "    <tr>\n",
       "      <th>4</th>\n",
       "      <td>Sul</td>\n",
       "      <td>8266.66</td>\n",
       "      <td>113.22</td>\n",
       "    </tr>\n",
       "  </tbody>\n",
       "</table>\n",
       "</div>"
      ],
      "text/plain": [
       "         REGIAO     CASOS  OBITOS\n",
       "0  Centro-Oeste   4574.67   67.25\n",
       "1      Nordeste   7571.96  136.96\n",
       "2         Norte   2984.04   52.11\n",
       "3       Sudeste  15594.47  344.54\n",
       "4           Sul   8266.66  113.22"
      ]
     },
     "execution_count": 67,
     "metadata": {},
     "output_type": "execute_result"
    }
   ],
   "source": [
    "df.map(unidade_milhares)"
   ]
  },
  {
   "cell_type": "markdown",
   "metadata": {
    "id": "h5toJ20f0QDV"
   },
   "source": [
    "### Series.map() tem um recurso adicional; pode ser usado para “vincular” ou “mapear” facilmente valores definidos por uma série secundária. "
   ]
  },
  {
   "cell_type": "code",
   "execution_count": 68,
   "metadata": {
    "id": "rd0cM1Ak0QDV"
   },
   "outputs": [
    {
     "data": {
      "text/plain": [
       "Centro-Oeste    CO\n",
       "Nordeste        NE\n",
       "Norte            N\n",
       "Sudeste         SE\n",
       "Sul              S\n",
       "dtype: object"
      ]
     },
     "execution_count": 68,
     "metadata": {},
     "output_type": "execute_result"
    }
   ],
   "source": [
    "regioes = pd.Series({'Centro-Oeste':'CO', 'Nordeste':'NE', 'Norte' : 'N', 'Sudeste': 'SE', 'Sul': 'S'})\n",
    "regioes"
   ]
  },
  {
   "cell_type": "code",
   "execution_count": 69,
   "metadata": {
    "id": "Fac2h8o_0QDV"
   },
   "outputs": [
    {
     "data": {
      "text/html": [
       "<div>\n",
       "<style scoped>\n",
       "    .dataframe tbody tr th:only-of-type {\n",
       "        vertical-align: middle;\n",
       "    }\n",
       "\n",
       "    .dataframe tbody tr th {\n",
       "        vertical-align: top;\n",
       "    }\n",
       "\n",
       "    .dataframe thead th {\n",
       "        text-align: right;\n",
       "    }\n",
       "</style>\n",
       "<table border=\"1\" class=\"dataframe\">\n",
       "  <thead>\n",
       "    <tr style=\"text-align: right;\">\n",
       "      <th></th>\n",
       "      <th>REGIAO</th>\n",
       "      <th>CASOS</th>\n",
       "      <th>OBITOS</th>\n",
       "      <th>SIGLA_REGIAO</th>\n",
       "    </tr>\n",
       "  </thead>\n",
       "  <tbody>\n",
       "    <tr>\n",
       "      <th>0</th>\n",
       "      <td>Centro-Oeste</td>\n",
       "      <td>4574674</td>\n",
       "      <td>67252</td>\n",
       "      <td>CO</td>\n",
       "    </tr>\n",
       "    <tr>\n",
       "      <th>1</th>\n",
       "      <td>Nordeste</td>\n",
       "      <td>7571957</td>\n",
       "      <td>136957</td>\n",
       "      <td>NE</td>\n",
       "    </tr>\n",
       "    <tr>\n",
       "      <th>2</th>\n",
       "      <td>Norte</td>\n",
       "      <td>2984041</td>\n",
       "      <td>52114</td>\n",
       "      <td>N</td>\n",
       "    </tr>\n",
       "    <tr>\n",
       "      <th>3</th>\n",
       "      <td>Sudeste</td>\n",
       "      <td>15594474</td>\n",
       "      <td>344537</td>\n",
       "      <td>SE</td>\n",
       "    </tr>\n",
       "    <tr>\n",
       "      <th>4</th>\n",
       "      <td>Sul</td>\n",
       "      <td>8266663</td>\n",
       "      <td>113218</td>\n",
       "      <td>S</td>\n",
       "    </tr>\n",
       "  </tbody>\n",
       "</table>\n",
       "</div>"
      ],
      "text/plain": [
       "         REGIAO     CASOS  OBITOS SIGLA_REGIAO\n",
       "0  Centro-Oeste   4574674   67252           CO\n",
       "1      Nordeste   7571957  136957           NE\n",
       "2         Norte   2984041   52114            N\n",
       "3       Sudeste  15594474  344537           SE\n",
       "4           Sul   8266663  113218            S"
      ]
     },
     "execution_count": 69,
     "metadata": {},
     "output_type": "execute_result"
    }
   ],
   "source": [
    "df['SIGLA_REGIAO'] = df['REGIAO'].map(regioes)\n",
    "df"
   ]
  },
  {
   "cell_type": "code",
   "execution_count": null,
   "metadata": {},
   "outputs": [],
   "source": []
  }
 ],
 "metadata": {
  "colab": {
   "collapsed_sections": [],
   "name": "Aula Sobre Manipulação de Dados com Pandas - Parte 2 - Reindexação, Aplicação, Transformação e Renomeação.ipynb",
   "provenance": [
    {
     "file_id": "1rvyu2VOA5B8EMV5-zzQJaPP56cCOjLAD",
     "timestamp": 1607355074421
    }
   ]
  },
  "kernelspec": {
   "display_name": "base",
   "language": "python",
   "name": "python3"
  },
  "language_info": {
   "codemirror_mode": {
    "name": "ipython",
    "version": 3
   },
   "file_extension": ".py",
   "mimetype": "text/x-python",
   "name": "python",
   "nbconvert_exporter": "python",
   "pygments_lexer": "ipython3",
   "version": "3.12.3"
  }
 },
 "nbformat": 4,
 "nbformat_minor": 1
}
