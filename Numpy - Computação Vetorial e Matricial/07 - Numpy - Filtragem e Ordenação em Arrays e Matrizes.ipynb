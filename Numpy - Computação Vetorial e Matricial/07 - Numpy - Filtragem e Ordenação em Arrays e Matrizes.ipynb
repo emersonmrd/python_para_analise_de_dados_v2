{
 "cells": [
  {
   "cell_type": "markdown",
   "metadata": {},
   "source": [
    "# Numpy - Filtragem e Ordenação em Arrays e Matrizes"
   ]
  },
  {
   "cell_type": "markdown",
   "metadata": {},
   "source": [
    "## Pesquisando valores em arrays usando o método where()"
   ]
  },
  {
   "cell_type": "markdown",
   "metadata": {},
   "source": [
    "### Exemplo Encontre os índices onde o valor é 3:"
   ]
  },
  {
   "cell_type": "code",
   "execution_count": 15,
   "metadata": {},
   "outputs": [
    {
     "name": "stdout",
     "output_type": "stream",
     "text": [
      "As posições encontradas foram [0 1 2 3 4 5 6 7 8 9]\n",
      "Os valores encontrados foram [ 10  20  30  40  50  60  70  80  90 100]\n"
     ]
    }
   ],
   "source": [
    "import numpy as np\n",
    "\n",
    "meu_array = np.array([10, 20, 30, 40, 50, 60, 70, 80, 90, 100])\n",
    "# Encontrar os pares\n",
    "encontrados_arr = np.where(meu_array % 2 == 0)\n",
    "\n",
    "print('As posições encontradas foram {}'.format(', '.join([str(p) for p in list(encontrados_arr)])))\n",
    "print('Os valores encontrados foram {}'.format(', '.join([str(meu_array[p]) for p in list(encontrados_arr)])))"
   ]
  },
  {
   "cell_type": "code",
   "execution_count": 17,
   "metadata": {},
   "outputs": [
    {
     "name": "stdout",
     "output_type": "stream",
     "text": [
      "As posições encontradas foram [0 2 4 6 8]\n",
      "Os valores encontrados foram [1 3 5 7 9]\n"
     ]
    }
   ],
   "source": [
    "meu_array = np.array([1, 2, 3, 4, 5, 6, 7, 8, 9, 10])\n",
    "# Encontrar os impares\n",
    "encontrados_arr = np.where(meu_array % 2 == 1)\n",
    "\n",
    "print('As posições encontradas foram {}'.format(', '.join([str(p) for p in list(encontrados_arr)])))\n",
    "print('Os valores encontrados foram {}'.format(', '.join([str(meu_array[p]) for p in list(encontrados_arr)])))"
   ]
  },
  {
   "cell_type": "code",
   "execution_count": 18,
   "metadata": {},
   "outputs": [
    {
     "name": "stdout",
     "output_type": "stream",
     "text": [
      "As posições encontradas foram [2 5 8]\n",
      "Os valores encontrados foram [30 60 90]\n"
     ]
    }
   ],
   "source": [
    "meu_array = np.array([10, 20, 30, 40, 50, 60, 70, 80, 90, 100])\n",
    "# Encontrar os multiplos de 3\n",
    "encontrados_arr = np.where(meu_array % 3 == 0)\n",
    "\n",
    "print('As posições encontradas foram {}'.format(', '.join([str(p) for p in list(encontrados_arr)])))\n",
    "print('Os valores encontrados foram {}'.format(', '.join([str(meu_array[p]) for p in list(encontrados_arr)])))"
   ]
  },
  {
   "cell_type": "markdown",
   "metadata": {},
   "source": [
    "## Pesquisa Ordenada para identifica onde determinado valores deveria ser inserido no array mantendo-o ordenado"
   ]
  },
  {
   "cell_type": "code",
   "execution_count": 4,
   "metadata": {},
   "outputs": [
    {
     "name": "stdout",
     "output_type": "stream",
     "text": [
      "6\n"
     ]
    }
   ],
   "source": [
    "meu_array = np.array([1, 2, 3, 4, 5, 6, 8, 9, 10])\n",
    "\n",
    "x = np.searchsorted(meu_array, 7)\n",
    "\n",
    "print(x)"
   ]
  },
  {
   "cell_type": "code",
   "execution_count": 5,
   "metadata": {},
   "outputs": [
    {
     "name": "stdout",
     "output_type": "stream",
     "text": [
      "[1 2 3]\n"
     ]
    }
   ],
   "source": [
    "meu_array = np.array([1, 3, 5, 7])\n",
    "\n",
    "x = np.searchsorted(meu_array, [2, 4, 6])\n",
    "\n",
    "print(x)"
   ]
  },
  {
   "cell_type": "markdown",
   "metadata": {},
   "source": [
    "## Ordenação de matrizes usando sort()\n",
    "- Colocar os elementos em uma sequência ordenada, numérico ou alfabético, crescente ou decrescente."
   ]
  },
  {
   "cell_type": "code",
   "execution_count": 6,
   "metadata": {},
   "outputs": [
    {
     "name": "stdout",
     "output_type": "stream",
     "text": [
      "[ 10  20  30  40  50  60  70  80  90 100]\n"
     ]
    }
   ],
   "source": [
    "meu_array = np.array([10, 30, 60, 90, 20,100, 70, 80, 40, 50])\n",
    "\n",
    "print(np.sort(meu_array))"
   ]
  },
  {
   "cell_type": "code",
   "execution_count": 7,
   "metadata": {},
   "outputs": [
    {
     "name": "stdout",
     "output_type": "stream",
     "text": [
      "[[ 10  20  30  40  50  60  70  80  90 100]\n",
      " [  1   2   3   4   5   6   7   8   9  10]\n",
      " [ 10  20  30  40  50  60  70  80  90 100]]\n"
     ]
    }
   ],
   "source": [
    "meu_array = np.array([\n",
    "                      [10, 30, 60, 90, 20,100, 70, 80, 40, 50],\n",
    "                      [1, 3, 6, 9, 2,10, 7, 8, 4, 5],\n",
    "                      [10, 30, 60, 90, 20,100, 70, 80, 40, 50]\n",
    "])\n",
    "\n",
    "print(np.sort(meu_array))"
   ]
  },
  {
   "cell_type": "code",
   "execution_count": 8,
   "metadata": {},
   "outputs": [
    {
     "name": "stdout",
     "output_type": "stream",
     "text": [
      "['Leste' 'Norte' 'Oeste' 'Sul']\n"
     ]
    }
   ],
   "source": [
    "meu_array = np.array(['Norte', 'Sul', 'Leste', 'Oeste'])\n",
    "\n",
    "print(np.sort(meu_array))"
   ]
  },
  {
   "cell_type": "code",
   "execution_count": 9,
   "metadata": {},
   "outputs": [
    {
     "name": "stdout",
     "output_type": "stream",
     "text": [
      "[False False False False False False  True  True  True  True]\n"
     ]
    }
   ],
   "source": [
    "meu_array = np.array([True, False, False, False, False, True, True, False, True, False])\n",
    "\n",
    "print(np.sort(meu_array))"
   ]
  },
  {
   "cell_type": "markdown",
   "metadata": {},
   "source": [
    "## Filtrar matrizes usando uma lista de índice booleano .\n",
    "- Se o valor em um índice for True o elemento é mantido, se False é excluído do resultado"
   ]
  },
  {
   "cell_type": "code",
   "execution_count": 10,
   "metadata": {},
   "outputs": [
    {
     "data": {
      "text/plain": [
       "array([2, 4])"
      ]
     },
     "execution_count": 10,
     "metadata": {},
     "output_type": "execute_result"
    }
   ],
   "source": [
    "arr1 = np.array([1,2,3,4,5])\n",
    "arr1[[False, True, False, True, False]]"
   ]
  },
  {
   "cell_type": "code",
   "execution_count": 11,
   "metadata": {},
   "outputs": [
    {
     "name": "stdout",
     "output_type": "stream",
     "text": [
      "[ 10  20  30  40  50  60  70  80  90 100]\n",
      "[False False  True False False  True False False  True False]\n",
      "[30 60 90]\n"
     ]
    }
   ],
   "source": [
    "meu_array = np.array([10, 20, 30, 40, 50, 60, 70, 80, 90, 100])\n",
    "print(meu_array)\n",
    "\n",
    "filtro_multip3 = meu_array % 3 == 0\n",
    "print(filtro_multip3)\n",
    "\n",
    "\n",
    "array_filtrado = meu_array[filtro_multip3]\n",
    "print(array_filtrado)"
   ]
  },
  {
   "cell_type": "code",
   "execution_count": 12,
   "metadata": {},
   "outputs": [
    {
     "name": "stdout",
     "output_type": "stream",
     "text": [
      "[[ 10  20  30  40  50  60  70  80  90 100]\n",
      " [  1   2   3   4   5   6   7   8   9  10]\n",
      " [ 10  20  30  40  50  60  70  80  90 100]]\n",
      "[[False False  True False False  True False False  True False]\n",
      " [False False  True False False  True False False  True False]\n",
      " [False False  True False False  True False False  True False]]\n",
      "[30 60 90  3  6  9 30 60 90]\n"
     ]
    }
   ],
   "source": [
    "meu_array = np.array([\n",
    "    [10, 20, 30, 40, 50, 60, 70, 80, 90, 100],\n",
    "    [1, 2, 3, 4, 5, 6, 7, 8, 9, 10],\n",
    "    [10, 20, 30, 40, 50, 60, 70, 80, 90, 100]\n",
    "])\n",
    "\n",
    "print(meu_array)\n",
    "\n",
    "filtro_multip3 = meu_array % 3 == 0\n",
    "print(filtro_multip3)\n",
    "\n",
    "\n",
    "array_filtrado = meu_array[filtro_multip3]\n",
    "print(array_filtrado)"
   ]
  },
  {
   "cell_type": "markdown",
   "metadata": {},
   "source": [
    "- Filtrar passando a expressão direta como indice"
   ]
  },
  {
   "cell_type": "code",
   "execution_count": 13,
   "metadata": {},
   "outputs": [
    {
     "name": "stdout",
     "output_type": "stream",
     "text": [
      "[ 20  30  40  60  80  90 100]\n"
     ]
    }
   ],
   "source": [
    "meu_array = np.array([10, 20, 30, 40, 50, 60, 70, 80, 90, 100])\n",
    "\n",
    "novo_array = meu_array[(meu_array % 3 == 0) | (meu_array % 4 == 0)  ]\n",
    "\n",
    "print(novo_array)"
   ]
  },
  {
   "cell_type": "code",
   "execution_count": null,
   "metadata": {},
   "outputs": [],
   "source": []
  }
 ],
 "metadata": {
  "kernelspec": {
   "display_name": "base",
   "language": "python",
   "name": "python3"
  },
  "language_info": {
   "codemirror_mode": {
    "name": "ipython",
    "version": 3
   },
   "file_extension": ".py",
   "mimetype": "text/x-python",
   "name": "python",
   "nbconvert_exporter": "python",
   "pygments_lexer": "ipython3",
   "version": "3.12.3"
  }
 },
 "nbformat": 4,
 "nbformat_minor": 2
}
