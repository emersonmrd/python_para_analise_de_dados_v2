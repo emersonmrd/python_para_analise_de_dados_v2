{
 "cells": [
  {
   "cell_type": "markdown",
   "metadata": {},
   "source": [
    "# Numpy - Interação com Arrays e Matrizes"
   ]
  },
  {
   "cell_type": "markdown",
   "metadata": {},
   "source": [
    "## Fazendo iteração em NumPy Array\n",
    "- Utilize forloop para iterar por cada elemento de um array;\n",
    "- Utilize loops aninhados para iterar nos elementos de cada"
   ]
  },
  {
   "cell_type": "markdown",
   "metadata": {},
   "source": [
    "### iteração em Arrays 1-D"
   ]
  },
  {
   "cell_type": "code",
   "execution_count": 1,
   "metadata": {},
   "outputs": [
    {
     "name": "stdout",
     "output_type": "stream",
     "text": [
      "1, 2, 3, 4, 5, 6, 7, 8, 9, 10, 11, 12, 13, 14, 15, 16, 17, 18, 19, 20, 21, 22, 23, 24, 25, 26, 27, 28, 29, 30, 31, 32, 33, 34, 35, 36, 37, 38, 39, 40, "
     ]
    }
   ],
   "source": [
    "import numpy as np\n",
    "\n",
    "meu_array = np.array([ 1,  2,  3,  4,  5,  6,  7,  8,  9, 10, 11, 12, 13, 14, 15, 16, 17,\n",
    "       18, 19, 20, 21, 22, 23, 24, 25, 26, 27, 28, 29, 30, 31, 32, 33, 34,\n",
    "       35, 36, 37, 38, 39, 40])\n",
    "\n",
    "for x in meu_array:\n",
    "  print(x, end=', ')"
   ]
  },
  {
   "cell_type": "markdown",
   "metadata": {},
   "source": [
    "### Iteração em matriz 2-D"
   ]
  },
  {
   "cell_type": "code",
   "execution_count": 2,
   "metadata": {},
   "outputs": [
    {
     "name": "stdout",
     "output_type": "stream",
     "text": [
      "[ 1  2  3  4  5  6  7  8  9 10]\n",
      "[11 12 13 14 15 16 17 18 19 20]\n",
      "[21 22 23 24 25 26 27 28 29 30]\n",
      "[31 32 33 34 35 36 37 38 39 40]\n"
     ]
    }
   ],
   "source": [
    "meu_array = np.array([[1,2,3,4,5,6,7,8,9,10],\n",
    "              [11,12,13,14,15,16,17,18,19,20],\n",
    "              [21,22,23,24,25,26,27,28,29,30],\n",
    "              [31,32,33,34,35,36,37,38,39,40]])\n",
    "\n",
    "for x in meu_array:\n",
    "  print(x)"
   ]
  },
  {
   "cell_type": "code",
   "execution_count": 3,
   "metadata": {},
   "outputs": [
    {
     "name": "stdout",
     "output_type": "stream",
     "text": [
      "linha: [ 1  2  3  4  5  6  7  8  9 10]\n",
      "coluna:  1; coluna:  2; coluna:  3; coluna:  4; coluna:  5; coluna:  6; coluna:  7; coluna:  8; coluna:  9; coluna:  10; \n",
      "linha: [11 12 13 14 15 16 17 18 19 20]\n",
      "coluna:  11; coluna:  12; coluna:  13; coluna:  14; coluna:  15; coluna:  16; coluna:  17; coluna:  18; coluna:  19; coluna:  20; \n",
      "linha: [21 22 23 24 25 26 27 28 29 30]\n",
      "coluna:  21; coluna:  22; coluna:  23; coluna:  24; coluna:  25; coluna:  26; coluna:  27; coluna:  28; coluna:  29; coluna:  30; \n",
      "linha: [31 32 33 34 35 36 37 38 39 40]\n",
      "coluna:  31; coluna:  32; coluna:  33; coluna:  34; coluna:  35; coluna:  36; coluna:  37; coluna:  38; coluna:  39; coluna:  40; \n"
     ]
    }
   ],
   "source": [
    "meu_array = np.array([[1,2,3,4,5,6,7,8,9,10],\n",
    "              [11,12,13,14,15,16,17,18,19,20],\n",
    "              [21,22,23,24,25,26,27,28,29,30],\n",
    "              [31,32,33,34,35,36,37,38,39,40]])\n",
    "\n",
    "for x in meu_array:\n",
    "  print('linha:', x)\n",
    "  for y in x:\n",
    "    print('coluna: ', y, end='; ')\n",
    "  print('')"
   ]
  },
  {
   "cell_type": "code",
   "execution_count": 4,
   "metadata": {},
   "outputs": [
    {
     "name": "stdout",
     "output_type": "stream",
     "text": [
      "[ 10  40  90 160 250 360]\n"
     ]
    }
   ],
   "source": [
    "quantidade  = np.array( [1,2,3,4,5,6])\n",
    "preco = np.array( [10,20,30,40,50,60])\n",
    "faturamento = quantidade * preco\n",
    "print(faturamento)"
   ]
  },
  {
   "cell_type": "code",
   "execution_count": 5,
   "metadata": {},
   "outputs": [
    {
     "name": "stdout",
     "output_type": "stream",
     "text": [
      "[10, 40, 90, 160, 250, 360]\n"
     ]
    }
   ],
   "source": [
    "quantidade  =  [1,2,3,4,5,6]\n",
    "preco =  [10,20,30,40,50,60]\n",
    "faturamento = [ qt * pr for qt , pr in zip(quantidade,preco)]\n",
    "print(faturamento)"
   ]
  },
  {
   "cell_type": "markdown",
   "metadata": {},
   "source": [
    "### Iteração em matrizes 3-D"
   ]
  },
  {
   "cell_type": "code",
   "execution_count": 7,
   "metadata": {},
   "outputs": [
    {
     "name": "stdout",
     "output_type": "stream",
     "text": [
      "10\n",
      "20\n",
      "30\n",
      "\n",
      "40\n",
      "50\n",
      "60\n",
      "\n",
      "\n",
      "70\n",
      "80\n",
      "90\n",
      "\n",
      "100\n",
      "110\n",
      "120\n",
      "\n",
      "\n"
     ]
    }
   ],
   "source": [
    "meu_array = np.array([\n",
    "                      [\n",
    "                       [10, 20, 30], \n",
    "                       [40, 50, 60]\n",
    "                       ], \n",
    "                      [\n",
    "                       [70, 80, 90], \n",
    "                       [100, 110, 120]\n",
    "                       ]\n",
    "                      ])\n",
    "\n",
    "for x in meu_array:\n",
    "  for y in x:\n",
    "    for z in y:\n",
    "      print(z)\n",
    "    print('')\n",
    "  print('')"
   ]
  },
  {
   "cell_type": "markdown",
   "metadata": {},
   "source": [
    "## Simplificando a iteração com nditer ()\n",
    "- Percorra todos os itens de um array multidimensional usando um único loop."
   ]
  },
  {
   "cell_type": "code",
   "execution_count": 8,
   "metadata": {},
   "outputs": [
    {
     "name": "stdout",
     "output_type": "stream",
     "text": [
      "10, 20, 30, 40, 50, 60, 70, 80, 90, 100, 110, 120, "
     ]
    }
   ],
   "source": [
    "meu_array = np.array([\n",
    "                      [\n",
    "                       [10, 20, 30], \n",
    "                       [40, 50, 60]\n",
    "                       ], \n",
    "                      [\n",
    "                       [70, 80, 90], \n",
    "                       [100, 110, 120]\n",
    "                       ]\n",
    "                      ])\n",
    "\n",
    "\n",
    "for x in np.nditer(meu_array):\n",
    "  print(x, end=', ')"
   ]
  },
  {
   "cell_type": "markdown",
   "metadata": {},
   "source": [
    "### Para alterar o tipo de dados dos elementos durante a iteração.\n",
    "- Deve-se indicar o tipo de dado e se será usado um buffer durante a iteração ou se será gerado uma cópia do array."
   ]
  },
  {
   "cell_type": "code",
   "execution_count": 9,
   "metadata": {},
   "outputs": [
    {
     "name": "stdout",
     "output_type": "stream",
     "text": [
      "10\n",
      "20\n",
      "30\n",
      "40\n",
      "50\n"
     ]
    }
   ],
   "source": [
    "meu_array = np.array([10, 20, 30, 40, 50])\n",
    "\n",
    "for x in np.nditer(meu_array, flags=['buffered'], op_dtypes=['U']):\n",
    "  print(x)"
   ]
  },
  {
   "cell_type": "code",
   "execution_count": 10,
   "metadata": {},
   "outputs": [
    {
     "name": "stdout",
     "output_type": "stream",
     "text": [
      "10.0\n",
      "20.0\n",
      "30.0\n",
      "40.0\n",
      "50.0\n"
     ]
    }
   ],
   "source": [
    "meu_array = np.array([10, 20, 30, 40, 50])\n",
    "\n",
    "for x in np.nditer(meu_array, flags=['buffered'], op_dtypes=['f8']):\n",
    "  print(x)"
   ]
  },
  {
   "cell_type": "markdown",
   "metadata": {},
   "source": [
    "## Iteração enumerada com indice usando ndenumerate ()"
   ]
  },
  {
   "cell_type": "markdown",
   "metadata": {},
   "source": [
    "### Iterando em array 1-D"
   ]
  },
  {
   "cell_type": "code",
   "execution_count": 11,
   "metadata": {},
   "outputs": [
    {
     "name": "stdout",
     "output_type": "stream",
     "text": [
      "(0,) 10\n",
      "(2,) 30\n",
      "(4,) 50\n"
     ]
    }
   ],
   "source": [
    "meu_array = np.array([10, 20, 30, 40, 50])\n",
    "\n",
    "for idx, x in np.ndenumerate(meu_array):\n",
    "    if idx[0] % 2 == 0:\n",
    "      print(idx, x)"
   ]
  },
  {
   "cell_type": "markdown",
   "metadata": {},
   "source": [
    "### Iterando em matriz 2D"
   ]
  },
  {
   "cell_type": "code",
   "execution_count": 16,
   "metadata": {},
   "outputs": [
    {
     "name": "stdout",
     "output_type": "stream",
     "text": [
      "Índice: (0,) Valor: [21, 22, 23, 24, 25]\n",
      "Índice: (1,) Valor: [5, 6, 7, 8]\n"
     ]
    }
   ],
   "source": [
    "meu_array = np.array([[21, 22, 23, 24, 25], [5, 6, 7, 8]], dtype=object)\n",
    "\n",
    "for idposicao, valor in np.ndenumerate(meu_array):\n",
    "    print(\"Índice:\", idposicao, \"Valor:\", valor)"
   ]
  },
  {
   "cell_type": "code",
   "execution_count": null,
   "metadata": {},
   "outputs": [],
   "source": []
  }
 ],
 "metadata": {
  "kernelspec": {
   "display_name": "base",
   "language": "python",
   "name": "python3"
  },
  "language_info": {
   "codemirror_mode": {
    "name": "ipython",
    "version": 3
   },
   "file_extension": ".py",
   "mimetype": "text/x-python",
   "name": "python",
   "nbconvert_exporter": "python",
   "pygments_lexer": "ipython3",
   "version": "3.12.3"
  }
 },
 "nbformat": 4,
 "nbformat_minor": 2
}
