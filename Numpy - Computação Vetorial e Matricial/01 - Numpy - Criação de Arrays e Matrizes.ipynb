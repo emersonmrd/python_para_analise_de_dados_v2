{
 "cells": [
  {
   "cell_type": "markdown",
   "metadata": {},
   "source": [
    "# Importância do Numpy\n",
    "## Aplicativos Numpy com outras bibliotecas\n",
    "### NumPy com Pandas\n",
    "<p>Pandas é uma das bibliotecas mais importantes em Python para análise de dados, fornece recuros de alto desempenho para tratamento e análise de dados. O Dataframe do Pandas utiliza o NumPy para cálculos mais rápidos.</p>\n",
    "\n",
    "### NumPy com Matplotlib\n",
    "<p>É uma ferramenta muito útil para trabalhar com representações gráficas. Consiste em uma ampla gama de funções para traçar gráficos e também manipulá-los. O Matplot utiliza também adota o NumPy entre suas dependencias.</p>\n",
    "\n",
    "### NumPy com SciPy\n",
    "<p>Scipy é biblioteca científica mais importante em python. Ele foi construído sobre as funcionalidades do NumPy, com funcionalidades avançadas no SciPy para cálculos científicos com maior desempenho matemático.</p>\n",
    "\n",
    "### Instalação de NumPy\n",
    "<p>Usar o comando</p>\n",
    "\n",
    "<p>pip install numpy</p>\n",
    "\n",
    "### Importar NumPy\n",
    "<p>import numpy</p>"
   ]
  },
  {
   "cell_type": "code",
   "execution_count": 1,
   "metadata": {},
   "outputs": [
    {
     "name": "stdout",
     "output_type": "stream",
     "text": [
      "[ 10  20  30  40  50  60  70  80  90 100]\n"
     ]
    }
   ],
   "source": [
    "import numpy\n",
    "\n",
    "meu_array = numpy.array([10, 20, 30, 40, 50, 60, 70, 80, 90, 100])\n",
    "\n",
    "print(meu_array)"
   ]
  },
  {
   "cell_type": "markdown",
   "metadata": {},
   "source": [
    "# Padrão de importação do NumPy com o alias np\n"
   ]
  },
  {
   "cell_type": "code",
   "execution_count": 2,
   "metadata": {},
   "outputs": [
    {
     "name": "stdout",
     "output_type": "stream",
     "text": [
      "[ 10  20  30  40  50  60  70  80  90 100]\n"
     ]
    }
   ],
   "source": [
    "import numpy as np\n",
    "\n",
    "meu_array = np.array([10, 20, 30, 40, 50, 60, 70, 80, 90, 100])\n",
    "\n",
    "print(meu_array)"
   ]
  },
  {
   "cell_type": "markdown",
   "metadata": {},
   "source": [
    "# Como checar a versão do NumPy\n",
    "<p>Acessar o propriedade version do pacote.</p>"
   ]
  },
  {
   "cell_type": "code",
   "execution_count": 3,
   "metadata": {},
   "outputs": [
    {
     "name": "stdout",
     "output_type": "stream",
     "text": [
      "1.26.4\n"
     ]
    }
   ],
   "source": [
    "print(np.__version__)"
   ]
  },
  {
   "cell_type": "markdown",
   "metadata": {},
   "source": [
    "# Criando matrizes\n",
    "\n",
    "- O objeto de matriz em NumPy é chamado de ndarray\n",
    "- Usar a função array() para criar a matriz"
   ]
  },
  {
   "cell_type": "code",
   "execution_count": 7,
   "metadata": {},
   "outputs": [
    {
     "name": "stdout",
     "output_type": "stream",
     "text": [
      "[ 10  20  30  40  50  60  70  80  90 100] ['10' '20' '30' '40' '50' '60' '70' '80' '90' '100']\n",
      "<class 'numpy.ndarray'> <class 'numpy.ndarray'>\n"
     ]
    },
    {
     "data": {
      "text/plain": [
       "(dtype('int32'), dtype('<U11'))"
      ]
     },
     "execution_count": 7,
     "metadata": {},
     "output_type": "execute_result"
    }
   ],
   "source": [
    "meu_array = np.array([10,20,30,40,50,60,70,80,90,100])\n",
    "\n",
    "meu_array_str = np.array([10,20,30,40,'50',60,70,80,90,100])\n",
    "\n",
    "print(meu_array, meu_array_str)\n",
    "\n",
    "print(type(meu_array), type(meu_array_str))\n",
    "\n",
    "meu_array.dtype, meu_array_str.dtype"
   ]
  },
  {
   "cell_type": "markdown",
   "metadata": {},
   "source": [
    "<p>Pode-se passar lista, tupla ou qualquer objeto do tipo array para a função array()</p>"
   ]
  },
  {
   "cell_type": "markdown",
   "metadata": {},
   "source": [
    "# Usando uma tupla para criar uma matriz NumPY:"
   ]
  },
  {
   "cell_type": "code",
   "execution_count": 5,
   "metadata": {},
   "outputs": [
    {
     "name": "stdout",
     "output_type": "stream",
     "text": [
      "[ 10  20  30  40  50  60  70  80  90 100]\n"
     ]
    }
   ],
   "source": [
    "meu_array = np.array((10,20,30,40,50,60,70,80,90,100))\n",
    "\n",
    "print(meu_array)"
   ]
  },
  {
   "cell_type": "markdown",
   "metadata": {},
   "source": [
    "# Usando um set para criar uma matriz NumPy:"
   ]
  },
  {
   "cell_type": "code",
   "execution_count": 8,
   "metadata": {},
   "outputs": [
    {
     "name": "stdout",
     "output_type": "stream",
     "text": [
      "{100, 70, 40, 10, 80, 50, 20, 90, 60, 30}\n",
      "<class 'numpy.ndarray'>\n"
     ]
    }
   ],
   "source": [
    "meu_array = np.array({10,20,30,40,50,60,70,80,90,100})\n",
    "\n",
    "print(meu_array)\n",
    "\n",
    "print(type(meu_array))"
   ]
  },
  {
   "cell_type": "markdown",
   "metadata": {},
   "source": [
    "# Dimensões em matrizes\n",
    "\n",
    "## Matrizes 0-D\n",
    "- Matrizes 0-D, ou escalares, são os elementos de uma matriz.\n",
    "- Cada valor em uma matriz é uma matriz 0-D"
   ]
  },
  {
   "cell_type": "code",
   "execution_count": 9,
   "metadata": {},
   "outputs": [
    {
     "name": "stdout",
     "output_type": "stream",
     "text": [
      "100\n",
      "<class 'numpy.ndarray'>\n"
     ]
    }
   ],
   "source": [
    "meu_array = np.array(100)\n",
    "\n",
    "print(meu_array)\n",
    "\n",
    "print(type(meu_array))"
   ]
  },
  {
   "cell_type": "markdown",
   "metadata": {},
   "source": [
    "# Matrizes 1-D ou unidimensional\n",
    "\n",
    "Matriz que possui matrizes 0-D como seus elementos. São os arrays mais comuns e básicos."
   ]
  },
  {
   "cell_type": "code",
   "execution_count": 10,
   "metadata": {},
   "outputs": [
    {
     "name": "stdout",
     "output_type": "stream",
     "text": [
      "[ 10  20  30  40  50  60  70  80  90 100]\n",
      "<class 'numpy.ndarray'>\n"
     ]
    }
   ],
   "source": [
    "meu_array = np.array([10,20,30,40,50,60,70,80,90,100])\n",
    "\n",
    "print(meu_array)\n",
    "\n",
    "print(type(meu_array))"
   ]
  },
  {
   "cell_type": "markdown",
   "metadata": {},
   "source": [
    "# Utilizam tipos fixos para todos os elementos\n",
    "\n",
    "Os tipos serão convertidos para que sejam do mesmo tipo"
   ]
  },
  {
   "cell_type": "code",
   "execution_count": 13,
   "metadata": {},
   "outputs": [
    {
     "name": "stdout",
     "output_type": "stream",
     "text": [
      "[ 10.   20.   30.   40.5  50.   60.   70.   80.   90.  100. ]\n",
      "<class 'numpy.ndarray'>\n"
     ]
    }
   ],
   "source": [
    "meu_array = np.array([10,20,30,40.5,50,60,70,80,90,100])\n",
    "\n",
    "print(meu_array)\n",
    "\n",
    "print(type(meu_array))"
   ]
  },
  {
   "cell_type": "code",
   "execution_count": 11,
   "metadata": {},
   "outputs": [
    {
     "name": "stdout",
     "output_type": "stream",
     "text": [
      "['10' '20' '30' '40' '50' '60' '70' '80' '90' '100']\n",
      "<class 'numpy.ndarray'>\n"
     ]
    }
   ],
   "source": [
    "meu_array = np.array([10,20,30,40,50,60,70,'80','90',100])\n",
    "\n",
    "print(meu_array)\n",
    "\n",
    "print(type(meu_array))"
   ]
  },
  {
   "cell_type": "markdown",
   "metadata": {},
   "source": [
    "# Matrizes 2-D\n",
    "\n",
    "Matriz que possui matrizes 1-D como seus elementos, geralmente usada para representar matrizes."
   ]
  },
  {
   "cell_type": "code",
   "execution_count": 17,
   "metadata": {},
   "outputs": [
    {
     "name": "stdout",
     "output_type": "stream",
     "text": [
      "[[10 20 30]\n",
      " [40 50 60]]\n",
      "<class 'numpy.ndarray'>\n"
     ]
    }
   ],
   "source": [
    "meu_array = np.array([[10,20,30],\n",
    "                     [40,50,60]])\n",
    "\n",
    "print(meu_array)\n",
    "\n",
    "print(type(meu_array))"
   ]
  },
  {
   "cell_type": "markdown",
   "metadata": {},
   "source": [
    "# Array 3-D\n",
    "Array que possui arrays 2-D (matrizes) como seus elementos"
   ]
  },
  {
   "cell_type": "code",
   "execution_count": 18,
   "metadata": {},
   "outputs": [
    {
     "name": "stdout",
     "output_type": "stream",
     "text": [
      "[[[10 20 30]\n",
      "  [40 50 60]]\n",
      "\n",
      " [[10 20 30]\n",
      "  [40 50 60]]]\n",
      "<class 'numpy.ndarray'>\n"
     ]
    }
   ],
   "source": [
    "meu_array = np.array(\n",
    "    [\n",
    "        [\n",
    "        [10,20,30],\n",
    "         [40,50,60]\n",
    "         ],\n",
    "        [\n",
    "        [10,20,30],\n",
    "         [40,50,60]\n",
    "         ]\n",
    "     ]\n",
    "    )\n",
    "\n",
    "print(meu_array)\n",
    "\n",
    "print(type(meu_array))"
   ]
  },
  {
   "cell_type": "markdown",
   "metadata": {},
   "source": [
    "# Obtendo a quantidade de dimensões do array\n",
    "* Utilize o atributo do objeto ndarray."
   ]
  },
  {
   "cell_type": "code",
   "execution_count": 19,
   "metadata": {},
   "outputs": [
    {
     "name": "stdout",
     "output_type": "stream",
     "text": [
      "0\n"
     ]
    }
   ],
   "source": [
    "meu_array = np.array(42)\n",
    "\n",
    "print(meu_array.ndim)"
   ]
  },
  {
   "cell_type": "code",
   "execution_count": 21,
   "metadata": {},
   "outputs": [
    {
     "name": "stdout",
     "output_type": "stream",
     "text": [
      "1\n"
     ]
    }
   ],
   "source": [
    "meu_array = np.array([10,20,30,40,50,60,70,80,90,100])\n",
    "\n",
    "print(meu_array.ndim)"
   ]
  },
  {
   "cell_type": "code",
   "execution_count": 22,
   "metadata": {},
   "outputs": [
    {
     "name": "stdout",
     "output_type": "stream",
     "text": [
      "2\n"
     ]
    }
   ],
   "source": [
    "meu_array = np.array([[10,20,30],\n",
    "                     [40,50,60]])\n",
    "\n",
    "print(meu_array.ndim)"
   ]
  },
  {
   "cell_type": "code",
   "execution_count": 23,
   "metadata": {},
   "outputs": [
    {
     "name": "stdout",
     "output_type": "stream",
     "text": [
      "3\n"
     ]
    }
   ],
   "source": [
    "meu_array = np.array(\n",
    "    [\n",
    "        [\n",
    "        [10,20,30],\n",
    "         [40,50,60]\n",
    "         ],\n",
    "        [\n",
    "        [10,20,30],\n",
    "         [40,50,60]\n",
    "         ]\n",
    "     ]\n",
    "    )\n",
    "\n",
    "print(meu_array.ndim)"
   ]
  },
  {
   "cell_type": "markdown",
   "metadata": {},
   "source": [
    "# Matrizes com muitas dimensões\n",
    "- Uma matriz pode ser criada com qualquer número de dimensões, usando o argumento ndim"
   ]
  },
  {
   "cell_type": "code",
   "execution_count": 24,
   "metadata": {},
   "outputs": [
    {
     "name": "stdout",
     "output_type": "stream",
     "text": [
      "[[[[[21 22 23 24 25]]]]]\n"
     ]
    }
   ],
   "source": [
    "meu_array = np.array([21,22,23,24,25], ndmin=5)\n",
    "\n",
    "print(meu_array)"
   ]
  },
  {
   "cell_type": "markdown",
   "metadata": {},
   "source": [
    "# Criando arrays vazios ou com valores predefinidos"
   ]
  },
  {
   "cell_type": "markdown",
   "metadata": {},
   "source": [
    "* Sem valor"
   ]
  },
  {
   "cell_type": "code",
   "execution_count": 25,
   "metadata": {},
   "outputs": [
    {
     "name": "stdout",
     "output_type": "stream",
     "text": [
      "[0.00000000e+000 1.05547584e-311 1.05547584e-311 1.05547584e-311]\n",
      "1\n"
     ]
    }
   ],
   "source": [
    "meu_array = np.empty((4,))\n",
    "\n",
    "print(meu_array)\n",
    "\n",
    "print(meu_array.ndim)"
   ]
  },
  {
   "cell_type": "code",
   "execution_count": 26,
   "metadata": {},
   "outputs": [
    {
     "name": "stdout",
     "output_type": "stream",
     "text": [
      "[[1.05547584e-311 1.05547584e-311 1.05547584e-311]\n",
      " [4.94065646e-324 1.05548495e-311 1.05550603e-311]\n",
      " [0.00000000e+000 7.41098469e-323 1.05548479e-311]]\n",
      "2\n"
     ]
    }
   ],
   "source": [
    "meu_array = np.empty((3,3))\n",
    "\n",
    "print(meu_array)\n",
    "\n",
    "print(meu_array.ndim)"
   ]
  },
  {
   "cell_type": "markdown",
   "metadata": {},
   "source": [
    "* indicando 1 como valor"
   ]
  },
  {
   "cell_type": "code",
   "execution_count": 28,
   "metadata": {},
   "outputs": [
    {
     "name": "stdout",
     "output_type": "stream",
     "text": [
      "[[1. 1. 1.]\n",
      " [1. 1. 1.]\n",
      " [1. 1. 1.]]\n",
      "2\n"
     ]
    }
   ],
   "source": [
    "meu_array = np.ones((3,3))\n",
    "\n",
    "print(meu_array)\n",
    "\n",
    "print(meu_array.ndim)"
   ]
  },
  {
   "cell_type": "markdown",
   "metadata": {},
   "source": [
    "* indicando 0 como valor"
   ]
  },
  {
   "cell_type": "code",
   "execution_count": 29,
   "metadata": {},
   "outputs": [
    {
     "name": "stdout",
     "output_type": "stream",
     "text": [
      "[[0. 0. 0.]\n",
      " [0. 0. 0.]\n",
      " [0. 0. 0.]]\n",
      "2\n"
     ]
    }
   ],
   "source": [
    "meu_array = np.zeros((3,3))\n",
    "\n",
    "print(meu_array)\n",
    "\n",
    "print(meu_array.ndim)"
   ]
  },
  {
   "cell_type": "markdown",
   "metadata": {},
   "source": [
    "* indicando o valor desejado"
   ]
  },
  {
   "cell_type": "code",
   "execution_count": 30,
   "metadata": {},
   "outputs": [
    {
     "name": "stdout",
     "output_type": "stream",
     "text": [
      "[[99 99 99]\n",
      " [99 99 99]\n",
      " [99 99 99]]\n",
      "2\n"
     ]
    }
   ],
   "source": [
    "meu_array = np.full((3,3),99)\n",
    "\n",
    "print(meu_array)\n",
    "\n",
    "print(meu_array.ndim)"
   ]
  },
  {
   "cell_type": "markdown",
   "metadata": {},
   "source": [
    "# Adicionando e removendo elementos\n",
    "\n",
    "## insert(arr,obj, valores[,eixo])\n",
    "\n",
    "insira valores ao longo do eixo fornecido antes dos índices fornecidos.\n"
   ]
  },
  {
   "cell_type": "code",
   "execution_count": 31,
   "metadata": {},
   "outputs": [
    {
     "name": "stdout",
     "output_type": "stream",
     "text": [
      "[ 10  20  30  40  50  60  70  80  90 100]\n",
      "[ 10  20  30 888 999  40  50  60  70  80  90 100]\n",
      "[ 10  20  30  40  50  60  70  80  90 100]\n"
     ]
    }
   ],
   "source": [
    "meu_array = np.array([10,20,30,40,50,60,70,80,90,100])\n",
    "\n",
    "print(meu_array)\n",
    "\n",
    "novo_array = np.insert(meu_array,3,[888,999])\n",
    "\n",
    "print(novo_array)\n",
    "\n",
    "print(meu_array)"
   ]
  },
  {
   "cell_type": "markdown",
   "metadata": {},
   "source": [
    "## append(arr, valores[,eixo])"
   ]
  },
  {
   "cell_type": "code",
   "execution_count": 33,
   "metadata": {},
   "outputs": [
    {
     "name": "stdout",
     "output_type": "stream",
     "text": [
      "[ 10  20  30  40  50  60  70  80  90 100]\n",
      "[ 10  20  30  40  50  60  70  80  90 100 888 999]\n",
      "[ 10  20  30  40  50  60  70  80  90 100]\n"
     ]
    }
   ],
   "source": [
    "meu_array = np.array([10,20,30,40,50,60,70,80,90,100])\n",
    "\n",
    "print(meu_array)\n",
    "\n",
    "novo_array = np.append(meu_array,[888,999])\n",
    "\n",
    "print(novo_array)\n",
    "\n",
    "print(meu_array)"
   ]
  },
  {
   "cell_type": "markdown",
   "metadata": {},
   "source": [
    "# delete(arr,obj[,eixo])\n",
    "\n",
    "Retorne uma nova matriz com submatrizes ao longo de um eixo excluído"
   ]
  },
  {
   "cell_type": "code",
   "execution_count": 34,
   "metadata": {},
   "outputs": [
    {
     "name": "stdout",
     "output_type": "stream",
     "text": [
      "[ 10  20  30  40  50  60  70  80  90 100]\n",
      "[ 10  30  50  70  80  90 100]\n",
      "[ 10  20  30  40  50  60  70  80  90 100]\n"
     ]
    }
   ],
   "source": [
    "meu_array = np.array([10,20,30,40,50,60,70,80,90,100])\n",
    "\n",
    "print(meu_array)\n",
    "\n",
    "novo_array = np.delete(meu_array, [1,3,5])\n",
    "\n",
    "print(novo_array)\n",
    "\n",
    "print(meu_array)"
   ]
  },
  {
   "cell_type": "markdown",
   "metadata": {},
   "source": [
    "# unique(ar [return_index, return_inverse,...])\n",
    "\n",
    "Encontre os elementros exclusivos de uma matriz"
   ]
  },
  {
   "cell_type": "code",
   "execution_count": 35,
   "metadata": {},
   "outputs": [
    {
     "name": "stdout",
     "output_type": "stream",
     "text": [
      "[ 10  20  30  40  50  60  70  80  90 100  10  20  30  40  50  60  70  80\n",
      "  90 100  10  20  30  40  50  60  70  80  90 100]\n",
      "[ 10  20  30  40  50  60  70  80  90 100]\n",
      "[ 10  20  30  40  50  60  70  80  90 100  10  20  30  40  50  60  70  80\n",
      "  90 100  10  20  30  40  50  60  70  80  90 100]\n"
     ]
    }
   ],
   "source": [
    "meu_array = np.array([10,20,30,40,50,60,70,80,90,100,10,20,30,40,50,60,70,80,90,100,10,20,30,40,50,60,70,80,90,100])\n",
    "\n",
    "print(meu_array)\n",
    "\n",
    "novo_array = np.unique(meu_array)\n",
    "\n",
    "print(novo_array)\n",
    "\n",
    "print(meu_array)"
   ]
  },
  {
   "cell_type": "code",
   "execution_count": null,
   "metadata": {},
   "outputs": [],
   "source": []
  }
 ],
 "metadata": {
  "kernelspec": {
   "display_name": "base",
   "language": "python",
   "name": "python3"
  },
  "language_info": {
   "codemirror_mode": {
    "name": "ipython",
    "version": 3
   },
   "file_extension": ".py",
   "mimetype": "text/x-python",
   "name": "python",
   "nbconvert_exporter": "python",
   "pygments_lexer": "ipython3",
   "version": "3.12.3"
  }
 },
 "nbformat": 4,
 "nbformat_minor": 2
}
