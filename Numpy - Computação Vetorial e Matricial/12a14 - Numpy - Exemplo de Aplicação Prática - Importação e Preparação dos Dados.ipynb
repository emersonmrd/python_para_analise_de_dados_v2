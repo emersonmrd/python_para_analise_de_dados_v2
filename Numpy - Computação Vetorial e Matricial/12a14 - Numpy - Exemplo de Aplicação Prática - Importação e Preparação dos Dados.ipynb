{
 "cells": [
  {
   "cell_type": "markdown",
   "metadata": {
    "id": "-wttXmB0JYuh"
   },
   "source": [
    "# Numpy - Exemplo de Aplicação Prática - Importação e Preparação dos Dados"
   ]
  },
  {
   "cell_type": "markdown",
   "metadata": {
    "id": "W2DQ8lHqSz8O"
   },
   "source": [
    "# Exemplo de Aplicação Prática\n",
    "***\n",
    "- Utilizando o conteúdo do arquivo csv extraído do Ministério da Saúde (https://covid.saude.gov.br/), abra o arquivo transforme-o em um array 2-D."
   ]
  },
  {
   "cell_type": "markdown",
   "metadata": {
    "id": "v1FR3isQx4w1"
   },
   "source": [
    "## Descompacte o arquivo\n"
   ]
  },
  {
   "cell_type": "code",
   "execution_count": 1,
   "metadata": {},
   "outputs": [],
   "source": [
    "import os\n",
    "diratual = os.getcwd()"
   ]
  },
  {
   "cell_type": "code",
   "execution_count": 2,
   "metadata": {
    "id": "09wx3BThmBPH"
   },
   "outputs": [],
   "source": [
    "nome_arquivo_compactado = 'HIST_PAINEL_COVIDBR_02nov2024.zip'\n",
    "diretorio = os.path.join(diratual) "
   ]
  },
  {
   "cell_type": "code",
   "execution_count": 3,
   "metadata": {
    "colab": {
     "base_uri": "https://localhost:8080/"
    },
    "executionInfo": {
     "elapsed": 966,
     "status": "ok",
     "timestamp": 1605915937748,
     "user": {
      "displayName": "Orlando O. S.",
      "photoUrl": "https://lh3.googleusercontent.com/a-/AOh14Gj-E1yuy1M_3ruwN4TWYPK4BwysauSW7GQmHheS=s64",
      "userId": "15066502291703974467"
     },
     "user_tz": 180
    },
    "id": "hXRYkqdhy2iR",
    "outputId": "00d671d2-cdd9-4226-c1a8-a2776da4a450"
   },
   "outputs": [
    {
     "data": {
      "text/plain": [
       "['01 - Numpy - Criação de Arrays e Matrizes.ipynb',\n",
       " '02 - Numpy - Indexação de Arrays e Matrizes.ipynb',\n",
       " '03 - Numpy - Tipologia de Dados de Arrays.ipynb',\n",
       " '04 - Numpy - Forma e Remodelagem de Matrizes (shape).ipynb',\n",
       " '05 - Numpy - Interação com Arrays e Matrizes.ipynb',\n",
       " '06 - Numpy - Junção e Segmentação de Arrays e Matrizes.ipynb',\n",
       " '07 - Numpy - Filtragem e Ordenação em Arrays e Matrizes.ipynb',\n",
       " '08 - Numpy - Geração de Valores Aleatórios em Arrays e Matrizes.ipynb',\n",
       " '09 - Numpy - Funções Matemáticas e Estatísticas em Arrays e Matrizes.ipynb',\n",
       " '10 - Numpy - Operações Aritméticas entre Arrays e Matrizes.ipynb',\n",
       " '11 - Numpy - Exportação e Importação de Arrays e Matrizes para Arquivos.ipynb',\n",
       " '12a14 - Numpy - Exemplo de Aplicação Prática - Importação e Preparação dos Dados.ipynb',\n",
       " 'array.csv',\n",
       " 'casos_mes_arr.csv',\n",
       " 'HIST_PAINEL_COVIDBR_02nov2024.csv',\n",
       " 'HIST_PAINEL_COVIDBR_02nov2024.zip',\n",
       " 'HIST_PAINEL_COVIDBR_2020_Parte1_02nov2024.csv',\n",
       " 'HIST_PAINEL_COVIDBR_2020_Parte2_02nov2024.csv',\n",
       " 'HIST_PAINEL_COVIDBR_2021_Parte1_02nov2024.csv',\n",
       " 'HIST_PAINEL_COVIDBR_2021_Parte2_02nov2024.csv',\n",
       " 'HIST_PAINEL_COVIDBR_2022_Parte1_02nov2024.csv',\n",
       " 'HIST_PAINEL_COVIDBR_2022_Parte2_02nov2024.csv',\n",
       " 'HIST_PAINEL_COVIDBR_2023_Parte1_02nov2024.csv',\n",
       " 'HIST_PAINEL_COVIDBR_2023_Parte2_02nov2024.csv',\n",
       " 'HIST_PAINEL_COVIDBR_2024_Parte1_02nov2024.csv',\n",
       " 'HIST_PAINEL_COVIDBR_2024_Parte2_02nov2024.csv']"
      ]
     },
     "execution_count": 3,
     "metadata": {},
     "output_type": "execute_result"
    }
   ],
   "source": [
    "os.listdir(diretorio)"
   ]
  },
  {
   "cell_type": "code",
   "execution_count": 4,
   "metadata": {
    "id": "OxHAz_iCx8gY"
   },
   "outputs": [],
   "source": [
    "import zipfile\n",
    "caminho_arquivo_zip = os.path.join(diretorio, nome_arquivo_compactado)\n",
    "with zipfile.ZipFile( caminho_arquivo_zip , 'r') as zip_ref:\n",
    "    zip_ref.extractall(diretorio)"
   ]
  },
  {
   "cell_type": "code",
   "execution_count": 5,
   "metadata": {
    "colab": {
     "base_uri": "https://localhost:8080/"
    },
    "executionInfo": {
     "elapsed": 914,
     "status": "ok",
     "timestamp": 1605915941256,
     "user": {
      "displayName": "Orlando O. S.",
      "photoUrl": "https://lh3.googleusercontent.com/a-/AOh14Gj-E1yuy1M_3ruwN4TWYPK4BwysauSW7GQmHheS=s64",
      "userId": "15066502291703974467"
     },
     "user_tz": 180
    },
    "id": "J61IPfWByWhF",
    "outputId": "0c0c0564-3323-42ca-c9f6-3dd8e4c9a9bf"
   },
   "outputs": [
    {
     "data": {
      "text/plain": [
       "['01 - Numpy - Criação de Arrays e Matrizes.ipynb',\n",
       " '02 - Numpy - Indexação de Arrays e Matrizes.ipynb',\n",
       " '03 - Numpy - Tipologia de Dados de Arrays.ipynb',\n",
       " '04 - Numpy - Forma e Remodelagem de Matrizes (shape).ipynb',\n",
       " '05 - Numpy - Interação com Arrays e Matrizes.ipynb',\n",
       " '06 - Numpy - Junção e Segmentação de Arrays e Matrizes.ipynb',\n",
       " '07 - Numpy - Filtragem e Ordenação em Arrays e Matrizes.ipynb',\n",
       " '08 - Numpy - Geração de Valores Aleatórios em Arrays e Matrizes.ipynb',\n",
       " '09 - Numpy - Funções Matemáticas e Estatísticas em Arrays e Matrizes.ipynb',\n",
       " '10 - Numpy - Operações Aritméticas entre Arrays e Matrizes.ipynb',\n",
       " '11 - Numpy - Exportação e Importação de Arrays e Matrizes para Arquivos.ipynb',\n",
       " '12a14 - Numpy - Exemplo de Aplicação Prática - Importação e Preparação dos Dados.ipynb',\n",
       " 'array.csv',\n",
       " 'casos_mes_arr.csv',\n",
       " 'HIST_PAINEL_COVIDBR_02nov2024.csv',\n",
       " 'HIST_PAINEL_COVIDBR_02nov2024.zip',\n",
       " 'HIST_PAINEL_COVIDBR_2020_Parte1_02nov2024.csv',\n",
       " 'HIST_PAINEL_COVIDBR_2020_Parte2_02nov2024.csv',\n",
       " 'HIST_PAINEL_COVIDBR_2021_Parte1_02nov2024.csv',\n",
       " 'HIST_PAINEL_COVIDBR_2021_Parte2_02nov2024.csv',\n",
       " 'HIST_PAINEL_COVIDBR_2022_Parte1_02nov2024.csv',\n",
       " 'HIST_PAINEL_COVIDBR_2022_Parte2_02nov2024.csv',\n",
       " 'HIST_PAINEL_COVIDBR_2023_Parte1_02nov2024.csv',\n",
       " 'HIST_PAINEL_COVIDBR_2023_Parte2_02nov2024.csv',\n",
       " 'HIST_PAINEL_COVIDBR_2024_Parte1_02nov2024.csv',\n",
       " 'HIST_PAINEL_COVIDBR_2024_Parte2_02nov2024.csv']"
      ]
     },
     "execution_count": 5,
     "metadata": {},
     "output_type": "execute_result"
    }
   ],
   "source": [
    "os.listdir(diretorio)"
   ]
  },
  {
   "cell_type": "code",
   "execution_count": 6,
   "metadata": {},
   "outputs": [],
   "source": [
    "import numpy as np\n",
    "import pandas as pd\n",
    "\n",
    "datasets = [\n",
    "    'HIST_PAINEL_COVIDBR_2020_Parte1_02nov2024.csv',\n",
    "    'HIST_PAINEL_COVIDBR_2020_Parte2_02nov2024.csv',\n",
    "    'HIST_PAINEL_COVIDBR_2021_Parte1_02nov2024.csv',\n",
    "    'HIST_PAINEL_COVIDBR_2021_Parte2_02nov2024.csv',\n",
    "    'HIST_PAINEL_COVIDBR_2022_Parte1_02nov2024.csv',\n",
    "    'HIST_PAINEL_COVIDBR_2022_Parte2_02nov2024.csv',\n",
    "    'HIST_PAINEL_COVIDBR_2023_Parte1_02nov2024.csv',\n",
    "    'HIST_PAINEL_COVIDBR_2023_Parte2_02nov2024.csv',\n",
    "    'HIST_PAINEL_COVIDBR_2024_Parte1_02nov2024.csv',\n",
    "    'HIST_PAINEL_COVIDBR_2024_Parte2_02nov2024.csv'\n",
    "]\n",
    "\n",
    "# Gerar os caminhos completos para os arquivos\n",
    "caminhos_arquivos = [os.path.join(diretorio, arquivo) for arquivo in datasets]\n",
    "\n",
    "# Lista para armazenar os DataFrames\n",
    "dataframes = []\n",
    "\n",
    "\n",
    "for caminho in caminhos_arquivos:\n",
    "        df = pd.read_csv(caminho, delimiter=';')\n",
    "        dataframes.append(df)\n",
    "\n",
    "df_concatenado = pd.concat(dataframes, ignore_index=True)\n",
    "df_concatenado.to_csv('HIST_PAINEL_COVIDBR_02nov2024.csv', index=False, sep=';')"
   ]
  },
  {
   "cell_type": "code",
   "execution_count": 7,
   "metadata": {},
   "outputs": [
    {
     "data": {
      "text/html": [
       "<div>\n",
       "<style scoped>\n",
       "    .dataframe tbody tr th:only-of-type {\n",
       "        vertical-align: middle;\n",
       "    }\n",
       "\n",
       "    .dataframe tbody tr th {\n",
       "        vertical-align: top;\n",
       "    }\n",
       "\n",
       "    .dataframe thead th {\n",
       "        text-align: right;\n",
       "    }\n",
       "</style>\n",
       "<table border=\"1\" class=\"dataframe\">\n",
       "  <thead>\n",
       "    <tr style=\"text-align: right;\">\n",
       "      <th></th>\n",
       "      <th>regiao</th>\n",
       "      <th>estado</th>\n",
       "      <th>municipio</th>\n",
       "      <th>coduf</th>\n",
       "      <th>codmun</th>\n",
       "      <th>codRegiaoSaude</th>\n",
       "      <th>nomeRegiaoSaude</th>\n",
       "      <th>data</th>\n",
       "      <th>semanaEpi</th>\n",
       "      <th>populacaoTCU2019</th>\n",
       "      <th>casosAcumulado</th>\n",
       "      <th>casosNovos</th>\n",
       "      <th>obitosAcumulado</th>\n",
       "      <th>obitosNovos</th>\n",
       "      <th>Recuperadosnovos</th>\n",
       "      <th>emAcompanhamentoNovos</th>\n",
       "      <th>interior/metropolitana</th>\n",
       "    </tr>\n",
       "  </thead>\n",
       "  <tbody>\n",
       "    <tr>\n",
       "      <th>0</th>\n",
       "      <td>Brasil</td>\n",
       "      <td>NaN</td>\n",
       "      <td>NaN</td>\n",
       "      <td>76</td>\n",
       "      <td>NaN</td>\n",
       "      <td>NaN</td>\n",
       "      <td>NaN</td>\n",
       "      <td>2020-02-25</td>\n",
       "      <td>9</td>\n",
       "      <td>210147125.0</td>\n",
       "      <td>0.0</td>\n",
       "      <td>0</td>\n",
       "      <td>0</td>\n",
       "      <td>0</td>\n",
       "      <td>0.0</td>\n",
       "      <td>0.0</td>\n",
       "      <td>NaN</td>\n",
       "    </tr>\n",
       "    <tr>\n",
       "      <th>1</th>\n",
       "      <td>Brasil</td>\n",
       "      <td>NaN</td>\n",
       "      <td>NaN</td>\n",
       "      <td>76</td>\n",
       "      <td>NaN</td>\n",
       "      <td>NaN</td>\n",
       "      <td>NaN</td>\n",
       "      <td>2020-02-26</td>\n",
       "      <td>9</td>\n",
       "      <td>210147125.0</td>\n",
       "      <td>1.0</td>\n",
       "      <td>1</td>\n",
       "      <td>0</td>\n",
       "      <td>0</td>\n",
       "      <td>1.0</td>\n",
       "      <td>0.0</td>\n",
       "      <td>NaN</td>\n",
       "    </tr>\n",
       "    <tr>\n",
       "      <th>2</th>\n",
       "      <td>Brasil</td>\n",
       "      <td>NaN</td>\n",
       "      <td>NaN</td>\n",
       "      <td>76</td>\n",
       "      <td>NaN</td>\n",
       "      <td>NaN</td>\n",
       "      <td>NaN</td>\n",
       "      <td>2020-02-27</td>\n",
       "      <td>9</td>\n",
       "      <td>210147125.0</td>\n",
       "      <td>1.0</td>\n",
       "      <td>0</td>\n",
       "      <td>0</td>\n",
       "      <td>0</td>\n",
       "      <td>1.0</td>\n",
       "      <td>0.0</td>\n",
       "      <td>NaN</td>\n",
       "    </tr>\n",
       "    <tr>\n",
       "      <th>3</th>\n",
       "      <td>Brasil</td>\n",
       "      <td>NaN</td>\n",
       "      <td>NaN</td>\n",
       "      <td>76</td>\n",
       "      <td>NaN</td>\n",
       "      <td>NaN</td>\n",
       "      <td>NaN</td>\n",
       "      <td>2020-02-28</td>\n",
       "      <td>9</td>\n",
       "      <td>210147125.0</td>\n",
       "      <td>1.0</td>\n",
       "      <td>0</td>\n",
       "      <td>0</td>\n",
       "      <td>0</td>\n",
       "      <td>0.0</td>\n",
       "      <td>1.0</td>\n",
       "      <td>NaN</td>\n",
       "    </tr>\n",
       "    <tr>\n",
       "      <th>4</th>\n",
       "      <td>Brasil</td>\n",
       "      <td>NaN</td>\n",
       "      <td>NaN</td>\n",
       "      <td>76</td>\n",
       "      <td>NaN</td>\n",
       "      <td>NaN</td>\n",
       "      <td>NaN</td>\n",
       "      <td>2020-02-29</td>\n",
       "      <td>9</td>\n",
       "      <td>210147125.0</td>\n",
       "      <td>2.0</td>\n",
       "      <td>1</td>\n",
       "      <td>0</td>\n",
       "      <td>0</td>\n",
       "      <td>1.0</td>\n",
       "      <td>1.0</td>\n",
       "      <td>NaN</td>\n",
       "    </tr>\n",
       "    <tr>\n",
       "      <th>5</th>\n",
       "      <td>Brasil</td>\n",
       "      <td>NaN</td>\n",
       "      <td>NaN</td>\n",
       "      <td>76</td>\n",
       "      <td>NaN</td>\n",
       "      <td>NaN</td>\n",
       "      <td>NaN</td>\n",
       "      <td>2020-03-01</td>\n",
       "      <td>10</td>\n",
       "      <td>210147125.0</td>\n",
       "      <td>2.0</td>\n",
       "      <td>0</td>\n",
       "      <td>0</td>\n",
       "      <td>0</td>\n",
       "      <td>1.0</td>\n",
       "      <td>1.0</td>\n",
       "      <td>NaN</td>\n",
       "    </tr>\n",
       "    <tr>\n",
       "      <th>6</th>\n",
       "      <td>Brasil</td>\n",
       "      <td>NaN</td>\n",
       "      <td>NaN</td>\n",
       "      <td>76</td>\n",
       "      <td>NaN</td>\n",
       "      <td>NaN</td>\n",
       "      <td>NaN</td>\n",
       "      <td>2020-03-02</td>\n",
       "      <td>10</td>\n",
       "      <td>210147125.0</td>\n",
       "      <td>2.0</td>\n",
       "      <td>0</td>\n",
       "      <td>0</td>\n",
       "      <td>0</td>\n",
       "      <td>0.0</td>\n",
       "      <td>2.0</td>\n",
       "      <td>NaN</td>\n",
       "    </tr>\n",
       "    <tr>\n",
       "      <th>7</th>\n",
       "      <td>Brasil</td>\n",
       "      <td>NaN</td>\n",
       "      <td>NaN</td>\n",
       "      <td>76</td>\n",
       "      <td>NaN</td>\n",
       "      <td>NaN</td>\n",
       "      <td>NaN</td>\n",
       "      <td>2020-03-03</td>\n",
       "      <td>10</td>\n",
       "      <td>210147125.0</td>\n",
       "      <td>2.0</td>\n",
       "      <td>0</td>\n",
       "      <td>0</td>\n",
       "      <td>0</td>\n",
       "      <td>0.0</td>\n",
       "      <td>2.0</td>\n",
       "      <td>NaN</td>\n",
       "    </tr>\n",
       "    <tr>\n",
       "      <th>8</th>\n",
       "      <td>Brasil</td>\n",
       "      <td>NaN</td>\n",
       "      <td>NaN</td>\n",
       "      <td>76</td>\n",
       "      <td>NaN</td>\n",
       "      <td>NaN</td>\n",
       "      <td>NaN</td>\n",
       "      <td>2020-03-04</td>\n",
       "      <td>10</td>\n",
       "      <td>210147125.0</td>\n",
       "      <td>3.0</td>\n",
       "      <td>1</td>\n",
       "      <td>0</td>\n",
       "      <td>0</td>\n",
       "      <td>1.0</td>\n",
       "      <td>2.0</td>\n",
       "      <td>NaN</td>\n",
       "    </tr>\n",
       "    <tr>\n",
       "      <th>9</th>\n",
       "      <td>Brasil</td>\n",
       "      <td>NaN</td>\n",
       "      <td>NaN</td>\n",
       "      <td>76</td>\n",
       "      <td>NaN</td>\n",
       "      <td>NaN</td>\n",
       "      <td>NaN</td>\n",
       "      <td>2020-03-05</td>\n",
       "      <td>10</td>\n",
       "      <td>210147125.0</td>\n",
       "      <td>7.0</td>\n",
       "      <td>4</td>\n",
       "      <td>0</td>\n",
       "      <td>0</td>\n",
       "      <td>4.0</td>\n",
       "      <td>3.0</td>\n",
       "      <td>NaN</td>\n",
       "    </tr>\n",
       "  </tbody>\n",
       "</table>\n",
       "</div>"
      ],
      "text/plain": [
       "   regiao estado municipio  coduf  codmun  codRegiaoSaude nomeRegiaoSaude  \\\n",
       "0  Brasil    NaN       NaN     76     NaN             NaN             NaN   \n",
       "1  Brasil    NaN       NaN     76     NaN             NaN             NaN   \n",
       "2  Brasil    NaN       NaN     76     NaN             NaN             NaN   \n",
       "3  Brasil    NaN       NaN     76     NaN             NaN             NaN   \n",
       "4  Brasil    NaN       NaN     76     NaN             NaN             NaN   \n",
       "5  Brasil    NaN       NaN     76     NaN             NaN             NaN   \n",
       "6  Brasil    NaN       NaN     76     NaN             NaN             NaN   \n",
       "7  Brasil    NaN       NaN     76     NaN             NaN             NaN   \n",
       "8  Brasil    NaN       NaN     76     NaN             NaN             NaN   \n",
       "9  Brasil    NaN       NaN     76     NaN             NaN             NaN   \n",
       "\n",
       "         data  semanaEpi  populacaoTCU2019  casosAcumulado  casosNovos  \\\n",
       "0  2020-02-25          9       210147125.0             0.0           0   \n",
       "1  2020-02-26          9       210147125.0             1.0           1   \n",
       "2  2020-02-27          9       210147125.0             1.0           0   \n",
       "3  2020-02-28          9       210147125.0             1.0           0   \n",
       "4  2020-02-29          9       210147125.0             2.0           1   \n",
       "5  2020-03-01         10       210147125.0             2.0           0   \n",
       "6  2020-03-02         10       210147125.0             2.0           0   \n",
       "7  2020-03-03         10       210147125.0             2.0           0   \n",
       "8  2020-03-04         10       210147125.0             3.0           1   \n",
       "9  2020-03-05         10       210147125.0             7.0           4   \n",
       "\n",
       "   obitosAcumulado  obitosNovos  Recuperadosnovos  emAcompanhamentoNovos  \\\n",
       "0                0            0               0.0                    0.0   \n",
       "1                0            0               1.0                    0.0   \n",
       "2                0            0               1.0                    0.0   \n",
       "3                0            0               0.0                    1.0   \n",
       "4                0            0               1.0                    1.0   \n",
       "5                0            0               1.0                    1.0   \n",
       "6                0            0               0.0                    2.0   \n",
       "7                0            0               0.0                    2.0   \n",
       "8                0            0               1.0                    2.0   \n",
       "9                0            0               4.0                    3.0   \n",
       "\n",
       "   interior/metropolitana  \n",
       "0                     NaN  \n",
       "1                     NaN  \n",
       "2                     NaN  \n",
       "3                     NaN  \n",
       "4                     NaN  \n",
       "5                     NaN  \n",
       "6                     NaN  \n",
       "7                     NaN  \n",
       "8                     NaN  \n",
       "9                     NaN  "
      ]
     },
     "execution_count": 7,
     "metadata": {},
     "output_type": "execute_result"
    }
   ],
   "source": [
    "df = pd.read_csv('HIST_PAINEL_COVIDBR_02nov2024.csv',delimiter=';')\n",
    "\n",
    "df.head(10)"
   ]
  },
  {
   "cell_type": "code",
   "execution_count": 8,
   "metadata": {
    "id": "jmZCe7yilNmE"
   },
   "outputs": [],
   "source": [
    "nome_arquivo_csv = 'HIST_PAINEL_COVIDBR_02nov2024.csv'\n",
    "caminho_arquivo_csv = os.path.join(diretorio, nome_arquivo_csv)\n",
    "with open(caminho_arquivo_csv) as f:\n",
    "  colunas = f.readline().strip('\\n').split(';')"
   ]
  },
  {
   "cell_type": "code",
   "execution_count": 9,
   "metadata": {
    "colab": {
     "base_uri": "https://localhost:8080/"
    },
    "executionInfo": {
     "elapsed": 943,
     "status": "ok",
     "timestamp": 1605915947928,
     "user": {
      "displayName": "Orlando O. S.",
      "photoUrl": "https://lh3.googleusercontent.com/a-/AOh14Gj-E1yuy1M_3ruwN4TWYPK4BwysauSW7GQmHheS=s64",
      "userId": "15066502291703974467"
     },
     "user_tz": 180
    },
    "id": "Y3RzEyt_lNmE",
    "outputId": "b0040f21-fd1d-47c5-bb02-769322b00898"
   },
   "outputs": [
    {
     "name": "stdout",
     "output_type": "stream",
     "text": [
      "['regiao', 'estado', 'municipio', 'coduf', 'codmun', 'codRegiaoSaude', 'nomeRegiaoSaude', 'data', 'semanaEpi', 'populacaoTCU2019', 'casosAcumulado', 'casosNovos', 'obitosAcumulado', 'obitosNovos', 'Recuperadosnovos', 'emAcompanhamentoNovos', 'interior/metropolitana']\n"
     ]
    }
   ],
   "source": [
    "print(colunas)"
   ]
  },
  {
   "cell_type": "code",
   "execution_count": 10,
   "metadata": {
    "colab": {
     "base_uri": "https://localhost:8080/"
    },
    "executionInfo": {
     "elapsed": 803,
     "status": "ok",
     "timestamp": 1605915194531,
     "user": {
      "displayName": "Orlando O. S.",
      "photoUrl": "https://lh3.googleusercontent.com/a-/AOh14Gj-E1yuy1M_3ruwN4TWYPK4BwysauSW7GQmHheS=s64",
      "userId": "15066502291703974467"
     },
     "user_tz": 180
    },
    "id": "CqFG87zRs31R",
    "outputId": "f94e9df7-0d1f-4174-969d-b6db06b5330d"
   },
   "outputs": [
    {
     "name": "stdout",
     "output_type": "stream",
     "text": [
      "regiao;estado;municipio;coduf;codmun;codRegiaoSaude;nomeRegiaoSaude;data;semanaEpi;populacaoTCU2019;casosAcumulado;casosNovos;obitosAcumulado;obitosNovos;Recuperadosnovos;emAcompanhamentoNovos;interior/metropolitana\n",
      "Brasil;;;76;;;;2020-02-25;9;210147125.0;0.0;0;0;0;0.0;0.0;\n",
      "Brasil;;;76;;;;2020-02-26;9;210147125.0;1.0;1;0;0;1.0;0.0;\n",
      "Brasil;;;76;;;;2020-02-27;9;210147125.0;1.0;0;0;0;1.0;0.0;\n",
      "Brasil;;;76;;;;2020-02-28;9;210147125.0;1.0;0;0;0;0.0;1.0;\n",
      "Brasil;;;76;;;;2020-02-29;9;210147125.0;2.0;1;0;\n"
     ]
    }
   ],
   "source": [
    "with open(caminho_arquivo_csv) as f:\n",
    "  print(f.read(500))"
   ]
  },
  {
   "cell_type": "code",
   "execution_count": 11,
   "metadata": {
    "colab": {
     "base_uri": "https://localhost:8080/"
    },
    "executionInfo": {
     "elapsed": 26346,
     "status": "ok",
     "timestamp": 1605915979472,
     "user": {
      "displayName": "Orlando O. S.",
      "photoUrl": "https://lh3.googleusercontent.com/a-/AOh14Gj-E1yuy1M_3ruwN4TWYPK4BwysauSW7GQmHheS=s64",
      "userId": "15066502291703974467"
     },
     "user_tz": 180
    },
    "id": "XdAhkfDxlNmF",
    "outputId": "0276ea46-5f50-42dc-de0b-f99810e36e99"
   },
   "outputs": [
    {
     "name": "stdout",
     "output_type": "stream",
     "text": [
      "[['Brasil' nan nan 76 nan nan nan '2020-02-25' 9 210147125.0 0.0 0 0 0\n",
      "  0.0 0.0 nan]\n",
      " ['Brasil' nan nan 76 nan nan nan '2020-02-26' 9 210147125.0 1.0 1 0 0\n",
      "  1.0 0.0 nan]\n",
      " ['Brasil' nan nan 76 nan nan nan '2020-02-27' 9 210147125.0 1.0 0 0 0\n",
      "  1.0 0.0 nan]\n",
      " ['Brasil' nan nan 76 nan nan nan '2020-02-28' 9 210147125.0 1.0 0 0 0\n",
      "  0.0 1.0 nan]\n",
      " ['Brasil' nan nan 76 nan nan nan '2020-02-29' 9 210147125.0 2.0 1 0 0\n",
      "  1.0 1.0 nan]]\n",
      "[['Centro-Oeste' 'DF' 'Brasília' 53 530010.0 53001.0 'DISTRITO FEDERAL'\n",
      "  '2024-10-29' 44 3015268.0 955422.0 0 12025 0 nan nan 1.0]\n",
      " ['Centro-Oeste' 'DF' 'Brasília' 53 530010.0 53001.0 'DISTRITO FEDERAL'\n",
      "  '2024-10-30' 44 3015268.0 955422.0 0 12025 0 nan nan 1.0]\n",
      " ['Centro-Oeste' 'DF' 'Brasília' 53 530010.0 53001.0 'DISTRITO FEDERAL'\n",
      "  '2024-10-31' 44 3015268.0 955422.0 0 12025 0 nan nan 1.0]\n",
      " ['Centro-Oeste' 'DF' 'Brasília' 53 530010.0 53001.0 'DISTRITO FEDERAL'\n",
      "  '2024-11-01' 44 3015268.0 955422.0 0 12025 0 nan nan 1.0]\n",
      " ['Centro-Oeste' 'DF' 'Brasília' 53 530010.0 53001.0 'DISTRITO FEDERAL'\n",
      "  '2024-11-02' 44 3015268.0 955540.0 118 12025 0 nan nan 1.0]]\n",
      "2\n",
      "(9452026, 17)\n"
     ]
    }
   ],
   "source": [
    "## Carrega os dados no array\n",
    "dadoscovid = df.to_numpy()\n",
    "\n",
    "## imprime as primeiras linhas do array\n",
    "print(dadoscovid[:5])\n",
    "\n",
    "## imprime as ultimas linhas do \n",
    "print(dadoscovid[-5:])\n",
    "\n",
    "## verifica a quantidade de dimensões\n",
    "print(dadoscovid.ndim)\n",
    "\n",
    "## verifica a forma do array\n",
    "print(dadoscovid.shape)"
   ]
  },
  {
   "cell_type": "markdown",
   "metadata": {
    "id": "90krTI6jejuc"
   },
   "source": [
    "# Gerar informações a nível Brasil"
   ]
  },
  {
   "cell_type": "code",
   "execution_count": 12,
   "metadata": {
    "colab": {
     "base_uri": "https://localhost:8080/"
    },
    "executionInfo": {
     "elapsed": 1215,
     "status": "ok",
     "timestamp": 1605743525599,
     "user": {
      "displayName": "Orlando O. S.",
      "photoUrl": "https://lh3.googleusercontent.com/a-/AOh14Gj-E1yuy1M_3ruwN4TWYPK4BwysauSW7GQmHheS=s64",
      "userId": "15066502291703974467"
     },
     "user_tz": 180
    },
    "id": "VlErp9sNIecy",
    "outputId": "5c120641-036a-4755-8135-6610a1632317"
   },
   "outputs": [
    {
     "name": "stdout",
     "output_type": "stream",
     "text": [
      "[['Brasil' nan nan 76 nan nan nan '2020-02-25' 9 210147125.0 0.0 0 0 0\n",
      "  0.0 0.0 nan]\n",
      " ['Brasil' nan nan 76 nan nan nan '2020-02-26' 9 210147125.0 1.0 1 0 0\n",
      "  1.0 0.0 nan]\n",
      " ['Brasil' nan nan 76 nan nan nan '2020-02-27' 9 210147125.0 1.0 0 0 0\n",
      "  1.0 0.0 nan]\n",
      " ['Brasil' nan nan 76 nan nan nan '2020-02-28' 9 210147125.0 1.0 0 0 0\n",
      "  0.0 1.0 nan]\n",
      " ['Brasil' nan nan 76 nan nan nan '2020-02-29' 9 210147125.0 2.0 1 0 0\n",
      "  1.0 1.0 nan]]\n",
      "[['Brasil' nan nan 76 nan nan nan '2024-10-29' 44 210147125.0 38984103.0\n",
      "  0 713966 0 38239887.0 30250.0 nan]\n",
      " ['Brasil' nan nan 76 nan nan nan '2024-10-30' 44 210147125.0 38984103.0\n",
      "  0 713966 0 38244749.0 25388.0 nan]\n",
      " ['Brasil' nan nan 76 nan nan nan '2024-10-31' 44 210147125.0 38984103.0\n",
      "  0 713966 0 38249611.0 20526.0 nan]\n",
      " ['Brasil' nan nan 76 nan nan nan '2024-11-01' 44 210147125.0 38984103.0\n",
      "  0 713966 0 38254473.0 15664.0 nan]\n",
      " ['Brasil' nan nan 76 nan nan nan '2024-11-02' 44 210147125.0 38991809.0\n",
      "  7706 714078 112 38259536.0 18195.0 nan]]\n",
      "2\n",
      "(1713, 17)\n"
     ]
    }
   ],
   "source": [
    "## cria o fitro dos registros estatísticos da covid a nivel Brasil\n",
    "brasil = dadoscovid[: , 0] == 'Brasil'\n",
    "\n",
    "## gera array com apenas os dados do brasil\n",
    "brasilarr = dadoscovid[brasil]\n",
    "\n",
    "## imprime as primeiras linhas do array\n",
    "print(brasilarr[:5])\n",
    "\n",
    "## imprime as ultimas linhas do \n",
    "print(brasilarr[-5:])\n",
    "\n",
    "## verifica a quantidade de dimensões\n",
    "print(brasilarr.ndim)\n",
    "\n",
    "## verifica a forma do array\n",
    "print(brasilarr.shape)"
   ]
  },
  {
   "cell_type": "code",
   "execution_count": 13,
   "metadata": {
    "colab": {
     "base_uri": "https://localhost:8080/"
    },
    "executionInfo": {
     "elapsed": 566,
     "status": "ok",
     "timestamp": 1605743382424,
     "user": {
      "displayName": "Orlando O. S.",
      "photoUrl": "https://lh3.googleusercontent.com/a-/AOh14Gj-E1yuy1M_3ruwN4TWYPK4BwysauSW7GQmHheS=s64",
      "userId": "15066502291703974467"
     },
     "user_tz": 180
    },
    "id": "BaR0NojKvYqK",
    "outputId": "23403ce5-e479-47aa-9922-c30f765d7154"
   },
   "outputs": [
    {
     "data": {
      "text/plain": [
       "['regiao',\n",
       " 'estado',\n",
       " 'municipio',\n",
       " 'coduf',\n",
       " 'codmun',\n",
       " 'codRegiaoSaude',\n",
       " 'nomeRegiaoSaude',\n",
       " 'data',\n",
       " 'semanaEpi',\n",
       " 'populacaoTCU2019',\n",
       " 'casosAcumulado',\n",
       " 'casosNovos',\n",
       " 'obitosAcumulado',\n",
       " 'obitosNovos',\n",
       " 'Recuperadosnovos',\n",
       " 'emAcompanhamentoNovos',\n",
       " 'interior/metropolitana']"
      ]
     },
     "execution_count": 13,
     "metadata": {},
     "output_type": "execute_result"
    }
   ],
   "source": [
    "colunas"
   ]
  },
  {
   "cell_type": "code",
   "execution_count": 14,
   "metadata": {
    "colab": {
     "base_uri": "https://localhost:8080/"
    },
    "executionInfo": {
     "elapsed": 795,
     "status": "ok",
     "timestamp": 1605743384137,
     "user": {
      "displayName": "Orlando O. S.",
      "photoUrl": "https://lh3.googleusercontent.com/a-/AOh14Gj-E1yuy1M_3ruwN4TWYPK4BwysauSW7GQmHheS=s64",
      "userId": "15066502291703974467"
     },
     "user_tz": 180
    },
    "id": "r14YKVQWbh3v",
    "outputId": "8a45c0e5-889f-4264-bfba-ff786c942481"
   },
   "outputs": [
    {
     "name": "stdout",
     "output_type": "stream",
     "text": [
      "['Brasil']\n",
      "[nan nan nan ... nan nan nan]\n",
      "[nan nan nan ... nan nan nan]\n"
     ]
    }
   ],
   "source": [
    "## verifica se o resultado do filtros gerou o array corretamente\n",
    "print(np.unique(brasilarr[: , 0]))\n",
    "print(np.unique(brasilarr[: , 1]))\n",
    "print(np.unique(brasilarr[: , 2]))"
   ]
  },
  {
   "cell_type": "code",
   "execution_count": 15,
   "metadata": {
    "colab": {
     "base_uri": "https://localhost:8080/"
    },
    "executionInfo": {
     "elapsed": 1076,
     "status": "ok",
     "timestamp": 1605743386312,
     "user": {
      "displayName": "Orlando O. S.",
      "photoUrl": "https://lh3.googleusercontent.com/a-/AOh14Gj-E1yuy1M_3ruwN4TWYPK4BwysauSW7GQmHheS=s64",
      "userId": "15066502291703974467"
     },
     "user_tz": 180
    },
    "id": "1Oqb_hsPwNUa",
    "outputId": "b6809c04-3ae8-4546-8896-fe975111e94f"
   },
   "outputs": [
    {
     "name": "stdout",
     "output_type": "stream",
     "text": [
      "['data', 'casosAcumulado', 'obitosAcumulado']\n",
      "['regiao', 'estado', 'municipio', 'coduf', 'codmun', 'codRegiaoSaude', 'nomeRegiaoSaude', 'data', 'semanaEpi', 'populacaoTCU2019', 'casosAcumulado', 'casosNovos', 'obitosAcumulado', 'obitosNovos', 'Recuperadosnovos', 'emAcompanhamentoNovos', 'interior/metropolitana']\n",
      "[7, 10, 12]\n"
     ]
    }
   ],
   "source": [
    "## obtem os índices das colunas que serão utilizadas\n",
    "colunasselecionadas = ['data',  'casosAcumulado',  'obitosAcumulado']\n",
    "print(colunasselecionadas)\n",
    "print(colunas)\n",
    "indice_colunas_selecionadas = [colunas.index(x) for x in colunasselecionadas ]\n",
    "print(indice_colunas_selecionadas)"
   ]
  },
  {
   "cell_type": "code",
   "execution_count": 16,
   "metadata": {
    "colab": {
     "base_uri": "https://localhost:8080/"
    },
    "executionInfo": {
     "elapsed": 797,
     "status": "ok",
     "timestamp": 1605743548227,
     "user": {
      "displayName": "Orlando O. S.",
      "photoUrl": "https://lh3.googleusercontent.com/a-/AOh14Gj-E1yuy1M_3ruwN4TWYPK4BwysauSW7GQmHheS=s64",
      "userId": "15066502291703974467"
     },
     "user_tz": 180
    },
    "id": "kKQ30OWaxfqS",
    "outputId": "a4ace7dc-8f18-49f8-c77d-d0027655696c"
   },
   "outputs": [
    {
     "data": {
      "text/plain": [
       "(1713, 17)"
      ]
     },
     "execution_count": 16,
     "metadata": {},
     "output_type": "execute_result"
    }
   ],
   "source": [
    "brasilarr.shape"
   ]
  },
  {
   "cell_type": "code",
   "execution_count": 17,
   "metadata": {
    "id": "ESXFHvzAww-b"
   },
   "outputs": [],
   "source": [
    "## remove as colunas desnecessárias do array\n",
    "brasilarr = brasilarr[: , indice_colunas_selecionadas] "
   ]
  },
  {
   "cell_type": "code",
   "execution_count": 18,
   "metadata": {
    "colab": {
     "base_uri": "https://localhost:8080/"
    },
    "executionInfo": {
     "elapsed": 766,
     "status": "ok",
     "timestamp": 1605743574411,
     "user": {
      "displayName": "Orlando O. S.",
      "photoUrl": "https://lh3.googleusercontent.com/a-/AOh14Gj-E1yuy1M_3ruwN4TWYPK4BwysauSW7GQmHheS=s64",
      "userId": "15066502291703974467"
     },
     "user_tz": 180
    },
    "id": "Kp8KkVPlw8MK",
    "outputId": "7a17637f-d54b-42ce-e874-fe94890baade"
   },
   "outputs": [
    {
     "data": {
      "text/plain": [
       "array([['2020-02-25', 0.0, 0],\n",
       "       ['2020-02-26', 1.0, 0],\n",
       "       ['2020-02-27', 1.0, 0],\n",
       "       ['2020-02-28', 1.0, 0],\n",
       "       ['2020-02-29', 2.0, 0],\n",
       "       ['2020-03-01', 2.0, 0],\n",
       "       ['2020-03-02', 2.0, 0],\n",
       "       ['2020-03-03', 2.0, 0],\n",
       "       ['2020-03-04', 3.0, 0],\n",
       "       ['2020-03-05', 7.0, 0]], dtype=object)"
      ]
     },
     "execution_count": 18,
     "metadata": {},
     "output_type": "execute_result"
    }
   ],
   "source": [
    "brasilarr[0:10] "
   ]
  },
  {
   "cell_type": "code",
   "execution_count": 19,
   "metadata": {
    "colab": {
     "base_uri": "https://localhost:8080/"
    },
    "executionInfo": {
     "elapsed": 865,
     "status": "ok",
     "timestamp": 1605743567304,
     "user": {
      "displayName": "Orlando O. S.",
      "photoUrl": "https://lh3.googleusercontent.com/a-/AOh14Gj-E1yuy1M_3ruwN4TWYPK4BwysauSW7GQmHheS=s64",
      "userId": "15066502291703974467"
     },
     "user_tz": 180
    },
    "id": "S1fYG3wQxk04",
    "outputId": "7e2bdf08-06d0-4c61-c70f-ab1c7f28ba24"
   },
   "outputs": [
    {
     "data": {
      "text/plain": [
       "(1713, 3)"
      ]
     },
     "execution_count": 19,
     "metadata": {},
     "output_type": "execute_result"
    }
   ],
   "source": [
    "brasilarr.shape"
   ]
  },
  {
   "cell_type": "code",
   "execution_count": 20,
   "metadata": {
    "colab": {
     "base_uri": "https://localhost:8080/"
    },
    "executionInfo": {
     "elapsed": 730,
     "status": "ok",
     "timestamp": 1605744500130,
     "user": {
      "displayName": "Orlando O. S.",
      "photoUrl": "https://lh3.googleusercontent.com/a-/AOh14Gj-E1yuy1M_3ruwN4TWYPK4BwysauSW7GQmHheS=s64",
      "userId": "15066502291703974467"
     },
     "user_tz": 180
    },
    "id": "c13FmtWMzPMc",
    "outputId": "b4364649-d226-42c8-87da-b9c901ab60ab"
   },
   "outputs": [
    {
     "name": "stdout",
     "output_type": "stream",
     "text": [
      "[0.0 1.0 1.0 1.0 2.0 2.0 2.0 2.0 3.0 7.0]\n",
      "['1' '0' '0' '1' '0' '0' '0' '1' '4' '6']\n"
     ]
    }
   ],
   "source": [
    "## gera a coluna de novos casos a partir dos valores acumulados e adiciona na matriz\n",
    "novoscasos = np.diff(brasilarr[: , 1].astype('i')).astype(str)\n",
    "print(brasilarr[: , 1][:10])\n",
    "print(novoscasos[:10])"
   ]
  },
  {
   "cell_type": "code",
   "execution_count": 21,
   "metadata": {
    "colab": {
     "base_uri": "https://localhost:8080/"
    },
    "executionInfo": {
     "elapsed": 1233,
     "status": "ok",
     "timestamp": 1605744181683,
     "user": {
      "displayName": "Orlando O. S.",
      "photoUrl": "https://lh3.googleusercontent.com/a-/AOh14Gj-E1yuy1M_3ruwN4TWYPK4BwysauSW7GQmHheS=s64",
      "userId": "15066502291703974467"
     },
     "user_tz": 180
    },
    "id": "8E04-pXwzO3z",
    "outputId": "0ed45fc2-e4bc-479f-ed22-a33846aad79b"
   },
   "outputs": [
    {
     "data": {
      "text/plain": [
       "(1713,)"
      ]
     },
     "execution_count": 21,
     "metadata": {},
     "output_type": "execute_result"
    }
   ],
   "source": [
    "brasilarr[: , 1].shape"
   ]
  },
  {
   "cell_type": "code",
   "execution_count": 22,
   "metadata": {
    "colab": {
     "base_uri": "https://localhost:8080/"
    },
    "executionInfo": {
     "elapsed": 832,
     "status": "ok",
     "timestamp": 1605744199708,
     "user": {
      "displayName": "Orlando O. S.",
      "photoUrl": "https://lh3.googleusercontent.com/a-/AOh14Gj-E1yuy1M_3ruwN4TWYPK4BwysauSW7GQmHheS=s64",
      "userId": "15066502291703974467"
     },
     "user_tz": 180
    },
    "id": "qfgcRW5Sz-GD",
    "outputId": "331cccdd-9f9a-4479-b194-790fbbeb361e"
   },
   "outputs": [
    {
     "data": {
      "text/plain": [
       "(1712,)"
      ]
     },
     "execution_count": 22,
     "metadata": {},
     "output_type": "execute_result"
    }
   ],
   "source": [
    "novoscasos.shape"
   ]
  },
  {
   "cell_type": "code",
   "execution_count": 23,
   "metadata": {
    "colab": {
     "base_uri": "https://localhost:8080/",
     "height": 35
    },
    "executionInfo": {
     "elapsed": 706,
     "status": "ok",
     "timestamp": 1605744441946,
     "user": {
      "displayName": "Orlando O. S.",
      "photoUrl": "https://lh3.googleusercontent.com/a-/AOh14Gj-E1yuy1M_3ruwN4TWYPK4BwysauSW7GQmHheS=s64",
      "userId": "15066502291703974467"
     },
     "user_tz": 180
    },
    "id": "1K1E2IsF0hpY",
    "outputId": "215804e4-7fa1-4b62-929d-9f4985daceab"
   },
   "outputs": [
    {
     "data": {
      "text/plain": [
       "0.0"
      ]
     },
     "execution_count": 23,
     "metadata": {},
     "output_type": "execute_result"
    }
   ],
   "source": [
    "brasilarr[0, 1]"
   ]
  },
  {
   "cell_type": "code",
   "execution_count": 24,
   "metadata": {
    "id": "aPpwz5Ft0FvN"
   },
   "outputs": [],
   "source": [
    "primeiroelemento = brasilarr[0, 1]\n",
    "novoscasos =  np.insert(novoscasos,0,primeiroelemento)"
   ]
  },
  {
   "cell_type": "code",
   "execution_count": 25,
   "metadata": {
    "colab": {
     "base_uri": "https://localhost:8080/"
    },
    "executionInfo": {
     "elapsed": 691,
     "status": "ok",
     "timestamp": 1605744517653,
     "user": {
      "displayName": "Orlando O. S.",
      "photoUrl": "https://lh3.googleusercontent.com/a-/AOh14Gj-E1yuy1M_3ruwN4TWYPK4BwysauSW7GQmHheS=s64",
      "userId": "15066502291703974467"
     },
     "user_tz": 180
    },
    "id": "07ZT8Xaf1EOe",
    "outputId": "94c8680b-bad6-4ef2-e252-6fa824fc2840"
   },
   "outputs": [
    {
     "name": "stdout",
     "output_type": "stream",
     "text": [
      "[0.0 1.0 1.0 1.0 2.0 2.0 2.0 2.0 3.0 7.0]\n",
      "['0.0' '1' '0' '0' '1' '0' '0' '0' '1' '4']\n"
     ]
    }
   ],
   "source": [
    "print(brasilarr[: , 1][:10])\n",
    "print(novoscasos[:10])"
   ]
  },
  {
   "cell_type": "code",
   "execution_count": 26,
   "metadata": {
    "colab": {
     "base_uri": "https://localhost:8080/"
    },
    "executionInfo": {
     "elapsed": 876,
     "status": "ok",
     "timestamp": 1605744666786,
     "user": {
      "displayName": "Orlando O. S.",
      "photoUrl": "https://lh3.googleusercontent.com/a-/AOh14Gj-E1yuy1M_3ruwN4TWYPK4BwysauSW7GQmHheS=s64",
      "userId": "15066502291703974467"
     },
     "user_tz": 180
    },
    "id": "KZxaGKdu1u2w",
    "outputId": "def7b3c5-b585-4be4-8fd3-e1319703d2de"
   },
   "outputs": [
    {
     "data": {
      "text/plain": [
       "(1713, 3)"
      ]
     },
     "execution_count": 26,
     "metadata": {},
     "output_type": "execute_result"
    }
   ],
   "source": [
    "brasilarr.shape"
   ]
  },
  {
   "cell_type": "code",
   "execution_count": 27,
   "metadata": {
    "id": "ugm97rFm1ra_"
   },
   "outputs": [],
   "source": [
    "novoscasos = novoscasos.reshape((brasilarr.shape[0],1))"
   ]
  },
  {
   "cell_type": "code",
   "execution_count": 28,
   "metadata": {
    "colab": {
     "base_uri": "https://localhost:8080/"
    },
    "executionInfo": {
     "elapsed": 765,
     "status": "ok",
     "timestamp": 1605744771240,
     "user": {
      "displayName": "Orlando O. S.",
      "photoUrl": "https://lh3.googleusercontent.com/a-/AOh14Gj-E1yuy1M_3ruwN4TWYPK4BwysauSW7GQmHheS=s64",
      "userId": "15066502291703974467"
     },
     "user_tz": 180
    },
    "id": "N8eZgwju2EMP",
    "outputId": "1e60eb98-a519-497e-f84e-b142a42fe21d"
   },
   "outputs": [
    {
     "data": {
      "text/plain": [
       "array([['0.0'],\n",
       "       ['1'],\n",
       "       ['0'],\n",
       "       ['0'],\n",
       "       ['1'],\n",
       "       ['0'],\n",
       "       ['0'],\n",
       "       ['0'],\n",
       "       ['1'],\n",
       "       ['4']], dtype='<U11')"
      ]
     },
     "execution_count": 28,
     "metadata": {},
     "output_type": "execute_result"
    }
   ],
   "source": [
    "novoscasos[:10]"
   ]
  },
  {
   "cell_type": "code",
   "execution_count": 29,
   "metadata": {
    "id": "t-sOnuJ62Rvh"
   },
   "outputs": [],
   "source": [
    "brasilarr = np.concatenate((brasilarr, novoscasos), axis=1  )"
   ]
  },
  {
   "cell_type": "code",
   "execution_count": 30,
   "metadata": {
    "colab": {
     "base_uri": "https://localhost:8080/"
    },
    "executionInfo": {
     "elapsed": 1168,
     "status": "ok",
     "timestamp": 1605744840796,
     "user": {
      "displayName": "Orlando O. S.",
      "photoUrl": "https://lh3.googleusercontent.com/a-/AOh14Gj-E1yuy1M_3ruwN4TWYPK4BwysauSW7GQmHheS=s64",
      "userId": "15066502291703974467"
     },
     "user_tz": 180
    },
    "id": "DG1l7IEQxju7",
    "outputId": "ccaf06c7-10fb-4387-e339-3e8b910a0876"
   },
   "outputs": [
    {
     "name": "stdout",
     "output_type": "stream",
     "text": [
      "[['2020-02-25' 0.0 0 '0.0']\n",
      " ['2020-02-26' 1.0 0 '1']\n",
      " ['2020-02-27' 1.0 0 '0']]\n",
      "[['2024-10-31' 38984103.0 713966 '0']\n",
      " ['2024-11-01' 38984103.0 713966 '0']\n",
      " ['2024-11-02' 38991809.0 714078 '7706']]\n"
     ]
    }
   ],
   "source": [
    "## gera a coluna de novos casos a partir dos valores acumulados e adiciona na matriz\n",
    "# novoscasos = np.diff(brasilarr[: , 1].astype('i')).astype(str)\n",
    "# novoscasos =  np.insert(novoscasos,0,0)\n",
    "# novoscasos = novoscasos.reshape((brasilarr.shape[0],1))\n",
    "# brasilarr = np.concatenate((brasilarr, novoscasos), axis=1  )\n",
    "print(brasilarr[0:3])\n",
    "print(brasilarr[-3:])"
   ]
  },
  {
   "cell_type": "code",
   "execution_count": 31,
   "metadata": {
    "colab": {
     "base_uri": "https://localhost:8080/"
    },
    "executionInfo": {
     "elapsed": 757,
     "status": "ok",
     "timestamp": 1605744921951,
     "user": {
      "displayName": "Orlando O. S.",
      "photoUrl": "https://lh3.googleusercontent.com/a-/AOh14Gj-E1yuy1M_3ruwN4TWYPK4BwysauSW7GQmHheS=s64",
      "userId": "15066502291703974467"
     },
     "user_tz": 180
    },
    "id": "hwPUamkL94Q0",
    "outputId": "b8125a39-578d-4662-fd49-0a506f3f5d78"
   },
   "outputs": [
    {
     "name": "stdout",
     "output_type": "stream",
     "text": [
      "[['2020-02-25' 0.0 0 '0.0' '0']\n",
      " ['2020-02-26' 1.0 0 '1' '0']\n",
      " ['2020-02-27' 1.0 0 '0' '0']]\n",
      "[['2024-10-31' 38984103.0 713966 '0' '0']\n",
      " ['2024-11-01' 38984103.0 713966 '0' '0']\n",
      " ['2024-11-02' 38991809.0 714078 '7706' '112']]\n"
     ]
    }
   ],
   "source": [
    "## gera a coluna de novos obitos a partir dos valores acumulados e adiciona na matriz\n",
    "novosobitos = np.diff(brasilarr[: , 2].astype('i')).astype(str)\n",
    "primeiroelemento = brasilarr[0, 2]\n",
    "novosobitos =  np.insert(novosobitos,0,primeiroelemento)\n",
    "novosobitos = novosobitos.reshape((brasilarr.shape[0],1))\n",
    "brasilarr = np.concatenate((brasilarr, novosobitos), axis=1  )\n",
    "print(brasilarr[0:3])\n",
    "print(brasilarr[-3:])"
   ]
  },
  {
   "cell_type": "code",
   "execution_count": 32,
   "metadata": {
    "id": "p0NhXo0S9qML"
   },
   "outputs": [],
   "source": [
    "##Alternativa\n",
    "#np.hstack((brasilarr, novoscasos))"
   ]
  },
  {
   "cell_type": "code",
   "execution_count": 33,
   "metadata": {
    "colab": {
     "base_uri": "https://localhost:8080/"
    },
    "executionInfo": {
     "elapsed": 700,
     "status": "ok",
     "timestamp": 1605746485202,
     "user": {
      "displayName": "Orlando O. S.",
      "photoUrl": "https://lh3.googleusercontent.com/a-/AOh14Gj-E1yuy1M_3ruwN4TWYPK4BwysauSW7GQmHheS=s64",
      "userId": "15066502291703974467"
     },
     "user_tz": 180
    },
    "id": "eX4OJHf48Ou1",
    "outputId": "6e75b82b-7241-4b6e-e594-1077c4c1920d"
   },
   "outputs": [
    {
     "data": {
      "text/plain": [
       "array(['2020-02', '2020-03', '2020-04', '2020-05', '2020-06', '2020-07',\n",
       "       '2020-08', '2020-09', '2020-10', '2020-11', '2020-12', '2021-01',\n",
       "       '2021-02', '2021-03', '2021-04', '2021-05', '2021-06', '2021-07',\n",
       "       '2021-08', '2021-09', '2021-10', '2021-11', '2021-12', '2022-01',\n",
       "       '2022-02', '2022-03', '2022-04', '2022-05', '2022-06', '2022-07',\n",
       "       '2022-08', '2022-09', '2022-10', '2022-11', '2022-12', '2023-01',\n",
       "       '2023-02', '2023-03', '2023-04', '2023-05', '2023-06', '2023-07',\n",
       "       '2023-08', '2023-09', '2023-10', '2023-11', '2023-12', '2024-01',\n",
       "       '2024-02', '2024-03', '2024-04', '2024-05', '2024-06', '2024-07',\n",
       "       '2024-08', '2024-09', '2024-10', '2024-11'], dtype='<U7')"
      ]
     },
     "execution_count": 33,
     "metadata": {},
     "output_type": "execute_result"
    }
   ],
   "source": [
    "np.unique(list(map(lambda x : x[:7] , np.unique(brasilarr[:,0]))))"
   ]
  },
  {
   "cell_type": "code",
   "execution_count": 34,
   "metadata": {
    "colab": {
     "base_uri": "https://localhost:8080/"
    },
    "executionInfo": {
     "elapsed": 704,
     "status": "ok",
     "timestamp": 1605746335288,
     "user": {
      "displayName": "Orlando O. S.",
      "photoUrl": "https://lh3.googleusercontent.com/a-/AOh14Gj-E1yuy1M_3ruwN4TWYPK4BwysauSW7GQmHheS=s64",
      "userId": "15066502291703974467"
     },
     "user_tz": 180
    },
    "id": "BJl-IQ8y8Gci",
    "outputId": "edb2dbc6-00f1-4a03-d381-8259b80561b3"
   },
   "outputs": [
    {
     "data": {
      "text/plain": [
       "array(['2020-02', '2020-03', '2020-04', '2020-05', '2020-06', '2020-07',\n",
       "       '2020-08', '2020-09', '2020-10', '2020-11', '2020-12', '2021-01',\n",
       "       '2021-02', '2021-03', '2021-04', '2021-05', '2021-06', '2021-07',\n",
       "       '2021-08', '2021-09', '2021-10', '2021-11', '2021-12', '2022-01',\n",
       "       '2022-02', '2022-03', '2022-04', '2022-05', '2022-06', '2022-07',\n",
       "       '2022-08', '2022-09', '2022-10', '2022-11', '2022-12', '2023-01',\n",
       "       '2023-02', '2023-03', '2023-04', '2023-05', '2023-06', '2023-07',\n",
       "       '2023-08', '2023-09', '2023-10', '2023-11', '2023-12', '2024-01',\n",
       "       '2024-02', '2024-03', '2024-04', '2024-05', '2024-06', '2024-07',\n",
       "       '2024-08', '2024-09', '2024-10', '2024-11'], dtype='<U7')"
      ]
     },
     "execution_count": 34,
     "metadata": {},
     "output_type": "execute_result"
    }
   ],
   "source": [
    "meses_arr = np.sort(np.unique(np.array(list(map(lambda x : x[:7] , np.unique(brasilarr[:,0]))))))\n",
    "meses_arr"
   ]
  },
  {
   "cell_type": "code",
   "execution_count": 35,
   "metadata": {
    "id": "kK11nnQX9VII"
   },
   "outputs": [],
   "source": [
    "casos_mes_arr = None\n",
    "mes = '2024-11'\n",
    "filtro =  np.array([mes in x for x in brasilarr[:,0]])"
   ]
  },
  {
   "cell_type": "code",
   "execution_count": 36,
   "metadata": {
    "colab": {
     "base_uri": "https://localhost:8080/"
    },
    "executionInfo": {
     "elapsed": 901,
     "status": "ok",
     "timestamp": 1605746954735,
     "user": {
      "displayName": "Orlando O. S.",
      "photoUrl": "https://lh3.googleusercontent.com/a-/AOh14Gj-E1yuy1M_3ruwN4TWYPK4BwysauSW7GQmHheS=s64",
      "userId": "15066502291703974467"
     },
     "user_tz": 180
    },
    "id": "Di95Pqrz9l6Y",
    "outputId": "204f695d-9fa9-4f0f-eaa0-559fcfa97f7a"
   },
   "outputs": [
    {
     "data": {
      "text/plain": [
       "7706"
      ]
     },
     "execution_count": 36,
     "metadata": {},
     "output_type": "execute_result"
    }
   ],
   "source": [
    "casos_arr = brasilarr[filtro,3].astype('i')\n",
    "total_casos = np.sum(casos_arr)\n",
    "total_casos\n"
   ]
  },
  {
   "cell_type": "code",
   "execution_count": 37,
   "metadata": {
    "colab": {
     "base_uri": "https://localhost:8080/"
    },
    "executionInfo": {
     "elapsed": 803,
     "status": "ok",
     "timestamp": 1605747009760,
     "user": {
      "displayName": "Orlando O. S.",
      "photoUrl": "https://lh3.googleusercontent.com/a-/AOh14Gj-E1yuy1M_3ruwN4TWYPK4BwysauSW7GQmHheS=s64",
      "userId": "15066502291703974467"
     },
     "user_tz": 180
    },
    "id": "MvMD5GDr-s4X",
    "outputId": "38418070-7ddf-40c1-c0a2-5f3d5eb46cb0"
   },
   "outputs": [
    {
     "data": {
      "text/plain": [
       "112"
      ]
     },
     "execution_count": 37,
     "metadata": {},
     "output_type": "execute_result"
    }
   ],
   "source": [
    "obitos_arr = brasilarr[filtro,4].astype('i')\n",
    "total_obitos = np.sum(obitos_arr)\n",
    "total_obitos"
   ]
  },
  {
   "cell_type": "code",
   "execution_count": 38,
   "metadata": {
    "colab": {
     "base_uri": "https://localhost:8080/"
    },
    "executionInfo": {
     "elapsed": 663,
     "status": "ok",
     "timestamp": 1605747047259,
     "user": {
      "displayName": "Orlando O. S.",
      "photoUrl": "https://lh3.googleusercontent.com/a-/AOh14Gj-E1yuy1M_3ruwN4TWYPK4BwysauSW7GQmHheS=s64",
      "userId": "15066502291703974467"
     },
     "user_tz": 180
    },
    "id": "jwcBC1fY9WZM",
    "outputId": "270ee6c2-3fc0-4be9-dc3c-9435ab45d3d6"
   },
   "outputs": [
    {
     "data": {
      "text/plain": [
       "array(['2024-11', '7706', '112'], dtype='<U11')"
      ]
     },
     "execution_count": 38,
     "metadata": {},
     "output_type": "execute_result"
    }
   ],
   "source": [
    "arraytemp = np.array([mes, total_casos, total_obitos], dtype=str)\n",
    "arraytemp"
   ]
  },
  {
   "cell_type": "code",
   "execution_count": 39,
   "metadata": {
    "colab": {
     "base_uri": "https://localhost:8080/"
    },
    "executionInfo": {
     "elapsed": 796,
     "status": "ok",
     "timestamp": 1605747142460,
     "user": {
      "displayName": "Orlando O. S.",
      "photoUrl": "https://lh3.googleusercontent.com/a-/AOh14Gj-E1yuy1M_3ruwN4TWYPK4BwysauSW7GQmHheS=s64",
      "userId": "15066502291703974467"
     },
     "user_tz": 180
    },
    "id": "eiwJYhE8Bh5i",
    "outputId": "ae80ddac-c7d8-4597-dfef-b43f8f0b48d7"
   },
   "outputs": [
    {
     "name": "stdout",
     "output_type": "stream",
     "text": [
      "[['2020-02' '2.0' '0.0']\n",
      " ['2020-03' '5715.0' '201.0']\n",
      " ['2020-04' '79663.0' '5700.0']\n",
      " ['2020-05' '428820.0' '23413.0']\n",
      " ['2020-06' '887841.0' '30280.0']\n",
      " ['2020-07' '1260444.0' '32881.0']\n",
      " ['2020-08' '1245787.0' '28906.0']\n",
      " ['2020-09' '902663.0' '22571.0']\n",
      " ['2020-10' '724670.0' '15932.0']\n",
      " ['2020-11' '800273.0' '13236.0']\n",
      " ['2020-12' '1340095.0' '21829.0']\n",
      " ['2021-01' '1528758.0' '29555.0']\n",
      " ['2021-02' '1346528.0' '30438.0']\n",
      " ['2021-03' '2197488.0' '66573.0']\n",
      " ['2021-04' '1910264.0' '82266.0']\n",
      " ['2021-05' '1886543.0' '59010.0']\n",
      " ['2021-06' '2011587.0' '55275.0']\n",
      " ['2021-07' '1360714.0' '38304.0']\n",
      " ['2021-08' '859015.0' '24043.0']\n",
      " ['2021-09' '650203.0' '16336.0']\n",
      " ['2021-10' '383782.0' '11075.0']\n",
      " ['2021-11' '283604.0' '6857.0']\n",
      " ['2021-12' '193062.0' '4375.0']\n",
      " ['2022-01' '3139223.0' '8082.0']\n",
      " ['2022-02' '3360876.0' '22195.0']\n",
      " ['2022-03' '1160275.0' '10424.0']\n",
      " ['2022-04' '500341.0' '3740.0']\n",
      " ['2022-05' '570802.0' '3179.0']\n",
      " ['2022-06' '1338980.0' '4740.0']\n",
      " ['2022-07' '1475882.0' '7098.0']\n",
      " ['2022-08' '595953.0' '5451.0']\n",
      " ['2022-09' '242671.0' '2071.0']\n",
      " ['2022-10' '156225.0' '2121.0']\n",
      " ['2022-11' '437410.0' '1644.0']\n",
      " ['2022-12' '1065122.0' '4052.0']\n",
      " ['2023-01' '493299.0' '3221.0']\n",
      " ['2023-02' '228356.0' '2013.0']\n",
      " ['2023-03' '205727.0' '1152.0']\n",
      " ['2023-04' '229308.0' '1594.0']\n",
      " ['2023-05' '113286.0' '1074.0']\n",
      " ['2023-06' '70163.0' '1057.0']\n",
      " ['2023-07' '56995.0' '830.0']\n",
      " ['2023-08' '43291.0' '519.0']\n",
      " ['2023-09' '56206.0' '649.0']\n",
      " ['2023-10' '122032.0' '846.0']\n",
      " ['2023-11' '128467.0' '981.0']\n",
      " ['2023-12' '132453.0' '849.0']\n",
      " ['2024-01' '127289.0' '769.0']\n",
      " ['2024-02' '183585.0' '767.0']\n",
      " ['2024-03' '222180.0' '1206.0']\n",
      " ['2024-04' '48079.0' '584.0']\n",
      " ['2024-05' '23118.0' '294.0']\n",
      " ['2024-06' '17798.0' '279.0']\n",
      " ['2024-07' '17248.0' '232.0']\n",
      " ['2024-08' '40884.0' '346.0']\n",
      " ['2024-09' '56805.0' '475.0']\n",
      " ['2024-10' '36253.0' '376.0']\n",
      " ['2024-11' '7706.0' '112.0']]\n"
     ]
    }
   ],
   "source": [
    "# Meses únicos\n",
    "meses_arr = np.sort(np.unique(np.array(list(map(lambda x: x[:7], brasilarr[:, 0])))))\n",
    "\n",
    "casos_mes_arr = None\n",
    "for mes in meses_arr:\n",
    "    filtro = np.array([mes in x for x in brasilarr[:, 0]])\n",
    "\n",
    "    # Filtra os casos e converte para float antes de tentar converter para int\n",
    "    casos_arr = brasilarr[filtro, 3]\n",
    "    casos_arr = np.where(casos_arr == '0.0', np.nan, casos_arr).astype(float)  # Substitui '0.0' por np.nan e converte para float\n",
    "    total_casos = np.nansum(casos_arr)  # Soma ignorando NaN\n",
    "\n",
    "    # Filtra os óbitos e converte para float\n",
    "    obitos_arr = brasilarr[filtro, 4]\n",
    "    obitos_arr = np.where(obitos_arr == '0.0', np.nan, obitos_arr).astype(float)  # Substitui '0.0' por np.nan e converte para float\n",
    "    total_obitos = np.nansum(obitos_arr)  # Soma ignorando NaN\n",
    "\n",
    "    arraytemp = np.array([mes, total_casos, total_obitos], dtype=str)\n",
    "    \n",
    "    if casos_mes_arr is None:\n",
    "        casos_mes_arr = arraytemp\n",
    "    else:\n",
    "        casos_mes_arr = np.vstack((casos_mes_arr, arraytemp))\n",
    "\n",
    "print(casos_mes_arr)\n"
   ]
  },
  {
   "cell_type": "code",
   "execution_count": 40,
   "metadata": {
    "colab": {
     "base_uri": "https://localhost:8080/"
    },
    "executionInfo": {
     "elapsed": 1259,
     "status": "ok",
     "timestamp": 1605747777631,
     "user": {
      "displayName": "Orlando O. S.",
      "photoUrl": "https://lh3.googleusercontent.com/a-/AOh14Gj-E1yuy1M_3ruwN4TWYPK4BwysauSW7GQmHheS=s64",
      "userId": "15066502291703974467"
     },
     "user_tz": 180
    },
    "id": "libxIUjHDSOl",
    "outputId": "c47ca71a-907d-474e-a403-a642bf17f7cb"
   },
   "outputs": [
    {
     "name": "stdout",
     "output_type": "stream",
     "text": [
      "[['2020-02' '2.0' '0.0' '0']\n",
      " ['2020-03' '5715.0' '201.0' '5713']\n",
      " ['2020-04' '79663.0' '5700.0' '73948']\n",
      " ['2020-05' '428820.0' '23413.0' '349157']\n",
      " ['2020-06' '887841.0' '30280.0' '459021']\n",
      " ['2020-07' '1260444.0' '32881.0' '372603']\n",
      " ['2020-08' '1245787.0' '28906.0' '-14657']\n",
      " ['2020-09' '902663.0' '22571.0' '-343124']\n",
      " ['2020-10' '724670.0' '15932.0' '-177993']\n",
      " ['2020-11' '800273.0' '13236.0' '75603']\n",
      " ['2020-12' '1340095.0' '21829.0' '539822']\n",
      " ['2021-01' '1528758.0' '29555.0' '188663']\n",
      " ['2021-02' '1346528.0' '30438.0' '-182230']\n",
      " ['2021-03' '2197488.0' '66573.0' '850960']\n",
      " ['2021-04' '1910264.0' '82266.0' '-287224']\n",
      " ['2021-05' '1886543.0' '59010.0' '-23721']\n",
      " ['2021-06' '2011587.0' '55275.0' '125044']\n",
      " ['2021-07' '1360714.0' '38304.0' '-650873']\n",
      " ['2021-08' '859015.0' '24043.0' '-501699']\n",
      " ['2021-09' '650203.0' '16336.0' '-208812']\n",
      " ['2021-10' '383782.0' '11075.0' '-266421']\n",
      " ['2021-11' '283604.0' '6857.0' '-100178']\n",
      " ['2021-12' '193062.0' '4375.0' '-90542']\n",
      " ['2022-01' '3139223.0' '8082.0' '2946161']\n",
      " ['2022-02' '3360876.0' '22195.0' '221653']\n",
      " ['2022-03' '1160275.0' '10424.0' '-2200601']\n",
      " ['2022-04' '500341.0' '3740.0' '-659934']\n",
      " ['2022-05' '570802.0' '3179.0' '70461']\n",
      " ['2022-06' '1338980.0' '4740.0' '768178']\n",
      " ['2022-07' '1475882.0' '7098.0' '136902']\n",
      " ['2022-08' '595953.0' '5451.0' '-879929']\n",
      " ['2022-09' '242671.0' '2071.0' '-353282']\n",
      " ['2022-10' '156225.0' '2121.0' '-86446']\n",
      " ['2022-11' '437410.0' '1644.0' '281185']\n",
      " ['2022-12' '1065122.0' '4052.0' '627712']\n",
      " ['2023-01' '493299.0' '3221.0' '-571823']\n",
      " ['2023-02' '228356.0' '2013.0' '-264943']\n",
      " ['2023-03' '205727.0' '1152.0' '-22629']\n",
      " ['2023-04' '229308.0' '1594.0' '23581']\n",
      " ['2023-05' '113286.0' '1074.0' '-116022']\n",
      " ['2023-06' '70163.0' '1057.0' '-43123']\n",
      " ['2023-07' '56995.0' '830.0' '-13168']\n",
      " ['2023-08' '43291.0' '519.0' '-13704']\n",
      " ['2023-09' '56206.0' '649.0' '12915']\n",
      " ['2023-10' '122032.0' '846.0' '65826']\n",
      " ['2023-11' '128467.0' '981.0' '6435']\n",
      " ['2023-12' '132453.0' '849.0' '3986']\n",
      " ['2024-01' '127289.0' '769.0' '-5164']\n",
      " ['2024-02' '183585.0' '767.0' '56296']\n",
      " ['2024-03' '222180.0' '1206.0' '38595']\n",
      " ['2024-04' '48079.0' '584.0' '-174101']\n",
      " ['2024-05' '23118.0' '294.0' '-24961']\n",
      " ['2024-06' '17798.0' '279.0' '-5320']\n",
      " ['2024-07' '17248.0' '232.0' '-550']\n",
      " ['2024-08' '40884.0' '346.0' '23636']\n",
      " ['2024-09' '56805.0' '475.0' '15921']\n",
      " ['2024-10' '36253.0' '376.0' '-20552']\n",
      " ['2024-11' '7706.0' '112.0' '-28547']]\n"
     ]
    }
   ],
   "source": [
    "casos_mes_arr_float = casos_mes_arr[:, 1].astype(float)  # Converter para float para evitar erros ao fazer a diferença\n",
    "novoscasos = np.diff(casos_mes_arr_float).astype(int)  # Calcular a diferença mês a mês\n",
    "\n",
    "# Inserir 0 no primeiro valor, já que a diferença do primeiro mês é indefinida\n",
    "novoscasos = np.insert(novoscasos, 0, 0)\n",
    "\n",
    "# Adicionar novos casos no array\n",
    "novoscasos = novoscasos.reshape((casos_mes_arr.shape[0], 1))  # Ajustar para o formato correto\n",
    "casos_mes_arr = np.concatenate((casos_mes_arr, novoscasos), axis=1)  # Concatenar a nova coluna\n",
    "\n",
    "print(casos_mes_arr)\n"
   ]
  },
  {
   "cell_type": "code",
   "execution_count": 41,
   "metadata": {
    "colab": {
     "base_uri": "https://localhost:8080/"
    },
    "executionInfo": {
     "elapsed": 5528,
     "status": "ok",
     "timestamp": 1605747788206,
     "user": {
      "displayName": "Orlando O. S.",
      "photoUrl": "https://lh3.googleusercontent.com/a-/AOh14Gj-E1yuy1M_3ruwN4TWYPK4BwysauSW7GQmHheS=s64",
      "userId": "15066502291703974467"
     },
     "user_tz": 180
    },
    "id": "Byuy-nuvJ-Px",
    "outputId": "a6712f8d-955e-4a80-f13c-89f5e6ff2376"
   },
   "outputs": [
    {
     "name": "stdout",
     "output_type": "stream",
     "text": [
      "[['2020-02' '2.0' '0.0' '0' '0']\n",
      " ['2020-03' '5715.0' '201.0' '5713' '201']\n",
      " ['2020-04' '79663.0' '5700.0' '73948' '5499']\n",
      " ['2020-05' '428820.0' '23413.0' '349157' '17713']\n",
      " ['2020-06' '887841.0' '30280.0' '459021' '6867']\n",
      " ['2020-07' '1260444.0' '32881.0' '372603' '2601']\n",
      " ['2020-08' '1245787.0' '28906.0' '-14657' '-3975']\n",
      " ['2020-09' '902663.0' '22571.0' '-343124' '-6335']\n",
      " ['2020-10' '724670.0' '15932.0' '-177993' '-6639']\n",
      " ['2020-11' '800273.0' '13236.0' '75603' '-2696']\n",
      " ['2020-12' '1340095.0' '21829.0' '539822' '8593']\n",
      " ['2021-01' '1528758.0' '29555.0' '188663' '7726']\n",
      " ['2021-02' '1346528.0' '30438.0' '-182230' '883']\n",
      " ['2021-03' '2197488.0' '66573.0' '850960' '36135']\n",
      " ['2021-04' '1910264.0' '82266.0' '-287224' '15693']\n",
      " ['2021-05' '1886543.0' '59010.0' '-23721' '-23256']\n",
      " ['2021-06' '2011587.0' '55275.0' '125044' '-3735']\n",
      " ['2021-07' '1360714.0' '38304.0' '-650873' '-16971']\n",
      " ['2021-08' '859015.0' '24043.0' '-501699' '-14261']\n",
      " ['2021-09' '650203.0' '16336.0' '-208812' '-7707']\n",
      " ['2021-10' '383782.0' '11075.0' '-266421' '-5261']\n",
      " ['2021-11' '283604.0' '6857.0' '-100178' '-4218']\n",
      " ['2021-12' '193062.0' '4375.0' '-90542' '-2482']\n",
      " ['2022-01' '3139223.0' '8082.0' '2946161' '3707']\n",
      " ['2022-02' '3360876.0' '22195.0' '221653' '14113']\n",
      " ['2022-03' '1160275.0' '10424.0' '-2200601' '-11771']\n",
      " ['2022-04' '500341.0' '3740.0' '-659934' '-6684']\n",
      " ['2022-05' '570802.0' '3179.0' '70461' '-561']\n",
      " ['2022-06' '1338980.0' '4740.0' '768178' '1561']\n",
      " ['2022-07' '1475882.0' '7098.0' '136902' '2358']\n",
      " ['2022-08' '595953.0' '5451.0' '-879929' '-1647']\n",
      " ['2022-09' '242671.0' '2071.0' '-353282' '-3380']\n",
      " ['2022-10' '156225.0' '2121.0' '-86446' '50']\n",
      " ['2022-11' '437410.0' '1644.0' '281185' '-477']\n",
      " ['2022-12' '1065122.0' '4052.0' '627712' '2408']\n",
      " ['2023-01' '493299.0' '3221.0' '-571823' '-831']\n",
      " ['2023-02' '228356.0' '2013.0' '-264943' '-1208']\n",
      " ['2023-03' '205727.0' '1152.0' '-22629' '-861']\n",
      " ['2023-04' '229308.0' '1594.0' '23581' '442']\n",
      " ['2023-05' '113286.0' '1074.0' '-116022' '-520']\n",
      " ['2023-06' '70163.0' '1057.0' '-43123' '-17']\n",
      " ['2023-07' '56995.0' '830.0' '-13168' '-227']\n",
      " ['2023-08' '43291.0' '519.0' '-13704' '-311']\n",
      " ['2023-09' '56206.0' '649.0' '12915' '130']\n",
      " ['2023-10' '122032.0' '846.0' '65826' '197']\n",
      " ['2023-11' '128467.0' '981.0' '6435' '135']\n",
      " ['2023-12' '132453.0' '849.0' '3986' '-132']\n",
      " ['2024-01' '127289.0' '769.0' '-5164' '-80']\n",
      " ['2024-02' '183585.0' '767.0' '56296' '-2']\n",
      " ['2024-03' '222180.0' '1206.0' '38595' '439']\n",
      " ['2024-04' '48079.0' '584.0' '-174101' '-622']\n",
      " ['2024-05' '23118.0' '294.0' '-24961' '-290']\n",
      " ['2024-06' '17798.0' '279.0' '-5320' '-15']\n",
      " ['2024-07' '17248.0' '232.0' '-550' '-47']\n",
      " ['2024-08' '40884.0' '346.0' '23636' '114']\n",
      " ['2024-09' '56805.0' '475.0' '15921' '129']\n",
      " ['2024-10' '36253.0' '376.0' '-20552' '-99']\n",
      " ['2024-11' '7706.0' '112.0' '-28547' '-264']]\n"
     ]
    }
   ],
   "source": [
    "# Calcular novos óbitos diferença mês a mês\n",
    "obitos_mes_arr_float = casos_mes_arr[:, 2].astype(float)  # Converter para float para evitar erros ao fazer a diferença\n",
    "novosobitos = np.diff(obitos_mes_arr_float).astype(int)  # Calcular a diferença mês a mês\n",
    "\n",
    "# Inserir 0 no primeiro valor, já que a diferença do primeiro mês é indefinida\n",
    "novosobitos = np.insert(novosobitos, 0, 0)\n",
    "\n",
    "# Adicionar novos óbitos no array\n",
    "novosobitos = novosobitos.reshape((casos_mes_arr.shape[0], 1))  # Ajustar para o formato correto\n",
    "casos_mes_arr = np.concatenate((casos_mes_arr, novosobitos), axis=1)  # Concatenar a nova coluna\n",
    "\n",
    "print(casos_mes_arr)\n"
   ]
  },
  {
   "cell_type": "code",
   "execution_count": 42,
   "metadata": {
    "colab": {
     "base_uri": "https://localhost:8080/"
    },
    "executionInfo": {
     "elapsed": 727,
     "status": "ok",
     "timestamp": 1605747441492,
     "user": {
      "displayName": "Orlando O. S.",
      "photoUrl": "https://lh3.googleusercontent.com/a-/AOh14Gj-E1yuy1M_3ruwN4TWYPK4BwysauSW7GQmHheS=s64",
      "userId": "15066502291703974467"
     },
     "user_tz": 180
    },
    "id": "d4uGqhRXJ-P4",
    "outputId": "c356d805-8a0b-4929-a131-f8afdc33f849"
   },
   "outputs": [
    {
     "name": "stdout",
     "output_type": "stream",
     "text": [
      "['2.0' '5717.0' '85380.0' '514200.0' '1402041.0' '2662485.0' '3908272.0'\n",
      " '4810935.0' '5535605.0' '6335878.0' '7675973.0' '9204731.0' '10551259.0'\n",
      " '12748747.0' '14659011.0' '16545554.0' '18557141.0' '19917855.0'\n",
      " '20776870.0' '21427073.0' '21810855.0' '22094459.0' '22287521.0'\n",
      " '25426744.0' '28787620.0' '29947895.0' '30448236.0' '31019038.0'\n",
      " '32358018.0' '33833900.0' '34429853.0' '34672524.0' '34828749.0'\n",
      " '35266159.0' '36331281.0' '36824580.0' '37052936.0' '37258663.0'\n",
      " '37487971.0' '37601257.0' '37671420.0' '37728415.0' '37771706.0'\n",
      " '37827912.0' '37949944.0' '38078411.0' '38210864.0' '38338153.0'\n",
      " '38521738.0' '38743918.0' '38791997.0' '38815115.0' '38832913.0'\n",
      " '38850161.0' '38891045.0' '38947850.0' '38984103.0' '38991809.0']\n",
      "[['2020-02' '2.0' '0.0' '0' '0' '2.0']\n",
      " ['2020-03' '5715.0' '201.0' '5713' '201' '5717.0']\n",
      " ['2020-04' '79663.0' '5700.0' '73948' '5499' '85380.0']\n",
      " ['2020-05' '428820.0' '23413.0' '349157' '17713' '514200.0']\n",
      " ['2020-06' '887841.0' '30280.0' '459021' '6867' '1402041.0']\n",
      " ['2020-07' '1260444.0' '32881.0' '372603' '2601' '2662485.0']\n",
      " ['2020-08' '1245787.0' '28906.0' '-14657' '-3975' '3908272.0']\n",
      " ['2020-09' '902663.0' '22571.0' '-343124' '-6335' '4810935.0']\n",
      " ['2020-10' '724670.0' '15932.0' '-177993' '-6639' '5535605.0']\n",
      " ['2020-11' '800273.0' '13236.0' '75603' '-2696' '6335878.0']\n",
      " ['2020-12' '1340095.0' '21829.0' '539822' '8593' '7675973.0']\n",
      " ['2021-01' '1528758.0' '29555.0' '188663' '7726' '9204731.0']\n",
      " ['2021-02' '1346528.0' '30438.0' '-182230' '883' '10551259.0']\n",
      " ['2021-03' '2197488.0' '66573.0' '850960' '36135' '12748747.0']\n",
      " ['2021-04' '1910264.0' '82266.0' '-287224' '15693' '14659011.0']\n",
      " ['2021-05' '1886543.0' '59010.0' '-23721' '-23256' '16545554.0']\n",
      " ['2021-06' '2011587.0' '55275.0' '125044' '-3735' '18557141.0']\n",
      " ['2021-07' '1360714.0' '38304.0' '-650873' '-16971' '19917855.0']\n",
      " ['2021-08' '859015.0' '24043.0' '-501699' '-14261' '20776870.0']\n",
      " ['2021-09' '650203.0' '16336.0' '-208812' '-7707' '21427073.0']\n",
      " ['2021-10' '383782.0' '11075.0' '-266421' '-5261' '21810855.0']\n",
      " ['2021-11' '283604.0' '6857.0' '-100178' '-4218' '22094459.0']\n",
      " ['2021-12' '193062.0' '4375.0' '-90542' '-2482' '22287521.0']\n",
      " ['2022-01' '3139223.0' '8082.0' '2946161' '3707' '25426744.0']\n",
      " ['2022-02' '3360876.0' '22195.0' '221653' '14113' '28787620.0']\n",
      " ['2022-03' '1160275.0' '10424.0' '-2200601' '-11771' '29947895.0']\n",
      " ['2022-04' '500341.0' '3740.0' '-659934' '-6684' '30448236.0']\n",
      " ['2022-05' '570802.0' '3179.0' '70461' '-561' '31019038.0']\n",
      " ['2022-06' '1338980.0' '4740.0' '768178' '1561' '32358018.0']\n",
      " ['2022-07' '1475882.0' '7098.0' '136902' '2358' '33833900.0']\n",
      " ['2022-08' '595953.0' '5451.0' '-879929' '-1647' '34429853.0']\n",
      " ['2022-09' '242671.0' '2071.0' '-353282' '-3380' '34672524.0']\n",
      " ['2022-10' '156225.0' '2121.0' '-86446' '50' '34828749.0']\n",
      " ['2022-11' '437410.0' '1644.0' '281185' '-477' '35266159.0']\n",
      " ['2022-12' '1065122.0' '4052.0' '627712' '2408' '36331281.0']\n",
      " ['2023-01' '493299.0' '3221.0' '-571823' '-831' '36824580.0']\n",
      " ['2023-02' '228356.0' '2013.0' '-264943' '-1208' '37052936.0']\n",
      " ['2023-03' '205727.0' '1152.0' '-22629' '-861' '37258663.0']\n",
      " ['2023-04' '229308.0' '1594.0' '23581' '442' '37487971.0']\n",
      " ['2023-05' '113286.0' '1074.0' '-116022' '-520' '37601257.0']\n",
      " ['2023-06' '70163.0' '1057.0' '-43123' '-17' '37671420.0']\n",
      " ['2023-07' '56995.0' '830.0' '-13168' '-227' '37728415.0']\n",
      " ['2023-08' '43291.0' '519.0' '-13704' '-311' '37771706.0']\n",
      " ['2023-09' '56206.0' '649.0' '12915' '130' '37827912.0']\n",
      " ['2023-10' '122032.0' '846.0' '65826' '197' '37949944.0']\n",
      " ['2023-11' '128467.0' '981.0' '6435' '135' '38078411.0']\n",
      " ['2023-12' '132453.0' '849.0' '3986' '-132' '38210864.0']\n",
      " ['2024-01' '127289.0' '769.0' '-5164' '-80' '38338153.0']\n",
      " ['2024-02' '183585.0' '767.0' '56296' '-2' '38521738.0']\n",
      " ['2024-03' '222180.0' '1206.0' '38595' '439' '38743918.0']\n",
      " ['2024-04' '48079.0' '584.0' '-174101' '-622' '38791997.0']\n",
      " ['2024-05' '23118.0' '294.0' '-24961' '-290' '38815115.0']\n",
      " ['2024-06' '17798.0' '279.0' '-5320' '-15' '38832913.0']\n",
      " ['2024-07' '17248.0' '232.0' '-550' '-47' '38850161.0']\n",
      " ['2024-08' '40884.0' '346.0' '23636' '114' '38891045.0']\n",
      " ['2024-09' '56805.0' '475.0' '15921' '129' '38947850.0']\n",
      " ['2024-10' '36253.0' '376.0' '-20552' '-99' '38984103.0']\n",
      " ['2024-11' '7706.0' '112.0' '-28547' '-264' '38991809.0']]\n"
     ]
    }
   ],
   "source": [
    "# Calcular casos acumulados mes a mes\n",
    "casosacumulados = np.cumsum(casos_mes_arr[: , 1].astype(float)).astype(str)\n",
    "print(casosacumulados)\n",
    "\n",
    "#Adicionar casos acumulados no array\n",
    "casosacumulados = casosacumulados.reshape((casos_mes_arr.shape[0],1))\n",
    "casos_mes_arr = np.concatenate((casos_mes_arr, casosacumulados), axis=1)\n",
    "print(casos_mes_arr)"
   ]
  },
  {
   "cell_type": "code",
   "execution_count": 43,
   "metadata": {
    "colab": {
     "base_uri": "https://localhost:8080/"
    },
    "executionInfo": {
     "elapsed": 1210,
     "status": "ok",
     "timestamp": 1605747484409,
     "user": {
      "displayName": "Orlando O. S.",
      "photoUrl": "https://lh3.googleusercontent.com/a-/AOh14Gj-E1yuy1M_3ruwN4TWYPK4BwysauSW7GQmHheS=s64",
      "userId": "15066502291703974467"
     },
     "user_tz": 180
    },
    "id": "E9QGxOXYRuDY",
    "outputId": "e3d07651-8962-4e2f-bc8b-fe36b2c3a705"
   },
   "outputs": [
    {
     "name": "stdout",
     "output_type": "stream",
     "text": [
      "['0.0' '201.0' '5901.0' '29314.0' '59594.0' '92475.0' '121381.0'\n",
      " '143952.0' '159884.0' '173120.0' '194949.0' '224504.0' '254942.0'\n",
      " '321515.0' '403781.0' '462791.0' '518066.0' '556370.0' '580413.0'\n",
      " '596749.0' '607824.0' '614681.0' '619056.0' '627138.0' '649333.0'\n",
      " '659757.0' '663497.0' '666676.0' '671416.0' '678514.0' '683965.0'\n",
      " '686036.0' '688157.0' '689801.0' '693853.0' '697074.0' '699087.0'\n",
      " '700239.0' '701833.0' '702907.0' '703964.0' '704794.0' '705313.0'\n",
      " '705962.0' '706808.0' '707789.0' '708638.0' '709407.0' '710174.0'\n",
      " '711380.0' '711964.0' '712258.0' '712537.0' '712769.0' '713115.0'\n",
      " '713590.0' '713966.0' '714078.0']\n",
      "[['2020-02' '2.0' '0.0' '0' '0' '2.0' '0.0']\n",
      " ['2020-03' '5715.0' '201.0' '5713' '201' '5717.0' '201.0']\n",
      " ['2020-04' '79663.0' '5700.0' '73948' '5499' '85380.0' '5901.0']\n",
      " ['2020-05' '428820.0' '23413.0' '349157' '17713' '514200.0' '29314.0']\n",
      " ['2020-06' '887841.0' '30280.0' '459021' '6867' '1402041.0' '59594.0']\n",
      " ['2020-07' '1260444.0' '32881.0' '372603' '2601' '2662485.0' '92475.0']\n",
      " ['2020-08' '1245787.0' '28906.0' '-14657' '-3975' '3908272.0' '121381.0']\n",
      " ['2020-09' '902663.0' '22571.0' '-343124' '-6335' '4810935.0' '143952.0']\n",
      " ['2020-10' '724670.0' '15932.0' '-177993' '-6639' '5535605.0' '159884.0']\n",
      " ['2020-11' '800273.0' '13236.0' '75603' '-2696' '6335878.0' '173120.0']\n",
      " ['2020-12' '1340095.0' '21829.0' '539822' '8593' '7675973.0' '194949.0']\n",
      " ['2021-01' '1528758.0' '29555.0' '188663' '7726' '9204731.0' '224504.0']\n",
      " ['2021-02' '1346528.0' '30438.0' '-182230' '883' '10551259.0' '254942.0']\n",
      " ['2021-03' '2197488.0' '66573.0' '850960' '36135' '12748747.0'\n",
      "  '321515.0']\n",
      " ['2021-04' '1910264.0' '82266.0' '-287224' '15693' '14659011.0'\n",
      "  '403781.0']\n",
      " ['2021-05' '1886543.0' '59010.0' '-23721' '-23256' '16545554.0'\n",
      "  '462791.0']\n",
      " ['2021-06' '2011587.0' '55275.0' '125044' '-3735' '18557141.0'\n",
      "  '518066.0']\n",
      " ['2021-07' '1360714.0' '38304.0' '-650873' '-16971' '19917855.0'\n",
      "  '556370.0']\n",
      " ['2021-08' '859015.0' '24043.0' '-501699' '-14261' '20776870.0'\n",
      "  '580413.0']\n",
      " ['2021-09' '650203.0' '16336.0' '-208812' '-7707' '21427073.0'\n",
      "  '596749.0']\n",
      " ['2021-10' '383782.0' '11075.0' '-266421' '-5261' '21810855.0'\n",
      "  '607824.0']\n",
      " ['2021-11' '283604.0' '6857.0' '-100178' '-4218' '22094459.0' '614681.0']\n",
      " ['2021-12' '193062.0' '4375.0' '-90542' '-2482' '22287521.0' '619056.0']\n",
      " ['2022-01' '3139223.0' '8082.0' '2946161' '3707' '25426744.0' '627138.0']\n",
      " ['2022-02' '3360876.0' '22195.0' '221653' '14113' '28787620.0'\n",
      "  '649333.0']\n",
      " ['2022-03' '1160275.0' '10424.0' '-2200601' '-11771' '29947895.0'\n",
      "  '659757.0']\n",
      " ['2022-04' '500341.0' '3740.0' '-659934' '-6684' '30448236.0' '663497.0']\n",
      " ['2022-05' '570802.0' '3179.0' '70461' '-561' '31019038.0' '666676.0']\n",
      " ['2022-06' '1338980.0' '4740.0' '768178' '1561' '32358018.0' '671416.0']\n",
      " ['2022-07' '1475882.0' '7098.0' '136902' '2358' '33833900.0' '678514.0']\n",
      " ['2022-08' '595953.0' '5451.0' '-879929' '-1647' '34429853.0' '683965.0']\n",
      " ['2022-09' '242671.0' '2071.0' '-353282' '-3380' '34672524.0' '686036.0']\n",
      " ['2022-10' '156225.0' '2121.0' '-86446' '50' '34828749.0' '688157.0']\n",
      " ['2022-11' '437410.0' '1644.0' '281185' '-477' '35266159.0' '689801.0']\n",
      " ['2022-12' '1065122.0' '4052.0' '627712' '2408' '36331281.0' '693853.0']\n",
      " ['2023-01' '493299.0' '3221.0' '-571823' '-831' '36824580.0' '697074.0']\n",
      " ['2023-02' '228356.0' '2013.0' '-264943' '-1208' '37052936.0' '699087.0']\n",
      " ['2023-03' '205727.0' '1152.0' '-22629' '-861' '37258663.0' '700239.0']\n",
      " ['2023-04' '229308.0' '1594.0' '23581' '442' '37487971.0' '701833.0']\n",
      " ['2023-05' '113286.0' '1074.0' '-116022' '-520' '37601257.0' '702907.0']\n",
      " ['2023-06' '70163.0' '1057.0' '-43123' '-17' '37671420.0' '703964.0']\n",
      " ['2023-07' '56995.0' '830.0' '-13168' '-227' '37728415.0' '704794.0']\n",
      " ['2023-08' '43291.0' '519.0' '-13704' '-311' '37771706.0' '705313.0']\n",
      " ['2023-09' '56206.0' '649.0' '12915' '130' '37827912.0' '705962.0']\n",
      " ['2023-10' '122032.0' '846.0' '65826' '197' '37949944.0' '706808.0']\n",
      " ['2023-11' '128467.0' '981.0' '6435' '135' '38078411.0' '707789.0']\n",
      " ['2023-12' '132453.0' '849.0' '3986' '-132' '38210864.0' '708638.0']\n",
      " ['2024-01' '127289.0' '769.0' '-5164' '-80' '38338153.0' '709407.0']\n",
      " ['2024-02' '183585.0' '767.0' '56296' '-2' '38521738.0' '710174.0']\n",
      " ['2024-03' '222180.0' '1206.0' '38595' '439' '38743918.0' '711380.0']\n",
      " ['2024-04' '48079.0' '584.0' '-174101' '-622' '38791997.0' '711964.0']\n",
      " ['2024-05' '23118.0' '294.0' '-24961' '-290' '38815115.0' '712258.0']\n",
      " ['2024-06' '17798.0' '279.0' '-5320' '-15' '38832913.0' '712537.0']\n",
      " ['2024-07' '17248.0' '232.0' '-550' '-47' '38850161.0' '712769.0']\n",
      " ['2024-08' '40884.0' '346.0' '23636' '114' '38891045.0' '713115.0']\n",
      " ['2024-09' '56805.0' '475.0' '15921' '129' '38947850.0' '713590.0']\n",
      " ['2024-10' '36253.0' '376.0' '-20552' '-99' '38984103.0' '713966.0']\n",
      " ['2024-11' '7706.0' '112.0' '-28547' '-264' '38991809.0' '714078.0']]\n"
     ]
    }
   ],
   "source": [
    "# Calcular obitos acumulados mes a mes\n",
    "obitosacumulados = np.cumsum(casos_mes_arr[: , 2].astype(float)).astype(str)\n",
    "print(obitosacumulados)\n",
    "\n",
    "#Adicionar obitos acumulados no array\n",
    "obitosacumulados = obitosacumulados.reshape((casos_mes_arr.shape[0],1))\n",
    "casos_mes_arr = np.concatenate((casos_mes_arr, obitosacumulados), axis=1)\n",
    "print(casos_mes_arr)"
   ]
  },
  {
   "cell_type": "code",
   "execution_count": 44,
   "metadata": {
    "colab": {
     "base_uri": "https://localhost:8080/"
    },
    "executionInfo": {
     "elapsed": 1582,
     "status": "ok",
     "timestamp": 1605747849700,
     "user": {
      "displayName": "Orlando O. S.",
      "photoUrl": "https://lh3.googleusercontent.com/a-/AOh14Gj-E1yuy1M_3ruwN4TWYPK4BwysauSW7GQmHheS=s64",
      "userId": "15066502291703974467"
     },
     "user_tz": 180
    },
    "id": "utY_iDcRB5sg",
    "outputId": "ef84e617-43e4-4ced-b91a-22cd86ae7805"
   },
   "outputs": [
    {
     "name": "stdout",
     "output_type": "stream",
     "text": [
      "[['2020-02' '2.0' '0.0' '0' '0' '2.0' '0.0']\n",
      " ['2020-03' '5715.0' '201.0' '5713' '201' '5717.0' '201.0']\n",
      " ['2020-04' '79663.0' '5700.0' '73948' '5499' '85380.0' '5901.0']\n",
      " ['2020-05' '428820.0' '23413.0' '349157' '17713' '514200.0' '29314.0']\n",
      " ['2020-06' '887841.0' '30280.0' '459021' '6867' '1402041.0' '59594.0']\n",
      " ['2020-07' '1260444.0' '32881.0' '372603' '2601' '2662485.0' '92475.0']\n",
      " ['2020-08' '1245787.0' '28906.0' '-14657' '-3975' '3908272.0' '121381.0']\n",
      " ['2020-09' '902663.0' '22571.0' '-343124' '-6335' '4810935.0' '143952.0']\n",
      " ['2020-10' '724670.0' '15932.0' '-177993' '-6639' '5535605.0' '159884.0']\n",
      " ['2020-11' '800273.0' '13236.0' '75603' '-2696' '6335878.0' '173120.0']\n",
      " ['2020-12' '1340095.0' '21829.0' '539822' '8593' '7675973.0' '194949.0']\n",
      " ['2021-01' '1528758.0' '29555.0' '188663' '7726' '9204731.0' '224504.0']\n",
      " ['2021-02' '1346528.0' '30438.0' '-182230' '883' '10551259.0' '254942.0']\n",
      " ['2021-03' '2197488.0' '66573.0' '850960' '36135' '12748747.0'\n",
      "  '321515.0']\n",
      " ['2021-04' '1910264.0' '82266.0' '-287224' '15693' '14659011.0'\n",
      "  '403781.0']\n",
      " ['2021-05' '1886543.0' '59010.0' '-23721' '-23256' '16545554.0'\n",
      "  '462791.0']\n",
      " ['2021-06' '2011587.0' '55275.0' '125044' '-3735' '18557141.0'\n",
      "  '518066.0']\n",
      " ['2021-07' '1360714.0' '38304.0' '-650873' '-16971' '19917855.0'\n",
      "  '556370.0']\n",
      " ['2021-08' '859015.0' '24043.0' '-501699' '-14261' '20776870.0'\n",
      "  '580413.0']\n",
      " ['2021-09' '650203.0' '16336.0' '-208812' '-7707' '21427073.0'\n",
      "  '596749.0']\n",
      " ['2021-10' '383782.0' '11075.0' '-266421' '-5261' '21810855.0'\n",
      "  '607824.0']\n",
      " ['2021-11' '283604.0' '6857.0' '-100178' '-4218' '22094459.0' '614681.0']\n",
      " ['2021-12' '193062.0' '4375.0' '-90542' '-2482' '22287521.0' '619056.0']\n",
      " ['2022-01' '3139223.0' '8082.0' '2946161' '3707' '25426744.0' '627138.0']\n",
      " ['2022-02' '3360876.0' '22195.0' '221653' '14113' '28787620.0'\n",
      "  '649333.0']\n",
      " ['2022-03' '1160275.0' '10424.0' '-2200601' '-11771' '29947895.0'\n",
      "  '659757.0']\n",
      " ['2022-04' '500341.0' '3740.0' '-659934' '-6684' '30448236.0' '663497.0']\n",
      " ['2022-05' '570802.0' '3179.0' '70461' '-561' '31019038.0' '666676.0']\n",
      " ['2022-06' '1338980.0' '4740.0' '768178' '1561' '32358018.0' '671416.0']\n",
      " ['2022-07' '1475882.0' '7098.0' '136902' '2358' '33833900.0' '678514.0']\n",
      " ['2022-08' '595953.0' '5451.0' '-879929' '-1647' '34429853.0' '683965.0']\n",
      " ['2022-09' '242671.0' '2071.0' '-353282' '-3380' '34672524.0' '686036.0']\n",
      " ['2022-10' '156225.0' '2121.0' '-86446' '50' '34828749.0' '688157.0']\n",
      " ['2022-11' '437410.0' '1644.0' '281185' '-477' '35266159.0' '689801.0']\n",
      " ['2022-12' '1065122.0' '4052.0' '627712' '2408' '36331281.0' '693853.0']\n",
      " ['2023-01' '493299.0' '3221.0' '-571823' '-831' '36824580.0' '697074.0']\n",
      " ['2023-02' '228356.0' '2013.0' '-264943' '-1208' '37052936.0' '699087.0']\n",
      " ['2023-03' '205727.0' '1152.0' '-22629' '-861' '37258663.0' '700239.0']\n",
      " ['2023-04' '229308.0' '1594.0' '23581' '442' '37487971.0' '701833.0']\n",
      " ['2023-05' '113286.0' '1074.0' '-116022' '-520' '37601257.0' '702907.0']\n",
      " ['2023-06' '70163.0' '1057.0' '-43123' '-17' '37671420.0' '703964.0']\n",
      " ['2023-07' '56995.0' '830.0' '-13168' '-227' '37728415.0' '704794.0']\n",
      " ['2023-08' '43291.0' '519.0' '-13704' '-311' '37771706.0' '705313.0']\n",
      " ['2023-09' '56206.0' '649.0' '12915' '130' '37827912.0' '705962.0']\n",
      " ['2023-10' '122032.0' '846.0' '65826' '197' '37949944.0' '706808.0']\n",
      " ['2023-11' '128467.0' '981.0' '6435' '135' '38078411.0' '707789.0']\n",
      " ['2023-12' '132453.0' '849.0' '3986' '-132' '38210864.0' '708638.0']\n",
      " ['2024-01' '127289.0' '769.0' '-5164' '-80' '38338153.0' '709407.0']\n",
      " ['2024-02' '183585.0' '767.0' '56296' '-2' '38521738.0' '710174.0']\n",
      " ['2024-03' '222180.0' '1206.0' '38595' '439' '38743918.0' '711380.0']\n",
      " ['2024-04' '48079.0' '584.0' '-174101' '-622' '38791997.0' '711964.0']\n",
      " ['2024-05' '23118.0' '294.0' '-24961' '-290' '38815115.0' '712258.0']\n",
      " ['2024-06' '17798.0' '279.0' '-5320' '-15' '38832913.0' '712537.0']\n",
      " ['2024-07' '17248.0' '232.0' '-550' '-47' '38850161.0' '712769.0']\n",
      " ['2024-08' '40884.0' '346.0' '23636' '114' '38891045.0' '713115.0']\n",
      " ['2024-09' '56805.0' '475.0' '15921' '129' '38947850.0' '713590.0']\n",
      " ['2024-10' '36253.0' '376.0' '-20552' '-99' '38984103.0' '713966.0']\n",
      " ['2024-11' '7706.0' '112.0' '-28547' '-264' '38991809.0' '714078.0']]\n"
     ]
    }
   ],
   "source": [
    "print(casos_mes_arr)"
   ]
  },
  {
   "cell_type": "code",
   "execution_count": 45,
   "metadata": {
    "colab": {
     "base_uri": "https://localhost:8080/"
    },
    "executionInfo": {
     "elapsed": 887,
     "status": "ok",
     "timestamp": 1605747885136,
     "user": {
      "displayName": "Orlando O. S.",
      "photoUrl": "https://lh3.googleusercontent.com/a-/AOh14Gj-E1yuy1M_3ruwN4TWYPK4BwysauSW7GQmHheS=s64",
      "userId": "15066502291703974467"
     },
     "user_tz": 180
    },
    "id": "E03sluQfKdAZ",
    "outputId": "286127d1-213b-4f6d-bdb3-221a68421208"
   },
   "outputs": [
    {
     "name": "stdout",
     "output_type": "stream",
     "text": [
      "[['2020-02' '2.0' '0' '2.0' '0.0' '0' '0.0']\n",
      " ['2020-03' '5715.0' '5713' '5717.0' '201.0' '201' '201.0']\n",
      " ['2020-04' '79663.0' '73948' '85380.0' '5700.0' '5499' '5901.0']\n",
      " ['2020-05' '428820.0' '349157' '514200.0' '23413.0' '17713' '29314.0']\n",
      " ['2020-06' '887841.0' '459021' '1402041.0' '30280.0' '6867' '59594.0']\n",
      " ['2020-07' '1260444.0' '372603' '2662485.0' '32881.0' '2601' '92475.0']\n",
      " ['2020-08' '1245787.0' '-14657' '3908272.0' '28906.0' '-3975' '121381.0']\n",
      " ['2020-09' '902663.0' '-343124' '4810935.0' '22571.0' '-6335' '143952.0']\n",
      " ['2020-10' '724670.0' '-177993' '5535605.0' '15932.0' '-6639' '159884.0']\n",
      " ['2020-11' '800273.0' '75603' '6335878.0' '13236.0' '-2696' '173120.0']\n",
      " ['2020-12' '1340095.0' '539822' '7675973.0' '21829.0' '8593' '194949.0']\n",
      " ['2021-01' '1528758.0' '188663' '9204731.0' '29555.0' '7726' '224504.0']\n",
      " ['2021-02' '1346528.0' '-182230' '10551259.0' '30438.0' '883' '254942.0']\n",
      " ['2021-03' '2197488.0' '850960' '12748747.0' '66573.0' '36135'\n",
      "  '321515.0']\n",
      " ['2021-04' '1910264.0' '-287224' '14659011.0' '82266.0' '15693'\n",
      "  '403781.0']\n",
      " ['2021-05' '1886543.0' '-23721' '16545554.0' '59010.0' '-23256'\n",
      "  '462791.0']\n",
      " ['2021-06' '2011587.0' '125044' '18557141.0' '55275.0' '-3735'\n",
      "  '518066.0']\n",
      " ['2021-07' '1360714.0' '-650873' '19917855.0' '38304.0' '-16971'\n",
      "  '556370.0']\n",
      " ['2021-08' '859015.0' '-501699' '20776870.0' '24043.0' '-14261'\n",
      "  '580413.0']\n",
      " ['2021-09' '650203.0' '-208812' '21427073.0' '16336.0' '-7707'\n",
      "  '596749.0']\n",
      " ['2021-10' '383782.0' '-266421' '21810855.0' '11075.0' '-5261'\n",
      "  '607824.0']\n",
      " ['2021-11' '283604.0' '-100178' '22094459.0' '6857.0' '-4218' '614681.0']\n",
      " ['2021-12' '193062.0' '-90542' '22287521.0' '4375.0' '-2482' '619056.0']\n",
      " ['2022-01' '3139223.0' '2946161' '25426744.0' '8082.0' '3707' '627138.0']\n",
      " ['2022-02' '3360876.0' '221653' '28787620.0' '22195.0' '14113'\n",
      "  '649333.0']\n",
      " ['2022-03' '1160275.0' '-2200601' '29947895.0' '10424.0' '-11771'\n",
      "  '659757.0']\n",
      " ['2022-04' '500341.0' '-659934' '30448236.0' '3740.0' '-6684' '663497.0']\n",
      " ['2022-05' '570802.0' '70461' '31019038.0' '3179.0' '-561' '666676.0']\n",
      " ['2022-06' '1338980.0' '768178' '32358018.0' '4740.0' '1561' '671416.0']\n",
      " ['2022-07' '1475882.0' '136902' '33833900.0' '7098.0' '2358' '678514.0']\n",
      " ['2022-08' '595953.0' '-879929' '34429853.0' '5451.0' '-1647' '683965.0']\n",
      " ['2022-09' '242671.0' '-353282' '34672524.0' '2071.0' '-3380' '686036.0']\n",
      " ['2022-10' '156225.0' '-86446' '34828749.0' '2121.0' '50' '688157.0']\n",
      " ['2022-11' '437410.0' '281185' '35266159.0' '1644.0' '-477' '689801.0']\n",
      " ['2022-12' '1065122.0' '627712' '36331281.0' '4052.0' '2408' '693853.0']\n",
      " ['2023-01' '493299.0' '-571823' '36824580.0' '3221.0' '-831' '697074.0']\n",
      " ['2023-02' '228356.0' '-264943' '37052936.0' '2013.0' '-1208' '699087.0']\n",
      " ['2023-03' '205727.0' '-22629' '37258663.0' '1152.0' '-861' '700239.0']\n",
      " ['2023-04' '229308.0' '23581' '37487971.0' '1594.0' '442' '701833.0']\n",
      " ['2023-05' '113286.0' '-116022' '37601257.0' '1074.0' '-520' '702907.0']\n",
      " ['2023-06' '70163.0' '-43123' '37671420.0' '1057.0' '-17' '703964.0']\n",
      " ['2023-07' '56995.0' '-13168' '37728415.0' '830.0' '-227' '704794.0']\n",
      " ['2023-08' '43291.0' '-13704' '37771706.0' '519.0' '-311' '705313.0']\n",
      " ['2023-09' '56206.0' '12915' '37827912.0' '649.0' '130' '705962.0']\n",
      " ['2023-10' '122032.0' '65826' '37949944.0' '846.0' '197' '706808.0']\n",
      " ['2023-11' '128467.0' '6435' '38078411.0' '981.0' '135' '707789.0']\n",
      " ['2023-12' '132453.0' '3986' '38210864.0' '849.0' '-132' '708638.0']\n",
      " ['2024-01' '127289.0' '-5164' '38338153.0' '769.0' '-80' '709407.0']\n",
      " ['2024-02' '183585.0' '56296' '38521738.0' '767.0' '-2' '710174.0']\n",
      " ['2024-03' '222180.0' '38595' '38743918.0' '1206.0' '439' '711380.0']\n",
      " ['2024-04' '48079.0' '-174101' '38791997.0' '584.0' '-622' '711964.0']\n",
      " ['2024-05' '23118.0' '-24961' '38815115.0' '294.0' '-290' '712258.0']\n",
      " ['2024-06' '17798.0' '-5320' '38832913.0' '279.0' '-15' '712537.0']\n",
      " ['2024-07' '17248.0' '-550' '38850161.0' '232.0' '-47' '712769.0']\n",
      " ['2024-08' '40884.0' '23636' '38891045.0' '346.0' '114' '713115.0']\n",
      " ['2024-09' '56805.0' '15921' '38947850.0' '475.0' '129' '713590.0']\n",
      " ['2024-10' '36253.0' '-20552' '38984103.0' '376.0' '-99' '713966.0']\n",
      " ['2024-11' '7706.0' '-28547' '38991809.0' '112.0' '-264' '714078.0']]\n"
     ]
    }
   ],
   "source": [
    "#Reorganizando as colunas\n",
    "casos_mes_arr = casos_mes_arr[: , [0,1,3,5,2,4,6]]\n",
    "print(casos_mes_arr)"
   ]
  },
  {
   "cell_type": "code",
   "execution_count": 46,
   "metadata": {
    "colab": {
     "base_uri": "https://localhost:8080/"
    },
    "executionInfo": {
     "elapsed": 709,
     "status": "ok",
     "timestamp": 1605748335194,
     "user": {
      "displayName": "Orlando O. S.",
      "photoUrl": "https://lh3.googleusercontent.com/a-/AOh14Gj-E1yuy1M_3ruwN4TWYPK4BwysauSW7GQmHheS=s64",
      "userId": "15066502291703974467"
     },
     "user_tz": 180
    },
    "id": "M3cnNSQgCsjo",
    "outputId": "b5d9ee9c-3e30-43a2-947f-2da9e8d5634c"
   },
   "outputs": [
    {
     "data": {
      "text/plain": [
       "(7,)"
      ]
     },
     "execution_count": 46,
     "metadata": {},
     "output_type": "execute_result"
    }
   ],
   "source": [
    "colunas = np.array(['DATA', 'CASOS_NOVOS', 'CASOS_ACUMULADOS',\n",
    "           'CASOS_DIF_MES_ANT', \n",
    "           'OBITOS_NOVOS', 'OBITOS_ACUMULADOS',\n",
    "           'OBITOS_DIF_MES_ANT'])\n",
    "\n",
    "colunas.shape          "
   ]
  },
  {
   "cell_type": "code",
   "execution_count": 47,
   "metadata": {
    "id": "DoT9KhZhEC6K"
   },
   "outputs": [],
   "source": [
    "casos_mes_arr= np.vstack((colunas, casos_mes_arr))"
   ]
  },
  {
   "cell_type": "code",
   "execution_count": 48,
   "metadata": {
    "colab": {
     "base_uri": "https://localhost:8080/"
    },
    "executionInfo": {
     "elapsed": 743,
     "status": "ok",
     "timestamp": 1605748351210,
     "user": {
      "displayName": "Orlando O. S.",
      "photoUrl": "https://lh3.googleusercontent.com/a-/AOh14Gj-E1yuy1M_3ruwN4TWYPK4BwysauSW7GQmHheS=s64",
      "userId": "15066502291703974467"
     },
     "user_tz": 180
    },
    "id": "glk0uyKIDzNt",
    "outputId": "e6d80027-12d7-4373-9548-6fc7036fa6c7"
   },
   "outputs": [
    {
     "data": {
      "text/plain": [
       "(59, 7)"
      ]
     },
     "execution_count": 48,
     "metadata": {},
     "output_type": "execute_result"
    }
   ],
   "source": [
    "casos_mes_arr.shape "
   ]
  },
  {
   "cell_type": "code",
   "execution_count": 49,
   "metadata": {
    "colab": {
     "base_uri": "https://localhost:8080/"
    },
    "executionInfo": {
     "elapsed": 772,
     "status": "ok",
     "timestamp": 1605748385439,
     "user": {
      "displayName": "Orlando O. S.",
      "photoUrl": "https://lh3.googleusercontent.com/a-/AOh14Gj-E1yuy1M_3ruwN4TWYPK4BwysauSW7GQmHheS=s64",
      "userId": "15066502291703974467"
     },
     "user_tz": 180
    },
    "id": "G0-8-MiRD9X-",
    "outputId": "3fe919db-8665-4405-c812-59ebc53b13d2"
   },
   "outputs": [
    {
     "data": {
      "text/plain": [
       "array([['DATA', 'CASOS_NOVOS', 'CASOS_ACUMULADOS', 'CASOS_DIF_MES_ANT',\n",
       "        'OBITOS_NOVOS', 'OBITOS_ACUMULADOS', 'OBITOS_DIF_MES_ANT'],\n",
       "       ['2020-02', '2.0', '0', '2.0', '0.0', '0', '0.0'],\n",
       "       ['2020-03', '5715.0', '5713', '5717.0', '201.0', '201', '201.0'],\n",
       "       ['2020-04', '79663.0', '73948', '85380.0', '5700.0', '5499',\n",
       "        '5901.0'],\n",
       "       ['2020-05', '428820.0', '349157', '514200.0', '23413.0', '17713',\n",
       "        '29314.0'],\n",
       "       ['2020-06', '887841.0', '459021', '1402041.0', '30280.0', '6867',\n",
       "        '59594.0'],\n",
       "       ['2020-07', '1260444.0', '372603', '2662485.0', '32881.0', '2601',\n",
       "        '92475.0'],\n",
       "       ['2020-08', '1245787.0', '-14657', '3908272.0', '28906.0',\n",
       "        '-3975', '121381.0'],\n",
       "       ['2020-09', '902663.0', '-343124', '4810935.0', '22571.0',\n",
       "        '-6335', '143952.0'],\n",
       "       ['2020-10', '724670.0', '-177993', '5535605.0', '15932.0',\n",
       "        '-6639', '159884.0'],\n",
       "       ['2020-11', '800273.0', '75603', '6335878.0', '13236.0', '-2696',\n",
       "        '173120.0'],\n",
       "       ['2020-12', '1340095.0', '539822', '7675973.0', '21829.0', '8593',\n",
       "        '194949.0'],\n",
       "       ['2021-01', '1528758.0', '188663', '9204731.0', '29555.0', '7726',\n",
       "        '224504.0'],\n",
       "       ['2021-02', '1346528.0', '-182230', '10551259.0', '30438.0',\n",
       "        '883', '254942.0'],\n",
       "       ['2021-03', '2197488.0', '850960', '12748747.0', '66573.0',\n",
       "        '36135', '321515.0'],\n",
       "       ['2021-04', '1910264.0', '-287224', '14659011.0', '82266.0',\n",
       "        '15693', '403781.0'],\n",
       "       ['2021-05', '1886543.0', '-23721', '16545554.0', '59010.0',\n",
       "        '-23256', '462791.0'],\n",
       "       ['2021-06', '2011587.0', '125044', '18557141.0', '55275.0',\n",
       "        '-3735', '518066.0'],\n",
       "       ['2021-07', '1360714.0', '-650873', '19917855.0', '38304.0',\n",
       "        '-16971', '556370.0'],\n",
       "       ['2021-08', '859015.0', '-501699', '20776870.0', '24043.0',\n",
       "        '-14261', '580413.0'],\n",
       "       ['2021-09', '650203.0', '-208812', '21427073.0', '16336.0',\n",
       "        '-7707', '596749.0'],\n",
       "       ['2021-10', '383782.0', '-266421', '21810855.0', '11075.0',\n",
       "        '-5261', '607824.0'],\n",
       "       ['2021-11', '283604.0', '-100178', '22094459.0', '6857.0',\n",
       "        '-4218', '614681.0'],\n",
       "       ['2021-12', '193062.0', '-90542', '22287521.0', '4375.0', '-2482',\n",
       "        '619056.0'],\n",
       "       ['2022-01', '3139223.0', '2946161', '25426744.0', '8082.0',\n",
       "        '3707', '627138.0'],\n",
       "       ['2022-02', '3360876.0', '221653', '28787620.0', '22195.0',\n",
       "        '14113', '649333.0'],\n",
       "       ['2022-03', '1160275.0', '-2200601', '29947895.0', '10424.0',\n",
       "        '-11771', '659757.0'],\n",
       "       ['2022-04', '500341.0', '-659934', '30448236.0', '3740.0',\n",
       "        '-6684', '663497.0'],\n",
       "       ['2022-05', '570802.0', '70461', '31019038.0', '3179.0', '-561',\n",
       "        '666676.0'],\n",
       "       ['2022-06', '1338980.0', '768178', '32358018.0', '4740.0', '1561',\n",
       "        '671416.0'],\n",
       "       ['2022-07', '1475882.0', '136902', '33833900.0', '7098.0', '2358',\n",
       "        '678514.0'],\n",
       "       ['2022-08', '595953.0', '-879929', '34429853.0', '5451.0',\n",
       "        '-1647', '683965.0'],\n",
       "       ['2022-09', '242671.0', '-353282', '34672524.0', '2071.0',\n",
       "        '-3380', '686036.0'],\n",
       "       ['2022-10', '156225.0', '-86446', '34828749.0', '2121.0', '50',\n",
       "        '688157.0'],\n",
       "       ['2022-11', '437410.0', '281185', '35266159.0', '1644.0', '-477',\n",
       "        '689801.0'],\n",
       "       ['2022-12', '1065122.0', '627712', '36331281.0', '4052.0', '2408',\n",
       "        '693853.0'],\n",
       "       ['2023-01', '493299.0', '-571823', '36824580.0', '3221.0', '-831',\n",
       "        '697074.0'],\n",
       "       ['2023-02', '228356.0', '-264943', '37052936.0', '2013.0',\n",
       "        '-1208', '699087.0'],\n",
       "       ['2023-03', '205727.0', '-22629', '37258663.0', '1152.0', '-861',\n",
       "        '700239.0'],\n",
       "       ['2023-04', '229308.0', '23581', '37487971.0', '1594.0', '442',\n",
       "        '701833.0'],\n",
       "       ['2023-05', '113286.0', '-116022', '37601257.0', '1074.0', '-520',\n",
       "        '702907.0'],\n",
       "       ['2023-06', '70163.0', '-43123', '37671420.0', '1057.0', '-17',\n",
       "        '703964.0'],\n",
       "       ['2023-07', '56995.0', '-13168', '37728415.0', '830.0', '-227',\n",
       "        '704794.0'],\n",
       "       ['2023-08', '43291.0', '-13704', '37771706.0', '519.0', '-311',\n",
       "        '705313.0'],\n",
       "       ['2023-09', '56206.0', '12915', '37827912.0', '649.0', '130',\n",
       "        '705962.0'],\n",
       "       ['2023-10', '122032.0', '65826', '37949944.0', '846.0', '197',\n",
       "        '706808.0'],\n",
       "       ['2023-11', '128467.0', '6435', '38078411.0', '981.0', '135',\n",
       "        '707789.0'],\n",
       "       ['2023-12', '132453.0', '3986', '38210864.0', '849.0', '-132',\n",
       "        '708638.0'],\n",
       "       ['2024-01', '127289.0', '-5164', '38338153.0', '769.0', '-80',\n",
       "        '709407.0'],\n",
       "       ['2024-02', '183585.0', '56296', '38521738.0', '767.0', '-2',\n",
       "        '710174.0'],\n",
       "       ['2024-03', '222180.0', '38595', '38743918.0', '1206.0', '439',\n",
       "        '711380.0'],\n",
       "       ['2024-04', '48079.0', '-174101', '38791997.0', '584.0', '-622',\n",
       "        '711964.0'],\n",
       "       ['2024-05', '23118.0', '-24961', '38815115.0', '294.0', '-290',\n",
       "        '712258.0'],\n",
       "       ['2024-06', '17798.0', '-5320', '38832913.0', '279.0', '-15',\n",
       "        '712537.0'],\n",
       "       ['2024-07', '17248.0', '-550', '38850161.0', '232.0', '-47',\n",
       "        '712769.0'],\n",
       "       ['2024-08', '40884.0', '23636', '38891045.0', '346.0', '114',\n",
       "        '713115.0'],\n",
       "       ['2024-09', '56805.0', '15921', '38947850.0', '475.0', '129',\n",
       "        '713590.0'],\n",
       "       ['2024-10', '36253.0', '-20552', '38984103.0', '376.0', '-99',\n",
       "        '713966.0'],\n",
       "       ['2024-11', '7706.0', '-28547', '38991809.0', '112.0', '-264',\n",
       "        '714078.0']], dtype='<U32')"
      ]
     },
     "execution_count": 49,
     "metadata": {},
     "output_type": "execute_result"
    }
   ],
   "source": [
    "casos_mes_arr"
   ]
  },
  {
   "cell_type": "code",
   "execution_count": 50,
   "metadata": {
    "id": "TQSAaFNUBIcy"
   },
   "outputs": [],
   "source": [
    "np.savetxt(\"casos_mes_arr.csv\", casos_mes_arr, delimiter=\";\", fmt='%s')"
   ]
  },
  {
   "cell_type": "markdown",
   "metadata": {
    "id": "xYXlqKgpeWKG"
   },
   "source": [
    "# Gerar informações a nível regional e estadual"
   ]
  },
  {
   "cell_type": "code",
   "execution_count": 51,
   "metadata": {
    "colab": {
     "base_uri": "https://localhost:8080/"
    },
    "executionInfo": {
     "elapsed": 793,
     "status": "ok",
     "timestamp": 1605914784173,
     "user": {
      "displayName": "Orlando O. S.",
      "photoUrl": "https://lh3.googleusercontent.com/a-/AOh14Gj-E1yuy1M_3ruwN4TWYPK4BwysauSW7GQmHheS=s64",
      "userId": "15066502291703974467"
     },
     "user_tz": 180
    },
    "id": "zEek_GxV-to1",
    "outputId": "ccf2f515-ed05-4f24-9b4a-905053e1e503"
   },
   "outputs": [
    {
     "data": {
      "text/plain": [
       "array(['DATA', 'CASOS_NOVOS', 'CASOS_ACUMULADOS', 'CASOS_DIF_MES_ANT',\n",
       "       'OBITOS_NOVOS', 'OBITOS_ACUMULADOS', 'OBITOS_DIF_MES_ANT'],\n",
       "      dtype='<U18')"
      ]
     },
     "execution_count": 51,
     "metadata": {},
     "output_type": "execute_result"
    }
   ],
   "source": [
    "colunas"
   ]
  },
  {
   "cell_type": "code",
   "execution_count": null,
   "metadata": {
    "colab": {
     "base_uri": "https://localhost:8080/"
    },
    "executionInfo": {
     "elapsed": 849,
     "status": "ok",
     "timestamp": 1605916211148,
     "user": {
      "displayName": "Orlando O. S.",
      "photoUrl": "https://lh3.googleusercontent.com/a-/AOh14Gj-E1yuy1M_3ruwN4TWYPK4BwysauSW7GQmHheS=s64",
      "userId": "15066502291703974467"
     },
     "user_tz": 180
    },
    "id": "HNGlkYnfLSKL",
    "outputId": "a8d4ea0c-cbf3-4725-d6a2-05d1922abb7c"
   },
   "outputs": [
    {
     "name": "stdout",
     "output_type": "stream",
     "text": [
      "[['Norte' 'RO' nan 11 nan nan nan '2020-02-25' 9 1777225.0 0.0 0 0 0 nan\n",
      "  nan nan]\n",
      " ['Norte' 'RO' nan 11 nan nan nan '2020-02-26' 9 1777225.0 0.0 0 0 0 nan\n",
      "  nan nan]\n",
      " ['Norte' 'RO' nan 11 nan nan nan '2020-02-27' 9 1777225.0 0.0 0 0 0 nan\n",
      "  nan nan]\n",
      " ['Norte' 'RO' nan 11 nan nan nan '2020-02-28' 9 1777225.0 0.0 0 0 0 nan\n",
      "  nan nan]\n",
      " ['Norte' 'RO' nan 11 nan nan nan '2020-02-29' 9 1777225.0 0.0 0 0 0 nan\n",
      "  nan nan]]\n",
      "[['Centro-Oeste' 'DF' nan 53 nan nan nan '2024-10-29' 44 3015268.0\n",
      "  955422.0 0 12025 0 nan nan nan]\n",
      " ['Centro-Oeste' 'DF' nan 53 nan nan nan '2024-10-30' 44 3015268.0\n",
      "  955422.0 0 12025 0 nan nan nan]\n",
      " ['Centro-Oeste' 'DF' nan 53 nan nan nan '2024-10-31' 44 3015268.0\n",
      "  955422.0 0 12025 0 nan nan nan]\n",
      " ['Centro-Oeste' 'DF' nan 53 nan nan nan '2024-11-01' 44 3015268.0\n",
      "  955422.0 0 12025 0 nan nan nan]\n",
      " ['Centro-Oeste' 'DF' nan 53 nan nan nan '2024-11-02' 44 3015268.0\n",
      "  955540.0 118 12025 0 nan nan nan]]\n",
      "2\n",
      "(46251, 17)\n"
     ]
    }
   ],
   "source": [
    "dadoscovid_df = pd.DataFrame(dadoscovid)\n",
    "\n",
    "# Converte strings vazias para NaN no DataFrame\n",
    "dadoscovid_df.replace('', np.nan, inplace=True)\n",
    "\n",
    "# Converte o DataFrame de volta para um array NumPy\n",
    "dadoscovid = dadoscovid_df.to_numpy()\n",
    "\n",
    "estados = (\n",
    "    (dadoscovid[:, 0] != 'Brasil') & \n",
    "    (pd.isna(dadoscovid[:, 2])) & \n",
    "    (pd.isna(dadoscovid[:, 4]))\n",
    ")\n",
    "\n",
    "## gera array com apenas os dados dos estados\n",
    "estadosarr = dadoscovid[estados]\n",
    "\n",
    "## imprime as primeiras linhas do array\n",
    "print(estadosarr[:5])\n",
    "\n",
    "## imprime as ultimas linhas do array\n",
    "print(estadosarr[-5:])\n",
    "\n",
    "## verifica a quantidade de dimensões\n",
    "print(estadosarr.ndim)\n",
    "\n",
    "## verifica a forma do array\n",
    "print(estadosarr.shape)"
   ]
  },
  {
   "cell_type": "code",
   "execution_count": 53,
   "metadata": {
    "colab": {
     "base_uri": "https://localhost:8080/"
    },
    "executionInfo": {
     "elapsed": 751,
     "status": "ok",
     "timestamp": 1605916218677,
     "user": {
      "displayName": "Orlando O. S.",
      "photoUrl": "https://lh3.googleusercontent.com/a-/AOh14Gj-E1yuy1M_3ruwN4TWYPK4BwysauSW7GQmHheS=s64",
      "userId": "15066502291703974467"
     },
     "user_tz": 180
    },
    "id": "dwEJYJcxff_N",
    "outputId": "84e47736-742d-4539-f994-4a539c35844e"
   },
   "outputs": [
    {
     "name": "stdout",
     "output_type": "stream",
     "text": [
      "['Centro-Oeste' 'Nordeste' 'Norte' 'Sudeste' 'Sul']\n",
      "['AC' 'AL' 'AM' 'AP' 'BA' 'CE' 'DF' 'ES' 'GO' 'MA' 'MG' 'MS' 'MT' 'PA'\n",
      " 'PB' 'PE' 'PI' 'PR' 'RJ' 'RN' 'RO' 'RR' 'RS' 'SC' 'SE' 'SP' 'TO']\n",
      "[nan nan nan ... nan nan nan]\n"
     ]
    }
   ],
   "source": [
    "## verifica se o resultado do filtros gerou o array corretamente\n",
    "print(np.unique(estadosarr[: , 0]))\n",
    "print(np.unique(estadosarr[: , 1]))\n",
    "print(np.unique(estadosarr[: , 2]))"
   ]
  },
  {
   "cell_type": "code",
   "execution_count": 54,
   "metadata": {},
   "outputs": [],
   "source": [
    "colunas = ['regiao', 'estado', 'municipio', 'coduf', 'codmun', 'codRegiaoSaude'\n",
    "           , 'nomeRegiaoSaude', 'data', 'semanaEpi', 'populacaoTCU2019'\n",
    "           , 'casosAcumulado', 'casosNovos', 'obitosAcumulado', 'obitosNovos'\n",
    "           , 'Recuperadosnovos', 'emAcompanhamentoNovos', 'interior/metropolitana']"
   ]
  },
  {
   "cell_type": "code",
   "execution_count": 55,
   "metadata": {
    "colab": {
     "background_save": true,
     "base_uri": "https://localhost:8080/"
    },
    "executionInfo": {
     "elapsed": 11862,
     "status": "ok",
     "timestamp": 1605915539438,
     "user": {
      "displayName": "Orlando O. S.",
      "photoUrl": "https://lh3.googleusercontent.com/a-/AOh14Gj-E1yuy1M_3ruwN4TWYPK4BwysauSW7GQmHheS=s64",
      "userId": "15066502291703974467"
     },
     "user_tz": 180
    },
    "id": "ssyxhsAHfny3",
    "outputId": "05a6e731-65c4-4629-bae1-11194b57af48"
   },
   "outputs": [
    {
     "name": "stdout",
     "output_type": "stream",
     "text": [
      "['regiao', 'estado', 'municipio', 'coduf', 'codmun', 'codRegiaoSaude', 'nomeRegiaoSaude', 'data', 'semanaEpi', 'populacaoTCU2019', 'casosAcumulado', 'casosNovos', 'obitosAcumulado', 'obitosNovos', 'Recuperadosnovos', 'emAcompanhamentoNovos', 'interior/metropolitana']\n"
     ]
    }
   ],
   "source": [
    "print(colunas)"
   ]
  },
  {
   "cell_type": "code",
   "execution_count": 56,
   "metadata": {
    "colab": {
     "base_uri": "https://localhost:8080/"
    },
    "executionInfo": {
     "elapsed": 936,
     "status": "ok",
     "timestamp": 1605916228542,
     "user": {
      "displayName": "Orlando O. S.",
      "photoUrl": "https://lh3.googleusercontent.com/a-/AOh14Gj-E1yuy1M_3ruwN4TWYPK4BwysauSW7GQmHheS=s64",
      "userId": "15066502291703974467"
     },
     "user_tz": 180
    },
    "id": "oTxz1PpZff_U",
    "outputId": "4ee38e1f-05b4-4755-c3cd-ed744514db0a"
   },
   "outputs": [
    {
     "name": "stdout",
     "output_type": "stream",
     "text": [
      "[0, 1, 7, 10, 12]\n"
     ]
    }
   ],
   "source": [
    "## obtem os índices das colunas que serão utilizadas\n",
    "colunasselecionadas = ['regiao', 'estado', 'data',  'casosAcumulado',  'obitosAcumulado']\n",
    "indice_colunas_selecionadas = [list(colunas).index(x) for x in colunasselecionadas ]\n",
    "print(indice_colunas_selecionadas)"
   ]
  },
  {
   "cell_type": "code",
   "execution_count": 57,
   "metadata": {},
   "outputs": [
    {
     "data": {
      "text/plain": [
       "(46251, 17)"
      ]
     },
     "execution_count": 57,
     "metadata": {},
     "output_type": "execute_result"
    }
   ],
   "source": [
    "estadosarr.shape"
   ]
  },
  {
   "cell_type": "code",
   "execution_count": 58,
   "metadata": {
    "colab": {
     "base_uri": "https://localhost:8080/"
    },
    "executionInfo": {
     "elapsed": 865,
     "status": "ok",
     "timestamp": 1605916279166,
     "user": {
      "displayName": "Orlando O. S.",
      "photoUrl": "https://lh3.googleusercontent.com/a-/AOh14Gj-E1yuy1M_3ruwN4TWYPK4BwysauSW7GQmHheS=s64",
      "userId": "15066502291703974467"
     },
     "user_tz": 180
    },
    "id": "wy1buB1xff_W",
    "outputId": "ee01ca85-5d51-48f0-af92-88c680145610"
   },
   "outputs": [
    {
     "data": {
      "text/plain": [
       "array([['Centro-Oeste', 'DF', '2024-10-31', 955422.0, 12025],\n",
       "       ['Centro-Oeste', 'DF', '2024-11-01', 955422.0, 12025],\n",
       "       ['Centro-Oeste', 'DF', '2024-11-02', 955540.0, 12025]],\n",
       "      dtype=object)"
      ]
     },
     "execution_count": 58,
     "metadata": {},
     "output_type": "execute_result"
    }
   ],
   "source": [
    "## remove as colunas desnecessárias do array\n",
    "estadosarr = estadosarr[: , indice_colunas_selecionadas] \n",
    "estadosarr[-3:]     "
   ]
  },
  {
   "cell_type": "code",
   "execution_count": 59,
   "metadata": {
    "colab": {
     "base_uri": "https://localhost:8080/"
    },
    "executionInfo": {
     "elapsed": 952,
     "status": "ok",
     "timestamp": 1605916295507,
     "user": {
      "displayName": "Orlando O. S.",
      "photoUrl": "https://lh3.googleusercontent.com/a-/AOh14Gj-E1yuy1M_3ruwN4TWYPK4BwysauSW7GQmHheS=s64",
      "userId": "15066502291703974467"
     },
     "user_tz": 180
    },
    "id": "S4u3RsU4mCVt",
    "outputId": "9248c6e6-95b2-4509-b86e-2b2bef69b86f"
   },
   "outputs": [
    {
     "name": "stdout",
     "output_type": "stream",
     "text": [
      "['Centro-Oeste' 'Nordeste' 'Norte' 'Sudeste' 'Sul']\n"
     ]
    }
   ],
   "source": [
    "regioes =  np.unique(estadosarr[:,0])\n",
    "print(regioes)"
   ]
  },
  {
   "cell_type": "code",
   "execution_count": 61,
   "metadata": {
    "id": "Z-g757yLmh2Y"
   },
   "outputs": [],
   "source": [
    "## Transforma o array em um dicionário de arrays por estado de cada regiao\n",
    "dic_arr_reg_uf = {}\n",
    "for regiao in regioes:\n",
    "    filtro =  np.array([regiao == x for x in estadosarr[:,0]])\n",
    "    regiao_selec_arr = estadosarr[filtro]\n",
    "    estados = np.unique(regiao_selec_arr[:,1])\n",
    "    dic_arr_reg_uf[regiao] = {}\n",
    "    for estado in estados: \n",
    "        filtroestado =  np.array([estado == x for x in regiao_selec_arr[:,1]])\n",
    "        estado_selec_arr = regiao_selec_arr[filtroestado]\n",
    "        estado_selec_arr = estado_selec_arr[: ,1:]\n",
    "        dic_arr_reg_uf[regiao][estado] = estado_selec_arr "
   ]
  },
  {
   "cell_type": "code",
   "execution_count": 62,
   "metadata": {
    "colab": {
     "base_uri": "https://localhost:8080/"
    },
    "executionInfo": {
     "elapsed": 901,
     "status": "ok",
     "timestamp": 1605916679112,
     "user": {
      "displayName": "Orlando O. S.",
      "photoUrl": "https://lh3.googleusercontent.com/a-/AOh14Gj-E1yuy1M_3ruwN4TWYPK4BwysauSW7GQmHheS=s64",
      "userId": "15066502291703974467"
     },
     "user_tz": 180
    },
    "id": "N12MWWvrsgVA",
    "outputId": "af690429-5936-44b7-cf2b-651b300b672b"
   },
   "outputs": [
    {
     "data": {
      "text/plain": [
       "array([['GO', '2020-02-25', 0.0, 0],\n",
       "       ['GO', '2020-02-26', 0.0, 0],\n",
       "       ['GO', '2020-02-27', 0.0, 0],\n",
       "       ...,\n",
       "       ['GO', '2024-10-31', 2060518.0, 28669],\n",
       "       ['GO', '2024-11-01', 2060518.0, 28669],\n",
       "       ['GO', '2024-11-02', 2060518.0, 28669]], dtype=object)"
      ]
     },
     "execution_count": 62,
     "metadata": {},
     "output_type": "execute_result"
    }
   ],
   "source": [
    "dic_arr_reg_uf['Centro-Oeste']['GO']"
   ]
  },
  {
   "cell_type": "code",
   "execution_count": 63,
   "metadata": {
    "id": "DbO-TuSFqbp6"
   },
   "outputs": [],
   "source": [
    "## Adicionar as colunas de casos novos e obitos novos nos arrays dos estados no dicionário de arrays\n",
    "for regiao, estados in dic_arr_reg_uf.items():\n",
    "    for estado,  arr_atual in estados.items():\n",
    "        novoscasos = np.diff(arr_atual[: , 2].astype('i')).astype(str)\n",
    "        novoscasos =  np.insert(novoscasos,0,0)\n",
    "        novoscasos = novoscasos.reshape((arr_atual.shape[0],1))\n",
    "        arr_atual = np.concatenate((arr_atual, novoscasos), axis=1  )\n",
    "\n",
    "        novosobitos = np.diff(arr_atual[: , 3].astype('i')).astype(str)\n",
    "        novosobitos =  np.insert(novosobitos,0,0)\n",
    "        novosobitos = novosobitos.reshape((arr_atual.shape[0],1))\n",
    "        arr_atual = np.concatenate((arr_atual, novosobitos), axis=1  )\n",
    "\n",
    "        dic_arr_reg_uf[regiao][estado] = arr_atual[: ,]\n",
    "\n"
   ]
  },
  {
   "cell_type": "code",
   "execution_count": 64,
   "metadata": {
    "colab": {
     "base_uri": "https://localhost:8080/"
    },
    "executionInfo": {
     "elapsed": 721,
     "status": "ok",
     "timestamp": 1605917494848,
     "user": {
      "displayName": "Orlando O. S.",
      "photoUrl": "https://lh3.googleusercontent.com/a-/AOh14Gj-E1yuy1M_3ruwN4TWYPK4BwysauSW7GQmHheS=s64",
      "userId": "15066502291703974467"
     },
     "user_tz": 180
    },
    "id": "jzBAxTZ1tCn1",
    "outputId": "6c9353f9-cecc-46f3-89cb-ae686ce2ed11"
   },
   "outputs": [
    {
     "data": {
      "text/plain": [
       "array([['GO', '2020-02-25', 0.0, 0, '0', '0'],\n",
       "       ['GO', '2020-02-26', 0.0, 0, '0', '0'],\n",
       "       ['GO', '2020-02-27', 0.0, 0, '0', '0'],\n",
       "       ...,\n",
       "       ['GO', '2024-10-31', 2060518.0, 28669, '0', '0'],\n",
       "       ['GO', '2024-11-01', 2060518.0, 28669, '0', '0'],\n",
       "       ['GO', '2024-11-02', 2060518.0, 28669, '0', '0']], dtype=object)"
      ]
     },
     "execution_count": 64,
     "metadata": {},
     "output_type": "execute_result"
    }
   ],
   "source": [
    "dic_arr_reg_uf['Centro-Oeste']['GO']"
   ]
  },
  {
   "cell_type": "code",
   "execution_count": 65,
   "metadata": {
    "id": "GWH_2vI7qbqX"
   },
   "outputs": [],
   "source": [
    "# Gera um dicionario dos valores mensais para cada estado do dicionário \n",
    "\n",
    "dic_arr_reg_uf_mensal = {}\n",
    "for regiao, estados in dic_arr_reg_uf.items():\n",
    "  dic_arr_reg_uf_mensal[regiao] = {}\n",
    "  for estado,  arr_atual in estados.items():\n",
    "    meses_arr = np.sort(np.unique(np.array(list(map(lambda x : x[:7] , np.unique(arr_atual[:,1]))))))\n",
    "    casos_mes_arr = None\n",
    "    for mes in meses_arr:\n",
    "      filtro =  np.array([mes in x for x in arr_atual[:,1]])\n",
    "      casos_arr = arr_atual[filtro,4].astype('i')\n",
    "      total_casos = np.sum(casos_arr)\n",
    "      obitos_arr = arr_atual[filtro,5].astype('i')\n",
    "      total_obitos = np.sum(obitos_arr)\n",
    "      arraytemp = np.array([arr_atual[0][0], mes, total_casos, total_obitos], dtype=str)\n",
    "      if casos_mes_arr is None:\n",
    "        casos_mes_arr = arraytemp\n",
    "      else: \n",
    "        casos_mes_arr = np.vstack((casos_mes_arr,arraytemp ))\n",
    "      dic_arr_reg_uf_mensal[regiao][estado] = casos_mes_arr"
   ]
  },
  {
   "cell_type": "code",
   "execution_count": 66,
   "metadata": {
    "colab": {
     "base_uri": "https://localhost:8080/"
    },
    "executionInfo": {
     "elapsed": 1179,
     "status": "ok",
     "timestamp": 1605919100250,
     "user": {
      "displayName": "Orlando O. S.",
      "photoUrl": "https://lh3.googleusercontent.com/a-/AOh14Gj-E1yuy1M_3ruwN4TWYPK4BwysauSW7GQmHheS=s64",
      "userId": "15066502291703974467"
     },
     "user_tz": 180
    },
    "id": "RZ-nVsr7FdOO",
    "outputId": "b086ba52-2355-4b08-e18b-f541b87f01a0"
   },
   "outputs": [
    {
     "data": {
      "text/plain": [
       "array([['GO', '2020-02', '0', '0'],\n",
       "       ['GO', '2020-03', '65', '1'],\n",
       "       ['GO', '2020-04', '716', '28'],\n",
       "       ['GO', '2020-05', '2921', '95'],\n",
       "       ['GO', '2020-06', '20679', '350'],\n",
       "       ['GO', '2020-07', '43560', '1182'],\n",
       "       ['GO', '2020-08', '64565', '1438'],\n",
       "       ['GO', '2020-09', '76905', '1578'],\n",
       "       ['GO', '2020-10', '46036', '1081'],\n",
       "       ['GO', '2020-11', '23966', '598'],\n",
       "       ['GO', '2020-12', '29455', '454'],\n",
       "       ['GO', '2021-01', '41701', '683'],\n",
       "       ['GO', '2021-02', '45244', '1029'],\n",
       "       ['GO', '2021-03', '88496', '3081'],\n",
       "       ['GO', '2021-04', '67173', '3402'],\n",
       "       ['GO', '2021-05', '56874', '2033'],\n",
       "       ['GO', '2021-06', '66785', '2154'],\n",
       "       ['GO', '2021-07', '67374', '1577'],\n",
       "       ['GO', '2021-08', '73869', '1664'],\n",
       "       ['GO', '2021-09', '47234', '1065'],\n",
       "       ['GO', '2021-10', '41501', '705'],\n",
       "       ['GO', '2021-11', '30323', '317'],\n",
       "       ['GO', '2021-12', '12262', '163'],\n",
       "       ['GO', '2022-01', '89342', '359'],\n",
       "       ['GO', '2022-02', '129590', '704'],\n",
       "       ['GO', '2022-03', '113578', '501'],\n",
       "       ['GO', '2022-04', '48697', '232'],\n",
       "       ['GO', '2022-05', '44094', '181'],\n",
       "       ['GO', '2022-06', '128973', '227'],\n",
       "       ['GO', '2022-07', '122887', '303'],\n",
       "       ['GO', '2022-08', '53085', '288'],\n",
       "       ['GO', '2022-09', '26775', '53'],\n",
       "       ['GO', '2022-10', '20964', '53'],\n",
       "       ['GO', '2022-11', '17613', '53'],\n",
       "       ['GO', '2022-12', '80678', '134'],\n",
       "       ['GO', '2023-01', '51035', '172'],\n",
       "       ['GO', '2023-02', '21464', '94'],\n",
       "       ['GO', '2023-03', '12729', '45'],\n",
       "       ['GO', '2023-04', '16095', '78'],\n",
       "       ['GO', '2023-05', '7212', '45'],\n",
       "       ['GO', '2023-06', '9032', '54'],\n",
       "       ['GO', '2023-07', '7073', '53'],\n",
       "       ['GO', '2023-08', '4322', '29'],\n",
       "       ['GO', '2023-09', '12770', '33'],\n",
       "       ['GO', '2023-10', '8421', '33'],\n",
       "       ['GO', '2023-11', '6508', '28'],\n",
       "       ['GO', '2023-12', '4033', '17'],\n",
       "       ['GO', '2024-01', '5009', '32'],\n",
       "       ['GO', '2024-02', '23362', '24'],\n",
       "       ['GO', '2024-03', '18648', '57'],\n",
       "       ['GO', '2024-04', '2017', '7'],\n",
       "       ['GO', '2024-05', '1704', '10'],\n",
       "       ['GO', '2024-06', '2019', '9'],\n",
       "       ['GO', '2024-07', '2323', '6'],\n",
       "       ['GO', '2024-08', '5754', '12'],\n",
       "       ['GO', '2024-09', '11138', '38'],\n",
       "       ['GO', '2024-10', '3870', '27'],\n",
       "       ['GO', '2024-11', '0', '0']], dtype='<U11')"
      ]
     },
     "execution_count": 66,
     "metadata": {},
     "output_type": "execute_result"
    }
   ],
   "source": [
    "dic_arr_reg_uf_mensal['Centro-Oeste']['GO']"
   ]
  },
  {
   "cell_type": "code",
   "execution_count": 67,
   "metadata": {
    "colab": {
     "base_uri": "https://localhost:8080/"
    },
    "executionInfo": {
     "elapsed": 909,
     "status": "ok",
     "timestamp": 1605919418573,
     "user": {
      "displayName": "Orlando O. S.",
      "photoUrl": "https://lh3.googleusercontent.com/a-/AOh14Gj-E1yuy1M_3ruwN4TWYPK4BwysauSW7GQmHheS=s64",
      "userId": "15066502291703974467"
     },
     "user_tz": 180
    },
    "id": "bgxmAntDQMUU",
    "outputId": "2663ab52-2bee-44fd-b1df-784b61fe7450"
   },
   "outputs": [
    {
     "data": {
      "text/plain": [
       "28669"
      ]
     },
     "execution_count": 67,
     "metadata": {},
     "output_type": "execute_result"
    }
   ],
   "source": [
    "np.sum(dic_arr_reg_uf_mensal['Centro-Oeste']['GO'][:,3].astype('i'))"
   ]
  },
  {
   "cell_type": "code",
   "execution_count": 68,
   "metadata": {
    "id": "zf5sSpM4J07X"
   },
   "outputs": [
    {
     "name": "stdout",
     "output_type": "stream",
     "text": [
      "28669\n"
     ]
    }
   ],
   "source": [
    "print(np.sum(dic_arr_reg_uf_mensal['Centro-Oeste']['GO'][:,3].astype('i')))"
   ]
  },
  {
   "cell_type": "code",
   "execution_count": 69,
   "metadata": {
    "colab": {
     "base_uri": "https://localhost:8080/"
    },
    "executionInfo": {
     "elapsed": 784,
     "status": "ok",
     "timestamp": 1605919446609,
     "user": {
      "displayName": "Orlando O. S.",
      "photoUrl": "https://lh3.googleusercontent.com/a-/AOh14Gj-E1yuy1M_3ruwN4TWYPK4BwysauSW7GQmHheS=s64",
      "userId": "15066502291703974467"
     },
     "user_tz": 180
    },
    "id": "NpHZXxVd-KmX",
    "outputId": "a2746c4d-b67a-4f6a-95c3-1a4cac4c945e"
   },
   "outputs": [
    {
     "data": {
      "text/plain": [
       "array([['MT', '2020-02', '0', '0'],\n",
       "       ['MT', '2020-03', '25', '0'],\n",
       "       ['MT', '2020-04', '272', '11'],\n",
       "       ['MT', '2020-05', '2132', '50'],\n",
       "       ['MT', '2020-06', '13207', '532'],\n",
       "       ['MT', '2020-07', '36229', '1226'],\n",
       "       ['MT', '2020-08', '39481', '932'],\n",
       "       ['MT', '2020-09', '32070', '655'],\n",
       "       ['MT', '2020-10', '19486', '392'],\n",
       "       ['MT', '2020-11', '15231', '287'],\n",
       "       ['MT', '2020-12', '21294', '370'],\n",
       "       ['MT', '2021-01', '36378', '595'],\n",
       "       ['MT', '2021-02', '33613', '663'],\n",
       "       ['MT', '2021-03', '59128', '1829'],\n",
       "       ['MT', '2021-04', '51385', '2071'],\n",
       "       ['MT', '2021-05', '44414', '1135'],\n",
       "       ['MT', '2021-06', '45360', '1069'],\n",
       "       ['MT', '2021-07', '37644', '732'],\n",
       "       ['MT', '2021-08', '29763', '689'],\n",
       "       ['MT', '2021-09', '16779', '325'],\n",
       "       ['MT', '2021-10', '9659', '118'],\n",
       "       ['MT', '2021-11', '5894', '68'],\n",
       "       ['MT', '2021-12', '4408', '48'],\n",
       "       ['MT', '2022-01', '71145', '247'],\n",
       "       ['MT', '2022-02', '74563', '391'],\n",
       "       ['MT', '2022-03', '21318', '154'],\n",
       "       ['MT', '2022-04', '6800', '26'],\n",
       "       ['MT', '2022-05', '5125', '20'],\n",
       "       ['MT', '2022-06', '26738', '75'],\n",
       "       ['MT', '2022-07', '52030', '153'],\n",
       "       ['MT', '2022-08', '14807', '66'],\n",
       "       ['MT', '2022-09', '4219', '18'],\n",
       "       ['MT', '2022-10', '1781', '10'],\n",
       "       ['MT', '2022-11', '3298', '10'],\n",
       "       ['MT', '2022-12', '23565', '48'],\n",
       "       ['MT', '2023-01', '16158', '64'],\n",
       "       ['MT', '2023-02', '2961', '8'],\n",
       "       ['MT', '2023-03', '2748', '7'],\n",
       "       ['MT', '2023-04', '1854', '13'],\n",
       "       ['MT', '2023-05', '1555', '6'],\n",
       "       ['MT', '2023-06', '1283', '10'],\n",
       "       ['MT', '2023-07', '896', '15'],\n",
       "       ['MT', '2023-08', '476', '9'],\n",
       "       ['MT', '2023-09', '311', '2'],\n",
       "       ['MT', '2023-10', '45', '0'],\n",
       "       ['MT', '2023-11', '0', '0'],\n",
       "       ['MT', '2023-12', '0', '0'],\n",
       "       ['MT', '2024-01', '6893', '21'],\n",
       "       ['MT', '2024-02', '11636', '32'],\n",
       "       ['MT', '2024-03', '11406', '19'],\n",
       "       ['MT', '2024-04', '1217', '6'],\n",
       "       ['MT', '2024-05', '186', '2'],\n",
       "       ['MT', '2024-06', '74', '2'],\n",
       "       ['MT', '2024-07', '106', '1'],\n",
       "       ['MT', '2024-08', '1060', '9'],\n",
       "       ['MT', '2024-09', '0', '0'],\n",
       "       ['MT', '2024-10', '1254', '12'],\n",
       "       ['MT', '2024-11', '87', '0']], dtype='<U11')"
      ]
     },
     "execution_count": 69,
     "metadata": {},
     "output_type": "execute_result"
    }
   ],
   "source": [
    "dic_arr_reg_uf_mensal['Centro-Oeste']['MT']"
   ]
  },
  {
   "cell_type": "code",
   "execution_count": 70,
   "metadata": {
    "colab": {
     "base_uri": "https://localhost:8080/"
    },
    "executionInfo": {
     "elapsed": 874,
     "status": "ok",
     "timestamp": 1605919462082,
     "user": {
      "displayName": "Orlando O. S.",
      "photoUrl": "https://lh3.googleusercontent.com/a-/AOh14Gj-E1yuy1M_3ruwN4TWYPK4BwysauSW7GQmHheS=s64",
      "userId": "15066502291703974467"
     },
     "user_tz": 180
    },
    "id": "VokJNptLKEMW",
    "outputId": "24826451-59fd-4806-b9f4-adf4c7b95444"
   },
   "outputs": [
    {
     "name": "stdout",
     "output_type": "stream",
     "text": [
      "15253\n"
     ]
    }
   ],
   "source": [
    "print(np.sum(dic_arr_reg_uf_mensal['Centro-Oeste']['MT'][:,3].astype('i')))"
   ]
  },
  {
   "cell_type": "markdown",
   "metadata": {
    "id": "k4EdXCdRCjmk"
   },
   "source": [
    "# Agregação dos dados por Região"
   ]
  },
  {
   "cell_type": "code",
   "execution_count": 71,
   "metadata": {
    "id": "4gKrcunC-5QU"
   },
   "outputs": [],
   "source": [
    "# gera dicionário dos valores totalidados por região\n",
    "\n",
    "totaismensaisregiao = {}\n",
    "for regiao, estados in dic_arr_reg_uf_mensal.items():\n",
    "  totalcasosarr = None\n",
    "  totalobitosarr = None\n",
    "  for estado, arr in estados.items():\n",
    "    casos = arr[:,2].reshape((arr.shape[0],1)).astype('i')\n",
    "    if totalcasosarr is None:\n",
    "      totalcasosarr = casos\n",
    "    else:\n",
    "      totalcasosarr = np.add(totalcasosarr,casos)\n",
    "    #print(regiao, np.sum(totalcasosarr))\n",
    "\n",
    "    obitos = arr[:,3].reshape((arr.shape[0],1)).astype('i')\n",
    "    if totalobitosarr is None:\n",
    "      totalobitosarr = obitos\n",
    "    else:\n",
    "      totalobitosarr = np.add(totalobitosarr, obitos)\n",
    "    #print(regiao, np.sum(totalobitosarr))\n",
    "    meses = arr[:,1].reshape((arr.shape[0],1)).astype(str)\n",
    "  totaismensaisregiao[regiao] = np.hstack((meses, totalcasosarr.astype(str),totalobitosarr.astype(str)))\n"
   ]
  },
  {
   "cell_type": "code",
   "execution_count": 72,
   "metadata": {
    "colab": {
     "base_uri": "https://localhost:8080/"
    },
    "executionInfo": {
     "elapsed": 709,
     "status": "ok",
     "timestamp": 1605919660016,
     "user": {
      "displayName": "Orlando O. S.",
      "photoUrl": "https://lh3.googleusercontent.com/a-/AOh14Gj-E1yuy1M_3ruwN4TWYPK4BwysauSW7GQmHheS=s64",
      "userId": "15066502291703974467"
     },
     "user_tz": 180
    },
    "id": "B3HF_E0dMGT6",
    "outputId": "40af38bb-6a96-475f-f6a6-b7f658c8da1a"
   },
   "outputs": [
    {
     "data": {
      "text/plain": [
       "{'Centro-Oeste': array([['2020-02', '0', '0'],\n",
       "        ['2020-03', '470', '5'],\n",
       "        ['2020-04', '2219', '74'],\n",
       "        ['2020-05', '14711', '296'],\n",
       "        ['2020-06', '79800', '1355'],\n",
       "        ['2020-07', '153834', '3590'],\n",
       "        ['2020-08', '183797', '3908'],\n",
       "        ['2020-09', '159947', '3408'],\n",
       "        ['2020-10', '99160', '2190'],\n",
       "        ['2020-11', '71815', '1309'],\n",
       "        ['2020-12', '108004', '1713'],\n",
       "        ['2021-01', '130748', '2153'],\n",
       "        ['2021-02', '118948', '2386'],\n",
       "        ['2021-03', '229364', '7059'],\n",
       "        ['2021-04', '185564', '8683'],\n",
       "        ['2021-05', '170948', '5137'],\n",
       "        ['2021-06', '181389', '5193'],\n",
       "        ['2021-07', '145274', '3412'],\n",
       "        ['2021-08', '136556', '3219'],\n",
       "        ['2021-09', '93127', '1985'],\n",
       "        ['2021-10', '74393', '1327'],\n",
       "        ['2021-11', '41366', '581'],\n",
       "        ['2021-12', '20338', '328'],\n",
       "        ['2022-01', '290280', '822'],\n",
       "        ['2022-02', '357448', '1787'],\n",
       "        ['2022-03', '168241', '997'],\n",
       "        ['2022-04', '64576', '351'],\n",
       "        ['2022-05', '68827', '282'],\n",
       "        ['2022-06', '265958', '427'],\n",
       "        ['2022-07', '214820', '597'],\n",
       "        ['2022-08', '87459', '456'],\n",
       "        ['2022-09', '36041', '109'],\n",
       "        ['2022-10', '27806', '72'],\n",
       "        ['2022-11', '34001', '78'],\n",
       "        ['2022-12', '147264', '233'],\n",
       "        ['2023-01', '83190', '315'],\n",
       "        ['2023-02', '31686', '136'],\n",
       "        ['2023-03', '20314', '76'],\n",
       "        ['2023-04', '25249', '105'],\n",
       "        ['2023-05', '13218', '71'],\n",
       "        ['2023-06', '13049', '89'],\n",
       "        ['2023-07', '10243', '79'],\n",
       "        ['2023-08', '6856', '66'],\n",
       "        ['2023-09', '19617', '66'],\n",
       "        ['2023-10', '13888', '84'],\n",
       "        ['2023-11', '12798', '54'],\n",
       "        ['2023-12', '7445', '57'],\n",
       "        ['2024-01', '15064', '74'],\n",
       "        ['2024-02', '45674', '88'],\n",
       "        ['2024-03', '41028', '131'],\n",
       "        ['2024-04', '7408', '27'],\n",
       "        ['2024-05', '2824', '20'],\n",
       "        ['2024-06', '2885', '15'],\n",
       "        ['2024-07', '3641', '12'],\n",
       "        ['2024-08', '11070', '39'],\n",
       "        ['2024-09', '15582', '70'],\n",
       "        ['2024-10', '7197', '55'],\n",
       "        ['2024-11', '255', '1']], dtype='<U11'),\n",
       " 'Nordeste': array([['2020-02', '0', '0'],\n",
       "        ['2020-03', '875', '22'],\n",
       "        ['2020-04', '23643', '1514'],\n",
       "        ['2020-05', '154234', '7330'],\n",
       "        ['2020-06', '301602', '10412'],\n",
       "        ['2020-07', '378473', '9341'],\n",
       "        ['2020-08', '286270', '6501'],\n",
       "        ['2020-09', '178428', '4077'],\n",
       "        ['2020-10', '155268', '2980'],\n",
       "        ['2020-11', '153003', '2290'],\n",
       "        ['2020-12', '264361', '3281'],\n",
       "        ['2021-01', '280529', '3793'],\n",
       "        ['2021-02', '296363', '4986'],\n",
       "        ['2021-03', '449077', '12482'],\n",
       "        ['2021-04', '451243', '14051'],\n",
       "        ['2021-05', '515229', '12214'],\n",
       "        ['2021-06', '502731', '11046'],\n",
       "        ['2021-07', '245101', '6003'],\n",
       "        ['2021-08', '100300', '3056'],\n",
       "        ['2021-09', '60432', '1497'],\n",
       "        ['2021-10', '49771', '1193'],\n",
       "        ['2021-11', '61532', '1044'],\n",
       "        ['2021-12', '41631', '906'],\n",
       "        ['2022-01', '442485', '1638'],\n",
       "        ['2022-02', '609680', '4427'],\n",
       "        ['2022-03', '177171', '1886'],\n",
       "        ['2022-04', '62417', '665'],\n",
       "        ['2022-05', '35551', '450'],\n",
       "        ['2022-06', '138402', '491'],\n",
       "        ['2022-07', '334696', '1290'],\n",
       "        ['2022-08', '96646', '861'],\n",
       "        ['2022-09', '41730', '332'],\n",
       "        ['2022-10', '21645', '547'],\n",
       "        ['2022-11', '92114', '253'],\n",
       "        ['2022-12', '204366', '970'],\n",
       "        ['2023-01', '74887', '399'],\n",
       "        ['2023-02', '26008', '427'],\n",
       "        ['2023-03', '23673', '150'],\n",
       "        ['2023-04', '27918', '241'],\n",
       "        ['2023-05', '21155', '223'],\n",
       "        ['2023-06', '14676', '300'],\n",
       "        ['2023-07', '11211', '207'],\n",
       "        ['2023-08', '3991', '170'],\n",
       "        ['2023-09', '4261', '107'],\n",
       "        ['2023-10', '2911', '71'],\n",
       "        ['2023-11', '9902', '83'],\n",
       "        ['2023-12', '54703', '220'],\n",
       "        ['2024-01', '43297', '174'],\n",
       "        ['2024-02', '15591', '124'],\n",
       "        ['2024-03', '14070', '73'],\n",
       "        ['2024-04', '2641', '30'],\n",
       "        ['2024-05', '2302', '21'],\n",
       "        ['2024-06', '2417', '20'],\n",
       "        ['2024-07', '3196', '15'],\n",
       "        ['2024-08', '2342', '31'],\n",
       "        ['2024-09', '1898', '16'],\n",
       "        ['2024-10', '1784', '25'],\n",
       "        ['2024-11', '124', '1']], dtype='<U11'),\n",
       " 'Norte': array([['2020-02', '0', '0'],\n",
       "        ['2020-03', '294', '4'],\n",
       "        ['2020-04', '10478', '708'],\n",
       "        ['2020-05', '96980', '4978'],\n",
       "        ['2020-06', '154678', '3836'],\n",
       "        ['2020-07', '145120', '2324'],\n",
       "        ['2020-08', '129507', '1626'],\n",
       "        ['2020-09', '93557', '1565'],\n",
       "        ['2020-10', '71478', '932'],\n",
       "        ['2020-11', '67538', '818'],\n",
       "        ['2020-12', '89520', '1234'],\n",
       "        ['2021-01', '164053', '4136'],\n",
       "        ['2021-02', '143348', '4904'],\n",
       "        ['2021-03', '185064', '5456'],\n",
       "        ['2021-04', '143047', '5376'],\n",
       "        ['2021-05', '114384', '3220'],\n",
       "        ['2021-06', '106100', '2332'],\n",
       "        ['2021-07', '70406', '1567'],\n",
       "        ['2021-08', '38718', '994'],\n",
       "        ['2021-09', '20794', '507'],\n",
       "        ['2021-10', '19243', '310'],\n",
       "        ['2021-11', '25526', '335'],\n",
       "        ['2021-12', '34078', '386'],\n",
       "        ['2022-01', '237329', '596'],\n",
       "        ['2022-02', '237733', '1155'],\n",
       "        ['2022-03', '72439', '533'],\n",
       "        ['2022-04', '23222', '243'],\n",
       "        ['2022-05', '14745', '134'],\n",
       "        ['2022-06', '43482', '139'],\n",
       "        ['2022-07', '139033', '229'],\n",
       "        ['2022-08', '54045', '345'],\n",
       "        ['2022-09', '14724', '184'],\n",
       "        ['2022-10', '9560', '73'],\n",
       "        ['2022-11', '25999', '80'],\n",
       "        ['2022-12', '43353', '104'],\n",
       "        ['2023-01', '23363', '103'],\n",
       "        ['2023-02', '15066', '38'],\n",
       "        ['2023-03', '13132', '66'],\n",
       "        ['2023-04', '14095', '87'],\n",
       "        ['2023-05', '2487', '47'],\n",
       "        ['2023-06', '5779', '36'],\n",
       "        ['2023-07', '3174', '25'],\n",
       "        ['2023-08', '1403', '16'],\n",
       "        ['2023-09', '1898', '15'],\n",
       "        ['2023-10', '896', '4'],\n",
       "        ['2023-11', '1681', '7'],\n",
       "        ['2023-12', '4586', '18'],\n",
       "        ['2024-01', '22749', '81'],\n",
       "        ['2024-02', '17287', '47'],\n",
       "        ['2024-03', '7483', '46'],\n",
       "        ['2024-04', '2066', '14'],\n",
       "        ['2024-05', '1050', '7'],\n",
       "        ['2024-06', '1993', '20'],\n",
       "        ['2024-07', '1370', '7'],\n",
       "        ['2024-08', '1207', '38'],\n",
       "        ['2024-09', '1395', '11'],\n",
       "        ['2024-10', '269', '15'],\n",
       "        ['2024-11', '37', '3']], dtype='<U11'),\n",
       " 'Sudeste': array([['2020-02', '2', '0'],\n",
       "        ['2020-03', '3404', '161'],\n",
       "        ['2020-04', '39037', '3233'],\n",
       "        ['2020-05', '144797', '10440'],\n",
       "        ['2020-06', '298645', '13622'],\n",
       "        ['2020-07', '432312', '14332'],\n",
       "        ['2020-08', '437594', '12784'],\n",
       "        ['2020-09', '321279', '10442'],\n",
       "        ['2020-10', '263714', '7767'],\n",
       "        ['2020-11', '261429', '6217'],\n",
       "        ['2020-12', '485873', '10231'],\n",
       "        ['2021-01', '638821', '14533'],\n",
       "        ['2021-02', '502740', '13782'],\n",
       "        ['2021-03', '794128', '25657'],\n",
       "        ['2021-04', '818226', '40612'],\n",
       "        ['2021-05', '749323', '29432'],\n",
       "        ['2021-06', '815844', '27623'],\n",
       "        ['2021-07', '592047', '19747'],\n",
       "        ['2021-08', '420936', '12917'],\n",
       "        ['2021-09', '358129', '9517'],\n",
       "        ['2021-10', '142353', '5809'],\n",
       "        ['2021-11', '90914', '3658'],\n",
       "        ['2021-12', '51241', '2143'],\n",
       "        ['2022-01', '1297216', '3902'],\n",
       "        ['2022-02', '1274938', '11522'],\n",
       "        ['2022-03', '478186', '5311'],\n",
       "        ['2022-04', '220713', '1954'],\n",
       "        ['2022-05', '240782', '1743'],\n",
       "        ['2022-06', '633068', '2594'],\n",
       "        ['2022-07', '574323', '3624'],\n",
       "        ['2022-08', '225302', '2637'],\n",
       "        ['2022-09', '100844', '950'],\n",
       "        ['2022-10', '71610', '1225'],\n",
       "        ['2022-11', '214976', '1037'],\n",
       "        ['2022-12', '412531', '2172'],\n",
       "        ['2023-01', '190962', '1774'],\n",
       "        ['2023-02', '127609', '1225'],\n",
       "        ['2023-03', '96909', '718'],\n",
       "        ['2023-04', '95305', '721'],\n",
       "        ['2023-05', '50504', '537'],\n",
       "        ['2023-06', '23205', '441'],\n",
       "        ['2023-07', '24351', '393'],\n",
       "        ['2023-08', '23442', '179'],\n",
       "        ['2023-09', '18963', '350'],\n",
       "        ['2023-10', '76593', '504'],\n",
       "        ['2023-11', '70524', '645'],\n",
       "        ['2023-12', '47844', '452'],\n",
       "        ['2024-01', '30306', '315'],\n",
       "        ['2024-02', '78307', '367'],\n",
       "        ['2024-03', '106421', '779'],\n",
       "        ['2024-04', '21326', '387'],\n",
       "        ['2024-05', '13337', '235'],\n",
       "        ['2024-06', '6978', '154'],\n",
       "        ['2024-07', '6386', '190'],\n",
       "        ['2024-08', '21985', '232'],\n",
       "        ['2024-09', '30959', '285'],\n",
       "        ['2024-10', '19418', '243'],\n",
       "        ['2024-11', '5563', '81']], dtype='<U11'),\n",
       " 'Sul': array([['2020-02', '0', '0'],\n",
       "        ['2020-03', '672', '9'],\n",
       "        ['2020-04', '4286', '171'],\n",
       "        ['2020-05', '18098', '369'],\n",
       "        ['2020-06', '53116', '1055'],\n",
       "        ['2020-07', '150705', '3294'],\n",
       "        ['2020-08', '208619', '4087'],\n",
       "        ['2020-09', '149452', '3079'],\n",
       "        ['2020-10', '135050', '2063'],\n",
       "        ['2020-11', '246488', '2602'],\n",
       "        ['2020-12', '392337', '5370'],\n",
       "        ['2021-01', '314607', '4940'],\n",
       "        ['2021-02', '285129', '4380'],\n",
       "        ['2021-03', '539855', '15919'],\n",
       "        ['2021-04', '312184', '13544'],\n",
       "        ['2021-05', '336659', '9007'],\n",
       "        ['2021-06', '405523', '9081'],\n",
       "        ['2021-07', '307886', '7575'],\n",
       "        ['2021-08', '162505', '3857'],\n",
       "        ['2021-09', '117721', '2830'],\n",
       "        ['2021-10', '98022', '2436'],\n",
       "        ['2021-11', '64266', '1239'],\n",
       "        ['2021-12', '45774', '612'],\n",
       "        ['2022-01', '871913', '1124'],\n",
       "        ['2022-02', '881077', '3304'],\n",
       "        ['2022-03', '264238', '1697'],\n",
       "        ['2022-04', '129413', '527'],\n",
       "        ['2022-05', '210897', '570'],\n",
       "        ['2022-06', '258070', '1089'],\n",
       "        ['2022-07', '213010', '1358'],\n",
       "        ['2022-08', '132501', '1152'],\n",
       "        ['2022-09', '49332', '496'],\n",
       "        ['2022-10', '25604', '204'],\n",
       "        ['2022-11', '70320', '196'],\n",
       "        ['2022-12', '257608', '573'],\n",
       "        ['2023-01', '120897', '630'],\n",
       "        ['2023-02', '27987', '187'],\n",
       "        ['2023-03', '51699', '142'],\n",
       "        ['2023-04', '66741', '440'],\n",
       "        ['2023-05', '25922', '196'],\n",
       "        ['2023-06', '13454', '191'],\n",
       "        ['2023-07', '8016', '126'],\n",
       "        ['2023-08', '7599', '88'],\n",
       "        ['2023-09', '11467', '111'],\n",
       "        ['2023-10', '27744', '183'],\n",
       "        ['2023-11', '33562', '192'],\n",
       "        ['2023-12', '17875', '102'],\n",
       "        ['2024-01', '15873', '125'],\n",
       "        ['2024-02', '26726', '141'],\n",
       "        ['2024-03', '53178', '177'],\n",
       "        ['2024-04', '14638', '126'],\n",
       "        ['2024-05', '3605', '11'],\n",
       "        ['2024-06', '3525', '70'],\n",
       "        ['2024-07', '2655', '8'],\n",
       "        ['2024-08', '4280', '6'],\n",
       "        ['2024-09', '6971', '93'],\n",
       "        ['2024-10', '7585', '38'],\n",
       "        ['2024-11', '1727', '26']], dtype='<U11')}"
      ]
     },
     "execution_count": 72,
     "metadata": {},
     "output_type": "execute_result"
    }
   ],
   "source": [
    "totaismensaisregiao"
   ]
  },
  {
   "cell_type": "code",
   "execution_count": 73,
   "metadata": {
    "colab": {
     "base_uri": "https://localhost:8080/"
    },
    "executionInfo": {
     "elapsed": 735,
     "status": "ok",
     "timestamp": 1605919929086,
     "user": {
      "displayName": "Orlando O. S.",
      "photoUrl": "https://lh3.googleusercontent.com/a-/AOh14Gj-E1yuy1M_3ruwN4TWYPK4BwysauSW7GQmHheS=s64",
      "userId": "15066502291703974467"
     },
     "user_tz": 180
    },
    "id": "RFIL0aumCdZ0",
    "outputId": "5a478c8c-468b-40a2-c1d6-f03726ab7abe"
   },
   "outputs": [
    {
     "name": "stdout",
     "output_type": "stream",
     "text": [
      "15594474\n"
     ]
    }
   ],
   "source": [
    "print(np.sum(totaismensaisregiao['Sudeste'][:,1].astype('i')))"
   ]
  },
  {
   "cell_type": "markdown",
   "metadata": {
    "id": "TdqVynI5G3p4"
   },
   "source": [
    "## Calcula do total do Brasil pela soma da regiões"
   ]
  },
  {
   "cell_type": "code",
   "execution_count": 74,
   "metadata": {
    "colab": {
     "base_uri": "https://localhost:8080/"
    },
    "executionInfo": {
     "elapsed": 812,
     "status": "ok",
     "timestamp": 1605919947365,
     "user": {
      "displayName": "Orlando O. S.",
      "photoUrl": "https://lh3.googleusercontent.com/a-/AOh14Gj-E1yuy1M_3ruwN4TWYPK4BwysauSW7GQmHheS=s64",
      "userId": "15066502291703974467"
     },
     "user_tz": 180
    },
    "id": "FVkMqOV-F9ML",
    "outputId": "2b0801b2-85cd-4a9d-80c3-fa04404d0d34"
   },
   "outputs": [
    {
     "data": {
      "text/plain": [
       "array([[      2,       0],\n",
       "       [   5715,     201],\n",
       "       [  79663,    5700],\n",
       "       [ 428820,   23413],\n",
       "       [ 887841,   30280],\n",
       "       [1260444,   32881],\n",
       "       [1245787,   28906],\n",
       "       [ 902663,   22571],\n",
       "       [ 724670,   15932],\n",
       "       [ 800273,   13236],\n",
       "       [1340095,   21829],\n",
       "       [1528758,   29555],\n",
       "       [1346528,   30438],\n",
       "       [2197488,   66573],\n",
       "       [1910264,   82266],\n",
       "       [1886543,   59010],\n",
       "       [2011587,   55275],\n",
       "       [1360714,   38304],\n",
       "       [ 859015,   24043],\n",
       "       [ 650203,   16336],\n",
       "       [ 383782,   11075],\n",
       "       [ 283604,    6857],\n",
       "       [ 193062,    4375],\n",
       "       [3139223,    8082],\n",
       "       [3360876,   22195],\n",
       "       [1160275,   10424],\n",
       "       [ 500341,    3740],\n",
       "       [ 570802,    3179],\n",
       "       [1338980,    4740],\n",
       "       [1475882,    7098],\n",
       "       [ 595953,    5451],\n",
       "       [ 242671,    2071],\n",
       "       [ 156225,    2121],\n",
       "       [ 437410,    1644],\n",
       "       [1065122,    4052],\n",
       "       [ 493299,    3221],\n",
       "       [ 228356,    2013],\n",
       "       [ 205727,    1152],\n",
       "       [ 229308,    1594],\n",
       "       [ 113286,    1074],\n",
       "       [  70163,    1057],\n",
       "       [  56995,     830],\n",
       "       [  43291,     519],\n",
       "       [  56206,     649],\n",
       "       [ 122032,     846],\n",
       "       [ 128467,     981],\n",
       "       [ 132453,     849],\n",
       "       [ 127289,     769],\n",
       "       [ 183585,     767],\n",
       "       [ 222180,    1206],\n",
       "       [  48079,     584],\n",
       "       [  23118,     294],\n",
       "       [  17798,     279],\n",
       "       [  17248,     232],\n",
       "       [  40884,     346],\n",
       "       [  56805,     475],\n",
       "       [  36253,     376],\n",
       "       [   7706,     112]], dtype=int32)"
      ]
     },
     "execution_count": 74,
     "metadata": {},
     "output_type": "execute_result"
    }
   ],
   "source": [
    "from functools import reduce\n",
    "totalbrasil = reduce(lambda x, y: np.add(x,y),[ x[:,[1,2]].astype('i') for x in totaismensaisregiao.values()])\n",
    "totalbrasil"
   ]
  },
  {
   "cell_type": "code",
   "execution_count": 75,
   "metadata": {
    "colab": {
     "base_uri": "https://localhost:8080/"
    },
    "executionInfo": {
     "elapsed": 813,
     "status": "ok",
     "timestamp": 1605920083280,
     "user": {
      "displayName": "Orlando O. S.",
      "photoUrl": "https://lh3.googleusercontent.com/a-/AOh14Gj-E1yuy1M_3ruwN4TWYPK4BwysauSW7GQmHheS=s64",
      "userId": "15066502291703974467"
     },
     "user_tz": 180
    },
    "id": "jvx0PpZRHCfH",
    "outputId": "e7d3aea5-7b70-4939-ed2a-b9823894e1c8"
   },
   "outputs": [
    {
     "name": "stdout",
     "output_type": "stream",
     "text": [
      "Total de casos igual a 38991809 \n",
      "Total de obitos igual a 714078 \n"
     ]
    }
   ],
   "source": [
    "totalcasos = np.sum(totalbrasil[:,0])\n",
    "totalobitos = np.sum(totalbrasil[:,1])\n",
    "print(f'Total de casos igual a {totalcasos} \\nTotal de obitos igual a {totalobitos} ')"
   ]
  },
  {
   "cell_type": "markdown",
   "metadata": {
    "id": "5OBiuqewe253"
   },
   "source": [
    "# Gerar informações a nível municipal"
   ]
  },
  {
   "cell_type": "code",
   "execution_count": 76,
   "metadata": {
    "id": "NZLluk53Kce4"
   },
   "outputs": [
    {
     "name": "stdout",
     "output_type": "stream",
     "text": [
      "[['Norte' 'RO' \"Alta Floresta D'Oeste\" 11 110001.0 11005.0 'ZONA DA MATA'\n",
      "  '2020-03-27' 13 22945.0 0.0 0 0 0 nan nan 0.0]\n",
      " ['Norte' 'RO' \"Alta Floresta D'Oeste\" 11 110001.0 11005.0 'ZONA DA MATA'\n",
      "  '2020-03-28' 13 22945.0 0.0 0 0 0 nan nan 0.0]\n",
      " ['Norte' 'RO' \"Alta Floresta D'Oeste\" 11 110001.0 11005.0 'ZONA DA MATA'\n",
      "  '2020-03-29' 14 22945.0 0.0 0 0 0 nan nan 0.0]\n",
      " ['Norte' 'RO' \"Alta Floresta D'Oeste\" 11 110001.0 11005.0 'ZONA DA MATA'\n",
      "  '2020-03-30' 14 22945.0 0.0 0 0 0 nan nan 0.0]\n",
      " ['Norte' 'RO' \"Alta Floresta D'Oeste\" 11 110001.0 11005.0 'ZONA DA MATA'\n",
      "  '2020-03-31' 14 22945.0 0.0 0 0 0 nan nan 0.0]]\n",
      "[['Centro-Oeste' 'DF' 'Brasília' 53 530010.0 53001.0 'DISTRITO FEDERAL'\n",
      "  '2024-10-29' 44 3015268.0 955422.0 0 12025 0 nan nan 1.0]\n",
      " ['Centro-Oeste' 'DF' 'Brasília' 53 530010.0 53001.0 'DISTRITO FEDERAL'\n",
      "  '2024-10-30' 44 3015268.0 955422.0 0 12025 0 nan nan 1.0]\n",
      " ['Centro-Oeste' 'DF' 'Brasília' 53 530010.0 53001.0 'DISTRITO FEDERAL'\n",
      "  '2024-10-31' 44 3015268.0 955422.0 0 12025 0 nan nan 1.0]\n",
      " ['Centro-Oeste' 'DF' 'Brasília' 53 530010.0 53001.0 'DISTRITO FEDERAL'\n",
      "  '2024-11-01' 44 3015268.0 955422.0 0 12025 0 nan nan 1.0]\n",
      " ['Centro-Oeste' 'DF' 'Brasília' 53 530010.0 53001.0 'DISTRITO FEDERAL'\n",
      "  '2024-11-02' 44 3015268.0 955540.0 118 12025 0 nan nan 1.0]]\n",
      "2\n",
      "(9368740, 17)\n"
     ]
    }
   ],
   "source": [
    "dadoscovid[:, 2] = np.where(pd.isna(dadoscovid[:, 2]), 'nan', dadoscovid[:, 2])\n",
    "\n",
    "municipios = (dadoscovid[:, 0] != 'Brasil') & (dadoscovid[:, 2] != 'nan')\n",
    "\n",
    "\n",
    "municipiosarr = dadoscovid[municipios]\n",
    "\n",
    "print(municipiosarr[:5])\n",
    "print(municipiosarr[-5:])\n",
    "print(municipiosarr.ndim)\n",
    "print(municipiosarr.shape)"
   ]
  },
  {
   "cell_type": "code",
   "execution_count": 77,
   "metadata": {
    "id": "zQUnFLK4RJKc"
   },
   "outputs": [
    {
     "name": "stdout",
     "output_type": "stream",
     "text": [
      "['Centro-Oeste' 'Nordeste' 'Norte' 'Sudeste' 'Sul']\n",
      "['AC' 'AL' 'AM' 'AP' 'BA' 'CE' 'DF' 'ES' 'GO' 'MA' 'MG' 'MS' 'MT' 'PA'\n",
      " 'PB' 'PE' 'PI' 'PR' 'RJ' 'RN' 'RO' 'RR' 'RS' 'SC' 'SE' 'SP' 'TO']\n",
      "['Abadia de Goiás' 'Abadia dos Dourados' 'Abadiânia' ... 'Érico Cardoso'\n",
      " 'Óbidos' 'Óleo']\n",
      "(5297,)\n"
     ]
    }
   ],
   "source": [
    "print(np.unique(municipiosarr[: , 0]))\n",
    "print(np.unique(municipiosarr[: , 1]))\n",
    "print(np.unique(municipiosarr[: , 2]))\n",
    "print(np.sort(np.unique(municipiosarr[: , 2])).shape)"
   ]
  },
  {
   "cell_type": "code",
   "execution_count": null,
   "metadata": {},
   "outputs": [],
   "source": []
  }
 ],
 "metadata": {
  "colab": {
   "collapsed_sections": [],
   "name": "Aula 07 Introdução à Linguagem de Python para Analytics e Data Science.ipynb",
   "provenance": []
  },
  "kernelspec": {
   "display_name": "base",
   "language": "python",
   "name": "python3"
  },
  "language_info": {
   "codemirror_mode": {
    "name": "ipython",
    "version": 3
   },
   "file_extension": ".py",
   "mimetype": "text/x-python",
   "name": "python",
   "nbconvert_exporter": "python",
   "pygments_lexer": "ipython3",
   "version": "3.12.3"
  }
 },
 "nbformat": 4,
 "nbformat_minor": 1
}
