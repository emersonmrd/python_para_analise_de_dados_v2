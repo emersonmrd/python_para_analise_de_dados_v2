{
 "cells": [
  {
   "cell_type": "markdown",
   "metadata": {},
   "source": [
    "# Numpy - Forma e Remodelagem de Matrizes (shape)"
   ]
  },
  {
   "cell_type": "markdown",
   "metadata": {},
   "source": [
    "## Forma de matriz NumPy\n",
    "- Referese ao número de elementos em cada dimensão.\n",
    "- Use o atributo shape para retornar a tupla com as informações da forma."
   ]
  },
  {
   "cell_type": "code",
   "execution_count": 2,
   "metadata": {},
   "outputs": [],
   "source": [
    "import numpy as np"
   ]
  },
  {
   "cell_type": "code",
   "execution_count": 3,
   "metadata": {},
   "outputs": [
    {
     "name": "stdout",
     "output_type": "stream",
     "text": [
      "(2, 4)\n",
      "Essa matriz possui 2 dimensões com 4 elementos\n"
     ]
    }
   ],
   "source": [
    "meu_array = np.array([\n",
    "                      [21, 22, 23, 24], \n",
    "                      [25, 26, 27, 28]\n",
    "                      ])\n",
    "\n",
    "print(meu_array.shape)\n",
    "\n",
    "print(f'Essa matriz possui {meu_array.shape[0]} dimensões com {meu_array.shape[1]} elementos')"
   ]
  },
  {
   "cell_type": "code",
   "execution_count": 4,
   "metadata": {},
   "outputs": [
    {
     "name": "stdout",
     "output_type": "stream",
     "text": [
      "[[[[21 22 23 24 25]]]]\n",
      "A forma desse array é : (1, 1, 1, 5)\n"
     ]
    }
   ],
   "source": [
    "meu_array = np.array([21, 22, 23, 24, 25], ndmin=4)\n",
    "\n",
    "print(meu_array)\n",
    "\n",
    "print('A forma desse array é :', meu_array.shape)"
   ]
  },
  {
   "cell_type": "code",
   "execution_count": 5,
   "metadata": {},
   "outputs": [
    {
     "name": "stdout",
     "output_type": "stream",
     "text": [
      "[[[[21 22 23 24 25]\n",
      "   [21 22 23 24 25]\n",
      "   [21 22 23 24 25]]\n",
      "\n",
      "  [[21 22 23 24 25]\n",
      "   [21 22 23 24 25]\n",
      "   [21 22 23 24 25]]]\n",
      "\n",
      "\n",
      " [[[21 22 23 24 25]\n",
      "   [21 22 23 24 25]\n",
      "   [21 22 23 24 25]]\n",
      "\n",
      "  [[21 22 23 24 25]\n",
      "   [21 22 23 24 25]\n",
      "   [21 22 23 24 25]]]]\n",
      "A forma desse array é : (2, 2, 3, 5)\n"
     ]
    }
   ],
   "source": [
    "meu_array = np.array([[\n",
    "                       [[21, 22, 23, 24, 25],\n",
    "                        [21, 22, 23, 24, 25],\n",
    "                        [21, 22, 23, 24, 25]\n",
    "                       ],\n",
    "                       [\n",
    "                        [21, 22, 23, 24, 25],\n",
    "                        [21, 22, 23, 24, 25],\n",
    "                        [21, 22, 23, 24, 25]\n",
    "                       ]\n",
    "                      ],\n",
    "                      [\n",
    "                       [[21, 22, 23, 24, 25],\n",
    "                        [21, 22, 23, 24, 25],\n",
    "                        [21, 22, 23, 24, 25]\n",
    "                       ],\n",
    "                       [\n",
    "                        [21, 22, 23, 24, 25],\n",
    "                        [21, 22, 23, 24, 25],\n",
    "                        [21, 22, 23, 24, 25]\n",
    "                       ]\n",
    "                      ],\n",
    "   \n",
    "                      ] )\n",
    "\n",
    "print(meu_array)\n",
    "\n",
    "print('A forma desse array é :', meu_array.shape)"
   ]
  },
  {
   "cell_type": "markdown",
   "metadata": {},
   "source": [
    "# NumPy Array Remodelagem\n",
    "- Alterar a forma de uma matriz\n",
    "- Pode se também adicionar ou remover dimensões ou alterar o número de elementos em cada dimensão."
   ]
  },
  {
   "cell_type": "markdown",
   "metadata": {},
   "source": [
    "## Remodelar de 1-D para 2-D"
   ]
  },
  {
   "cell_type": "code",
   "execution_count": 6,
   "metadata": {},
   "outputs": [
    {
     "name": "stdout",
     "output_type": "stream",
     "text": [
      "[[ 10  20  30]\n",
      " [ 40  50  60]\n",
      " [ 70  80  90]\n",
      " [100   8   9]\n",
      " [100 110 120]]\n"
     ]
    }
   ],
   "source": [
    "meu_array = np.array([10, 20, 30, 40, 50, 60, 70, 80, 90, 100, 8, 9, 100, 110, 120])\n",
    "\n",
    "novo_array = meu_array.reshape(5, 3)\n",
    "\n",
    "print(novo_array)"
   ]
  },
  {
   "cell_type": "markdown",
   "metadata": {},
   "source": [
    "## Remodelar de 1-D para 3-D"
   ]
  },
  {
   "cell_type": "code",
   "execution_count": 7,
   "metadata": {},
   "outputs": [
    {
     "name": "stdout",
     "output_type": "stream",
     "text": [
      "[[[ 10  20  30]\n",
      "  [ 40  50  60]\n",
      "  [ 70  80  90]]\n",
      "\n",
      " [[100   8   9]\n",
      "  [100 110 120]\n",
      "  [130 140 150]]]\n"
     ]
    }
   ],
   "source": [
    "meu_array = np.array([10, 20, 30, 40, 50, 60, 70, 80, 90, 100, 8, 9, 100, 110, 120, 130, 140, 150])\n",
    "\n",
    "novo_array = meu_array.reshape(2, 3, 3)\n",
    "\n",
    "print(novo_array)"
   ]
  },
  {
   "cell_type": "markdown",
   "metadata": {},
   "source": [
    "## Pode-se remodelar de qualquer forma desde que a quantidade de elementos seja a mesma"
   ]
  },
  {
   "cell_type": "code",
   "execution_count": 8,
   "metadata": {},
   "outputs": [
    {
     "name": "stdout",
     "output_type": "stream",
     "text": [
      "[[10 20 30]\n",
      " [40 50 60]\n",
      " [70 80 90]]\n"
     ]
    }
   ],
   "source": [
    "meu_array = np.array([10, 20, 30, 40, 50, 60, 70, 80, 90])\n",
    "\n",
    "novo_array = meu_array.reshape(3, 3)\n",
    "\n",
    "print(novo_array)"
   ]
  },
  {
   "cell_type": "markdown",
   "metadata": {},
   "source": [
    "## Dependendo da situação do resultado de um reshape pode ser uma cópia ou uma visão da matriz."
   ]
  },
  {
   "cell_type": "code",
   "execution_count": 9,
   "metadata": {},
   "outputs": [
    {
     "name": "stdout",
     "output_type": "stream",
     "text": [
      "[ 10  20  30  40  50  60  70  80  90 100]\n"
     ]
    }
   ],
   "source": [
    "meu_array = np.array([10, 20, 30, 40, 50, 60, 70, 80, 90, 100])\n",
    "\n",
    "novo_array = meu_array.reshape(2, 5)\n",
    "\n",
    "print(novo_array.base)"
   ]
  },
  {
   "cell_type": "code",
   "execution_count": 10,
   "metadata": {},
   "outputs": [
    {
     "name": "stdout",
     "output_type": "stream",
     "text": [
      "[ 10  20  30  40  50  60  70  80  90 100]\n"
     ]
    }
   ],
   "source": [
    "meu_array = np.array([10, 20, 30, 40, 50, 60, 70, 80, 90, 100])\n",
    "\n",
    "novo_array = meu_array.reshape(10)\n",
    "\n",
    "print(novo_array.base)"
   ]
  },
  {
   "cell_type": "code",
   "execution_count": 11,
   "metadata": {},
   "outputs": [
    {
     "data": {
      "text/plain": [
       "array([ 10,  20,  30,  40,  50,  60,  70,  80,  90, 100])"
      ]
     },
     "execution_count": 11,
     "metadata": {},
     "output_type": "execute_result"
    }
   ],
   "source": [
    "novo_array.reshape(10).base"
   ]
  },
  {
   "cell_type": "markdown",
   "metadata": {},
   "source": [
    "## Deixando o NumPy calcular o tamanho de uma das dimensões informa o valor -1"
   ]
  },
  {
   "cell_type": "code",
   "execution_count": 13,
   "metadata": {},
   "outputs": [
    {
     "name": "stdout",
     "output_type": "stream",
     "text": [
      "[[ 10  20  30  40  50]\n",
      " [ 60  70  80  90 100]]\n"
     ]
    }
   ],
   "source": [
    "meu_array = np.array([10, 20, 30, 40, 50, 60, 70, 80, 90, 100])\n",
    "\n",
    "novo_array = meu_array.reshape(2, -1)\n",
    "\n",
    "print(novo_array)"
   ]
  },
  {
   "cell_type": "markdown",
   "metadata": {},
   "source": [
    "## Achatamento de matrizes\n",
    "- Pode se usar reshape(-1) converter uma matriz multidimensional em uma matriz 1D."
   ]
  },
  {
   "cell_type": "code",
   "execution_count": 14,
   "metadata": {},
   "outputs": [
    {
     "name": "stdout",
     "output_type": "stream",
     "text": [
      "(2, 3, 3)\n",
      "[10 20 30 40 50 60 40 50 60 10 20 30 40 50 60 40 50 60]\n"
     ]
    }
   ],
   "source": [
    "meu_array = np.array([[\n",
    "                      [10, 20, 30], \n",
    "                      [40, 50, 60], \n",
    "                      [40, 50, 60]\n",
    "                      ],\n",
    "                      [\n",
    "                      [10, 20, 30], \n",
    "                      [40, 50, 60], \n",
    "                      [40, 50, 60]\n",
    "                      ]\n",
    "                     ]\n",
    "                      )\n",
    "print(meu_array.shape)\n",
    "novo_array = meu_array.reshape(-1)\n",
    "\n",
    "print(novo_array)"
   ]
  },
  {
   "cell_type": "markdown",
   "metadata": {},
   "source": [
    "## Achatamento de matrizes com a função flatten"
   ]
  },
  {
   "cell_type": "code",
   "execution_count": 15,
   "metadata": {},
   "outputs": [
    {
     "data": {
      "text/plain": [
       "array([ 1,  2,  3,  4,  5,  6,  7,  8,  9, 10, 11, 12, 13, 14, 15, 16, 17,\n",
       "       18, 19, 20, 21, 22, 23, 24, 25, 26, 27, 28, 29, 30, 31, 32, 33, 34,\n",
       "       35, 36, 37, 38, 39, 40])"
      ]
     },
     "execution_count": 15,
     "metadata": {},
     "output_type": "execute_result"
    }
   ],
   "source": [
    "a = np.array([[1,2,3,4,5,6,7,8,9,10],\n",
    "              [11,12,13,14,15,16,17,18,19,20],\n",
    "              [21,22,23,24,25,26,27,28,29,30],\n",
    "              [31,32,33,34,35,36,37,38,39,40]])\n",
    "a.flatten()"
   ]
  },
  {
   "cell_type": "code",
   "execution_count": 16,
   "metadata": {},
   "outputs": [
    {
     "data": {
      "text/plain": [
       "array([ 1,  2,  3,  4,  5,  6,  7,  8,  9, 10, 11, 12, 13, 14, 15, 16, 17,\n",
       "       18, 19, 20, 21, 22, 23, 24, 25, 26, 27, 28, 29, 30, 31, 32, 33, 34,\n",
       "       35, 36, 37, 38, 39, 40])"
      ]
     },
     "execution_count": 16,
     "metadata": {},
     "output_type": "execute_result"
    }
   ],
   "source": [
    "a.flatten('C')"
   ]
  },
  {
   "cell_type": "code",
   "execution_count": 17,
   "metadata": {},
   "outputs": [
    {
     "data": {
      "text/plain": [
       "array([ 1, 11, 21, 31,  2, 12, 22, 32,  3, 13, 23, 33,  4, 14, 24, 34,  5,\n",
       "       15, 25, 35,  6, 16, 26, 36,  7, 17, 27, 37,  8, 18, 28, 38,  9, 19,\n",
       "       29, 39, 10, 20, 30, 40])"
      ]
     },
     "execution_count": 17,
     "metadata": {},
     "output_type": "execute_result"
    }
   ],
   "source": [
    "a.flatten('F')"
   ]
  },
  {
   "cell_type": "code",
   "execution_count": null,
   "metadata": {},
   "outputs": [],
   "source": []
  }
 ],
 "metadata": {
  "kernelspec": {
   "display_name": "base",
   "language": "python",
   "name": "python3"
  },
  "language_info": {
   "codemirror_mode": {
    "name": "ipython",
    "version": 3
   },
   "file_extension": ".py",
   "mimetype": "text/x-python",
   "name": "python",
   "nbconvert_exporter": "python",
   "pygments_lexer": "ipython3",
   "version": "3.12.3"
  }
 },
 "nbformat": 4,
 "nbformat_minor": 2
}
