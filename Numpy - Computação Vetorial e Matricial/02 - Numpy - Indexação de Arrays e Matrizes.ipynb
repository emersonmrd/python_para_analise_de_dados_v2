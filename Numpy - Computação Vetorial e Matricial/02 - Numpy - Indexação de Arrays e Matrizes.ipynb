{
 "cells": [
  {
   "cell_type": "markdown",
   "metadata": {},
   "source": [
    "# Numpy - Indexação de Arrays e Matrizes\n",
    "## NumPy (Numerical Python)\n",
    "- Biblioteca python usada para trabalhar com álgebra linear, arrays e matrizes.\n",
    "- Criada em 2005 por Travis Oliphant como projeto de código aberto.\n",
    "- Fornecer um objeto de matriz que é até 50x mais rápido que as listas tradicionais do Python\n",
    "- Array NumPy é armazenados em um local contínuo na memória;\n",
    "- É otimizado para funcionar com as arquiteturas de CPU mais recentes;\n",
    "- Utiliza tipos fixos;\n",
    "- Demandam menos espaço de memória para mesma quantidade de elementos;\n",
    "- SIMD - Processamento vetores Single instruction, multiple data (SIMD);\n",
    "- Utilização eficente de cache do processador\n",
    "- Mais versatilidade nas operações com arrays (ex. multiplicação)\n",
    "- Utilizado como base para calculos matemáticos, Plotagem de gráficos (Matplotlib), backend do pandas, base para algoritmos de machine learning.\n",
    "- É codificado parcialmente em Python, mas a maioria das partes que requerem computação rápida são escritas em C ou C ++.\n",
    "- O objeto array em NumPy é chamado ndarray.\n",
    "- O ndarray fornece várias funções de suporte que facilitam muito se uso.\n",
    "- São indicados para situações em que velocidade e recursos são muito importantes."
   ]
  },
  {
   "cell_type": "markdown",
   "metadata": {},
   "source": [
    "# Indexação de matriz NumPy\n",
    " - Pode-se acessar um elemento da matriz referindo-se ao seu número de índice.\n",
    " - Os índices nas matrizes NumPy começam com 0"
   ]
  },
  {
   "cell_type": "code",
   "execution_count": 2,
   "metadata": {},
   "outputs": [
    {
     "data": {
      "text/plain": [
       "(21, 25)"
      ]
     },
     "execution_count": 2,
     "metadata": {},
     "output_type": "execute_result"
    }
   ],
   "source": [
    "import numpy as np\n",
    "\n",
    "meu_array = np.array([21, 22, 23, 24, 25])\n",
    "\n",
    "meu_array[0], meu_array[-1]"
   ]
  },
  {
   "cell_type": "markdown",
   "metadata": {},
   "source": [
    "# Acessar matrizes 2-D\n",
    " - Pode-se usar números inteiros separados por vírgula [dimensão, indice do elemento]"
   ]
  },
  {
   "cell_type": "code",
   "execution_count": 3,
   "metadata": {},
   "outputs": [
    {
     "name": "stdout",
     "output_type": "stream",
     "text": [
      "O terceiro elemento da segunda dimensão:  28\n"
     ]
    }
   ],
   "source": [
    "meu_array = np.array([\n",
    "                      [21, 22, 23, 24, 25], \n",
    "                      [26, 27, 28, 29, 30]\n",
    "                      ])\n",
    "\n",
    "print('O terceiro elemento da segunda dimensão: ', meu_array[1, 2])"
   ]
  },
  {
   "cell_type": "code",
   "execution_count": 4,
   "metadata": {},
   "outputs": [
    {
     "name": "stdout",
     "output_type": "stream",
     "text": [
      "O segundo elemento da primeira dimensão:  22\n"
     ]
    }
   ],
   "source": [
    "meu_array = np.array([\n",
    "                      [21, 22, 23, 24, 25], \n",
    "                      [26, 27, 28, 29, 30]\n",
    "                      ])\n",
    "\n",
    "print('O segundo elemento da primeira dimensão: ', meu_array[0, 1])"
   ]
  },
  {
   "cell_type": "markdown",
   "metadata": {},
   "source": [
    "# Acessar matrizes 3-D\n",
    " - Pode-se usar inteiros separados por vírgula[dimensão, dimensão, elemento]."
   ]
  },
  {
   "cell_type": "code",
   "execution_count": 5,
   "metadata": {},
   "outputs": [
    {
     "name": "stdout",
     "output_type": "stream",
     "text": [
      "60\n",
      "70\n",
      "20\n"
     ]
    }
   ],
   "source": [
    "meu_array = np.array([\n",
    "                        [\n",
    "                          [10, 20, 30], \n",
    "                          [40, 50, 60]\n",
    "                        ], \n",
    "                        [\n",
    "                          [70, 80, 90], \n",
    "                          [100, 110, 120]\n",
    "                        ]\n",
    "                      ])\n",
    "\n",
    "print(meu_array[0, 1, 2])\n",
    "\n",
    "print(meu_array[1, 0, 0])\n",
    "\n",
    "print(meu_array[0, 0, 1])"
   ]
  },
  {
   "cell_type": "markdown",
   "metadata": {},
   "source": [
    "# Indexação Negativa\n",
    " - Pode-se usar a indexação negativa para acessar uma matriz a partir do final."
   ]
  },
  {
   "cell_type": "code",
   "execution_count": 6,
   "metadata": {},
   "outputs": [
    {
     "name": "stdout",
     "output_type": "stream",
     "text": [
      "120\n",
      "20\n"
     ]
    }
   ],
   "source": [
    "meu_array = np.array([\n",
    "                        [\n",
    "                        [10, 20, 30], \n",
    "                        [40, 50, 60]\n",
    "                        ], \n",
    "                        [\n",
    "                        [70, 80, 90], \n",
    "                        [100, 110, 120]\n",
    "                        ]\n",
    "                      ])\n",
    "\n",
    "print(meu_array[-1, -1, -1])\n",
    "\n",
    "print(meu_array[-2, -2, -2])"
   ]
  },
  {
   "cell_type": "markdown",
   "metadata": {},
   "source": [
    "# Obtendo um recorte da matriz NumPy\n",
    "\n",
    "## Fatiar matrizes\n",
    "- array[indice início: índice fim] ou\n",
    "- array[indice início : índice fim : passo (padrao 1)"
   ]
  },
  {
   "cell_type": "code",
   "execution_count": 7,
   "metadata": {},
   "outputs": [
    {
     "name": "stdout",
     "output_type": "stream",
     "text": [
      "[20 30 40 50]\n"
     ]
    }
   ],
   "source": [
    "meu_array = np.array([10, 20, 30, 40, 50, 60, 70, 80, 90, 100])\n",
    "\n",
    "print(meu_array[1:5])"
   ]
  },
  {
   "cell_type": "code",
   "execution_count": 8,
   "metadata": {},
   "outputs": [
    {
     "name": "stdout",
     "output_type": "stream",
     "text": [
      "[ 40  50  60  70  80  90 100]\n"
     ]
    }
   ],
   "source": [
    "meu_array = np.array([10, 20, 30, 40, 50, 60, 70, 80, 90, 100])\n",
    "\n",
    "print(meu_array[3:])"
   ]
  },
  {
   "cell_type": "code",
   "execution_count": 9,
   "metadata": {},
   "outputs": [
    {
     "name": "stdout",
     "output_type": "stream",
     "text": [
      "[10 20 30 40]\n"
     ]
    }
   ],
   "source": [
    "meu_array = np.array([10, 20, 30, 40, 50, 60, 70, 80, 90, 100])\n",
    "\n",
    "print(meu_array[:4])"
   ]
  },
  {
   "cell_type": "markdown",
   "metadata": {},
   "source": [
    "# Recorte da Matriz usando Indexação Negativa\n",
    " - Utilize a posição a partir do final como índices."
   ]
  },
  {
   "cell_type": "code",
   "execution_count": 10,
   "metadata": {},
   "outputs": [
    {
     "name": "stdout",
     "output_type": "stream",
     "text": [
      "[60 70 80]\n"
     ]
    }
   ],
   "source": [
    "meu_array = np.array([10, 20, 30, 40, 50, 60, 70, 80, 90, 100])\n",
    "\n",
    "print(meu_array[-5:-2])"
   ]
  },
  {
   "cell_type": "code",
   "execution_count": 11,
   "metadata": {},
   "outputs": [
    {
     "name": "stdout",
     "output_type": "stream",
     "text": [
      "[ 20  30  40  50  60  70  80  90 100]\n"
     ]
    }
   ],
   "source": [
    "meu_array = np.array([10, 20, 30, 40, 50, 60, 70, 80, 90, 100])\n",
    "\n",
    "print(meu_array[-9:])"
   ]
  },
  {
   "cell_type": "markdown",
   "metadata": {},
   "source": [
    "# Recorte usando argumento step\n",
    "- Use esse argumento para indicar os saltos que devem durante o seleção dos elementos do recorte"
   ]
  },
  {
   "cell_type": "code",
   "execution_count": 12,
   "metadata": {},
   "outputs": [
    {
     "name": "stdout",
     "output_type": "stream",
     "text": [
      "[10 40 70]\n"
     ]
    }
   ],
   "source": [
    "meu_array = np.array([10, 20, 30, 40, 50, 60, 70, 80, 90, 100])\n",
    "\n",
    "print(meu_array[0:9:3])"
   ]
  },
  {
   "cell_type": "code",
   "execution_count": 13,
   "metadata": {},
   "outputs": [
    {
     "name": "stdout",
     "output_type": "stream",
     "text": [
      "[30 50 70 90]\n"
     ]
    }
   ],
   "source": [
    "meu_array = np.array([10, 20, 30, 40, 50, 60, 70, 80, 90, 100])\n",
    "\n",
    "print(meu_array[2: :2])"
   ]
  },
  {
   "cell_type": "code",
   "execution_count": 14,
   "metadata": {},
   "outputs": [
    {
     "name": "stdout",
     "output_type": "stream",
     "text": [
      "[10 30]\n"
     ]
    }
   ],
   "source": [
    "meu_array = np.array([10, 20, 30, 40, 50, 60, 70, 80, 90, 100])\n",
    "\n",
    "print(meu_array[ : 4 :2])"
   ]
  },
  {
   "cell_type": "markdown",
   "metadata": {},
   "source": [
    "# Retornar todos os elementos de toda a matriz:"
   ]
  },
  {
   "cell_type": "code",
   "execution_count": 15,
   "metadata": {},
   "outputs": [
    {
     "name": "stdout",
     "output_type": "stream",
     "text": [
      "[ 10  20  30  40  50  60  70  80  90 100]\n",
      "[ 10  20  30  40  50  60  70  80  90 100]\n",
      "[ 10  20  30  40  50  60  70  80  90 100]\n"
     ]
    }
   ],
   "source": [
    "meu_array = np.array([10, 20, 30, 40, 50, 60, 70, 80, 90, 100])\n",
    "\n",
    "print(meu_array[:])\n",
    "print(meu_array[::])\n",
    "print(meu_array[::1])"
   ]
  },
  {
   "cell_type": "code",
   "execution_count": 16,
   "metadata": {},
   "outputs": [
    {
     "name": "stdout",
     "output_type": "stream",
     "text": [
      "[10 30 50 70 90]\n",
      "[ 10  40  70 100]\n",
      "[10 50 90]\n"
     ]
    }
   ],
   "source": [
    "meu_array = np.array([10, 20, 30, 40, 50, 60, 70, 80, 90, 100])\n",
    "\n",
    "print(meu_array[: : 2])\n",
    "print(meu_array[: : 3])\n",
    "print(meu_array[: : 4])"
   ]
  },
  {
   "cell_type": "markdown",
   "metadata": {},
   "source": [
    "# Recorte em matrizes 2-D\n",
    "## Retornar uma lista de valores de determinada linha da matriz 2-D"
   ]
  },
  {
   "cell_type": "code",
   "execution_count": 17,
   "metadata": {},
   "outputs": [
    {
     "name": "stdout",
     "output_type": "stream",
     "text": [
      "[20 30 40 50]\n"
     ]
    }
   ],
   "source": [
    "meu_array = np.array([\n",
    "                      [10, 20, 30, 40, 50], \n",
    "                      [60, 70, 80, 90, 100],\n",
    "                      [160, 170, 180, 190, 1100], \n",
    "                      [260, 270, 280, 290, 2100]\n",
    "                      ])\n",
    "\n",
    "print(meu_array[0, 1:5])"
   ]
  },
  {
   "cell_type": "code",
   "execution_count": 18,
   "metadata": {},
   "outputs": [
    {
     "name": "stdout",
     "output_type": "stream",
     "text": [
      "[60 70 80 90]\n"
     ]
    }
   ],
   "source": [
    "print(meu_array[1, :4])"
   ]
  },
  {
   "cell_type": "code",
   "execution_count": 19,
   "metadata": {},
   "outputs": [
    {
     "name": "stdout",
     "output_type": "stream",
     "text": [
      "[ 180  190 1100]\n"
     ]
    }
   ],
   "source": [
    "print(meu_array[2,-3:])"
   ]
  },
  {
   "cell_type": "code",
   "execution_count": 20,
   "metadata": {},
   "outputs": [
    {
     "name": "stdout",
     "output_type": "stream",
     "text": [
      "[ 280  290 2100]\n"
     ]
    }
   ],
   "source": [
    "print(meu_array[-1,-3:])"
   ]
  },
  {
   "cell_type": "markdown",
   "metadata": {},
   "source": [
    "# Retornar uma lista de valores de determinada coluna da matriz 2-D"
   ]
  },
  {
   "cell_type": "code",
   "execution_count": 21,
   "metadata": {},
   "outputs": [
    {
     "name": "stdout",
     "output_type": "stream",
     "text": [
      "[ 20  70 170 270]\n"
     ]
    }
   ],
   "source": [
    "meu_array = np.array([\n",
    "                      [10, 20, 30, 40, 50], \n",
    "                      [60, 70, 80, 90, 100],\n",
    "                      [160, 170, 180, 190, 1100], \n",
    "                      [260, 270, 280, 290, 2100]\n",
    "                      ])\n",
    "\n",
    "print(meu_array[:, 1])"
   ]
  },
  {
   "cell_type": "code",
   "execution_count": 22,
   "metadata": {},
   "outputs": [
    {
     "name": "stdout",
     "output_type": "stream",
     "text": [
      "[ 30  80 180 280]\n"
     ]
    }
   ],
   "source": [
    "print(meu_array[:, 2])"
   ]
  },
  {
   "cell_type": "code",
   "execution_count": 23,
   "metadata": {},
   "outputs": [
    {
     "name": "stdout",
     "output_type": "stream",
     "text": [
      "[[ 10  20]\n",
      " [ 60  70]\n",
      " [160 170]\n",
      " [260 270]]\n"
     ]
    }
   ],
   "source": [
    "print(meu_array[:, 0:2])"
   ]
  },
  {
   "cell_type": "code",
   "execution_count": 24,
   "metadata": {},
   "outputs": [
    {
     "name": "stdout",
     "output_type": "stream",
     "text": [
      "[[ 60  70]\n",
      " [160 170]]\n"
     ]
    }
   ],
   "source": [
    "print(meu_array[1:3, 0:2])"
   ]
  },
  {
   "cell_type": "code",
   "execution_count": 25,
   "metadata": {},
   "outputs": [
    {
     "name": "stdout",
     "output_type": "stream",
     "text": [
      "[ 100 1100 2100]\n"
     ]
    }
   ],
   "source": [
    "print(meu_array[-3:, -1])"
   ]
  },
  {
   "cell_type": "code",
   "execution_count": 26,
   "metadata": {},
   "outputs": [
    {
     "name": "stdout",
     "output_type": "stream",
     "text": [
      "[[  90  100]\n",
      " [ 190 1100]\n",
      " [ 290 2100]]\n"
     ]
    }
   ],
   "source": [
    "print(meu_array[-3:, -2:])"
   ]
  },
  {
   "cell_type": "code",
   "execution_count": null,
   "metadata": {},
   "outputs": [],
   "source": []
  }
 ],
 "metadata": {
  "kernelspec": {
   "display_name": "base",
   "language": "python",
   "name": "python3"
  },
  "language_info": {
   "codemirror_mode": {
    "name": "ipython",
    "version": 3
   },
   "file_extension": ".py",
   "mimetype": "text/x-python",
   "name": "python",
   "nbconvert_exporter": "python",
   "pygments_lexer": "ipython3",
   "version": "3.12.3"
  }
 },
 "nbformat": 4,
 "nbformat_minor": 2
}
