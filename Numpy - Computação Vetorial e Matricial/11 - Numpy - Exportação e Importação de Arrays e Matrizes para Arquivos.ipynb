{
 "cells": [
  {
   "cell_type": "markdown",
   "metadata": {
    "id": "-wttXmB0JYuh"
   },
   "source": [
    "# Numpy - Exportação e Importação de Arrays e Matrizes para Arquivos"
   ]
  },
  {
   "cell_type": "markdown",
   "metadata": {
    "id": "jSl18ZEeC-dP"
   },
   "source": [
    "## Salvando Arrays em arquivos\n"
   ]
  },
  {
   "cell_type": "code",
   "execution_count": 1,
   "metadata": {
    "colab": {
     "base_uri": "https://localhost:8080/"
    },
    "executionInfo": {
     "elapsed": 732,
     "status": "ok",
     "timestamp": 1605575164856,
     "user": {
      "displayName": "Orlando O. S.",
      "photoUrl": "https://lh3.googleusercontent.com/a-/AOh14Gj-E1yuy1M_3ruwN4TWYPK4BwysauSW7GQmHheS=s64",
      "userId": "15066502291703974467"
     },
     "user_tz": 180
    },
    "id": "2AwCzqrqDhDd",
    "outputId": "79e19af1-cdd4-481f-e4d3-30e265cccc4c"
   },
   "outputs": [
    {
     "name": "stdout",
     "output_type": "stream",
     "text": [
      "[[10 52 11 58 26]\n",
      " [59 60 22 27 60]\n",
      " [23 46 28 20 55]\n",
      " [40 11 43 43 68]\n",
      " [36 50 13 54 25]]\n"
     ]
    }
   ],
   "source": [
    "import numpy as np\n",
    "from numpy import random\n",
    "\n",
    "meu_array =random.randint(10,70, size=(5, 5)) \n",
    "\n",
    "print(meu_array)\n",
    "\n",
    "np.savetxt(\"array.csv\", meu_array, delimiter=\";\", fmt='%s')"
   ]
  },
  {
   "cell_type": "code",
   "execution_count": 2,
   "metadata": {
    "colab": {
     "base_uri": "https://localhost:8080/"
    },
    "executionInfo": {
     "elapsed": 748,
     "status": "ok",
     "timestamp": 1605575207395,
     "user": {
      "displayName": "Orlando O. S.",
      "photoUrl": "https://lh3.googleusercontent.com/a-/AOh14Gj-E1yuy1M_3ruwN4TWYPK4BwysauSW7GQmHheS=s64",
      "userId": "15066502291703974467"
     },
     "user_tz": 180
    },
    "id": "zYzWyCo5ETey",
    "outputId": "7c434f51-d55c-4437-99c1-69a00db266a3"
   },
   "outputs": [
    {
     "name": "stdout",
     "output_type": "stream",
     "text": [
      "10;52;11;58;26\n",
      "59;60;22;27;60\n",
      "23;46;28;20;55\n",
      "40;11;43;43;68\n",
      "36;50;13;54;25\n",
      "\n"
     ]
    }
   ],
   "source": [
    "with open(\"array.csv\") as f:\n",
    "  print(f.read())"
   ]
  },
  {
   "cell_type": "markdown",
   "metadata": {
    "id": "XsASVlDADj2v"
   },
   "source": [
    "## Carregando Arrays a partir de Arquivos"
   ]
  },
  {
   "cell_type": "code",
   "execution_count": 3,
   "metadata": {
    "colab": {
     "base_uri": "https://localhost:8080/"
    },
    "executionInfo": {
     "elapsed": 747,
     "status": "ok",
     "timestamp": 1605575278231,
     "user": {
      "displayName": "Orlando O. S.",
      "photoUrl": "https://lh3.googleusercontent.com/a-/AOh14Gj-E1yuy1M_3ruwN4TWYPK4BwysauSW7GQmHheS=s64",
      "userId": "15066502291703974467"
     },
     "user_tz": 180
    },
    "id": "3sfb4oXWDlD0",
    "outputId": "04e29403-f53e-4a50-9770-4a8b9a66e0b7",
    "scrolled": true
   },
   "outputs": [
    {
     "name": "stdout",
     "output_type": "stream",
     "text": [
      "[[10. 52. 11. 58. 26.]\n",
      " [59. 60. 22. 27. 60.]\n",
      " [23. 46. 28. 20. 55.]\n",
      " [40. 11. 43. 43. 68.]\n",
      " [36. 50. 13. 54. 25.]]\n"
     ]
    }
   ],
   "source": [
    "novo_arr = np.loadtxt('array.csv', delimiter=';', skiprows=0 , dtype=float)\n",
    "print(novo_arr)"
   ]
  }
 ],
 "metadata": {
  "colab": {
   "collapsed_sections": [],
   "name": "Aula 07 Introdução à Linguagem de Python para Analytics e Data Science.ipynb",
   "provenance": []
  },
  "kernelspec": {
   "display_name": "base",
   "language": "python",
   "name": "python3"
  },
  "language_info": {
   "codemirror_mode": {
    "name": "ipython",
    "version": 3
   },
   "file_extension": ".py",
   "mimetype": "text/x-python",
   "name": "python",
   "nbconvert_exporter": "python",
   "pygments_lexer": "ipython3",
   "version": "3.12.3"
  }
 },
 "nbformat": 4,
 "nbformat_minor": 1
}
