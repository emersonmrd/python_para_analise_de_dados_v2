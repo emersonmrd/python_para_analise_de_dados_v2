{
 "cells": [
  {
   "cell_type": "markdown",
   "metadata": {},
   "source": [
    "# Numpy - Tipologia de Dados de Arrays\n",
    "## Tipos de dados NumPy\n",
    "## Tipos de dados em Python\n",
    "- strings: usado para representar dados de texto;\n",
    "- integer: usado para representar números inteiros positivos e negativos;\n",
    "- float: usado para representar números reais.\n",
    "- boolean: usado para representar Verdadeiro ou Falso.\n",
    "- complex: usado para representar um número em um plano complexo. por exemplo. 1,0 + 2,0j, 1,5 + 2,5j\n",
    "\n",
    "## Tipos de dados em NumPy e os caracteres usados ​​para representá-los.\n",
    "- i - integer\n",
    "- b - boolean\n",
    "- u - unsigned integer\n",
    "- f - float\n",
    "- c - complex float\n",
    "- m - timedelta\n",
    "- M - datetime\n",
    "- O - object\n",
    "- S - string\n",
    "- U - unicode string"
   ]
  },
  {
   "cell_type": "markdown",
   "metadata": {},
   "source": [
    "## Checar o tipo de dados de uma matriz\n",
    "### Pode se usar propriedade dtype para retornar o tipo de dados da matriz:"
   ]
  },
  {
   "cell_type": "code",
   "execution_count": 1,
   "metadata": {},
   "outputs": [
    {
     "name": "stdout",
     "output_type": "stream",
     "text": [
      "int32\n"
     ]
    }
   ],
   "source": [
    "import numpy as np\n",
    "\n",
    "meu_array = np.array([21, 22, 23, 24, 25])\n",
    "\n",
    "print(meu_array.dtype)"
   ]
  },
  {
   "cell_type": "code",
   "execution_count": 2,
   "metadata": {},
   "outputs": [
    {
     "name": "stdout",
     "output_type": "stream",
     "text": [
      "<U6\n",
      "['José' 'Maria' 'João' 'Noêmia']\n"
     ]
    }
   ],
   "source": [
    "meu_array = np.array(['José', 'Maria', 'João', 'Noêmia'])\n",
    "\n",
    "print(meu_array.dtype)\n",
    "\n",
    "print(meu_array)"
   ]
  },
  {
   "cell_type": "markdown",
   "metadata": {},
   "source": [
    "## Definir o tipo de dado na Criação de matrizes\n",
    "- Usando argumento opcional: dtype da função array()\n",
    "- Para os tipos i, u, f, S , U também é possível indicar o tamanho."
   ]
  },
  {
   "cell_type": "code",
   "execution_count": 3,
   "metadata": {},
   "outputs": [
    {
     "name": "stdout",
     "output_type": "stream",
     "text": [
      "['21' '22' '23' '24' '25']\n",
      "<U2\n"
     ]
    }
   ],
   "source": [
    "meu_array = np.array([21, 22, 23, 24, 25], dtype=str)\n",
    "\n",
    "print(meu_array)\n",
    "\n",
    "print(meu_array.dtype)"
   ]
  },
  {
   "cell_type": "markdown",
   "metadata": {},
   "source": [
    "### Para os tipos i, u, f, S , U também é possível indicar o tamanho.\n",
    "\n",
    "### Obserse o que ocorre se extrapolar o tamanho"
   ]
  },
  {
   "cell_type": "code",
   "execution_count": 4,
   "metadata": {},
   "outputs": [
    {
     "name": "stdout",
     "output_type": "stream",
     "text": [
      "[b'21' b'22' b'23' b'24' b'25' b'232']\n",
      "|S3\n"
     ]
    }
   ],
   "source": [
    "meu_array = np.array([21, 22, 23, 24, 25, 2323423423], dtype='S3')\n",
    "\n",
    "print(meu_array)\n",
    "\n",
    "print(meu_array.dtype)"
   ]
  },
  {
   "cell_type": "code",
   "execution_count": 5,
   "metadata": {},
   "outputs": [
    {
     "name": "stdout",
     "output_type": "stream",
     "text": [
      "[            21             22             23             24\n",
      " 12312312323234]\n",
      "int64\n"
     ]
    }
   ],
   "source": [
    "meu_array = np.array([21, 22, 23, 24, 12312312323234], dtype='i8')\n",
    "\n",
    "print(meu_array)\n",
    "\n",
    "print(meu_array.dtype)"
   ]
  },
  {
   "cell_type": "markdown",
   "metadata": {},
   "source": [
    "- Ocorrerá erros e o valor não puder ser convertido para o tipo especificado"
   ]
  },
  {
   "cell_type": "code",
   "execution_count": 6,
   "metadata": {},
   "outputs": [
    {
     "ename": "ValueError",
     "evalue": "invalid literal for int() with base 10: 'João'",
     "output_type": "error",
     "traceback": [
      "\u001b[1;31m---------------------------------------------------------------------------\u001b[0m",
      "\u001b[1;31mValueError\u001b[0m                                Traceback (most recent call last)",
      "Cell \u001b[1;32mIn[6], line 1\u001b[0m\n\u001b[1;32m----> 1\u001b[0m meu_array \u001b[38;5;241m=\u001b[39m np\u001b[38;5;241m.\u001b[39marray([\u001b[38;5;124m'\u001b[39m\u001b[38;5;124mJoão\u001b[39m\u001b[38;5;124m'\u001b[39m, \u001b[38;5;124m'\u001b[39m\u001b[38;5;124m12\u001b[39m\u001b[38;5;124m'\u001b[39m, \u001b[38;5;124m'\u001b[39m\u001b[38;5;124m143\u001b[39m\u001b[38;5;124m'\u001b[39m], dtype\u001b[38;5;241m=\u001b[39m\u001b[38;5;124m'\u001b[39m\u001b[38;5;124mi\u001b[39m\u001b[38;5;124m'\u001b[39m)\n",
      "\u001b[1;31mValueError\u001b[0m: invalid literal for int() with base 10: 'João'"
     ]
    }
   ],
   "source": [
    "meu_array = np.array(['João', '12', '143'], dtype='i')"
   ]
  },
  {
   "cell_type": "markdown",
   "metadata": {},
   "source": [
    "## Conversão de tipo de dados em matrizes\n",
    "- Utilize o método astype() para criar uma cópia da matriz convertida para o novo tipo de dado.\n",
    "- Como argumento podem ser passadas tanto as letras dos tipos quanto o nomes dos tipos do python."
   ]
  },
  {
   "cell_type": "code",
   "execution_count": 7,
   "metadata": {},
   "outputs": [
    {
     "name": "stdout",
     "output_type": "stream",
     "text": [
      "[1 2 3]\n",
      "int32\n"
     ]
    }
   ],
   "source": [
    "meu_array = np.array([1.1, 2.1, 3.1])\n",
    "\n",
    "novo_array = meu_array.astype('i')\n",
    "\n",
    "print(novo_array)\n",
    "\n",
    "print(novo_array.dtype)"
   ]
  },
  {
   "cell_type": "code",
   "execution_count": 8,
   "metadata": {},
   "outputs": [
    {
     "name": "stdout",
     "output_type": "stream",
     "text": [
      "['1.1' '2.1' '3.1']\n",
      "<U32\n"
     ]
    }
   ],
   "source": [
    "novo_array = meu_array.astype('U')\n",
    "\n",
    "print(novo_array)\n",
    "\n",
    "print(novo_array.dtype)"
   ]
  },
  {
   "cell_type": "code",
   "execution_count": 9,
   "metadata": {},
   "outputs": [
    {
     "name": "stdout",
     "output_type": "stream",
     "text": [
      "[[1 2 3]\n",
      " [4 5 6]]\n",
      "int64\n"
     ]
    }
   ],
   "source": [
    "meu_array = np.array([\n",
    "                      [1.1, 2.1, 3.1],\n",
    "                      [4.1, 5.1, 6.1]\n",
    "                      ])\n",
    "\n",
    "novo_array = meu_array.astype('i8')\n",
    "\n",
    "print(novo_array)\n",
    "\n",
    "print(novo_array.dtype)"
   ]
  },
  {
   "cell_type": "code",
   "execution_count": 10,
   "metadata": {},
   "outputs": [
    {
     "name": "stdout",
     "output_type": "stream",
     "text": [
      "[1 2 3]\n",
      "int32\n"
     ]
    }
   ],
   "source": [
    "meu_array = np.array([1.1, 2.1, 3.1])\n",
    "\n",
    "novo_array = meu_array.astype(int)\n",
    "\n",
    "print(novo_array)\n",
    "\n",
    "print(novo_array.dtype)"
   ]
  },
  {
   "cell_type": "markdown",
   "metadata": {},
   "source": [
    "### Exemplo Altere o tipo de dados de inteiro para booleano:"
   ]
  },
  {
   "cell_type": "code",
   "execution_count": 11,
   "metadata": {},
   "outputs": [
    {
     "name": "stdout",
     "output_type": "stream",
     "text": [
      "[ True False  True]\n",
      "bool\n"
     ]
    }
   ],
   "source": [
    "meu_array = np.array([1, 0, 3])\n",
    "\n",
    "novo_array = meu_array.astype(bool)\n",
    "\n",
    "print(novo_array)\n",
    "\n",
    "print(novo_array.dtype)"
   ]
  },
  {
   "cell_type": "markdown",
   "metadata": {},
   "source": [
    "## NumPy Array Copy vs View\n",
    "- Copy: retorna uma uma nova matriz\n",
    "- View: apenas uma visualização da matriz original, e as alterações afetarão a matriz original e vice-versa"
   ]
  },
  {
   "cell_type": "code",
   "execution_count": 12,
   "metadata": {},
   "outputs": [
    {
     "name": "stdout",
     "output_type": "stream",
     "text": [
      "[ 10  20  30  40  50  60  70  80  90 100]\n",
      "[ 42  20  30  40  50  60  70  80  90 100]\n",
      "[ 10  20  30  40  50  60  70  80  90 100]\n"
     ]
    }
   ],
   "source": [
    "meu_array = np.array([10, 20, 30, 40, 50, 60, 70, 80, 90, 100])\n",
    "copia = meu_array.copy()\n",
    "copia[0] = 42\n",
    "\n",
    "print(meu_array)\n",
    "print(copia)\n",
    "print(meu_array)"
   ]
  },
  {
   "cell_type": "code",
   "execution_count": 13,
   "metadata": {},
   "outputs": [
    {
     "name": "stdout",
     "output_type": "stream",
     "text": [
      "[250  20  30  40  50  60  70  80  90 100]\n",
      "[250  20  30  40  50  60  70  80  90 100]\n"
     ]
    }
   ],
   "source": [
    "meu_array = np.array([10, 20, 30, 40, 50, 60, 70, 80, 90, 100])\n",
    "visao = meu_array.view()\n",
    "visao[0] = 250\n",
    "\n",
    "print(meu_array)\n",
    "print(visao)"
   ]
  },
  {
   "cell_type": "code",
   "execution_count": 14,
   "metadata": {},
   "outputs": [
    {
     "name": "stdout",
     "output_type": "stream",
     "text": [
      "[ 10  20  30  40  50  60  70  80  90 100]\n",
      "[250  20  30  40  50  60  70  80  90 100]\n",
      "[250  20  30  40  50  60  70  80  90 100]\n"
     ]
    }
   ],
   "source": [
    "meu_array = np.array([10, 20, 30, 40, 50, 60, 70, 80, 90, 100])\n",
    "print(meu_array)\n",
    "visao = meu_array\n",
    "visao[0] = 250\n",
    "\n",
    "\n",
    "print(visao)\n",
    "print(meu_array)"
   ]
  },
  {
   "cell_type": "markdown",
   "metadata": {},
   "source": [
    "## Checar se uma matriz é um cópia\n",
    "- As cópias possuem os dados e as visualizações não.\n",
    "- O atributo base pode ser usado para verificar se a matriz possuir os dados."
   ]
  },
  {
   "cell_type": "code",
   "execution_count": 15,
   "metadata": {},
   "outputs": [
    {
     "name": "stdout",
     "output_type": "stream",
     "text": [
      "None\n",
      "[ 10  20  30  40  50  60  70  80  90 100]\n"
     ]
    }
   ],
   "source": [
    "meu_array = np.array([10, 20, 30, 40, 50, 60, 70, 80, 90, 100])\n",
    "\n",
    "copia = meu_array.copy()\n",
    "visao = meu_array.view()\n",
    "\n",
    "print(copia.base)\n",
    "print(visao.base)"
   ]
  },
  {
   "cell_type": "code",
   "execution_count": null,
   "metadata": {},
   "outputs": [],
   "source": []
  }
 ],
 "metadata": {
  "kernelspec": {
   "display_name": "base",
   "language": "python",
   "name": "python3"
  },
  "language_info": {
   "codemirror_mode": {
    "name": "ipython",
    "version": 3
   },
   "file_extension": ".py",
   "mimetype": "text/x-python",
   "name": "python",
   "nbconvert_exporter": "python",
   "pygments_lexer": "ipython3",
   "version": "3.12.3"
  }
 },
 "nbformat": 4,
 "nbformat_minor": 2
}
