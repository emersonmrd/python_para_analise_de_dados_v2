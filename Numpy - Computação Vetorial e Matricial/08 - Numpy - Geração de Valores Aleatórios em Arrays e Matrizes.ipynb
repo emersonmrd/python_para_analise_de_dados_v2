{
 "cells": [
  {
   "cell_type": "markdown",
   "metadata": {
    "id": "-wttXmB0JYuh"
   },
   "source": [
    "# Numpy - Geração de Valores Aleatórios em Arrays e Matrizes"
   ]
  },
  {
   "cell_type": "markdown",
   "metadata": {
    "id": "B5Nb8ip3vP6r"
   },
   "source": [
    "## Gerando Números Aleatórios com o módulo random\n",
    "- Número (pseudo) aleatório é aquele que não pode ser previsto logicamente.\n",
    "\n",
    "### Gerar numeros inteiros aleatórios:\n"
   ]
  },
  {
   "cell_type": "code",
   "execution_count": 15,
   "metadata": {
    "colab": {
     "base_uri": "https://localhost:8080/"
    },
    "executionInfo": {
     "elapsed": 1415,
     "status": "ok",
     "timestamp": 1605572330986,
     "user": {
      "displayName": "Orlando O. S.",
      "photoUrl": "https://lh3.googleusercontent.com/a-/AOh14Gj-E1yuy1M_3ruwN4TWYPK4BwysauSW7GQmHheS=s64",
      "userId": "15066502291703974467"
     },
     "user_tz": 180
    },
    "id": "tnr8MfuovP6s",
    "outputId": "0e7c3818-5237-49df-8a54-c2f8c4d56d58"
   },
   "outputs": [
    {
     "name": "stdout",
     "output_type": "stream",
     "text": [
      "2\n"
     ]
    }
   ],
   "source": [
    "import numpy as np\n",
    "from numpy import random\n",
    "\n",
    "x = random.randint(30)\n",
    "\n",
    "print(x)"
   ]
  },
  {
   "cell_type": "markdown",
   "metadata": {
    "id": "UJvbm3rngFmV"
   },
   "source": [
    "### Gerar matriz de numeros inteiros aleatórios:"
   ]
  },
  {
   "cell_type": "code",
   "execution_count": 16,
   "metadata": {
    "colab": {
     "base_uri": "https://localhost:8080/"
    },
    "executionInfo": {
     "elapsed": 783,
     "status": "ok",
     "timestamp": 1605572446783,
     "user": {
      "displayName": "Orlando O. S.",
      "photoUrl": "https://lh3.googleusercontent.com/a-/AOh14Gj-E1yuy1M_3ruwN4TWYPK4BwysauSW7GQmHheS=s64",
      "userId": "15066502291703974467"
     },
     "user_tz": 180
    },
    "id": "ddRgRoJ7f7DM",
    "outputId": "ac82f5e8-91b4-442a-9408-62087a58d033"
   },
   "outputs": [
    {
     "name": "stdout",
     "output_type": "stream",
     "text": [
      "[30  5 43 36 38 36]\n"
     ]
    }
   ],
   "source": [
    "x=random.randint(60, size=(6))\n",
    "\n",
    "print(x)"
   ]
  },
  {
   "cell_type": "code",
   "execution_count": 17,
   "metadata": {
    "colab": {
     "base_uri": "https://localhost:8080/"
    },
    "executionInfo": {
     "elapsed": 1159,
     "status": "ok",
     "timestamp": 1605572370475,
     "user": {
      "displayName": "Orlando O. S.",
      "photoUrl": "https://lh3.googleusercontent.com/a-/AOh14Gj-E1yuy1M_3ruwN4TWYPK4BwysauSW7GQmHheS=s64",
      "userId": "15066502291703974467"
     },
     "user_tz": 180
    },
    "id": "1B51XiOMhA5r",
    "outputId": "8d250af7-3a82-49f9-8673-381b6f4d71c8"
   },
   "outputs": [
    {
     "name": "stdout",
     "output_type": "stream",
     "text": [
      "[[82 25 11 17  5]\n",
      " [58 76 92 13 49]\n",
      " [43 61  5 45 86]]\n"
     ]
    }
   ],
   "source": [
    "x = random.randint(100, size=(3, 5))\n",
    "\n",
    "print(x)"
   ]
  },
  {
   "cell_type": "markdown",
   "metadata": {
    "id": "qnyxFCyYvP6u"
   },
   "source": [
    "### Gerar flutuação aleatória usando método rand() \n",
    "- Esse método retorna uma flutuação aleatória entre 0 e 1.\n"
   ]
  },
  {
   "cell_type": "code",
   "execution_count": 18,
   "metadata": {
    "colab": {
     "base_uri": "https://localhost:8080/"
    },
    "executionInfo": {
     "elapsed": 814,
     "status": "ok",
     "timestamp": 1605572407346,
     "user": {
      "displayName": "Orlando O. S.",
      "photoUrl": "https://lh3.googleusercontent.com/a-/AOh14Gj-E1yuy1M_3ruwN4TWYPK4BwysauSW7GQmHheS=s64",
      "userId": "15066502291703974467"
     },
     "user_tz": 180
    },
    "id": "EaCS4zwWvP6u",
    "outputId": "e218b044-86f8-4b97-a30d-0531c0a5c759"
   },
   "outputs": [
    {
     "name": "stdout",
     "output_type": "stream",
     "text": [
      "0.4021740088538438\n"
     ]
    }
   ],
   "source": [
    "x = random.rand()\n",
    "\n",
    "print(x)"
   ]
  },
  {
   "cell_type": "code",
   "execution_count": 19,
   "metadata": {
    "colab": {
     "base_uri": "https://localhost:8080/"
    },
    "executionInfo": {
     "elapsed": 842,
     "status": "ok",
     "timestamp": 1605572465106,
     "user": {
      "displayName": "Orlando O. S.",
      "photoUrl": "https://lh3.googleusercontent.com/a-/AOh14Gj-E1yuy1M_3ruwN4TWYPK4BwysauSW7GQmHheS=s64",
      "userId": "15066502291703974467"
     },
     "user_tz": 180
    },
    "id": "LJZA4T1fi-_W",
    "outputId": "73dc2d9f-11df-4b6e-f599-ced85daedcaa"
   },
   "outputs": [
    {
     "name": "stdout",
     "output_type": "stream",
     "text": [
      "[0.69027356 0.63826881 0.30549192 0.29606976 0.15712251]\n"
     ]
    }
   ],
   "source": [
    "x = random.rand(5)\n",
    "\n",
    "print(x)"
   ]
  },
  {
   "cell_type": "code",
   "execution_count": 20,
   "metadata": {
    "colab": {
     "base_uri": "https://localhost:8080/"
    },
    "executionInfo": {
     "elapsed": 775,
     "status": "ok",
     "timestamp": 1605572469493,
     "user": {
      "displayName": "Orlando O. S.",
      "photoUrl": "https://lh3.googleusercontent.com/a-/AOh14Gj-E1yuy1M_3ruwN4TWYPK4BwysauSW7GQmHheS=s64",
      "userId": "15066502291703974467"
     },
     "user_tz": 180
    },
    "id": "ErxnyoEMjCME",
    "outputId": "7636685f-446e-494f-f49c-8d6479297afc"
   },
   "outputs": [
    {
     "name": "stdout",
     "output_type": "stream",
     "text": [
      "[[0.86181241 0.82722497 0.83618564 0.86036119 0.2475245 ]\n",
      " [0.57826369 0.3127502  0.39563461 0.01361423 0.73972357]\n",
      " [0.9391353  0.84935697 0.62477764 0.11922569 0.0603336 ]]\n"
     ]
    }
   ],
   "source": [
    "x = random.rand(3, 5)\n",
    "\n",
    "print(x)"
   ]
  },
  {
   "cell_type": "markdown",
   "metadata": {
    "id": "x91iRGVpiijW"
   },
   "source": [
    "### Combinando randint()  e   rand()  para gerar numero float maiores que 1"
   ]
  },
  {
   "cell_type": "code",
   "execution_count": 21,
   "metadata": {
    "colab": {
     "base_uri": "https://localhost:8080/"
    },
    "executionInfo": {
     "elapsed": 738,
     "status": "ok",
     "timestamp": 1605572498391,
     "user": {
      "displayName": "Orlando O. S.",
      "photoUrl": "https://lh3.googleusercontent.com/a-/AOh14Gj-E1yuy1M_3ruwN4TWYPK4BwysauSW7GQmHheS=s64",
      "userId": "15066502291703974467"
     },
     "user_tz": 180
    },
    "id": "vhSyLiJYhxFu",
    "outputId": "7fb7449c-0fc2-4253-fb3e-d727f6d7385b"
   },
   "outputs": [
    {
     "name": "stdout",
     "output_type": "stream",
     "text": [
      "[68.81792811 14.1821313  70.43926365 22.71893949 49.72706361]\n"
     ]
    }
   ],
   "source": [
    "x=random.randint(100, size=(5)) + random.rand(5) \n",
    "\n",
    "print(x)"
   ]
  },
  {
   "cell_type": "code",
   "execution_count": 22,
   "metadata": {
    "colab": {
     "base_uri": "https://localhost:8080/"
    },
    "executionInfo": {
     "elapsed": 831,
     "status": "ok",
     "timestamp": 1605572600577,
     "user": {
      "displayName": "Orlando O. S.",
      "photoUrl": "https://lh3.googleusercontent.com/a-/AOh14Gj-E1yuy1M_3ruwN4TWYPK4BwysauSW7GQmHheS=s64",
      "userId": "15066502291703974467"
     },
     "user_tz": 180
    },
    "id": "rwCbXHPwjUPG",
    "outputId": "1857524c-9992-434a-8809-c6619058f474"
   },
   "outputs": [
    {
     "name": "stdout",
     "output_type": "stream",
     "text": [
      "[[129.89108652 138.30918092 113.12614018 112.48925435 168.39171906]\n",
      " [135.90691553 146.77929978 140.97914946  99.95158063 185.79583712]\n",
      " [124.77161044 207.56980201 217.84124006 143.07048277 176.81476003]]\n"
     ]
    }
   ],
   "source": [
    "x=random.randint(80, 220, size=(3, 5)) + random.rand(3, 5) \n",
    "\n",
    "print(x)"
   ]
  },
  {
   "cell_type": "markdown",
   "metadata": {
    "id": "Hz9bJopFvP64"
   },
   "source": [
    "### Gerar número aleatório a partir de uma lista predefinida usando método choice()\n"
   ]
  },
  {
   "cell_type": "code",
   "execution_count": 23,
   "metadata": {
    "colab": {
     "base_uri": "https://localhost:8080/"
    },
    "executionInfo": {
     "elapsed": 977,
     "status": "ok",
     "timestamp": 1605572631553,
     "user": {
      "displayName": "Orlando O. S.",
      "photoUrl": "https://lh3.googleusercontent.com/a-/AOh14Gj-E1yuy1M_3ruwN4TWYPK4BwysauSW7GQmHheS=s64",
      "userId": "15066502291703974467"
     },
     "user_tz": 180
    },
    "id": "TTcnnXiXvP64",
    "outputId": "2cef59ee-dc6e-478d-859d-310000c60ca3"
   },
   "outputs": [
    {
     "name": "stdout",
     "output_type": "stream",
     "text": [
      "80\n"
     ]
    }
   ],
   "source": [
    "x = random.choice([10, 20, 30, 40, 50, 60, 70, 80, 90, 100])\n",
    "\n",
    "print(x)"
   ]
  },
  {
   "cell_type": "code",
   "execution_count": 24,
   "metadata": {
    "id": "6h6By-Rkk5Kh"
   },
   "outputs": [],
   "source": [
    "nomes= [ 'Emanuel', 'Miguel', 'Henry', 'Gael', 'Arthur Henrique', 'Luiz', \n",
    "            'José', 'Noah', 'Yago', 'André', 'Felipe', 'Pietro', 'Lucca', \n",
    "            'Raul', 'Luiz', 'Fernando', 'Eduardo', 'Ruan', 'Luiz Otávio', \n",
    "            'Davi Miguel', 'Rafael', 'Thiago', 'Oliver', 'Rodrigo', \n",
    "            'João Gabriel', 'Samuel', 'João Victor', 'Ryan', 'Pedro Miguel', \n",
    "            'Bryan', 'Enzo Gabriel', 'Pedro Henrique', 'Augusto', 'Leonardo', \n",
    "            'Kauê', 'Davi Lucas', 'Martin', 'Nicolas', 'Bernardo', \n",
    "            'Lucas Gabriel', 'Gabriel', 'Miguel Henrique', 'Lorenzo', 'Daniel',\n",
    "            'Gustavo', 'Caleb', 'Danilo', 'Pedro', 'João Miguel', 'Ian', \n",
    "            'Davi', 'Anthony', 'Pedro Lucas', 'Vinícius', 'João', 'Lucas', \n",
    "            'Tomás', 'Anthony Gabriel', 'Enzo', 'Bento', 'Benjamin', 'Vicente',\n",
    "            'Enzo Miguel', 'Théo', 'Fernanda Otávio', 'Matheus', \n",
    "            'Levi', 'Benício', 'Victor', 'Joaquim', 'Guilherme', 'Thomas', \n",
    "            'Enrico', 'Arthur', 'Carlos', 'Henrique', 'Luiz', \n",
    "            'João Guilherme', 'Breno', 'Davi', 'Luiz Henrique', \n",
    "            'Murilo', 'Cauã', 'Nathan', 'João Pedro', 'Yuri', 'Victor Hugo', \n",
    "            'Antônio', 'Kaique', 'Arthur Miguel', 'João Lucas', 'Caio', \n",
    "            'Davi Lucca', 'Arthur', 'Bruno', 'Luan', 'Heitor', 'Francisco', \n",
    "            'Isaac', ] "
   ]
  },
  {
   "cell_type": "code",
   "execution_count": 25,
   "metadata": {
    "colab": {
     "base_uri": "https://localhost:8080/"
    },
    "executionInfo": {
     "elapsed": 849,
     "status": "ok",
     "timestamp": 1605572658079,
     "user": {
      "displayName": "Orlando O. S.",
      "photoUrl": "https://lh3.googleusercontent.com/a-/AOh14Gj-E1yuy1M_3ruwN4TWYPK4BwysauSW7GQmHheS=s64",
      "userId": "15066502291703974467"
     },
     "user_tz": 180
    },
    "id": "KGDNLnbikruh",
    "outputId": "062c1dcc-fb9b-444d-eee2-a30716ae4bc0"
   },
   "outputs": [
    {
     "name": "stdout",
     "output_type": "stream",
     "text": [
      "Henrique\n"
     ]
    }
   ],
   "source": [
    "x = random.choice(nomes)\n",
    "\n",
    "print(x)"
   ]
  },
  {
   "cell_type": "code",
   "execution_count": 26,
   "metadata": {
    "colab": {
     "base_uri": "https://localhost:8080/"
    },
    "executionInfo": {
     "elapsed": 816,
     "status": "ok",
     "timestamp": 1605572679707,
     "user": {
      "displayName": "Orlando O. S.",
      "photoUrl": "https://lh3.googleusercontent.com/a-/AOh14Gj-E1yuy1M_3ruwN4TWYPK4BwysauSW7GQmHheS=s64",
      "userId": "15066502291703974467"
     },
     "user_tz": 180
    },
    "id": "NF6VV5WbvP69",
    "outputId": "9f3c761a-465e-4db2-b5d3-4857b4b845ac"
   },
   "outputs": [
    {
     "name": "stdout",
     "output_type": "stream",
     "text": [
      "[['Levi' 'Thomas' 'Kaique' 'José' 'André']\n",
      " ['Ian' 'Emanuel' 'Pedro Lucas' 'Ruan' 'Gustavo']\n",
      " ['Gustavo' 'Ryan' 'Noah' 'João Pedro' 'Davi Miguel']]\n"
     ]
    }
   ],
   "source": [
    "x = random.choice(nomes, size=(3, 5))\n",
    "\n",
    "print(x)"
   ]
  },
  {
   "cell_type": "markdown",
   "metadata": {
    "id": "yjnZiu4KvP6_"
   },
   "source": [
    "### Permutações aleatórias de elementos shuffle() e permutation()\n",
    "- shuffle() altera a disposição dos elementos  na própria matriz.\n"
   ]
  },
  {
   "cell_type": "code",
   "execution_count": 27,
   "metadata": {
    "colab": {
     "base_uri": "https://localhost:8080/"
    },
    "executionInfo": {
     "elapsed": 759,
     "status": "ok",
     "timestamp": 1605572713969,
     "user": {
      "displayName": "Orlando O. S.",
      "photoUrl": "https://lh3.googleusercontent.com/a-/AOh14Gj-E1yuy1M_3ruwN4TWYPK4BwysauSW7GQmHheS=s64",
      "userId": "15066502291703974467"
     },
     "user_tz": 180
    },
    "id": "UMJqj8kHvP7A",
    "outputId": "ad6ae6ec-9fbd-4b51-f2da-acd7803887de"
   },
   "outputs": [
    {
     "name": "stdout",
     "output_type": "stream",
     "text": [
      "[ 10  20  30  40  50  60  70  80  90 100]\n",
      "[ 20 100  30  40  70  10  50  90  80  60]\n"
     ]
    }
   ],
   "source": [
    "meu_array = np.array([10, 20, 30, 40, 50, 60, 70, 80, 90, 100])\n",
    "\n",
    "print(meu_array)\n",
    "\n",
    "np.random.shuffle(meu_array)\n",
    "\n",
    "print(meu_array)"
   ]
  },
  {
   "cell_type": "markdown",
   "metadata": {
    "id": "Pkf4O1K0mdsk"
   },
   "source": [
    "- permutation()  retorna uma matriz reorganizada (e deixa a matriz original inalterada)"
   ]
  },
  {
   "cell_type": "code",
   "execution_count": 28,
   "metadata": {
    "colab": {
     "base_uri": "https://localhost:8080/"
    },
    "executionInfo": {
     "elapsed": 806,
     "status": "ok",
     "timestamp": 1605572735071,
     "user": {
      "displayName": "Orlando O. S.",
      "photoUrl": "https://lh3.googleusercontent.com/a-/AOh14Gj-E1yuy1M_3ruwN4TWYPK4BwysauSW7GQmHheS=s64",
      "userId": "15066502291703974467"
     },
     "user_tz": 180
    },
    "id": "0RNBxkbtmSkv",
    "outputId": "a1e36a7b-33e1-47d9-fcce-56b00bbdfd93"
   },
   "outputs": [
    {
     "name": "stdout",
     "output_type": "stream",
     "text": [
      "[ 10  20  30  40  50  60  70  80  90 100]\n",
      "[ 10  20  30  40  50  60  70  80  90 100]\n",
      "[ 30  80  60  70  10  40  90 100  20  50]\n"
     ]
    }
   ],
   "source": [
    "meu_array = np.array([10, 20, 30, 40, 50, 60, 70, 80, 90, 100])\n",
    "\n",
    "print(meu_array)\n",
    "\n",
    "novo_array = np.random.permutation(meu_array)\n",
    "\n",
    "print(meu_array)\n",
    "\n",
    "print(novo_array)\n"
   ]
  }
 ],
 "metadata": {
  "colab": {
   "collapsed_sections": [],
   "name": "Aula 07 Introdução à Linguagem de Python para Analytics e Data Science.ipynb",
   "provenance": []
  },
  "kernelspec": {
   "display_name": "base",
   "language": "python",
   "name": "python3"
  },
  "language_info": {
   "codemirror_mode": {
    "name": "ipython",
    "version": 3
   },
   "file_extension": ".py",
   "mimetype": "text/x-python",
   "name": "python",
   "nbconvert_exporter": "python",
   "pygments_lexer": "ipython3",
   "version": "3.12.3"
  }
 },
 "nbformat": 4,
 "nbformat_minor": 1
}
