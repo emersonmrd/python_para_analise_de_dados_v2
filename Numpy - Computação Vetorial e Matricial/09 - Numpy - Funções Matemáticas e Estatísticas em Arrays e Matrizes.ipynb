{
 "cells": [
  {
   "cell_type": "markdown",
   "metadata": {
    "id": "-wttXmB0JYuh"
   },
   "source": [
    "# Numpy - Funções Matemáticas e Estatísticas em Arrays e Matrizes"
   ]
  },
  {
   "cell_type": "markdown",
   "metadata": {
    "id": "1s9ULEpevP7E"
   },
   "source": [
    "## Ufuncs NumPy\n",
    "- ufuncs são \"Funções Universais\" que operam no objeto ndarray por meio de vetorização (operação baseada em vetor em vez de iteracao) no NumPy, que é muito mais rápido do que iterar sobre os elementos.\n",
    "\n",
    "- fornecem transmissão e métodos adicionais, como reduzir, acumular, entre outros.\n",
    "- aceitam argumentos adicionais, como: where, dtype e out.\n",
    "\n",
    "- operação baseada em vetor são mais rápidas porque as CPUs modernas são otimizadas para esse tipo de operações."
   ]
  },
  {
   "cell_type": "markdown",
   "metadata": {
    "id": "JzXtie2fvP7E"
   },
   "source": [
    "### Verifique a diferença de tempo de processamento entre uma mesma operação interativa e uma operação vetorial"
   ]
  },
  {
   "cell_type": "code",
   "execution_count": 5,
   "metadata": {
    "colab": {
     "base_uri": "https://localhost:8080/"
    },
    "executionInfo": {
     "elapsed": 1250,
     "status": "ok",
     "timestamp": 1605571921194,
     "user": {
      "displayName": "Orlando O. S.",
      "photoUrl": "https://lh3.googleusercontent.com/a-/AOh14Gj-E1yuy1M_3ruwN4TWYPK4BwysauSW7GQmHheS=s64",
      "userId": "15066502291703974467"
     },
     "user_tz": 180
    },
    "id": "aDYOmIN6vP7F",
    "outputId": "07e02289-3b3b-41a5-b8b8-6c1b0c2f2297"
   },
   "outputs": [
    {
     "name": "stdout",
     "output_type": "stream",
     "text": [
      "(10000000,)\n"
     ]
    }
   ],
   "source": [
    "import numpy as np\n",
    "from numpy import random\n",
    "x = np.random.randint(100, size=(10**7))\n",
    "y = np.random.randint(100, size=(10**7))\n",
    "z = []\n",
    "print(x.shape)"
   ]
  },
  {
   "cell_type": "code",
   "execution_count": 2,
   "metadata": {
    "colab": {
     "base_uri": "https://localhost:8080/"
    },
    "executionInfo": {
     "elapsed": 19141,
     "status": "ok",
     "timestamp": 1605571944174,
     "user": {
      "displayName": "Orlando O. S.",
      "photoUrl": "https://lh3.googleusercontent.com/a-/AOh14Gj-E1yuy1M_3ruwN4TWYPK4BwysauSW7GQmHheS=s64",
      "userId": "15066502291703974467"
     },
     "user_tz": 180
    },
    "id": "oGDC_pndsTr6",
    "outputId": "8ceffad2-1f5e-4040-bf6f-bd4616ea9a64"
   },
   "outputs": [
    {
     "name": "stdout",
     "output_type": "stream",
     "text": [
      "2.87 s ± 96.7 ms per loop (mean ± std. dev. of 7 runs, 1 loop each)\n"
     ]
    }
   ],
   "source": [
    "%%timeit\n",
    "for i, j in zip(x, y):\n",
    "  z.append(i + j)"
   ]
  },
  {
   "cell_type": "code",
   "execution_count": 3,
   "metadata": {
    "colab": {
     "base_uri": "https://localhost:8080/"
    },
    "executionInfo": {
     "elapsed": 2249,
     "status": "ok",
     "timestamp": 1605571946488,
     "user": {
      "displayName": "Orlando O. S.",
      "photoUrl": "https://lh3.googleusercontent.com/a-/AOh14Gj-E1yuy1M_3ruwN4TWYPK4BwysauSW7GQmHheS=s64",
      "userId": "15066502291703974467"
     },
     "user_tz": 180
    },
    "id": "uConOuPgvP7G",
    "outputId": "3bfe9136-6857-4ff1-efef-4f9901f639d7"
   },
   "outputs": [
    {
     "name": "stdout",
     "output_type": "stream",
     "text": [
      "24.4 ms ± 1.34 ms per loop (mean ± std. dev. of 7 runs, 10 loops each)\n"
     ]
    }
   ],
   "source": [
    "%%timeit\n",
    "z = np.add(x, y)"
   ]
  },
  {
   "cell_type": "markdown",
   "metadata": {
    "id": "UVYY2RTRtrmC"
   },
   "source": [
    "### O NumPy oferece uma grande quantidade de funções vetorias para diversos fins\n",
    "\n",
    "\n",
    "- Cálculos matemáticos: https://numpy.org/doc/stable/reference/routines.math.html\n",
    "- Cálculos estatísticos:  https://numpy.org/doc/stable/reference/routines.statistics.html\n",
    "\n",
    "- Calculos financeiros: https://numpy.org/doc/stable/reference/routines.financial.html\n",
    "- Manipulação de texto: https://numpy.org/doc/stable/reference/routines.char.html\n",
    "- Algebra linear: https://numpy.org/doc/stable/reference/routines.linalg.html"
   ]
  },
  {
   "cell_type": "markdown",
   "metadata": {
    "id": "HpE-UEnPu8eA"
   },
   "source": [
    "## Exemplo de cálculos matemáticos\n",
    "\n",
    "- Cálculos matemáticos: https://numpy.org/doc/stable/reference/routines.math.html\n"
   ]
  },
  {
   "cell_type": "markdown",
   "metadata": {
    "id": "e7ighbcYvsdf"
   },
   "source": [
    "#### floor(x, /[, out, where, casting, order, …])\n",
    "- Retorma o array com valor arrendondados para o inteiro menor"
   ]
  },
  {
   "cell_type": "code",
   "execution_count": 6,
   "metadata": {
    "colab": {
     "base_uri": "https://localhost:8080/"
    },
    "executionInfo": {
     "elapsed": 752,
     "status": "ok",
     "timestamp": 1605573204272,
     "user": {
      "displayName": "Orlando O. S.",
      "photoUrl": "https://lh3.googleusercontent.com/a-/AOh14Gj-E1yuy1M_3ruwN4TWYPK4BwysauSW7GQmHheS=s64",
      "userId": "15066502291703974467"
     },
     "user_tz": 180
    },
    "id": "1Bo6Rx7pyGs5",
    "outputId": "96e5a888-c55b-448e-893a-e2d9f4600090"
   },
   "outputs": [
    {
     "name": "stdout",
     "output_type": "stream",
     "text": [
      "[[35.4593916  38.22163532  5.69097779 75.62155525 12.43091952]\n",
      " [88.97908642 46.53795799  9.88756685 86.61352485 41.82831898]\n",
      " [13.3468714  47.05749002 87.62483645 31.40803627 64.07108739]]\n"
     ]
    }
   ],
   "source": [
    "x=random.randint(100, size=(3, 5)) + random.rand(3, 5) \n",
    "\n",
    "print(x)"
   ]
  },
  {
   "cell_type": "code",
   "execution_count": 7,
   "metadata": {
    "colab": {
     "base_uri": "https://localhost:8080/"
    },
    "executionInfo": {
     "elapsed": 856,
     "status": "ok",
     "timestamp": 1605573212280,
     "user": {
      "displayName": "Orlando O. S.",
      "photoUrl": "https://lh3.googleusercontent.com/a-/AOh14Gj-E1yuy1M_3ruwN4TWYPK4BwysauSW7GQmHheS=s64",
      "userId": "15066502291703974467"
     },
     "user_tz": 180
    },
    "id": "FFv_Z2qT504f",
    "outputId": "a0c49084-ac8f-422b-9a12-0a7d0d6f6015"
   },
   "outputs": [
    {
     "name": "stdout",
     "output_type": "stream",
     "text": [
      "[[68.68541514 39.77005783 88.00967959 73.83990889 93.47514803]\n",
      " [30.73491414  7.69489495 60.09407342 64.09539499 18.61243209]\n",
      " [18.44606839 18.76883423 52.52469858 55.12978386 82.42041473]]\n",
      "[[68. 39. 88. 73. 93.]\n",
      " [30.  7. 60. 64. 18.]\n",
      " [18. 18. 52. 55. 82.]]\n",
      "[[68.68541514 39.77005783 88.00967959 73.83990889 93.47514803]\n",
      " [30.73491414  7.69489495 60.09407342 64.09539499 18.61243209]\n",
      " [18.44606839 18.76883423 52.52469858 55.12978386 82.42041473]]\n"
     ]
    }
   ],
   "source": [
    "x=random.randint(100, size=(3, 5)) + random.rand(3, 5) \n",
    "\n",
    "print(x)\n",
    "\n",
    "print(np.floor(x))\n",
    "\n",
    "print(x)"
   ]
  },
  {
   "cell_type": "code",
   "execution_count": 8,
   "metadata": {
    "colab": {
     "base_uri": "https://localhost:8080/"
    },
    "executionInfo": {
     "elapsed": 959,
     "status": "ok",
     "timestamp": 1605573714360,
     "user": {
      "displayName": "Orlando O. S.",
      "photoUrl": "https://lh3.googleusercontent.com/a-/AOh14Gj-E1yuy1M_3ruwN4TWYPK4BwysauSW7GQmHheS=s64",
      "userId": "15066502291703974467"
     },
     "user_tz": 180
    },
    "id": "f8CKrP3BzyN6",
    "outputId": "fca2689b-dfbc-4318-fe36-904280fd4a58"
   },
   "outputs": [
    {
     "name": "stdout",
     "output_type": "stream",
     "text": [
      "[[58.16484511 71.34702298 69.62098459 60.17857795 91.81510221]\n",
      " [82.96279104 46.49461277  3.04719466 57.5252098  15.91818223]\n",
      " [42.76270506 63.20290034 24.69743028 63.44132575 72.0347816 ]]\n",
      "[[58. 71. 69. 60. 91.]\n",
      " [82. 46.  3. 57. 15.]\n",
      " [42. 63. 24. 63. 72.]]\n",
      "[[58. 71. 69. 60. 91.]\n",
      " [82. 46.  3. 57. 15.]\n",
      " [42. 63. 24. 63. 72.]]\n"
     ]
    }
   ],
   "source": [
    "x= np.random.randint(100, size=(3, 5)) + np.random.rand(3, 5) \n",
    "\n",
    "print(x)\n",
    "\n",
    "print(np.floor(x, out=x))\n",
    "\n",
    "print(x)"
   ]
  },
  {
   "cell_type": "code",
   "execution_count": 24,
   "metadata": {
    "colab": {
     "base_uri": "https://localhost:8080/"
    },
    "executionInfo": {
     "elapsed": 753,
     "status": "ok",
     "timestamp": 1605573366572,
     "user": {
      "displayName": "Orlando O. S.",
      "photoUrl": "https://lh3.googleusercontent.com/a-/AOh14Gj-E1yuy1M_3ruwN4TWYPK4BwysauSW7GQmHheS=s64",
      "userId": "15066502291703974467"
     },
     "user_tz": 180
    },
    "id": "6VF2hAC050TF",
    "outputId": "346dbd4a-63db-4b60-b97f-efd961c8a3ca"
   },
   "outputs": [
    {
     "name": "stdout",
     "output_type": "stream",
     "text": [
      "[[21.78994558 87.81137619 88.89390041 11.54588834 88.71884355]\n",
      " [30.94965373 52.71319196 33.52866726 92.53751567 34.25150956]\n",
      " [44.5815499  36.09971529 16.9531947   4.65845114 35.42989372]]\n",
      "[[ 0. 87. 88.  0. 88.]\n",
      " [ 0. 52.  0. 92.  0.]\n",
      " [ 0.  0.  0.  0.  0.]]\n",
      "[[21.78994558 87.81137619 88.89390041 11.54588834 88.71884355]\n",
      " [30.94965373 52.71319196 33.52866726 92.53751567 34.25150956]\n",
      " [44.5815499  36.09971529 16.9531947   4.65845114 35.42989372]]\n",
      "[[ 0. 87. 88.  0. 88.]\n",
      " [ 0. 52.  0. 92.  0.]\n",
      " [ 0.  0.  0.  0.  0.]]\n"
     ]
    }
   ],
   "source": [
    "x=random.randint(100, size=(3, 5)) + random.rand(3, 5) \n",
    "\n",
    "print(x)\n",
    "\n",
    "resultado = np.zeros(x.shape)\n",
    "\n",
    "print(np.floor(x, where=x>50 , out=resultado))\n",
    "\n",
    "print(x)\n",
    "\n",
    "print(resultado)\n"
   ]
  },
  {
   "cell_type": "markdown",
   "metadata": {
    "id": "pZGqZ0ruyYn7"
   },
   "source": [
    "### ceil(x, /[, out, where, casting, order, …])\n",
    "\n",
    "Retorna o inteiro superior"
   ]
  },
  {
   "cell_type": "code",
   "execution_count": 10,
   "metadata": {
    "colab": {
     "base_uri": "https://localhost:8080/"
    },
    "executionInfo": {
     "elapsed": 727,
     "status": "ok",
     "timestamp": 1605573390375,
     "user": {
      "displayName": "Orlando O. S.",
      "photoUrl": "https://lh3.googleusercontent.com/a-/AOh14Gj-E1yuy1M_3ruwN4TWYPK4BwysauSW7GQmHheS=s64",
      "userId": "15066502291703974467"
     },
     "user_tz": 180
    },
    "id": "BW-oVDHz_KSR",
    "outputId": "360a841d-4428-4569-d35b-c33615234278"
   },
   "outputs": [
    {
     "name": "stdout",
     "output_type": "stream",
     "text": [
      "[[42.22068302 51.41866054 37.11130664 81.46544987 23.14102299]\n",
      " [20.46304037 92.4136822  65.89367789  7.82047687 36.69927302]\n",
      " [99.36484775 73.92916528 91.10605592 54.05569804 66.63632151]]\n",
      "[[ 43.  52.  38.  82.  24.]\n",
      " [ 21.  93.  66.   8.  37.]\n",
      " [100.  74.  92.  55.  67.]]\n"
     ]
    }
   ],
   "source": [
    "x=random.randint(100, size=(3, 5)) + random.rand(3, 5) \n",
    "\n",
    "print(x)\n",
    "\n",
    "print(np.ceil(x))\n"
   ]
  },
  {
   "cell_type": "markdown",
   "metadata": {
    "id": "DON2eLIn_R6y"
   },
   "source": [
    "### prod(a[, axis, dtype, out, keepdims, …])\n",
    "- Retorna o produto dos elementos de um array no eixo informado"
   ]
  },
  {
   "cell_type": "code",
   "execution_count": 11,
   "metadata": {
    "colab": {
     "base_uri": "https://localhost:8080/"
    },
    "executionInfo": {
     "elapsed": 753,
     "status": "ok",
     "timestamp": 1605573419009,
     "user": {
      "displayName": "Orlando O. S.",
      "photoUrl": "https://lh3.googleusercontent.com/a-/AOh14Gj-E1yuy1M_3ruwN4TWYPK4BwysauSW7GQmHheS=s64",
      "userId": "15066502291703974467"
     },
     "user_tz": 180
    },
    "id": "If8ZJYxH_y2x",
    "outputId": "4ca0d9be-66aa-4d4a-ccaf-8510ad38d53e"
   },
   "outputs": [
    {
     "name": "stdout",
     "output_type": "stream",
     "text": [
      "[[4 4]\n",
      " [3 3]\n",
      " [2 4]]\n",
      "[24 48]\n"
     ]
    }
   ],
   "source": [
    "# Produto das colunas\n",
    "a=random.randint(1,5, size=(3, 2)) \n",
    "\n",
    "print(a)\n",
    "\n",
    "print(np.prod(a,axis=0))"
   ]
  },
  {
   "cell_type": "code",
   "execution_count": 12,
   "metadata": {
    "colab": {
     "base_uri": "https://localhost:8080/"
    },
    "executionInfo": {
     "elapsed": 696,
     "status": "ok",
     "timestamp": 1605573451476,
     "user": {
      "displayName": "Orlando O. S.",
      "photoUrl": "https://lh3.googleusercontent.com/a-/AOh14Gj-E1yuy1M_3ruwN4TWYPK4BwysauSW7GQmHheS=s64",
      "userId": "15066502291703974467"
     },
     "user_tz": 180
    },
    "id": "45ZjT84vBLij",
    "outputId": "0b2b1b4b-1995-421a-9e67-aee95b8bcc2f"
   },
   "outputs": [
    {
     "name": "stdout",
     "output_type": "stream",
     "text": [
      "[[4 3]\n",
      " [3 3]\n",
      " [4 3]]\n",
      "[12  9 12]\n"
     ]
    }
   ],
   "source": [
    "# Produto das linhas\n",
    "a=random.randint(1,5, size=(3, 2)) \n",
    "\n",
    "print(a)\n",
    "\n",
    "print(np.prod(a,axis=1))"
   ]
  },
  {
   "cell_type": "markdown",
   "metadata": {
    "id": "OE9an3-SCLSz"
   },
   "source": [
    "### sum(a[, axis, dtype, out, keepdims, …])\n",
    "Retorna a soma dos elementos do array para o eixo escolhido"
   ]
  },
  {
   "cell_type": "code",
   "execution_count": 13,
   "metadata": {
    "colab": {
     "base_uri": "https://localhost:8080/"
    },
    "executionInfo": {
     "elapsed": 828,
     "status": "ok",
     "timestamp": 1605573469836,
     "user": {
      "displayName": "Orlando O. S.",
      "photoUrl": "https://lh3.googleusercontent.com/a-/AOh14Gj-E1yuy1M_3ruwN4TWYPK4BwysauSW7GQmHheS=s64",
      "userId": "15066502291703974467"
     },
     "user_tz": 180
    },
    "id": "C1CZo1GLCLS1",
    "outputId": "41d47cc6-327f-4cab-8334-5d21d08393e7"
   },
   "outputs": [
    {
     "name": "stdout",
     "output_type": "stream",
     "text": [
      "[[3 3]\n",
      " [1 2]\n",
      " [2 4]]\n",
      "[6 9]\n"
     ]
    }
   ],
   "source": [
    "# soma das colunas\n",
    "a=random.randint(1,5, size=(3, 2)) \n",
    "\n",
    "print(a)\n",
    "\n",
    "print(np.sum(a,axis=0))"
   ]
  },
  {
   "cell_type": "code",
   "execution_count": 14,
   "metadata": {
    "colab": {
     "base_uri": "https://localhost:8080/"
    },
    "executionInfo": {
     "elapsed": 856,
     "status": "ok",
     "timestamp": 1605573524462,
     "user": {
      "displayName": "Orlando O. S.",
      "photoUrl": "https://lh3.googleusercontent.com/a-/AOh14Gj-E1yuy1M_3ruwN4TWYPK4BwysauSW7GQmHheS=s64",
      "userId": "15066502291703974467"
     },
     "user_tz": 180
    },
    "id": "gdsmboGYCLS4",
    "outputId": "cb1a69bd-0e60-458d-9475-43094fbc7304"
   },
   "outputs": [
    {
     "name": "stdout",
     "output_type": "stream",
     "text": [
      "[[4 2]\n",
      " [1 3]\n",
      " [2 4]]\n",
      "[6 4 6]\n"
     ]
    }
   ],
   "source": [
    "# soma das linhas\n",
    "a=random.randint(1,5, size=(3, 2)) \n",
    "\n",
    "print(a)\n",
    "\n",
    "print(np.sum(a,axis=1))"
   ]
  },
  {
   "cell_type": "markdown",
   "metadata": {
    "id": "oUY5aAyUCMdw"
   },
   "source": [
    "### exp(x, /[, out, where, casting, order, …])\n",
    "- Retorna o exponencial dos elementos de um array (e=2.718281)"
   ]
  },
  {
   "cell_type": "code",
   "execution_count": 15,
   "metadata": {
    "colab": {
     "base_uri": "https://localhost:8080/"
    },
    "executionInfo": {
     "elapsed": 801,
     "status": "ok",
     "timestamp": 1605573547050,
     "user": {
      "displayName": "Orlando O. S.",
      "photoUrl": "https://lh3.googleusercontent.com/a-/AOh14Gj-E1yuy1M_3ruwN4TWYPK4BwysauSW7GQmHheS=s64",
      "userId": "15066502291703974467"
     },
     "user_tz": 180
    },
    "id": "33sMHbtfCMdy",
    "outputId": "6c1df521-067c-4b90-fdf0-d6d143e1ef79"
   },
   "outputs": [
    {
     "name": "stdout",
     "output_type": "stream",
     "text": [
      "[[2 4]\n",
      " [2 4]\n",
      " [4 2]]\n",
      "[[ 7.3890561  54.59815003]\n",
      " [ 7.3890561  54.59815003]\n",
      " [54.59815003  7.3890561 ]]\n"
     ]
    }
   ],
   "source": [
    "a=random.randint(1,5, size=(3, 2)) \n",
    "\n",
    "print(a)\n",
    "\n",
    "print(np.exp(a))\n",
    "\n"
   ]
  },
  {
   "cell_type": "markdown",
   "metadata": {
    "id": "kySwgKE0Doky"
   },
   "source": [
    "### log10(x, /[, out, where, casting, order, …])\n",
    "- Retorna o logarítimo na base 10 dos elementos do array"
   ]
  },
  {
   "cell_type": "code",
   "execution_count": 16,
   "metadata": {
    "colab": {
     "base_uri": "https://localhost:8080/"
    },
    "executionInfo": {
     "elapsed": 739,
     "status": "ok",
     "timestamp": 1605573592526,
     "user": {
      "displayName": "Orlando O. S.",
      "photoUrl": "https://lh3.googleusercontent.com/a-/AOh14Gj-E1yuy1M_3ruwN4TWYPK4BwysauSW7GQmHheS=s64",
      "userId": "15066502291703974467"
     },
     "user_tz": 180
    },
    "id": "sMhD_v0GDok3",
    "outputId": "ad203994-fe2c-4a83-e73c-7da0b4a9b3cd"
   },
   "outputs": [
    {
     "name": "stdout",
     "output_type": "stream",
     "text": [
      "[[1578 1607]\n",
      " [1544 1026]\n",
      " [1731 1834]]\n",
      "[[3.198107   3.20601588]\n",
      " [3.1886473  3.01114736]\n",
      " [3.23829707 3.26339933]]\n"
     ]
    }
   ],
   "source": [
    "a=random.randint(1000,2000, size=(3, 2)) \n",
    "\n",
    "print(a)\n",
    "\n",
    "print(np.log10(a))\n",
    "\n"
   ]
  },
  {
   "cell_type": "markdown",
   "metadata": {
    "id": "EvzMpJhPEphQ"
   },
   "source": [
    "## Exemplo de cálculos estatísticos\n",
    "\n",
    "- Cálculos estatísticos:  https://numpy.org/doc/stable/reference/routines.statistics.html"
   ]
  },
  {
   "cell_type": "markdown",
   "metadata": {
    "id": "jFk0MpzjEhfS"
   },
   "source": [
    "### amin(a[, axis, out, keepdims, initial, where])\n",
    "- Retorna o menor valor do array para o eixo informado"
   ]
  },
  {
   "cell_type": "code",
   "execution_count": 17,
   "metadata": {
    "colab": {
     "base_uri": "https://localhost:8080/"
    },
    "executionInfo": {
     "elapsed": 743,
     "status": "ok",
     "timestamp": 1605573740811,
     "user": {
      "displayName": "Orlando O. S.",
      "photoUrl": "https://lh3.googleusercontent.com/a-/AOh14Gj-E1yuy1M_3ruwN4TWYPK4BwysauSW7GQmHheS=s64",
      "userId": "15066502291703974467"
     },
     "user_tz": 180
    },
    "id": "GapAWvOvEhfT",
    "outputId": "d3fb8bda-2afa-4e4e-e247-d4ea066e447d"
   },
   "outputs": [
    {
     "name": "stdout",
     "output_type": "stream",
     "text": [
      "[[66 60 66 57 63]\n",
      " [36 43 54 35 24]\n",
      " [32 49 11 63 68]\n",
      " [35 51 17 41 18]\n",
      " [55 67 35 20 35]]\n",
      "[32 43 11 20 18]\n",
      "[57 24 11 17 20]\n"
     ]
    }
   ],
   "source": [
    "a=random.randint(10,70, size=(5, 5)) \n",
    "\n",
    "print(a)\n",
    "\n",
    "print(np.amin(a, axis=0))\n",
    "\n",
    "print(np.amin(a, axis=1))"
   ]
  },
  {
   "cell_type": "markdown",
   "metadata": {
    "id": "nNg9LOJrFUyP"
   },
   "source": [
    "### amax(a[, axis, out, keepdims, initial, where])\n",
    "- Retorna o maior valor do array para o eixo informado"
   ]
  },
  {
   "cell_type": "code",
   "execution_count": 18,
   "metadata": {
    "colab": {
     "base_uri": "https://localhost:8080/"
    },
    "executionInfo": {
     "elapsed": 756,
     "status": "ok",
     "timestamp": 1605573808269,
     "user": {
      "displayName": "Orlando O. S.",
      "photoUrl": "https://lh3.googleusercontent.com/a-/AOh14Gj-E1yuy1M_3ruwN4TWYPK4BwysauSW7GQmHheS=s64",
      "userId": "15066502291703974467"
     },
     "user_tz": 180
    },
    "id": "cyf6K5K4FUyQ",
    "outputId": "b46798c1-8283-4079-91fb-9064cf63707b"
   },
   "outputs": [
    {
     "name": "stdout",
     "output_type": "stream",
     "text": [
      "[[50 17 45 57 21]\n",
      " [66 16 58 32 20]\n",
      " [13 49 25 37 65]\n",
      " [34 68 43 19 22]\n",
      " [34 47 68 10 63]]\n",
      "[66 68 68 57 65]\n",
      "[57 66 65 68 68]\n"
     ]
    }
   ],
   "source": [
    "a=random.randint(10,70, size=(5, 5)) \n",
    "\n",
    "print(a)\n",
    "\n",
    "print(np.amax(a, axis=0))\n",
    "\n",
    "print(np.amax(a, axis=1))"
   ]
  },
  {
   "cell_type": "markdown",
   "metadata": {
    "id": "Le7ME4LgFk6L"
   },
   "source": [
    "### median(a[, axis, out, overwrite_input, keepdims])\n",
    "- Retorna a mediana dos valores do array para o eixo informado"
   ]
  },
  {
   "cell_type": "code",
   "execution_count": 19,
   "metadata": {
    "colab": {
     "base_uri": "https://localhost:8080/"
    },
    "executionInfo": {
     "elapsed": 932,
     "status": "ok",
     "timestamp": 1605573823913,
     "user": {
      "displayName": "Orlando O. S.",
      "photoUrl": "https://lh3.googleusercontent.com/a-/AOh14Gj-E1yuy1M_3ruwN4TWYPK4BwysauSW7GQmHheS=s64",
      "userId": "15066502291703974467"
     },
     "user_tz": 180
    },
    "id": "be6dCBckFk6O",
    "outputId": "7cd13bdc-3d61-482d-ac07-c58e6de304ac"
   },
   "outputs": [
    {
     "name": "stdout",
     "output_type": "stream",
     "text": [
      "[[37 30 25 17 24]\n",
      " [41 59 34 28 10]\n",
      " [49 60 18 11 31]\n",
      " [48 12 17 46 60]\n",
      " [20 57 52 24 52]]\n",
      "[41. 57. 25. 24. 31.]\n",
      "[25. 34. 31. 46. 52.]\n"
     ]
    }
   ],
   "source": [
    "a=random.randint(10,70, size=(5, 5)) \n",
    "\n",
    "print(a)\n",
    "\n",
    "print(np.median(a, axis=0))\n",
    "\n",
    "print(np.median(a, axis=1))"
   ]
  },
  {
   "cell_type": "markdown",
   "metadata": {
    "id": "5wH3D9kJF1KY"
   },
   "source": [
    "### average(a[, axis, weights, returned])\n",
    "- Retorna a media ponderada dos valores do array para o eixo informado"
   ]
  },
  {
   "cell_type": "code",
   "execution_count": 20,
   "metadata": {
    "colab": {
     "base_uri": "https://localhost:8080/"
    },
    "executionInfo": {
     "elapsed": 964,
     "status": "ok",
     "timestamp": 1605573983244,
     "user": {
      "displayName": "Orlando O. S.",
      "photoUrl": "https://lh3.googleusercontent.com/a-/AOh14Gj-E1yuy1M_3ruwN4TWYPK4BwysauSW7GQmHheS=s64",
      "userId": "15066502291703974467"
     },
     "user_tz": 180
    },
    "id": "-aSyt-P8F1KZ",
    "outputId": "822002c1-712a-4f53-8a70-6fc77f5e5dcc"
   },
   "outputs": [
    {
     "name": "stdout",
     "output_type": "stream",
     "text": [
      "[[38 27 37 65 42]\n",
      " [51 21 62 64 16]\n",
      " [29 67 14 35 19]\n",
      " [31 39 62 14 52]\n",
      " [46 28 20 41 58]]\n",
      "media coluna [39.  36.4 39.  43.8 37.4]\n",
      "media linha [41.8 42.8 32.8 39.6 38.6]\n",
      "pesos [[4 2 4 3 3]\n",
      " [3 3 1 1 3]\n",
      " [1 1 2 2 2]\n",
      " [3 4 2 1 3]\n",
      " [1 1 1 1 4]]\n",
      "media ponderada coluna [39.41666667 33.45454545 38.2        48.         40.        ]\n",
      "media ponderada linha [42.1875     35.45454545 29.         41.76923077 45.875     ]\n"
     ]
    }
   ],
   "source": [
    "a=random.randint(10,70, size=(5, 5)) \n",
    "print(a)\n",
    "\n",
    "print('media coluna',np.average(a, axis=0))\n",
    "\n",
    "print('media linha',np.average(a, axis=1))\n",
    "\n",
    "pesos = random.randint(1,5, size=(5, 5)) \n",
    "\n",
    "print('pesos',pesos)\n",
    "\n",
    "print('media ponderada coluna',np.average(a, axis=0, weights=pesos))\n",
    "\n",
    "print('media ponderada linha',np.average(a, axis=1, weights=pesos))\n"
   ]
  },
  {
   "cell_type": "markdown",
   "metadata": {
    "id": "OQOBW1ERHHh8"
   },
   "source": [
    "### mean(a[, axis, dtype, out, keepdims])\n",
    "- Retorna a media aritmética dos valores do array para o eixo informado"
   ]
  },
  {
   "cell_type": "code",
   "execution_count": 21,
   "metadata": {
    "colab": {
     "base_uri": "https://localhost:8080/"
    },
    "executionInfo": {
     "elapsed": 632,
     "status": "ok",
     "timestamp": 1605574094676,
     "user": {
      "displayName": "Orlando O. S.",
      "photoUrl": "https://lh3.googleusercontent.com/a-/AOh14Gj-E1yuy1M_3ruwN4TWYPK4BwysauSW7GQmHheS=s64",
      "userId": "15066502291703974467"
     },
     "user_tz": 180
    },
    "id": "lR9R6fEDHHh9",
    "outputId": "39818d22-cfe6-42ec-9b3a-96b23f4322cf"
   },
   "outputs": [
    {
     "name": "stdout",
     "output_type": "stream",
     "text": [
      "[[38 22 33 20 44]\n",
      " [12 48 59 58 40]\n",
      " [22 67 65 48 63]\n",
      " [56 58 67 56 10]\n",
      " [67 24 50 40 41]]\n",
      "[39.  43.8 54.8 44.4 39.6]\n",
      "[31.4 43.4 53.  49.4 44.4]\n"
     ]
    }
   ],
   "source": [
    "a=random.randint(10,70, size=(5, 5)) \n",
    "\n",
    "print(a)\n",
    "\n",
    "print(np.mean(a, axis=0))\n",
    "\n",
    "print(np.mean(a, axis=1))"
   ]
  },
  {
   "cell_type": "markdown",
   "metadata": {
    "id": "c8C08g86Hmz9"
   },
   "source": [
    "### std(a[, axis, dtype, out, ddof, keepdims])\n",
    "- Retorna a desvio-padrao dos valores do array para o eixo informado"
   ]
  },
  {
   "cell_type": "code",
   "execution_count": 22,
   "metadata": {
    "colab": {
     "base_uri": "https://localhost:8080/"
    },
    "executionInfo": {
     "elapsed": 791,
     "status": "ok",
     "timestamp": 1605574099653,
     "user": {
      "displayName": "Orlando O. S.",
      "photoUrl": "https://lh3.googleusercontent.com/a-/AOh14Gj-E1yuy1M_3ruwN4TWYPK4BwysauSW7GQmHheS=s64",
      "userId": "15066502291703974467"
     },
     "user_tz": 180
    },
    "id": "2aScKWGnHmz-",
    "outputId": "60b5df3a-ea35-4445-8a5b-603745eef51c"
   },
   "outputs": [
    {
     "name": "stdout",
     "output_type": "stream",
     "text": [
      "[[24 35 63 21 62]\n",
      " [36 43 32 24 69]\n",
      " [46 26 40 16 23]\n",
      " [21 44 58 51 42]\n",
      " [56 17 29 23 57]]\n",
      "[13.16966211 10.29563014 13.72005831 12.31259518 16.40243884]\n",
      "[18.16590212 15.38050714 11.1067547  12.44829306 16.84755175]\n"
     ]
    }
   ],
   "source": [
    "a=random.randint(10,70, size=(5, 5)) \n",
    "\n",
    "print(a)\n",
    "\n",
    "print(np.std(a, axis=0))\n",
    "\n",
    "print(np.std(a, axis=1))"
   ]
  },
  {
   "cell_type": "markdown",
   "metadata": {
    "id": "La5rX2feH2G4"
   },
   "source": [
    "### var(a[, axis, dtype, out, ddof, keepdims])\n",
    "- Retorna a variância dos valores do array para o eixo informado"
   ]
  },
  {
   "cell_type": "code",
   "execution_count": 23,
   "metadata": {
    "colab": {
     "base_uri": "https://localhost:8080/"
    },
    "executionInfo": {
     "elapsed": 882,
     "status": "ok",
     "timestamp": 1605574105736,
     "user": {
      "displayName": "Orlando O. S.",
      "photoUrl": "https://lh3.googleusercontent.com/a-/AOh14Gj-E1yuy1M_3ruwN4TWYPK4BwysauSW7GQmHheS=s64",
      "userId": "15066502291703974467"
     },
     "user_tz": 180
    },
    "id": "y_8g1mkXH2G6",
    "outputId": "ec3b69ac-afc4-4a46-d98a-2d650e9f721b",
    "scrolled": true
   },
   "outputs": [
    {
     "name": "stdout",
     "output_type": "stream",
     "text": [
      "[[59 56 62 33 45]\n",
      " [26 51 30 35 52]\n",
      " [41 66 68 21 53]\n",
      " [44 44 29 51 31]\n",
      " [69 21 62 47 49]]\n",
      "[222.16 228.24 290.56 114.24  64.  ]\n",
      "[114.   115.76 302.16  70.96 271.04]\n"
     ]
    }
   ],
   "source": [
    "a=random.randint(10,70, size=(5, 5)) \n",
    "\n",
    "print(a)\n",
    "\n",
    "print(np.var(a, axis=0))\n",
    "\n",
    "print(np.var(a, axis=1))"
   ]
  }
 ],
 "metadata": {
  "colab": {
   "collapsed_sections": [],
   "name": "Aula 07 Introdução à Linguagem de Python para Analytics e Data Science.ipynb",
   "provenance": []
  },
  "kernelspec": {
   "display_name": "base",
   "language": "python",
   "name": "python3"
  },
  "language_info": {
   "codemirror_mode": {
    "name": "ipython",
    "version": 3
   },
   "file_extension": ".py",
   "mimetype": "text/x-python",
   "name": "python",
   "nbconvert_exporter": "python",
   "pygments_lexer": "ipython3",
   "version": "3.12.3"
  }
 },
 "nbformat": 4,
 "nbformat_minor": 1
}
