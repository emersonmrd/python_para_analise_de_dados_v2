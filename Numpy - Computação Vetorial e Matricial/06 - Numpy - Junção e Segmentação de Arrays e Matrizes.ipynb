{
 "cells": [
  {
   "cell_type": "markdown",
   "metadata": {},
   "source": [
    "# Numpy - Junção / Segmentação de Arrays e Matrizes"
   ]
  },
  {
   "cell_type": "markdown",
   "metadata": {},
   "source": [
    "## Juntando matrizes NumPy com np.concatenate()\n",
    "- Em NumPy os arrays são unidos por eixos, usando a função concatenate(). Se o eixo não for passado explicitamente, ele será considerado 0."
   ]
  },
  {
   "cell_type": "markdown",
   "metadata": {},
   "source": [
    "### Juntando arrays 1-D"
   ]
  },
  {
   "cell_type": "code",
   "execution_count": 1,
   "metadata": {},
   "outputs": [
    {
     "name": "stdout",
     "output_type": "stream",
     "text": [
      "[ 10  20  30  40  50  60  70  80  90 100]\n"
     ]
    }
   ],
   "source": [
    "import numpy as np\n",
    "\n",
    "arr1 = np.array([10, 20, 30, 40, 50])\n",
    "\n",
    "arr2 = np.array([60, 70, 80, 90, 100])\n",
    "\n",
    "meu_array = np.concatenate((arr1, arr2))\n",
    "\n",
    "print(meu_array)"
   ]
  },
  {
   "cell_type": "markdown",
   "metadata": {},
   "source": [
    "### Juntando matrizes 2-D ao longo das linhas (eixo = 1):"
   ]
  },
  {
   "cell_type": "code",
   "execution_count": 2,
   "metadata": {},
   "outputs": [
    {
     "name": "stdout",
     "output_type": "stream",
     "text": [
      "[[10 20 50 60]\n",
      " [30 40 70 80]]\n"
     ]
    }
   ],
   "source": [
    "arr1 = np.array([[10, 20], \n",
    "                 [30, 40]])\n",
    "\n",
    "arr2 = np.array([[50, 60], \n",
    "                 [70, 80]])\n",
    "\n",
    "meu_array = np.concatenate((arr1, arr2), axis=1)\n",
    "\n",
    "print(meu_array)"
   ]
  },
  {
   "cell_type": "markdown",
   "metadata": {},
   "source": [
    "### Juntando matrizes 2-D ao longo das colunas (eixo = 0):"
   ]
  },
  {
   "cell_type": "code",
   "execution_count": 3,
   "metadata": {},
   "outputs": [
    {
     "name": "stdout",
     "output_type": "stream",
     "text": [
      "[[10 20]\n",
      " [30 40]\n",
      " [50 60]\n",
      " [70 80]]\n"
     ]
    }
   ],
   "source": [
    "arr1 = np.array([[10, 20], \n",
    "                 [30, 40]])\n",
    "\n",
    "arr2 = np.array([[50, 60], \n",
    "                 [70, 80]])\n",
    "\n",
    "meu_array = np.concatenate((arr1, arr2), axis=0)\n",
    "\n",
    "print(meu_array)"
   ]
  },
  {
   "cell_type": "markdown",
   "metadata": {},
   "source": [
    "### Empilhamento de arrays com 1-D (apenas) np.stack()\n",
    "- colocá-los um sobre o outro, ou ao lado do outro."
   ]
  },
  {
   "cell_type": "code",
   "execution_count": 4,
   "metadata": {},
   "outputs": [
    {
     "name": "stdout",
     "output_type": "stream",
     "text": [
      "[[ 10  20  30  40  50]\n",
      " [ 60  70  80  90 100]]\n"
     ]
    }
   ],
   "source": [
    "arr1 = np.array([10, 20, 30, 40, 50])\n",
    "\n",
    "arr2 = np.array([60, 70, 80, 90, 100])\n",
    "\n",
    "meu_array = np.stack((arr1, arr2), axis=0)\n",
    "\n",
    "print(meu_array)"
   ]
  },
  {
   "cell_type": "code",
   "execution_count": 5,
   "metadata": {},
   "outputs": [
    {
     "name": "stdout",
     "output_type": "stream",
     "text": [
      "[[ 10  60]\n",
      " [ 20  70]\n",
      " [ 30  80]\n",
      " [ 40  90]\n",
      " [ 50 100]]\n"
     ]
    }
   ],
   "source": [
    "arr1 = np.array([10, 20, 30, 40, 50])\n",
    "\n",
    "arr2 = np.array([60, 70, 80, 90, 100])\n",
    "\n",
    "meu_array = np.stack((arr1, arr2), axis=1)\n",
    "\n",
    "print(meu_array)"
   ]
  },
  {
   "cell_type": "markdown",
   "metadata": {},
   "source": [
    "### Empilhamento de arrays e matrizes ao longo das linhas usando hstack():"
   ]
  },
  {
   "cell_type": "code",
   "execution_count": 6,
   "metadata": {},
   "outputs": [
    {
     "name": "stdout",
     "output_type": "stream",
     "text": [
      "[ 10  20  30  40  50  60  70  80  90 100]\n"
     ]
    }
   ],
   "source": [
    "arr1 = np.array([10, 20, 30, 40, 50])\n",
    "\n",
    "arr2 = np.array([60, 70, 80, 90, 100])\n",
    "\n",
    "meu_array = np.hstack((arr1, arr2))\n",
    "\n",
    "print(meu_array)"
   ]
  },
  {
   "cell_type": "code",
   "execution_count": 7,
   "metadata": {},
   "outputs": [
    {
     "data": {
      "text/plain": [
       "'10, 20, 30, 40, 50, 60, 70, 80, 90, 100'"
      ]
     },
     "execution_count": 7,
     "metadata": {},
     "output_type": "execute_result"
    }
   ],
   "source": [
    "', '.join([str(x) for x in np.nditer(meu_array)])"
   ]
  },
  {
   "cell_type": "code",
   "execution_count": 8,
   "metadata": {},
   "outputs": [
    {
     "name": "stdout",
     "output_type": "stream",
     "text": [
      "[[10 20 50 60]\n",
      " [30 40 70 80]]\n"
     ]
    }
   ],
   "source": [
    "arr1 = np.array([[10, 20], \n",
    "                 [30, 40]])\n",
    "\n",
    "arr2 = np.array([[50, 60], \n",
    "                 [70, 80]])\n",
    "\n",
    "meu_array = np.hstack((arr1, arr2))\n",
    "\n",
    "print(meu_array)"
   ]
  },
  {
   "cell_type": "markdown",
   "metadata": {},
   "source": [
    "### Empilhamento de arrays e matrizes ao longo das colunas usando vstack()"
   ]
  },
  {
   "cell_type": "code",
   "execution_count": 9,
   "metadata": {},
   "outputs": [
    {
     "name": "stdout",
     "output_type": "stream",
     "text": [
      "[[ 10  20  30  40  50]\n",
      " [ 60  70  80  90 100]]\n"
     ]
    }
   ],
   "source": [
    "arr1 = np.array([10, 20, 30, 40, 50])\n",
    "\n",
    "arr2 = np.array([60, 70, 80, 90, 100])\n",
    "\n",
    "meu_array = np.vstack((arr1, arr2))\n",
    "\n",
    "print(meu_array)"
   ]
  },
  {
   "cell_type": "code",
   "execution_count": 10,
   "metadata": {},
   "outputs": [
    {
     "name": "stdout",
     "output_type": "stream",
     "text": [
      "[[10 20]\n",
      " [30 40]\n",
      " [50 60]\n",
      " [70 80]]\n"
     ]
    }
   ],
   "source": [
    "arr1 = np.array([[10, 20], \n",
    "                 [30, 40]])\n",
    "\n",
    "arr2 = np.array([[50, 60], \n",
    "                 [70, 80]])\n",
    "\n",
    "meu_array = np.vstack((arr1, arr2))\n",
    "\n",
    "print(meu_array)"
   ]
  },
  {
   "cell_type": "markdown",
   "metadata": {},
   "source": [
    "### Empilhamento ao longo da altura usanto dstack() "
   ]
  },
  {
   "cell_type": "code",
   "execution_count": 11,
   "metadata": {},
   "outputs": [
    {
     "name": "stdout",
     "output_type": "stream",
     "text": [
      "[[[ 10  60]\n",
      "  [ 20  70]\n",
      "  [ 30  80]\n",
      "  [ 40  90]\n",
      "  [ 50 100]]]\n"
     ]
    }
   ],
   "source": [
    "arr1 = np.array([10, 20, 30, 40, 50])\n",
    "\n",
    "arr2 = np.array([60, 70, 80, 90, 100])\n",
    "\n",
    "meu_array = np.dstack((arr1, arr2))\n",
    "\n",
    "print(meu_array)"
   ]
  },
  {
   "cell_type": "code",
   "execution_count": 12,
   "metadata": {},
   "outputs": [
    {
     "name": "stdout",
     "output_type": "stream",
     "text": [
      "[[[10 50]\n",
      "  [20 60]]\n",
      "\n",
      " [[30 70]\n",
      "  [40 80]]]\n"
     ]
    }
   ],
   "source": [
    "arr1 = np.array([[10, 20], \n",
    "                 [30, 40]])\n",
    "\n",
    "arr2 = np.array([[50, 60], \n",
    "                 [70, 80]])\n",
    "\n",
    "meu_array = np.dstack((arr1, arr2))\n",
    "\n",
    "print(meu_array)"
   ]
  },
  {
   "cell_type": "markdown",
   "metadata": {},
   "source": [
    "## Quebra / Divisão de Matriz e Array NumPy"
   ]
  },
  {
   "cell_type": "markdown",
   "metadata": {},
   "source": [
    "### Quebar usando a função array_split()\n",
    "- A função array_split() pode ser usada para dividir matrizes, passamos como argumentos a matriz e o número de divisões.\n",
    "\n",
    "- Caso o numero de elementos não seja multiplo os ultimos array terão menos elementos, mas não ocorrerá erro na operação."
   ]
  },
  {
   "cell_type": "code",
   "execution_count": 13,
   "metadata": {},
   "outputs": [
    {
     "name": "stdout",
     "output_type": "stream",
     "text": [
      "[array([10, 20, 30, 40, 50]), array([ 60,  70,  80,  90, 100])]\n"
     ]
    }
   ],
   "source": [
    "meu_array = np.array([10, 20, 30, 40, 50, 60, 70, 80, 90, 100])\n",
    "\n",
    "novo_array = np.array_split(meu_array, 2)\n",
    "\n",
    "print(novo_array)"
   ]
  },
  {
   "cell_type": "code",
   "execution_count": 14,
   "metadata": {},
   "outputs": [
    {
     "name": "stdout",
     "output_type": "stream",
     "text": [
      "[array([10, 20, 30, 40]), array([50, 60, 70]), array([ 80,  90, 100])]\n"
     ]
    }
   ],
   "source": [
    "meu_array = np.array([10, 20, 30, 40, 50, 60, 70, 80, 90, 100])\n",
    "\n",
    "novo_array = np.array_split(meu_array, 3)\n",
    "\n",
    "print(novo_array)"
   ]
  },
  {
   "cell_type": "code",
   "execution_count": 15,
   "metadata": {},
   "outputs": [
    {
     "name": "stdout",
     "output_type": "stream",
     "text": [
      "[array([10, 20, 30]), array([40, 50, 60]), array([70, 80]), array([ 90, 100])]\n"
     ]
    }
   ],
   "source": [
    "meu_array = np.array([10, 20, 30, 40, 50, 60, 70, 80, 90, 100])\n",
    "\n",
    "novo_array = np.array_split(meu_array, 4)\n",
    "\n",
    "print(novo_array)"
   ]
  },
  {
   "cell_type": "code",
   "execution_count": 16,
   "metadata": {},
   "outputs": [
    {
     "name": "stdout",
     "output_type": "stream",
     "text": [
      "[array([[10, 20],\n",
      "       [30, 40],\n",
      "       [50, 60]]), array([[ 70,  80],\n",
      "       [ 90, 100],\n",
      "       [110, 120]])]\n"
     ]
    }
   ],
   "source": [
    "meu_array = np.array([\n",
    "                      [10, 20], \n",
    "                      [30, 40],\n",
    "                      [50, 60], \n",
    "                      [70, 80],\n",
    "                      [90, 100],\n",
    "                      [110, 120]\n",
    "                 ])\n",
    "novo_array = np.array_split(meu_array, 2)\n",
    "\n",
    "print(novo_array)"
   ]
  },
  {
   "cell_type": "code",
   "execution_count": 17,
   "metadata": {},
   "outputs": [
    {
     "name": "stdout",
     "output_type": "stream",
     "text": [
      "[array([[10, 20],\n",
      "       [30, 40]]), array([[50, 60],\n",
      "       [70, 80]]), array([[ 90, 100],\n",
      "       [110, 120]])]\n"
     ]
    }
   ],
   "source": [
    "meu_array = np.array([\n",
    "                      [10, 20], \n",
    "                      [30, 40],\n",
    "                      [50, 60], \n",
    "                      [70, 80],\n",
    "                      [90, 100],\n",
    "                      [110, 120]\n",
    "                 ])\n",
    "\n",
    "novo_array = np.array_split(meu_array, 3)\n",
    "\n",
    "print(novo_array)"
   ]
  },
  {
   "cell_type": "code",
   "execution_count": 18,
   "metadata": {},
   "outputs": [
    {
     "name": "stdout",
     "output_type": "stream",
     "text": [
      "[array([[10, 20],\n",
      "       [30, 40]]), array([[50, 60],\n",
      "       [70, 80]]), array([[ 90, 100]]), array([[110, 120]])]\n"
     ]
    }
   ],
   "source": [
    "meu_array = np.array([\n",
    "                      [10, 20], \n",
    "                      [30, 40],\n",
    "                      [50, 60], \n",
    "                      [70, 80],\n",
    "                      [90, 100],\n",
    "                      [110, 120]\n",
    "                 ])\n",
    "\n",
    "novo_array = np.array_split(meu_array, 4)\n",
    "\n",
    "print(novo_array)"
   ]
  },
  {
   "cell_type": "markdown",
   "metadata": {},
   "source": [
    "### Quebrar usando a função split()\n",
    "- Esse método é similar ao array_split(), mas falha se a quantidad de elementos não for multiplo da quantidade de divisões."
   ]
  },
  {
   "cell_type": "code",
   "execution_count": 19,
   "metadata": {},
   "outputs": [
    {
     "name": "stdout",
     "output_type": "stream",
     "text": [
      "[array([10, 20, 30, 40, 50]), array([ 60,  70,  80,  90, 100])]\n"
     ]
    }
   ],
   "source": [
    "meu_array = np.array([10, 20, 30, 40, 50, 60, 70, 80, 90, 100])\n",
    "\n",
    "novo_array = np.split(meu_array, 2)\n",
    "\n",
    "print(novo_array)"
   ]
  },
  {
   "cell_type": "code",
   "execution_count": 20,
   "metadata": {},
   "outputs": [
    {
     "ename": "ValueError",
     "evalue": "array split does not result in an equal division",
     "output_type": "error",
     "traceback": [
      "\u001b[1;31m---------------------------------------------------------------------------\u001b[0m",
      "\u001b[1;31mValueError\u001b[0m                                Traceback (most recent call last)",
      "Cell \u001b[1;32mIn[20], line 3\u001b[0m\n\u001b[0;32m      1\u001b[0m meu_array \u001b[38;5;241m=\u001b[39m np\u001b[38;5;241m.\u001b[39marray([\u001b[38;5;241m10\u001b[39m, \u001b[38;5;241m20\u001b[39m, \u001b[38;5;241m30\u001b[39m, \u001b[38;5;241m40\u001b[39m, \u001b[38;5;241m50\u001b[39m, \u001b[38;5;241m60\u001b[39m, \u001b[38;5;241m70\u001b[39m, \u001b[38;5;241m80\u001b[39m, \u001b[38;5;241m90\u001b[39m, \u001b[38;5;241m100\u001b[39m])\n\u001b[1;32m----> 3\u001b[0m novo_array \u001b[38;5;241m=\u001b[39m np\u001b[38;5;241m.\u001b[39msplit(meu_array, \u001b[38;5;241m3\u001b[39m)\n\u001b[0;32m      5\u001b[0m \u001b[38;5;28mprint\u001b[39m(novo_array)\n",
      "File \u001b[1;32mc:\\Users\\emers\\anaconda3\\Lib\\site-packages\\numpy\\lib\\shape_base.py:864\u001b[0m, in \u001b[0;36msplit\u001b[1;34m(ary, indices_or_sections, axis)\u001b[0m\n\u001b[0;32m    862\u001b[0m     N \u001b[38;5;241m=\u001b[39m ary\u001b[38;5;241m.\u001b[39mshape[axis]\n\u001b[0;32m    863\u001b[0m     \u001b[38;5;28;01mif\u001b[39;00m N \u001b[38;5;241m%\u001b[39m sections:\n\u001b[1;32m--> 864\u001b[0m         \u001b[38;5;28;01mraise\u001b[39;00m \u001b[38;5;167;01mValueError\u001b[39;00m(\n\u001b[0;32m    865\u001b[0m             \u001b[38;5;124m'\u001b[39m\u001b[38;5;124marray split does not result in an equal division\u001b[39m\u001b[38;5;124m'\u001b[39m) \u001b[38;5;28;01mfrom\u001b[39;00m \u001b[38;5;28;01mNone\u001b[39;00m\n\u001b[0;32m    866\u001b[0m \u001b[38;5;28;01mreturn\u001b[39;00m array_split(ary, indices_or_sections, axis)\n",
      "\u001b[1;31mValueError\u001b[0m: array split does not result in an equal division"
     ]
    }
   ],
   "source": [
    "meu_array = np.array([10, 20, 30, 40, 50, 60, 70, 80, 90, 100])\n",
    "\n",
    "novo_array = np.split(meu_array, 3)\n",
    "\n",
    "print(novo_array)"
   ]
  },
  {
   "cell_type": "code",
   "execution_count": null,
   "metadata": {},
   "outputs": [
    {
     "name": "stdout",
     "output_type": "stream",
     "text": [
      "[array([[10, 20],\n",
      "       [30, 40]]), array([[50, 60],\n",
      "       [70, 80]]), array([[ 90, 100],\n",
      "       [110, 120]])]\n"
     ]
    }
   ],
   "source": [
    "meu_array = np.array([\n",
    "                      [10, 20], \n",
    "                      [30, 40],\n",
    "                      [50, 60], \n",
    "                      [70, 80],\n",
    "                      [90, 100],\n",
    "                      [110, 120]\n",
    "                 ])\n",
    "\n",
    "novo_array = np.split(meu_array, 3)\n",
    "\n",
    "print(novo_array)"
   ]
  },
  {
   "cell_type": "code",
   "execution_count": null,
   "metadata": {},
   "outputs": [
    {
     "ename": "ValueError",
     "evalue": "array split does not result in an equal division",
     "output_type": "error",
     "traceback": [
      "\u001b[1;31m---------------------------------------------------------------------------\u001b[0m",
      "\u001b[1;31mValueError\u001b[0m                                Traceback (most recent call last)",
      "Cell \u001b[1;32mIn[24], line 10\u001b[0m\n\u001b[0;32m      1\u001b[0m meu_array \u001b[38;5;241m=\u001b[39m np\u001b[38;5;241m.\u001b[39marray([\n\u001b[0;32m      2\u001b[0m                       [\u001b[38;5;241m10\u001b[39m, \u001b[38;5;241m20\u001b[39m], \n\u001b[0;32m      3\u001b[0m                       [\u001b[38;5;241m30\u001b[39m, \u001b[38;5;241m40\u001b[39m],\n\u001b[1;32m   (...)\u001b[0m\n\u001b[0;32m      7\u001b[0m                       [\u001b[38;5;241m110\u001b[39m, \u001b[38;5;241m120\u001b[39m]\n\u001b[0;32m      8\u001b[0m                  ])\n\u001b[1;32m---> 10\u001b[0m novo_array \u001b[38;5;241m=\u001b[39m np\u001b[38;5;241m.\u001b[39msplit(meu_array, \u001b[38;5;241m4\u001b[39m)\n\u001b[0;32m     12\u001b[0m \u001b[38;5;28mprint\u001b[39m(novo_array)\n",
      "File \u001b[1;32mc:\\Users\\emers\\anaconda3\\Lib\\site-packages\\numpy\\lib\\shape_base.py:864\u001b[0m, in \u001b[0;36msplit\u001b[1;34m(ary, indices_or_sections, axis)\u001b[0m\n\u001b[0;32m    862\u001b[0m     N \u001b[38;5;241m=\u001b[39m ary\u001b[38;5;241m.\u001b[39mshape[axis]\n\u001b[0;32m    863\u001b[0m     \u001b[38;5;28;01mif\u001b[39;00m N \u001b[38;5;241m%\u001b[39m sections:\n\u001b[1;32m--> 864\u001b[0m         \u001b[38;5;28;01mraise\u001b[39;00m \u001b[38;5;167;01mValueError\u001b[39;00m(\n\u001b[0;32m    865\u001b[0m             \u001b[38;5;124m'\u001b[39m\u001b[38;5;124marray split does not result in an equal division\u001b[39m\u001b[38;5;124m'\u001b[39m) \u001b[38;5;28;01mfrom\u001b[39;00m \u001b[38;5;28;01mNone\u001b[39;00m\n\u001b[0;32m    866\u001b[0m \u001b[38;5;28;01mreturn\u001b[39;00m array_split(ary, indices_or_sections, axis)\n",
      "\u001b[1;31mValueError\u001b[0m: array split does not result in an equal division"
     ]
    }
   ],
   "source": [
    "meu_array = np.array([\n",
    "                      [10, 20], \n",
    "                      [30, 40],\n",
    "                      [50, 60], \n",
    "                      [70, 80],\n",
    "                      [90, 100],\n",
    "                      [110, 120]\n",
    "                 ])\n",
    "\n",
    "novo_array = np.split(meu_array, 4)\n",
    "\n",
    "print(novo_array)"
   ]
  },
  {
   "cell_type": "markdown",
   "metadata": {},
   "source": [
    "### Quebrar uma Matriz em arrays de valores das colunas com hsplit()"
   ]
  },
  {
   "cell_type": "code",
   "execution_count": null,
   "metadata": {},
   "outputs": [
    {
     "name": "stdout",
     "output_type": "stream",
     "text": [
      "[array([[ 10,  20],\n",
      "       [ 70,  80],\n",
      "       [130, 140]]), array([[ 30,  40],\n",
      "       [ 90, 100],\n",
      "       [150, 160]]), array([[ 50,  60],\n",
      "       [110, 120],\n",
      "       [170, 180]])]\n"
     ]
    }
   ],
   "source": [
    "meu_array = np.array([[10, 20, 30, 40, 50, 60], \n",
    "                      [70, 80, 90, 100, 110, 120], \n",
    "                      [130, 140, 150, 160, 170, 180]])\n",
    "\n",
    "novo_array = np.hsplit(meu_array, 3)\n",
    "\n",
    "print(novo_array)"
   ]
  },
  {
   "cell_type": "markdown",
   "metadata": {},
   "source": [
    "### Quebrar uma Matriz em arrays de valores das linhas com vsplit()"
   ]
  },
  {
   "cell_type": "code",
   "execution_count": null,
   "metadata": {},
   "outputs": [
    {
     "name": "stdout",
     "output_type": "stream",
     "text": [
      "[array([[10, 20, 30],\n",
      "       [40, 50, 60]]), array([[ 70,  80,  90],\n",
      "       [100, 110, 120]]), array([[130, 140, 150],\n",
      "       [160, 170, 180]])]\n"
     ]
    }
   ],
   "source": [
    "meu_array = np.array([[10, 20, 30], \n",
    "                      [40, 50, 60], \n",
    "                      [70, 80, 90], \n",
    "                      [100, 110, 120], \n",
    "                      [130, 140, 150], \n",
    "                      [160, 170, 180]])\n",
    "\n",
    "novo_array = np.vsplit(meu_array, 3)\n",
    "\n",
    "print(novo_array)"
   ]
  },
  {
   "cell_type": "code",
   "execution_count": null,
   "metadata": {},
   "outputs": [],
   "source": []
  }
 ],
 "metadata": {
  "kernelspec": {
   "display_name": "base",
   "language": "python",
   "name": "python3"
  },
  "language_info": {
   "codemirror_mode": {
    "name": "ipython",
    "version": 3
   },
   "file_extension": ".py",
   "mimetype": "text/x-python",
   "name": "python",
   "nbconvert_exporter": "python",
   "pygments_lexer": "ipython3",
   "version": "3.12.3"
  }
 },
 "nbformat": 4,
 "nbformat_minor": 2
}
